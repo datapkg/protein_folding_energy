{
 "cells": [
  {
   "cell_type": "markdown",
   "metadata": {
    "run_control": {
     "marked": false
    }
   },
   "source": [
    "# Summary\n",
    "\n",
    "----\n"
   ]
  },
  {
   "cell_type": "markdown",
   "metadata": {
    "run_control": {
     "marked": false
    }
   },
   "source": [
    "# Imports"
   ]
  },
  {
   "cell_type": "code",
   "execution_count": 1,
   "metadata": {
    "collapsed": true,
    "run_control": {
     "marked": false
    }
   },
   "outputs": [],
   "source": [
    "NOTEBOOK_NAME = 'protherm'"
   ]
  },
  {
   "cell_type": "code",
   "execution_count": 2,
   "metadata": {
    "collapsed": false,
    "run_control": {
     "marked": false
    }
   },
   "outputs": [
    {
     "name": "stdout",
     "output_type": "stream",
     "text": [
      "2016-04-26 18:36:38.482122\n"
     ]
    }
   ],
   "source": [
    "%run common_imports.ipynb"
   ]
  },
  {
   "cell_type": "markdown",
   "metadata": {
    "run_control": {
     "marked": false
    }
   },
   "source": [
    "# Extract"
   ]
  },
  {
   "cell_type": "code",
   "execution_count": 3,
   "metadata": {
    "collapsed": false,
    "run_control": {
     "marked": false
    }
   },
   "outputs": [
    {
     "name": "stdout",
     "output_type": "stream",
     "text": [
      "abdellah_et_al.tsv.gz  kineticdb.html  ProTherm.dat.gz\r\n",
      "kineticdb2.html        pfd_all.html    rosetta_ddg.zip\r\n",
      "kineticdb_all.html     pfd.html        small_studies.ods\r\n"
     ]
    }
   ],
   "source": [
    "ls ../downloads/"
   ]
  },
  {
   "cell_type": "code",
   "execution_count": 4,
   "metadata": {
    "collapsed": false,
    "run_control": {
     "marked": false
    }
   },
   "outputs": [
    {
     "name": "stdout",
     "output_type": "stream",
     "text": [
      "mkdir: cannot create directory ‘protherm’: File exists\r\n"
     ]
    }
   ],
   "source": [
    "!mkdir $NOTEBOOK_NAME"
   ]
  },
  {
   "cell_type": "code",
   "execution_count": 5,
   "metadata": {
    "collapsed": false,
    "run_control": {
     "marked": false
    }
   },
   "outputs": [
    {
     "name": "stdout",
     "output_type": "stream",
     "text": [
      "gzip: ../downloads/ProTherm.deat.gz: No such file or directory\r\n",
      "gzip: protherm/ is a directory -- ignored\r\n"
     ]
    }
   ],
   "source": [
    "!gzip -dkf ../downloads/ProTherm.deat.gz $NOTEBOOK_NAME/"
   ]
  },
  {
   "cell_type": "markdown",
   "metadata": {
    "run_control": {
     "marked": false
    }
   },
   "source": [
    "# Load ProTherm"
   ]
  },
  {
   "cell_type": "code",
   "execution_count": 6,
   "metadata": {
    "collapsed": false,
    "run_control": {
     "marked": false
    }
   },
   "outputs": [],
   "source": [
    "# Parse protherm into entry chunks\n",
    "protherm_filename_full = '../downloads/ProTherm.dat.gz'\n",
    "with gzip.open(protherm_filename_full, 'rt', encoding='cp437') as ifh:\n",
    "    file_data_chunks = [x.strip() for x in ifh.read().split('//')]"
   ]
  },
  {
   "cell_type": "code",
   "execution_count": 7,
   "metadata": {
    "collapsed": false,
    "run_control": {
     "marked": false
    }
   },
   "outputs": [],
   "source": [
    "# Convert entry chunks into rows and combine\n",
    "COLUMNS = []\n",
    "\n",
    "def get_unique_columns(columns):\n",
    "    seen = set()\n",
    "    for c in columns:\n",
    "        i, c_orig = 0, i\n",
    "        while c in seen:\n",
    "            i += 1\n",
    "            c = c_orig + '_{}'.format(i)\n",
    "        seen.add(c)\n",
    "        yield c\n",
    "\n",
    "def convert_chunks_to_rows(file_data_chunks):\n",
    "    global COLUMNS\n",
    "    for i in range(len(file_data_chunks)):\n",
    "        # Don't return an empty dict for an empty chunk\n",
    "        if not file_data_chunks[i].strip(' \\n'):\n",
    "            continue\n",
    "        column = None\n",
    "        column_old = None\n",
    "        columns = []\n",
    "        row = defaultdict(list)\n",
    "        for line in file_data_chunks[i].split('\\n'):\n",
    "            if line.startswith('***'):\n",
    "                continue\n",
    "            column_old = column if column else column_old\n",
    "            column = line.split(' ')[0]\n",
    "            column_version = 1\n",
    "            while column in columns:\n",
    "                column_version += 1\n",
    "                column = line.split(' ')[0] + '_{}'.format(column_version)\n",
    "            value = ' '.join(line.split(' ')[1:]).strip(' \\n')\n",
    "            if not column:\n",
    "                if not column_old or not value:\n",
    "                    error_message = (\n",
    "                        'i: {}, line: {}, column: {}, column_old: {}, value: {}'.format(\n",
    "                            i, line, column, column_old, value))\n",
    "                    raise Exception(error_message)\n",
    "                row[column_old][-1] += ' ' + value\n",
    "            else:\n",
    "                row[column].append(value)\n",
    "                columns.append(column)\n",
    "        if len(columns) > len(COLUMNS):\n",
    "            COLUMNS = columns\n",
    "        yield {key: ','.join(values) for (key, values) in row.items()}\n",
    "\n",
    "rows = list(convert_chunks_to_rows(file_data_chunks))\n",
    "df = pd.DataFrame(rows, columns=COLUMNS)"
   ]
  },
  {
   "cell_type": "code",
   "execution_count": 8,
   "metadata": {
    "collapsed": false
   },
   "outputs": [
    {
     "data": {
      "text/plain": [
       "['NO.',\n",
       " 'PROTEIN',\n",
       " 'SOURCE',\n",
       " 'LENGTH',\n",
       " 'MOL-WEIGHT',\n",
       " 'PIR_ID',\n",
       " 'SWISSPROT_ID',\n",
       " 'E.C.NUMBER',\n",
       " 'PMD.NO',\n",
       " 'PDB_wild',\n",
       " 'PDB_mutant',\n",
       " 'MUTATION',\n",
       " 'MUTATED_CHAIN',\n",
       " 'NO_MOLECULE',\n",
       " 'SEC.STR.',\n",
       " 'ASA',\n",
       " 'T',\n",
       " 'pH',\n",
       " 'BUFFER_NAME',\n",
       " 'BUFFER_CONC',\n",
       " 'ION_NAME_1',\n",
       " 'ION_CONC_1',\n",
       " 'ADDITIVES',\n",
       " 'PROTEIN_CONC',\n",
       " 'MEASURE',\n",
       " 'METHOD',\n",
       " 'dG_H2O',\n",
       " 'ddG_H2O',\n",
       " 'dG',\n",
       " 'ddG',\n",
       " 'Tm',\n",
       " 'dTm',\n",
       " 'dHvH',\n",
       " 'dHcal',\n",
       " 'm',\n",
       " 'Cm',\n",
       " 'dCp',\n",
       " 'STATE',\n",
       " 'REVERSIBILITY',\n",
       " 'ACTIVITY',\n",
       " 'ACTIVITY_Km',\n",
       " 'ACTIVITY_Kcat',\n",
       " 'ACTIVITY_Kd',\n",
       " 'REVERSIBILITY_2',\n",
       " 'ACTIVITY_2',\n",
       " 'ACTIVITY_Km_2',\n",
       " 'ACTIVITY_Kcat_2',\n",
       " 'ACTIVITY_Kd_2',\n",
       " 'KEY_WORDS',\n",
       " 'REFERENCE',\n",
       " 'AUTHOR',\n",
       " 'REMARKS',\n",
       " 'RELATED_ENTRIES']"
      ]
     },
     "execution_count": 8,
     "metadata": {},
     "output_type": "execute_result"
    }
   ],
   "source": [
    "COLUMNS"
   ]
  },
  {
   "cell_type": "code",
   "execution_count": 9,
   "metadata": {
    "collapsed": false,
    "run_control": {
     "marked": false
    }
   },
   "outputs": [],
   "source": [
    "renames = {'E.C.NUMBER': 'ec_number'}\n",
    "df = df.rename(columns=lambda x: x.replace('.', '_').replace('-', '_').strip('_').lower())"
   ]
  },
  {
   "cell_type": "code",
   "execution_count": 10,
   "metadata": {
    "collapsed": false
   },
   "outputs": [
    {
     "data": {
      "text/html": [
       "<div>\n",
       "<table border=\"1\" class=\"dataframe\">\n",
       "  <thead>\n",
       "    <tr style=\"text-align: right;\">\n",
       "      <th></th>\n",
       "      <th>no</th>\n",
       "      <th>protein</th>\n",
       "      <th>source</th>\n",
       "      <th>length</th>\n",
       "      <th>mol_weight</th>\n",
       "      <th>pir_id</th>\n",
       "      <th>swissprot_id</th>\n",
       "      <th>e_c_number</th>\n",
       "      <th>pmd_no</th>\n",
       "      <th>pdb_wild</th>\n",
       "      <th>pdb_mutant</th>\n",
       "      <th>mutation</th>\n",
       "      <th>mutated_chain</th>\n",
       "      <th>no_molecule</th>\n",
       "      <th>sec_str</th>\n",
       "      <th>asa</th>\n",
       "      <th>t</th>\n",
       "      <th>ph</th>\n",
       "      <th>buffer_name</th>\n",
       "      <th>buffer_conc</th>\n",
       "      <th>ion_name_1</th>\n",
       "      <th>ion_conc_1</th>\n",
       "      <th>additives</th>\n",
       "      <th>protein_conc</th>\n",
       "      <th>measure</th>\n",
       "      <th>method</th>\n",
       "      <th>dg_h2o</th>\n",
       "      <th>ddg_h2o</th>\n",
       "      <th>dg</th>\n",
       "      <th>ddg</th>\n",
       "      <th>tm</th>\n",
       "      <th>dtm</th>\n",
       "      <th>dhvh</th>\n",
       "      <th>dhcal</th>\n",
       "      <th>m</th>\n",
       "      <th>cm</th>\n",
       "      <th>dcp</th>\n",
       "      <th>state</th>\n",
       "      <th>reversibility</th>\n",
       "      <th>activity</th>\n",
       "      <th>activity_km</th>\n",
       "      <th>activity_kcat</th>\n",
       "      <th>activity_kd</th>\n",
       "      <th>reversibility_2</th>\n",
       "      <th>activity_2</th>\n",
       "      <th>activity_km_2</th>\n",
       "      <th>activity_kcat_2</th>\n",
       "      <th>activity_kd_2</th>\n",
       "      <th>key_words</th>\n",
       "      <th>reference</th>\n",
       "      <th>author</th>\n",
       "      <th>remarks</th>\n",
       "      <th>related_entries</th>\n",
       "    </tr>\n",
       "  </thead>\n",
       "  <tbody>\n",
       "    <tr>\n",
       "      <th>0</th>\n",
       "      <td>1</td>\n",
       "      <td>Phospholipase A2</td>\n",
       "      <td>Bovine</td>\n",
       "      <td>130</td>\n",
       "      <td>14536.12</td>\n",
       "      <td>PSBOA</td>\n",
       "      <td>PA21_BOVIN (P00593)</td>\n",
       "      <td>EC 3.4.23.4</td>\n",
       "      <td>A930651</td>\n",
       "      <td>1BP2</td>\n",
       "      <td></td>\n",
       "      <td>wild</td>\n",
       "      <td>-</td>\n",
       "      <td>1</td>\n",
       "      <td></td>\n",
       "      <td></td>\n",
       "      <td>30.0</td>\n",
       "      <td>8.0</td>\n",
       "      <td>borate</td>\n",
       "      <td>10 mM</td>\n",
       "      <td></td>\n",
       "      <td></td>\n",
       "      <td>EDTA (0.1 mM),</td>\n",
       "      <td>5 mM</td>\n",
       "      <td>CD</td>\n",
       "      <td>GdnHCl</td>\n",
       "      <td>9.50</td>\n",
       "      <td></td>\n",
       "      <td></td>\n",
       "      <td></td>\n",
       "      <td></td>\n",
       "      <td></td>\n",
       "      <td></td>\n",
       "      <td></td>\n",
       "      <td>1.47</td>\n",
       "      <td>6.90</td>\n",
       "      <td></td>\n",
       "      <td></td>\n",
       "      <td>Unknown</td>\n",
       "      <td></td>\n",
       "      <td>1.4</td>\n",
       "      <td>675</td>\n",
       "      <td></td>\n",
       "      <td>NaN</td>\n",
       "      <td>NaN</td>\n",
       "      <td>NaN</td>\n",
       "      <td>NaN</td>\n",
       "      <td>NaN</td>\n",
       "      <td>catalytic triad; PLA2; conformational stabilit...</td>\n",
       "      <td>J AM CHEM SOC  115,     8523-8526 (1993) PMID:</td>\n",
       "      <td>Li Y. &amp; Tsai M.-D.</td>\n",
       "      <td>additive : EDTA(0.1 mM),</td>\n",
       "      <td>2,3,4,</td>\n",
       "    </tr>\n",
       "    <tr>\n",
       "      <th>1</th>\n",
       "      <td>2</td>\n",
       "      <td>Phospholipase A2</td>\n",
       "      <td>Bovine</td>\n",
       "      <td>130</td>\n",
       "      <td>14513.08</td>\n",
       "      <td>PSBOA</td>\n",
       "      <td>PA21_BOVIN (P00593)</td>\n",
       "      <td>EC 3.4.23.4</td>\n",
       "      <td>A930651</td>\n",
       "      <td>1BP2</td>\n",
       "      <td></td>\n",
       "      <td>H 48 N</td>\n",
       "      <td>-</td>\n",
       "      <td>1</td>\n",
       "      <td>Helix</td>\n",
       "      <td>17.1</td>\n",
       "      <td>30.0</td>\n",
       "      <td>8.00</td>\n",
       "      <td>borate</td>\n",
       "      <td>10 mM</td>\n",
       "      <td></td>\n",
       "      <td></td>\n",
       "      <td>EDTA (0.1 mM),</td>\n",
       "      <td>5 mM</td>\n",
       "      <td>CD</td>\n",
       "      <td>GdnHCl</td>\n",
       "      <td>6.50</td>\n",
       "      <td>-3.00</td>\n",
       "      <td></td>\n",
       "      <td></td>\n",
       "      <td></td>\n",
       "      <td></td>\n",
       "      <td></td>\n",
       "      <td></td>\n",
       "      <td>1.20</td>\n",
       "      <td>5.40</td>\n",
       "      <td></td>\n",
       "      <td></td>\n",
       "      <td>Unknown</td>\n",
       "      <td></td>\n",
       "      <td>2.6</td>\n",
       "      <td>0.04</td>\n",
       "      <td></td>\n",
       "      <td>NaN</td>\n",
       "      <td>NaN</td>\n",
       "      <td>NaN</td>\n",
       "      <td>NaN</td>\n",
       "      <td>NaN</td>\n",
       "      <td>catalytic triad; PLA2; conformational stabilit...</td>\n",
       "      <td>J AM CHEM SOC  115,     8523-8526 (1993) PMID:</td>\n",
       "      <td>Li Y. &amp; Tsai M.-D.</td>\n",
       "      <td>additive : EDTA(0.1 mM),</td>\n",
       "      <td>1,3,4,</td>\n",
       "    </tr>\n",
       "    <tr>\n",
       "      <th>2</th>\n",
       "      <td>3</td>\n",
       "      <td>Phospholipase A2</td>\n",
       "      <td>Bovine</td>\n",
       "      <td>130</td>\n",
       "      <td>14527.11</td>\n",
       "      <td>PSBOA</td>\n",
       "      <td>PA21_BOVIN (P00593)</td>\n",
       "      <td>EC 3.4.23.4</td>\n",
       "      <td>A930651</td>\n",
       "      <td>1BP2</td>\n",
       "      <td></td>\n",
       "      <td>H 48 Q</td>\n",
       "      <td>-</td>\n",
       "      <td>1</td>\n",
       "      <td>Helix</td>\n",
       "      <td>17.1</td>\n",
       "      <td>30.0</td>\n",
       "      <td>8.00</td>\n",
       "      <td>borate</td>\n",
       "      <td>10 mM</td>\n",
       "      <td></td>\n",
       "      <td></td>\n",
       "      <td>EDTA (0.1 mM),</td>\n",
       "      <td>5 mM</td>\n",
       "      <td>CD</td>\n",
       "      <td>GdnHCl</td>\n",
       "      <td>8.90</td>\n",
       "      <td>-0.60</td>\n",
       "      <td></td>\n",
       "      <td></td>\n",
       "      <td></td>\n",
       "      <td></td>\n",
       "      <td></td>\n",
       "      <td></td>\n",
       "      <td>1.34</td>\n",
       "      <td>6.60</td>\n",
       "      <td></td>\n",
       "      <td></td>\n",
       "      <td>Unknown</td>\n",
       "      <td></td>\n",
       "      <td></td>\n",
       "      <td>undetectable (&lt;0.001)</td>\n",
       "      <td></td>\n",
       "      <td>NaN</td>\n",
       "      <td>NaN</td>\n",
       "      <td>NaN</td>\n",
       "      <td>NaN</td>\n",
       "      <td>NaN</td>\n",
       "      <td>catalytic triad; PLA2; conformational stabilit...</td>\n",
       "      <td>J AM CHEM SOC  115,     8523-8526 (1993) PMID:</td>\n",
       "      <td>Li Y. &amp; Tsai M.-D.</td>\n",
       "      <td>additive : EDTA(0.1 mM),</td>\n",
       "      <td>1,2,4,</td>\n",
       "    </tr>\n",
       "    <tr>\n",
       "      <th>3</th>\n",
       "      <td>4</td>\n",
       "      <td>Phospholipase A2</td>\n",
       "      <td>Bovine</td>\n",
       "      <td>130</td>\n",
       "      <td>14470.06</td>\n",
       "      <td>PSBOA</td>\n",
       "      <td>PA21_BOVIN (P00593)</td>\n",
       "      <td>EC 3.4.23.4</td>\n",
       "      <td>A930651</td>\n",
       "      <td>1BP2</td>\n",
       "      <td></td>\n",
       "      <td>H 48 A</td>\n",
       "      <td>-</td>\n",
       "      <td>1</td>\n",
       "      <td>Helix</td>\n",
       "      <td>17.1</td>\n",
       "      <td>30.0</td>\n",
       "      <td>8.00</td>\n",
       "      <td>borate</td>\n",
       "      <td>10 mM</td>\n",
       "      <td></td>\n",
       "      <td></td>\n",
       "      <td>EDTA (0.1 mM),</td>\n",
       "      <td>5 mM</td>\n",
       "      <td>CD</td>\n",
       "      <td>GdnHCl</td>\n",
       "      <td>6.40</td>\n",
       "      <td>-3.10</td>\n",
       "      <td></td>\n",
       "      <td></td>\n",
       "      <td></td>\n",
       "      <td></td>\n",
       "      <td></td>\n",
       "      <td></td>\n",
       "      <td>1.02</td>\n",
       "      <td>6.30</td>\n",
       "      <td></td>\n",
       "      <td></td>\n",
       "      <td>Unknown</td>\n",
       "      <td></td>\n",
       "      <td></td>\n",
       "      <td>undetectable (&lt;0.001)</td>\n",
       "      <td></td>\n",
       "      <td>NaN</td>\n",
       "      <td>NaN</td>\n",
       "      <td>NaN</td>\n",
       "      <td>NaN</td>\n",
       "      <td>NaN</td>\n",
       "      <td>catalytic triad; PLA2; conformational stabilit...</td>\n",
       "      <td>J AM CHEM SOC  115,     8523-8526 (1993) PMID:</td>\n",
       "      <td>Li Y. &amp; Tsai M.-D.</td>\n",
       "      <td>additive : EDTA(0.1 mM),</td>\n",
       "      <td>1,2,3,</td>\n",
       "    </tr>\n",
       "    <tr>\n",
       "      <th>4</th>\n",
       "      <td>5</td>\n",
       "      <td>Ribonuclease HI</td>\n",
       "      <td>Escherichia coli</td>\n",
       "      <td>155</td>\n",
       "      <td>17597.00</td>\n",
       "      <td>NRECH</td>\n",
       "      <td>RNH_ECOLI (P0A7Y4)</td>\n",
       "      <td>EC 3.1.4.8</td>\n",
       "      <td>A920875</td>\n",
       "      <td>2RN2</td>\n",
       "      <td></td>\n",
       "      <td>wild</td>\n",
       "      <td>-</td>\n",
       "      <td>1</td>\n",
       "      <td></td>\n",
       "      <td></td>\n",
       "      <td></td>\n",
       "      <td>3.00</td>\n",
       "      <td>glycine-HCl</td>\n",
       "      <td>10 mM</td>\n",
       "      <td></td>\n",
       "      <td></td>\n",
       "      <td></td>\n",
       "      <td></td>\n",
       "      <td>CD</td>\n",
       "      <td>Thermal</td>\n",
       "      <td></td>\n",
       "      <td></td>\n",
       "      <td></td>\n",
       "      <td></td>\n",
       "      <td>49.8</td>\n",
       "      <td>0.0</td>\n",
       "      <td>98.1</td>\n",
       "      <td></td>\n",
       "      <td></td>\n",
       "      <td></td>\n",
       "      <td></td>\n",
       "      <td></td>\n",
       "      <td>yes</td>\n",
       "      <td>100</td>\n",
       "      <td></td>\n",
       "      <td></td>\n",
       "      <td></td>\n",
       "      <td>NaN</td>\n",
       "      <td>NaN</td>\n",
       "      <td>NaN</td>\n",
       "      <td>NaN</td>\n",
       "      <td>NaN</td>\n",
       "      <td>structural stability; mutagenesis; free energy...</td>\n",
       "      <td>J BIOL CHEM  267,   22014-22017 (1992) PMID: 1...</td>\n",
       "      <td>Kimura S., Kanaya S. &amp; Nakamura H.</td>\n",
       "      <td></td>\n",
       "      <td>6,7,8,9,10,11,12,13,14,15,16,2143,2144,2145,21...</td>\n",
       "    </tr>\n",
       "  </tbody>\n",
       "</table>\n",
       "</div>"
      ],
      "text/plain": [
       "  no           protein            source length mol_weight pir_id         swissprot_id   e_c_number   pmd_no pdb_wild pdb_mutant mutation mutated_chain no_molecule sec_str   asa     t    ph  buffer_name buffer_conc ion_name_1 ion_conc_1       additives protein_conc measure   method dg_h2o ddg_h2o dg ddg    tm  dtm  dhvh dhcal     m    cm dcp state reversibility activity activity_km          activity_kcat activity_kd reversibility_2 activity_2 activity_km_2 activity_kcat_2 activity_kd_2                                          key_words                                          reference                              author                   remarks                                    related_entries\n",
       "0  1  Phospholipase A2            Bovine    130   14536.12  PSBOA  PA21_BOVIN (P00593)  EC 3.4.23.4  A930651     1BP2                wild             -           1                30.0   8.0       borate       10 mM                        EDTA (0.1 mM),         5 mM      CD   GdnHCl   9.50                                        1.47  6.90                 Unknown                  1.4                    675                         NaN        NaN           NaN             NaN           NaN  catalytic triad; PLA2; conformational stabilit...     J AM CHEM SOC  115,     8523-8526 (1993) PMID:                  Li Y. & Tsai M.-D.  additive : EDTA(0.1 mM),                                             2,3,4,\n",
       "1  2  Phospholipase A2            Bovine    130   14513.08  PSBOA  PA21_BOVIN (P00593)  EC 3.4.23.4  A930651     1BP2              H 48 N             -           1   Helix  17.1  30.0  8.00       borate       10 mM                        EDTA (0.1 mM),         5 mM      CD   GdnHCl   6.50   -3.00                                1.20  5.40                 Unknown                  2.6                   0.04                         NaN        NaN           NaN             NaN           NaN  catalytic triad; PLA2; conformational stabilit...     J AM CHEM SOC  115,     8523-8526 (1993) PMID:                  Li Y. & Tsai M.-D.  additive : EDTA(0.1 mM),                                             1,3,4,\n",
       "2  3  Phospholipase A2            Bovine    130   14527.11  PSBOA  PA21_BOVIN (P00593)  EC 3.4.23.4  A930651     1BP2              H 48 Q             -           1   Helix  17.1  30.0  8.00       borate       10 mM                        EDTA (0.1 mM),         5 mM      CD   GdnHCl   8.90   -0.60                                1.34  6.60                 Unknown                       undetectable (<0.001)                         NaN        NaN           NaN             NaN           NaN  catalytic triad; PLA2; conformational stabilit...     J AM CHEM SOC  115,     8523-8526 (1993) PMID:                  Li Y. & Tsai M.-D.  additive : EDTA(0.1 mM),                                             1,2,4,\n",
       "3  4  Phospholipase A2            Bovine    130   14470.06  PSBOA  PA21_BOVIN (P00593)  EC 3.4.23.4  A930651     1BP2              H 48 A             -           1   Helix  17.1  30.0  8.00       borate       10 mM                        EDTA (0.1 mM),         5 mM      CD   GdnHCl   6.40   -3.10                                1.02  6.30                 Unknown                       undetectable (<0.001)                         NaN        NaN           NaN             NaN           NaN  catalytic triad; PLA2; conformational stabilit...     J AM CHEM SOC  115,     8523-8526 (1993) PMID:                  Li Y. & Tsai M.-D.  additive : EDTA(0.1 mM),                                             1,2,3,\n",
       "4  5   Ribonuclease HI  Escherichia coli    155   17597.00  NRECH   RNH_ECOLI (P0A7Y4)   EC 3.1.4.8  A920875     2RN2                wild             -           1                      3.00  glycine-HCl       10 mM                                                         CD  Thermal                        49.8  0.0  98.1                                       yes      100                                                            NaN        NaN           NaN             NaN           NaN  structural stability; mutagenesis; free energy...  J BIOL CHEM  267,   22014-22017 (1992) PMID: 1...  Kimura S., Kanaya S. & Nakamura H.                            6,7,8,9,10,11,12,13,14,15,16,2143,2144,2145,21..."
      ]
     },
     "execution_count": 10,
     "metadata": {},
     "output_type": "execute_result"
    }
   ],
   "source": [
    "df.head()"
   ]
  },
  {
   "cell_type": "code",
   "execution_count": 11,
   "metadata": {
    "collapsed": false,
    "run_control": {
     "marked": false
    }
   },
   "outputs": [
    {
     "ename": "SyntaxError",
     "evalue": "invalid syntax (<ipython-input-11-b031f41e0108>, line 1)",
     "output_type": "error",
     "traceback": [
      "\u001b[1;36m  File \u001b[1;32m\"<ipython-input-11-b031f41e0108>\"\u001b[1;36m, line \u001b[1;32m1\u001b[0m\n\u001b[1;33m    print(df|.shape)\u001b[0m\n\u001b[1;37m             ^\u001b[0m\n\u001b[1;31mSyntaxError\u001b[0m\u001b[1;31m:\u001b[0m invalid syntax\n"
     ]
    }
   ],
   "source": [
    "print(df|.shape)"
   ]
  },
  {
   "cell_type": "code",
   "execution_count": null,
   "metadata": {
    "collapsed": false,
    "run_control": {
     "marked": false
    }
   },
   "outputs": [],
   "source": [
    "# Replace empty strings with NaNs and remove all-empty rows\n",
    "df[df == ''] = np.nan\n",
    "df = df.dropna(subset=['NO.'])\n",
    "print(df.shape)"
   ]
  },
  {
   "cell_type": "code",
   "execution_count": null,
   "metadata": {
    "collapsed": false,
    "run_control": {
     "marked": false
    }
   },
   "outputs": [],
   "source": [
    "df = df[~((df['pdb_wild'] == '1OTR') & (df['mutation'].str.startswith('A 33')))]\n",
    "print(df.shape)"
   ]
  },
  {
   "cell_type": "code",
   "execution_count": null,
   "metadata": {
    "collapsed": false,
    "run_control": {
     "marked": false
    }
   },
   "outputs": [],
   "source": [
    "display(df.head(2))"
   ]
  },
  {
   "cell_type": "code",
   "execution_count": null,
   "metadata": {
    "collapsed": false,
    "run_control": {
     "marked": false
    }
   },
   "outputs": [],
   "source": [
    "def parse_swissprot_id(swissprot_id):\n",
    "    \"\"\"\n",
    "    \"\"\"\n",
    "    uniprot_name_conversion = {\n",
    "        'MK10_HUMAN': 'BRCA1_HUMAN',  # BRCA1\n",
    "    }\n",
    "    uniprot_id_conversion = {\n",
    "        'P69542': 'P69543',\n",
    "        'P53779': 'P38398',  # BRCA1\n",
    "    }\n",
    "    #\n",
    "    if pd.isnull(swissprot_id):\n",
    "        return np.nan, np.nan\n",
    "    row = list(filter(lambda x: x, map(lambda x: x.strip(' ()'), swissprot_id.split())))\n",
    "    if len(row) == 0:\n",
    "        uniprot_name, uniprot_id = None, None\n",
    "    elif len(row) == 1:\n",
    "        uniprot_name, uniprot_id = row[0], None\n",
    "    elif len(row) == 2:\n",
    "        uniprot_name, uniprot_id = row\n",
    "    else:\n",
    "        raise Exception('Unknown row: {}, swissprot_id: {}'.format(row, swissprot_id))\n",
    "    uniprot_name = uniprot_name_conversion.get(uniprot_name, uniprot_name)\n",
    "    uniprot_id = uniprot_id_conversion.get(uniprot_id, uniprot_id)\n",
    "    return uniprot_name, uniprot_id\n",
    "\n",
    "df['uniprot_name_protherm'], df['uniprot_id_protherm'] = zip(*df['swissprot_id'].apply(parse_swissprot_id))"
   ]
  },
  {
   "cell_type": "code",
   "execution_count": null,
   "metadata": {
    "collapsed": true,
    "run_control": {
     "marked": false
    }
   },
   "outputs": [],
   "source": [
    "df['protein_name'] = df['protein']"
   ]
  },
  {
   "cell_type": "code",
   "execution_count": null,
   "metadata": {
    "collapsed": false,
    "run_control": {
     "marked": false
    }
   },
   "outputs": [],
   "source": [
    "pdb_id_conversion = {\n",
    "    'érf5v': '3f5v',\n",
    "    '1bgl': '4v40',\n",
    "}\n",
    "df['pdb_id'] = df['PDB_wild'].apply(lambda x: pdb_id_conversion.get(x, x)).str.lower()"
   ]
  },
  {
   "cell_type": "code",
   "execution_count": null,
   "metadata": {
    "collapsed": true,
    "run_control": {
     "marked": false
    }
   },
   "outputs": [],
   "source": [
    "df['pdb_chain'] = df['mutated_Chain']"
   ]
  },
  {
   "cell_type": "code",
   "execution_count": null,
   "metadata": {
    "collapsed": false,
    "run_control": {
     "marked": false
    }
   },
   "outputs": [],
   "source": [
    "df['pdb_mutation'] = df['mutation'].str.upper()"
   ]
  },
  {
   "cell_type": "code",
   "execution_count": null,
   "metadata": {
    "collapsed": false,
    "run_control": {
     "marked": false
    },
    "scrolled": false
   },
   "outputs": [],
   "source": [
    "import protherm\n",
    "reload(protherm)\n",
    "protherm.SIFTS_CACHE_DIR = '/tmp/strokach'\n",
    "os.makedirs(protherm.SIFTS_CACHE_DIR, exist_ok=True)\n",
    "\n",
    "df['uniprot_id'], df['uniprot_mutation'], df['pdb_mutation_sifts'] = zip(*\n",
    "    df[['pdb_id', 'pdb_mutation', 'uniprot_id_protherm']].apply(protherm.get_uniprot_id_mutation_protherm, axis=1)\n",
    ")"
   ]
  },
  {
   "cell_type": "code",
   "execution_count": null,
   "metadata": {
    "collapsed": true,
    "run_control": {
     "marked": false
    }
   },
   "outputs": [],
   "source": []
  },
  {
   "cell_type": "markdown",
   "metadata": {
    "run_control": {
     "marked": false
    }
   },
   "source": [
    "### Thermodynamic features"
   ]
  },
  {
   "cell_type": "code",
   "execution_count": null,
   "metadata": {
    "collapsed": false,
    "run_control": {
     "marked": false
    }
   },
   "outputs": [],
   "source": [
    "thermodynamic_parameters = [\n",
    "    'dG_H2O', 'dG', 'Tm', 'ddG_H2O', 'ddG', 'dTm', 'dHvH'\n",
    "]\n",
    "\n",
    "\n",
    "import re\n",
    "RANGE_RE = re.compile('(\\d+)-(\\d+)')\n",
    "\n",
    "\n",
    "def process_params(value):\n",
    "    # Skip bad values\n",
    "    # value = ''.join(row[1:])\n",
    "    if pd.isnull(value):\n",
    "        return np.nan\n",
    "    \n",
    "    if any(v in value for v in ['<', '>', 'Unknown', 'n.d.', 'NO_MOLECULE', 'dimer']):\n",
    "        print(\"Could not convert value '{}' to float because it contains a blacklisted character.\".format(value))\n",
    "        return np.nan\n",
    "    \n",
    "    # Clean value\n",
    "    value = value.replace(',', '').replace('/K', '').rstrip('.').lower()\n",
    "    \n",
    "    # Convert to float\n",
    "    conversion = {\n",
    "        '': 1,\n",
    "        'kcal/mol': 1,\n",
    "        'kcal/mole': 1,\n",
    "        'cal/mol': 0.001,\n",
    "        'cal/mole': 0.001,\n",
    "        'kal/mol': 0.001,\n",
    "        'kal/mole': 0.001,\n",
    "        'kj/mol': 0.239001,\n",
    "        'kj/mole': 0.239001,\n",
    "    }\n",
    "    new_value = None\n",
    "    for suffix, cf in conversion.items():\n",
    "        try:\n",
    "            new_value = cf * float(value.strip(suffix))\n",
    "            break\n",
    "        except ValueError:\n",
    "            pass\n",
    "\n",
    "    match = RANGE_RE.findall(value)\n",
    "    if len(match) == 1:\n",
    "        value_min, value_max = [float(x) for x in match[0]]\n",
    "        if (value_max - value_min) < 4:\n",
    "            new_value = (value_min + value_max) / 2\n",
    "            print(\"Converted '{}' to '{}'...\".format(value, new_value))\n",
    "\n",
    "    # Report errors\n",
    "    if new_value is None:\n",
    "        print(\"Could not convert value '{}' to float! Skipping...\".format(value))\n",
    "        \n",
    "    return new_value\n",
    "\n",
    "for column in thermodynamic_parameters:\n",
    "    print('\\n' + column)\n",
    "    df[column.lower() + '_clean'] = df[column].apply(process_params)"
   ]
  },
  {
   "cell_type": "code",
   "execution_count": null,
   "metadata": {
    "collapsed": true,
    "run_control": {
     "marked": false
    }
   },
   "outputs": [],
   "source": [
    "df['ddg_exp'] = df[['ddg_h2o_clean', 'ddg_clean']].apply(lambda x: x[0] if pd.notnull(x[0]) else x[1], axis=1)"
   ]
  },
  {
   "cell_type": "code",
   "execution_count": null,
   "metadata": {
    "collapsed": false,
    "run_control": {
     "marked": false
    }
   },
   "outputs": [],
   "source": [
    "column_names = [\n",
    "    'errors', 'protherm_no', 'pdb_id', 'protein_name', 'uniprot_name', 'uniprot_id',\n",
    "    'mutated_pdb_chain', 'mutation', 'mutation_uniprot'\n",
    "] + thermodynamic_parameters\n",
    "\n",
    "missing_columns = [c for c in column_names if c not in df.columns]\n",
    "print(missing_columns)"
   ]
  },
  {
   "cell_type": "code",
   "execution_count": null,
   "metadata": {
    "collapsed": true,
    "run_control": {
     "marked": false
    }
   },
   "outputs": [],
   "source": []
  },
  {
   "cell_type": "markdown",
   "metadata": {
    "run_control": {
     "marked": false
    }
   },
   "source": [
    "# Statistics"
   ]
  },
  {
   "cell_type": "code",
   "execution_count": null,
   "metadata": {
    "collapsed": false,
    "run_control": {
     "marked": false
    }
   },
   "outputs": [],
   "source": [
    "display(df.head())\n",
    "print(df.shape[0])"
   ]
  },
  {
   "cell_type": "code",
   "execution_count": null,
   "metadata": {
    "collapsed": false,
    "run_control": {
     "marked": false
    }
   },
   "outputs": [],
   "source": [
    "# Totally failed\n",
    "df[['uniprot_id', 'uniprot_mutation']].isnull().any(axis=1).sum()"
   ]
  },
  {
   "cell_type": "code",
   "execution_count": null,
   "metadata": {
    "collapsed": false,
    "run_control": {
     "marked": false
    }
   },
   "outputs": [],
   "source": [
    "# Amino acid mismatch\n",
    "df['uniprot_mutation'].apply(lambda x: '?' in x if pd.notnull(x) else np.nan).sum()"
   ]
  },
  {
   "cell_type": "code",
   "execution_count": null,
   "metadata": {
    "collapsed": false,
    "run_control": {
     "marked": false
    }
   },
   "outputs": [],
   "source": [
    "Counter(df['pdb_chain'])"
   ]
  },
  {
   "cell_type": "code",
   "execution_count": null,
   "metadata": {
    "collapsed": false,
    "run_control": {
     "marked": false
    }
   },
   "outputs": [],
   "source": [
    "df.head()"
   ]
  },
  {
   "cell_type": "code",
   "execution_count": null,
   "metadata": {
    "collapsed": false,
    "run_control": {
     "marked": false
    }
   },
   "outputs": [],
   "source": [
    "df[df['pdb_mutation'] != df['pdb_mutation_sifts']][['pdb_mutation', 'pdb_mutation_sifts']].head(10)"
   ]
  },
  {
   "cell_type": "code",
   "execution_count": null,
   "metadata": {
    "collapsed": false,
    "run_control": {
     "marked": false
    }
   },
   "outputs": [],
   "source": [
    "x, y = zip(*df[['ddg_h2o_clean', 'ddg_exp']].dropna().values)\n",
    "plt.scatter(x, y)"
   ]
  },
  {
   "cell_type": "code",
   "execution_count": null,
   "metadata": {
    "collapsed": false,
    "run_control": {
     "marked": false
    }
   },
   "outputs": [],
   "source": [
    "x, y = zip(*df[['ddg_clean', 'ddg_exp']].dropna().values)\n",
    "plt.scatter(x, y)"
   ]
  },
  {
   "cell_type": "code",
   "execution_count": null,
   "metadata": {
    "collapsed": true,
    "run_control": {
     "marked": false
    }
   },
   "outputs": [],
   "source": []
  },
  {
   "cell_type": "markdown",
   "metadata": {
    "run_control": {
     "marked": false
    }
   },
   "source": [
    "# Save"
   ]
  },
  {
   "cell_type": "code",
   "execution_count": null,
   "metadata": {
    "collapsed": true,
    "run_control": {
     "marked": false
    }
   },
   "outputs": [],
   "source": [
    "import csv2sql\n",
    "db = csv2sql.DataFrameToMySQL(\n",
    "    os.environ['BIODB_CONNECTION_STR'] + '/protein_folding_energy', \n",
    "    NOTEBOOK_NAME, \n",
    "    os.environ['STG_SERVER_IP'], \n",
    "    echo=False\n",
    ")"
   ]
  },
  {
   "cell_type": "code",
   "execution_count": null,
   "metadata": {
    "collapsed": false,
    "run_control": {
     "marked": false
    }
   },
   "outputs": [],
   "source": [
    "df.head()"
   ]
  },
  {
   "cell_type": "code",
   "execution_count": null,
   "metadata": {
    "collapsed": false,
    "run_control": {
     "marked": false
    }
   },
   "outputs": [],
   "source": [
    "db.import_table(\n",
    "    df, \n",
    "    'protherm', [\n",
    "        [('pdb_id', 'pdb_chain', 'pdb_mutation'), True],\n",
    "        [('uniprot_id', 'uniprot_mutation'), False],\n",
    "    ],\n",
    ")"
   ]
  },
  {
   "cell_type": "code",
   "execution_count": null,
   "metadata": {
    "collapsed": true,
    "run_control": {
     "marked": false
    }
   },
   "outputs": [],
   "source": []
  }
 ],
 "metadata": {
  "kernelspec": {
   "display_name": "Python 3",
   "language": "python",
   "name": "python3"
  },
  "language_info": {
   "codemirror_mode": {
    "name": "ipython",
    "version": 3
   },
   "file_extension": ".py",
   "mimetype": "text/x-python",
   "name": "python",
   "nbconvert_exporter": "python",
   "pygments_lexer": "ipython3",
   "version": "3.5.1"
  }
 },
 "nbformat": 4,
 "nbformat_minor": 0
}
