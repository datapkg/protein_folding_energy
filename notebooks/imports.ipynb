{
 "cells": [
  {
   "cell_type": "code",
   "execution_count": 1,
   "metadata": {
    "collapsed": false
   },
   "outputs": [],
   "source": [
    "%load_ext autoreload\n",
    "%autoreload 2"
   ]
  },
  {
   "cell_type": "code",
   "execution_count": 2,
   "metadata": {
    "collapsed": true
   },
   "outputs": [],
   "source": [
    "# Standard library\n",
    "import sys\n",
    "import os\n",
    "import pickle\n",
    "import time\n",
    "import datetime\n",
    "import json\n",
    "import urllib\n",
    "import shutil\n",
    "import string\n",
    "import logging\n",
    "import gzip\n",
    "\n",
    "import os.path as op\n",
    "import multiprocessing as mp\n",
    "\n",
    "from pprint import pprint\n",
    "from importlib import reload\n",
    "from functools import lru_cache\n",
    "from collections import Counter, defaultdict, OrderedDict\n",
    "from tempfile import NamedTemporaryFile\n",
    "\n",
    "# Installed packages\n",
    "import numpy as np\n",
    "import scipy as sp\n",
    "import pandas as pd\n",
    "import sqlalchemy as sa\n",
    "import matplotlib.pyplot as plt\n",
    "import seaborn as sns\n",
    "import lxml.etree\n",
    "import Bio.SeqIO\n",
    "\n",
    "from IPython.display import display, HTML, Math"
   ]
  },
  {
   "cell_type": "code",
   "execution_count": 3,
   "metadata": {
    "collapsed": false
   },
   "outputs": [
    {
     "name": "stdout",
     "output_type": "stream",
     "text": [
      "protein_folding_energy\n"
     ]
    }
   ],
   "source": [
    "SCHEMA_NAME = op.basename(op.dirname(os.getcwd()))\n",
    "print(SCHEMA_NAME)\n",
    "\n",
    "CONNECTION_STR = os.environ['DATAPKG_CONNECTION_STR'] + '/' + SCHEMA_NAME\n",
    "STG_SERVER_IP = os.environ['STG_SERVER_IP']"
   ]
  },
  {
   "cell_type": "code",
   "execution_count": 4,
   "metadata": {
    "collapsed": false
   },
   "outputs": [],
   "source": [
    "import elaspic\n",
    "import ascommon\n",
    "import datapkg\n",
    "import local\n",
    "\n",
    "ascommon.settings.configure_logging()\n",
    "ascommon.settings.CACHE_DIR = '/tmp/strokach/{}/'.format(SCHEMA_NAME)\n",
    "os.makedirs(ascommon.settings.CACHE_DIR, exist_ok=True)"
   ]
  },
  {
   "cell_type": "code",
   "execution_count": 5,
   "metadata": {
    "collapsed": true
   },
   "outputs": [],
   "source": [
    "# Options\n",
    "pd.set_option('display.max_rows', 1000)\n",
    "pd.set_option('display.max_columns', 1000)\n",
    "pd.set_option('display.width', 1000)\n",
    "pd.options.mode.chained_assignment = None\n",
    "\n",
    "sns.set_style('whitegrid')\n",
    "sns.set_context('notebook', font_scale=2)"
   ]
  },
  {
   "cell_type": "code",
   "execution_count": 6,
   "metadata": {
    "collapsed": true
   },
   "outputs": [],
   "source": [
    "%matplotlib inline"
   ]
  },
  {
   "cell_type": "code",
   "execution_count": 7,
   "metadata": {
    "collapsed": false
   },
   "outputs": [
    {
     "name": "stdout",
     "output_type": "stream",
     "text": [
      "2016-05-08 16:02:05.581790\n"
     ]
    }
   ],
   "source": [
    "print(datetime.datetime.now())"
   ]
  }
 ],
 "metadata": {
  "kernelspec": {
   "display_name": "Python 3",
   "language": "python",
   "name": "python3"
  },
  "language_info": {
   "codemirror_mode": {
    "name": "ipython",
    "version": 3
   },
   "file_extension": ".py",
   "mimetype": "text/x-python",
   "name": "python",
   "nbconvert_exporter": "python",
   "pygments_lexer": "ipython3",
   "version": "3.5.1"
  }
 },
 "nbformat": 4,
 "nbformat_minor": 0
}
