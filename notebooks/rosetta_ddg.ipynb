{
 "cells": [
  {
   "cell_type": "markdown",
   "metadata": {
    "run_control": {
     "marked": false
    }
   },
   "source": [
    "# Summary\n",
    "\n",
    "----"
   ]
  },
  {
   "cell_type": "markdown",
   "metadata": {
    "run_control": {
     "marked": false
    }
   },
   "source": [
    "# Imports"
   ]
  },
  {
   "cell_type": "code",
   "execution_count": 1,
   "metadata": {
    "collapsed": false,
    "run_control": {
     "marked": false
    }
   },
   "outputs": [
    {
     "name": "stdout",
     "output_type": "stream",
     "text": [
      "2016-08-27 20:48:35.703841\n"
     ]
    }
   ],
   "source": [
    "%run imports.ipynb"
   ]
  },
  {
   "cell_type": "code",
   "execution_count": 2,
   "metadata": {
    "collapsed": false
   },
   "outputs": [
    {
     "name": "stderr",
     "output_type": "stream",
     "text": [
      "MySQL database already running...\n"
     ]
    },
    {
     "name": "stdout",
     "output_type": "stream",
     "text": [
      "The autoreload extension is already loaded. To reload it, use:\n",
      "  %reload_ext autoreload\n",
      "2016-08-27 20:48:35.892527\n"
     ]
    }
   ],
   "source": [
    "%run db.ipynb"
   ]
  },
  {
   "cell_type": "code",
   "execution_count": 3,
   "metadata": {
    "collapsed": false,
    "run_control": {
     "marked": false
    }
   },
   "outputs": [],
   "source": [
    "NOTEBOOK_NAME = 'rosetta_ddg'\n",
    "os.makedirs(NOTEBOOK_NAME, exist_ok=True)"
   ]
  },
  {
   "cell_type": "markdown",
   "metadata": {
    "run_control": {
     "marked": false
    }
   },
   "source": [
    "# Load data"
   ]
  },
  {
   "cell_type": "code",
   "execution_count": 4,
   "metadata": {
    "collapsed": true
   },
   "outputs": [],
   "source": [
    "os.makedirs(NOTEBOOK_NAME, exist_ok=True)"
   ]
  },
  {
   "cell_type": "code",
   "execution_count": 5,
   "metadata": {
    "collapsed": false,
    "run_control": {
     "marked": false
    }
   },
   "outputs": [
    {
     "name": "stdout",
     "output_type": "stream",
     "text": [
      "\n",
      "7-Zip (a) [64] 15.09 beta : Copyright (c) 1999-2015 Igor Pavlov : 2015-10-16\n",
      "p7zip Version 15.09 beta (locale=en_CA.UTF-8,Utf16=on,HugeFiles=on,64 bits,64 CPUs x64)\n",
      "\n",
      "Scanning the drive for archives:\n",
      "1 file, 14095905 bytes (14 MiB)\n",
      "\n",
      "Extracting archive: ../downloads/rosetta_ddg.zip\n",
      "--\n",
      "Path = ../downloads/rosetta_ddg.zip\n",
      "Type = zip\n",
      "Physical Size = 14095905\n",
      "Comment = 37d405af2dac41477c689e6e63d5f5c2b9f5a665\n",
      "\n",
      "Everything is Ok\n",
      "\n",
      "Folders: 19\n",
      "Files: 0\n",
      "Size:       0\n",
      "Compressed: 14095905\n"
     ]
    }
   ],
   "source": [
    "!7za x -aos -bb0 -bd -o\"$NOTEBOOK_NAME\" ../downloads/rosetta_ddg.zip"
   ]
  },
  {
   "cell_type": "code",
   "execution_count": 6,
   "metadata": {
    "collapsed": false
   },
   "outputs": [
    {
     "name": "stdout",
     "output_type": "stream",
     "text": [
      "alascan_gpk.tsv.bz2      guerois.tsv.bz2         potapov.tsv.bz2\r\n",
      "citations.tsv.bz2        kellogg.tsv.bz2         references.tsv.bz2\r\n",
      "curatedprotherm.tsv.bz2  kortemme_baker.tsv.bz2\r\n",
      "\u001b[0m\u001b[01;34mddg-master\u001b[0m/              pdbs.tsv.bz2\r\n"
     ]
    }
   ],
   "source": [
    "ls $NOTEBOOK_NAME"
   ]
  },
  {
   "cell_type": "code",
   "execution_count": 7,
   "metadata": {
    "collapsed": false,
    "run_control": {
     "marked": false
    }
   },
   "outputs": [
    {
     "name": "stdout",
     "output_type": "stream",
     "text": [
      "\u001b[0m\u001b[01;34mcsv\u001b[0m/  \u001b[01;34mjson\u001b[0m/  \u001b[01;34mpdbs\u001b[0m/  README.rst  \u001b[01;34mtools\u001b[0m/\r\n"
     ]
    }
   ],
   "source": [
    "ls $NOTEBOOK_NAME/ddg-master/input/"
   ]
  },
  {
   "cell_type": "code",
   "execution_count": 8,
   "metadata": {
    "collapsed": false,
    "run_control": {
     "marked": false
    }
   },
   "outputs": [
    {
     "name": "stdout",
     "output_type": "stream",
     "text": [
      "alascan-gpk.csv      guerois.csv  kortemme_baker.csv  potapov.csv\r\n",
      "curatedprotherm.csv  kellogg.csv  pdbs.csv            references.csv\r\n"
     ]
    }
   ],
   "source": [
    "ls $NOTEBOOK_NAME/ddg-master/input/csv/"
   ]
  },
  {
   "cell_type": "code",
   "execution_count": 9,
   "metadata": {
    "collapsed": false,
    "run_control": {
     "marked": false
    }
   },
   "outputs": [
    {
     "name": "stdout",
     "output_type": "stream",
     "text": [
      "alascan-gpk.json      guerois.json  pdbs.json     references.json\r\n",
      "curatedprotherm.json  kellogg.json  potapov.json\r\n"
     ]
    }
   ],
   "source": [
    "ls $NOTEBOOK_NAME/ddg-master/input/json/"
   ]
  },
  {
   "cell_type": "markdown",
   "metadata": {
    "run_control": {
     "marked": false
    }
   },
   "source": [
    "# Load data"
   ]
  },
  {
   "cell_type": "code",
   "execution_count": 10,
   "metadata": {
    "collapsed": false,
    "run_control": {
     "marked": false
    }
   },
   "outputs": [],
   "source": [
    "column_names = [\n",
    "    'RecordID', 'PDBFileID', 'Mutations', 'DDG', 'ResidueExposures', \n",
    "    'DSSPTypes', 'DSSPSimpleTypes', 'IndividualDDGs'\n",
    "]\n",
    "\n",
    "def load_rosetta_ddg(filename):\n",
    "    \n",
    "    def _parse_mutations(x):\n",
    "        pdb_ids, mutations = [], []\n",
    "        for mutation in x.split('_'):\n",
    "            pdb_ids.append(mutation.split(' ')[0])\n",
    "            mutations.append(''.join(mutation.split(' ')[1:]))\n",
    "        return '.'.join(pdb_ids), '.'.join(mutations)\n",
    "    \n",
    "    df = pd.read_csv(filename, names=column_names, comment='#')\n",
    "    df['pdb_id'] = df['PDBFileID'].str.lower()\n",
    "    df['pdb_chain'], df['pdb_mutation'] = zip(*df['Mutations'].apply(_parse_mutations))\n",
    "    df['ddg_exp'] = df['DDG']\n",
    "    # df.drop(['Mutations', 'DDG'], axis=1, inplace=True)\n",
    "    df['uniprot_id'], df['uniprot_mutation'], df['pdb_chain_sifts'], df['pdb_mutation_sifts'] = zip(*(\n",
    "        local.get_uniprot_id_mutation_rosetta_ddg(*x)\n",
    "        for x in df[['pdb_id', 'pdb_chain', 'pdb_mutation']].values\n",
    "    ))\n",
    "    return df"
   ]
  },
  {
   "cell_type": "markdown",
   "metadata": {
    "run_control": {
     "marked": false
    }
   },
   "source": [
    "## alascan_gpk"
   ]
  },
  {
   "cell_type": "code",
   "execution_count": 11,
   "metadata": {
    "collapsed": false,
    "run_control": {
     "marked": false
    }
   },
   "outputs": [
    {
     "name": "stdout",
     "output_type": "stream",
     "text": [
      "# \r\n",
      "# This dataset of experimental alanine scanning data for single mutations was compiled by the Kortemme Lab, UCSF from the following curated datasets:\r\n",
      "#  - Guerois et al. [1]\r\n",
      "#  - Potapov et al. [2]\r\n",
      "#  - Kellogg et al. [3]\r\n",
      "# and the ProTherm database [4, 5].\r\n",
      "# \r\n",
      "# The DSSPType values give the DSSP secondary structure type assigned by mkdssp 2.2.1 [6, 7]. The DSSPSimpleType values values\r\n",
      "# give a simple elision of the DSSP types: G, H, and I become H(elix); E becomes S(heet); and T, B, S, and C become O(ther).\r\n",
      "#     \r\n",
      "# [1] PMID:12079393\r\n",
      "# [2] PMID:19561092\r\n",
      "# [3] PMID:21287615\r\n",
      "# [4] PMID:9847203\r\n",
      "# [5] PMID:16381846\r\n",
      "# [6] PMID:21071423\r\n",
      "# [7] PMID:6667333\r\n",
      "# This dataset was last updated on 2015-01-29.\r\n",
      "# The RecordID below refers to the record ID in the original dataset. When no ID was specified, we added an ID based on the published order of the records.\r\n",
      "# Mutations is an underscore-separated list of mutations. Each mutation takes the form \"Chain Wildtype ResidueID Mutant\".\r\n",
      "# DDG is the aggregated (mean) DDG value used for analysis.\r\n",
      "# IndividualDDGs lists the individual DDG values which can be used to filter out records with high variance.\r\n",
      "# ResidueExposures is an underscore-separated list of exposure values, each one corresponding to its respective mutated position. Each exposure value is based on the solvent accessibility reported by DSSP divided by a maximum solvent accessibility for that residue type and represents whether the residue is buried (0.0) or exposed (1.0).\r\n",
      "# DSSPTypes is an underscore-separated list of DSSP secondary structure assignments, each one corresponding to its respective mutated position.\r\n",
      "# DSSPSimpleTypes is an underscore-separated list of DSSPSimpleType secondary structure assignments, each one corresponding to its respective mutated position.\r\n",
      "# Note: The .json file accompanying this CSV file contains more information, including a list of publications from where the DDG values were taken.\r\n",
      "#RecordID,PDBFileID,Mutations,DDG,ResidueExposures,DSSPTypes,DSSPSimpleTypes,IndividualDDGs\r\n"
     ]
    }
   ],
   "source": [
    "!grep '^#' $NOTEBOOK_NAME/ddg-master/input/csv/alascan-gpk.csv"
   ]
  },
  {
   "cell_type": "code",
   "execution_count": 12,
   "metadata": {
    "collapsed": false,
    "run_control": {
     "marked": false
    },
    "scrolled": false
   },
   "outputs": [
    {
     "name": "stdout",
     "output_type": "stream",
     "text": [
      "PDB AA and UniProt AA are not the same! (1bf4, A, I, 17, None, 0) (I != T (P13123))\n",
      "PDB AA and UniProt AA are not the same! (1bf4, A, I, 30, None, 0) (I != V (P13123))\n"
     ]
    },
    {
     "name": "stderr",
     "output_type": "stream",
     "text": [
      "Could not convert amino acid PTR to a one letter code!\n"
     ]
    }
   ],
   "source": [
    "alascan_gpk = load_rosetta_ddg(op.join(NOTEBOOK_NAME, 'ddg-master/input/csv/alascan-gpk.csv'))"
   ]
  },
  {
   "cell_type": "code",
   "execution_count": 13,
   "metadata": {
    "collapsed": false,
    "run_control": {
     "marked": false
    }
   },
   "outputs": [
    {
     "data": {
      "text/html": [
       "<div>\n",
       "<table border=\"1\" class=\"dataframe\">\n",
       "  <thead>\n",
       "    <tr style=\"text-align: right;\">\n",
       "      <th></th>\n",
       "      <th>RecordID</th>\n",
       "      <th>PDBFileID</th>\n",
       "      <th>Mutations</th>\n",
       "      <th>DDG</th>\n",
       "      <th>ResidueExposures</th>\n",
       "      <th>DSSPTypes</th>\n",
       "      <th>DSSPSimpleTypes</th>\n",
       "      <th>IndividualDDGs</th>\n",
       "      <th>pdb_id</th>\n",
       "      <th>pdb_chain</th>\n",
       "      <th>pdb_mutation</th>\n",
       "      <th>ddg_exp</th>\n",
       "      <th>uniprot_id</th>\n",
       "      <th>uniprot_mutation</th>\n",
       "      <th>pdb_chain_sifts</th>\n",
       "      <th>pdb_mutation_sifts</th>\n",
       "    </tr>\n",
       "  </thead>\n",
       "  <tbody>\n",
       "    <tr>\n",
       "      <th>0</th>\n",
       "      <td>69</td>\n",
       "      <td>1A2P</td>\n",
       "      <td>A Q 104 A</td>\n",
       "      <td>0.09</td>\n",
       "      <td>0.671958</td>\n",
       "      <td>S</td>\n",
       "      <td>O</td>\n",
       "      <td>0.16_0.02</td>\n",
       "      <td>1a2p</td>\n",
       "      <td>A</td>\n",
       "      <td>Q104A</td>\n",
       "      <td>0.09</td>\n",
       "      <td>P00648</td>\n",
       "      <td>Q151A</td>\n",
       "      <td>A</td>\n",
       "      <td>Q104A</td>\n",
       "    </tr>\n",
       "    <tr>\n",
       "      <th>1</th>\n",
       "      <td>68</td>\n",
       "      <td>1A2P</td>\n",
       "      <td>A I 109 A</td>\n",
       "      <td>1.63</td>\n",
       "      <td>0.214286</td>\n",
       "      <td></td>\n",
       "      <td>O</td>\n",
       "      <td>1.27_2.22_1.4</td>\n",
       "      <td>1a2p</td>\n",
       "      <td>A</td>\n",
       "      <td>I109A</td>\n",
       "      <td>1.63</td>\n",
       "      <td>P00648</td>\n",
       "      <td>I156A</td>\n",
       "      <td>A</td>\n",
       "      <td>I109A</td>\n",
       "    </tr>\n",
       "    <tr>\n",
       "      <th>2</th>\n",
       "      <td>80</td>\n",
       "      <td>1A2P</td>\n",
       "      <td>A V 10 A</td>\n",
       "      <td>3.47</td>\n",
       "      <td>0.000000</td>\n",
       "      <td>H</td>\n",
       "      <td>H</td>\n",
       "      <td>3.47</td>\n",
       "      <td>1a2p</td>\n",
       "      <td>A</td>\n",
       "      <td>V10A</td>\n",
       "      <td>3.47</td>\n",
       "      <td>P00648</td>\n",
       "      <td>V57A</td>\n",
       "      <td>A</td>\n",
       "      <td>V10A</td>\n",
       "    </tr>\n",
       "    <tr>\n",
       "      <th>3</th>\n",
       "      <td>71</td>\n",
       "      <td>1A2P</td>\n",
       "      <td>A R 110 A</td>\n",
       "      <td>-0.07</td>\n",
       "      <td>0.315353</td>\n",
       "      <td></td>\n",
       "      <td>O</td>\n",
       "      <td>-0.07</td>\n",
       "      <td>1a2p</td>\n",
       "      <td>A</td>\n",
       "      <td>R110A</td>\n",
       "      <td>-0.07</td>\n",
       "      <td>P00648</td>\n",
       "      <td>R157A</td>\n",
       "      <td>A</td>\n",
       "      <td>R110A</td>\n",
       "    </tr>\n",
       "    <tr>\n",
       "      <th>4</th>\n",
       "      <td>83</td>\n",
       "      <td>1A2P</td>\n",
       "      <td>A D 12 A</td>\n",
       "      <td>0.39</td>\n",
       "      <td>0.529801</td>\n",
       "      <td>H</td>\n",
       "      <td>H</td>\n",
       "      <td>0.39</td>\n",
       "      <td>1a2p</td>\n",
       "      <td>A</td>\n",
       "      <td>D12A</td>\n",
       "      <td>0.39</td>\n",
       "      <td>P00648</td>\n",
       "      <td>D59A</td>\n",
       "      <td>A</td>\n",
       "      <td>D12A</td>\n",
       "    </tr>\n",
       "  </tbody>\n",
       "</table>\n",
       "</div>"
      ],
      "text/plain": [
       "   RecordID PDBFileID  Mutations   DDG  ResidueExposures DSSPTypes DSSPSimpleTypes IndividualDDGs pdb_id pdb_chain pdb_mutation  ddg_exp uniprot_id uniprot_mutation pdb_chain_sifts pdb_mutation_sifts\n",
       "0        69      1A2P  A Q 104 A  0.09          0.671958         S               O      0.16_0.02   1a2p         A        Q104A     0.09     P00648            Q151A               A              Q104A\n",
       "1        68      1A2P  A I 109 A  1.63          0.214286                         O  1.27_2.22_1.4   1a2p         A        I109A     1.63     P00648            I156A               A              I109A\n",
       "2        80      1A2P   A V 10 A  3.47          0.000000         H               H           3.47   1a2p         A         V10A     3.47     P00648             V57A               A               V10A\n",
       "3        71      1A2P  A R 110 A -0.07          0.315353                         O          -0.07   1a2p         A        R110A    -0.07     P00648            R157A               A              R110A\n",
       "4        83      1A2P   A D 12 A  0.39          0.529801         H               H           0.39   1a2p         A         D12A     0.39     P00648             D59A               A               D12A"
      ]
     },
     "metadata": {},
     "output_type": "display_data"
    },
    {
     "name": "stdout",
     "output_type": "stream",
     "text": [
      "(768, 16)\n"
     ]
    }
   ],
   "source": [
    "display(alascan_gpk.head())\n",
    "print(alascan_gpk.shape)"
   ]
  },
  {
   "cell_type": "code",
   "execution_count": 14,
   "metadata": {
    "collapsed": false
   },
   "outputs": [
    {
     "name": "stdout",
     "output_type": "stream",
     "text": [
      "alascan_gpk\n"
     ]
    },
    {
     "name": "stderr",
     "output_type": "stream",
     "text": [
      "File size before: 0.07 MB\n",
      "File size after: 0.04 MB\n",
      "File size savings: 0.04 MB (53.08 %)\n"
     ]
    }
   ],
   "source": [
    "df = alascan_gpk\n",
    "df_name = 'alascan_gpk'\n",
    "\n",
    "if not df['pdb_mutation'].str.contains('_').all():\n",
    "    df['pdb_mutation'] = df['pdb_chain'] + '_' + df['pdb_mutation']\n",
    "    \n",
    "assert df['pdb_mutation'].str.contains('_').all()\n",
    "\n",
    "t = db.import_df(df, df_name)\n",
    "\n",
    "print(t.name)\n",
    "\n",
    "t.create_indexes([\n",
    "        [('pdb_id', 'pdb_chain', 'pdb_mutation'), True],\n",
    "        [('uniprot_id', 'uniprot_mutation'), False],\n",
    "    ])\n",
    "\n",
    "t.add_idx_column()\n",
    "\n",
    "t.compress()"
   ]
  },
  {
   "cell_type": "markdown",
   "metadata": {
    "run_control": {
     "marked": false
    }
   },
   "source": [
    "## curatedprotherm"
   ]
  },
  {
   "cell_type": "code",
   "execution_count": 15,
   "metadata": {
    "collapsed": false,
    "run_control": {
     "marked": false
    }
   },
   "outputs": [
    {
     "name": "stdout",
     "output_type": "stream",
     "text": [
      "# \r\n",
      "# This dataset of single mutations was compiled by the Kortemme Lab, UCSF from the ProTherm database [1, 2].\r\n",
      "# \r\n",
      "# The DSSPType column lists the DSSP secondary structure type assigned by mkdssp 2.2.1 [3, 4]. The DSSPSimpleSSType column\r\n",
      "# lists a simple elision of the DSSP types: G, H, and I become H(elix); E becomes S(heet); and T, B, S, and C become O(ther).\r\n",
      "#     \r\n",
      "# [1] PMID:9847203\r\n",
      "# [2] PMID:16381846\r\n",
      "# [3] PMID:21071423\r\n",
      "# [4] PMID:6667333\r\n",
      "# This dataset was last updated on 2015-01-29.\r\n",
      "# The RecordID below refers to the record ID in the original dataset. When no ID was specified, we added an ID based on the published order of the records.\r\n",
      "# Mutations is an underscore-separated list of mutations. Each mutation takes the form \"Chain Wildtype ResidueID Mutant\".\r\n",
      "# DDG is the aggregated (mean) DDG value used for analysis.\r\n",
      "# IndividualDDGs lists the individual DDG values which can be used to filter out records with high variance.\r\n",
      "# ResidueExposures is an underscore-separated list of exposure values, each one corresponding to its respective mutated position. Each exposure value is based on the solvent accessibility reported by DSSP divided by a maximum solvent accessibility for that residue type and represents whether the residue is buried (0.0) or exposed (1.0).\r\n",
      "# DSSPTypes is an underscore-separated list of DSSP secondary structure assignments, each one corresponding to its respective mutated position.\r\n",
      "# DSSPSimpleTypes is an underscore-separated list of DSSPSimpleType secondary structure assignments, each one corresponding to its respective mutated position.\r\n",
      "# Note: The .json file accompanying this CSV file contains more information, including a list of publications from where the DDG values were taken.\r\n",
      "#RecordID,PDBFileID,Mutations,DDG,ResidueExposures,DSSPTypes,DSSPSimpleTypes,IndividualDDGs\r\n"
     ]
    }
   ],
   "source": [
    "!grep '^#' $NOTEBOOK_NAME/ddg-master/input/csv/curatedprotherm.csv"
   ]
  },
  {
   "cell_type": "code",
   "execution_count": 16,
   "metadata": {
    "collapsed": false,
    "run_control": {
     "marked": false
    },
    "scrolled": true
   },
   "outputs": [
    {
     "name": "stderr",
     "output_type": "stream",
     "text": [
      "Could not convert amino acid TRN to a one letter code!\n",
      "Could not convert amino acid TRN to a one letter code!\n",
      "Could not convert amino acid TRN to a one letter code!\n",
      "Could not convert amino acid TRN to a one letter code!\n",
      "Could not convert amino acid TRN to a one letter code!\n",
      "Could not convert amino acid TRN to a one letter code!\n",
      "Could not convert amino acid TRN to a one letter code!\n",
      "Could not convert amino acid TRN to a one letter code!\n",
      "Could not convert amino acid TRN to a one letter code!\n",
      "Could not convert amino acid TRN to a one letter code!\n",
      "Could not convert amino acid TRN to a one letter code!\n",
      "Could not convert amino acid TRN to a one letter code!\n",
      "Could not convert amino acid PTR to a one letter code!\n",
      "Could not convert amino acid PTR to a one letter code!\n",
      "Could not convert amino acid PTR to a one letter code!\n"
     ]
    },
    {
     "name": "stdout",
     "output_type": "stream",
     "text": [
      "No mutation mapping available! (1lve, I106L, A, I106L):\n",
      "    [{'pdb_chain': 'A', 'pfam_id': nan, 'uniprot_pos': nan, 'uniprot_id': nan, 'uniprot_aa': nan}]\n",
      "Failed to get pdb_chain (A) and pdb_mutation (None) for input: (1lve, A, V27BL, None)\n",
      "PDB AA and UniProt AA are not the same! (1lve, A, S, 29, None, 0) (S != N (P06312))\n",
      "No mutation mapping available! (1lve, Y96P, A, Y96P):\n",
      "    [{'pdb_chain': 'A', 'pfam_id': nan, 'uniprot_pos': nan, 'uniprot_id': nan, 'uniprot_aa': nan}]\n",
      "No mutation mapping available! (1lve, Y96Q, A, Y96Q):\n",
      "    [{'pdb_chain': 'A', 'pfam_id': nan, 'uniprot_pos': nan, 'uniprot_id': nan, 'uniprot_aa': nan}]\n",
      "No mutation mapping available! (1lve, S97T, A, S97T):\n",
      "    [{'pdb_chain': 'A', 'pfam_id': nan, 'uniprot_pos': nan, 'uniprot_id': nan, 'uniprot_aa': nan}]\n",
      "PDB AA and UniProt AA are not the same! (1myl, A, M, 31, None, 0) (M != R (P03050))\n",
      "PDB AA and UniProt AA are not the same! (1myl, A, Y, 36, None, 0) (Y != E (P03050))\n",
      "PDB AA and UniProt AA are not the same! (1myl, A, L, 40, None, 0) (L != R (P03050))\n"
     ]
    },
    {
     "name": "stderr",
     "output_type": "stream",
     "text": [
      "Could not convert amino acid PCA to a one letter code!\n",
      "Could not convert amino acid CSO to a one letter code!\n"
     ]
    },
    {
     "name": "stdout",
     "output_type": "stream",
     "text": [
      "No mutation mapping available! (2imm, A100G, A, A100G):\n",
      "    [{'pdb_chain': 'A', 'pfam_id': nan, 'uniprot_pos': None, 'uniprot_id': None, 'uniprot_aa': None}]\n",
      "No mutation mapping available! (2imm, L106I, A, L106I):\n",
      "    [{'pdb_chain': 'A', 'pfam_id': nan, 'uniprot_pos': None, 'uniprot_id': None, 'uniprot_aa': None}]\n",
      "No mutation mapping available! (2imm, A15L, A, A15L):\n",
      "    [{'pdb_chain': 'A', 'pfam_id': nan, 'uniprot_pos': None, 'uniprot_id': None, 'uniprot_aa': None}]\n",
      "No mutation mapping available! (2imm, M21I, A, M21I):\n",
      "    [{'pdb_chain': 'A', 'pfam_id': nan, 'uniprot_pos': None, 'uniprot_id': None, 'uniprot_aa': None}]\n",
      "No mutation mapping available! (2imm, M21L, A, M21L):\n",
      "    [{'pdb_chain': 'A', 'pfam_id': nan, 'uniprot_pos': None, 'uniprot_id': None, 'uniprot_aa': None}]\n",
      "No mutation mapping available! (2imm, K24R, A, K24R):\n",
      "    [{'pdb_chain': 'A', 'pfam_id': nan, 'uniprot_pos': None, 'uniprot_id': None, 'uniprot_aa': None}]\n",
      "No mutation mapping available! (2imm, F32Y, A, F32Y):\n",
      "    [{'pdb_chain': 'A', 'pfam_id': nan, 'uniprot_pos': None, 'uniprot_id': None, 'uniprot_aa': None}]\n",
      "No mutation mapping available! (2imm, P43S, A, P43S):\n",
      "    [{'pdb_chain': 'A', 'pfam_id': nan, 'uniprot_pos': None, 'uniprot_id': None, 'uniprot_aa': None}]\n",
      "No mutation mapping available! (2imm, T63S, A, T63S):\n",
      "    [{'pdb_chain': 'A', 'pfam_id': nan, 'uniprot_pos': None, 'uniprot_id': None, 'uniprot_aa': None}]\n",
      "No mutation mapping available! (2imm, Q79E, A, Q79E):\n",
      "    [{'pdb_chain': 'A', 'pfam_id': nan, 'uniprot_pos': None, 'uniprot_id': None, 'uniprot_aa': None}]\n",
      "No mutation mapping available! (2imm, N90Q, A, N90Q):\n",
      "    [{'pdb_chain': 'A', 'pfam_id': nan, 'uniprot_pos': None, 'uniprot_id': None, 'uniprot_aa': None}]\n"
     ]
    },
    {
     "name": "stderr",
     "output_type": "stream",
     "text": [
      "Could not convert amino acid ACE to a one letter code!\n",
      "Could not convert amino acid ACE to a one letter code!\n",
      "Could not convert amino acid ACE to a one letter code!\n"
     ]
    }
   ],
   "source": [
    "curatedprotherm = load_rosetta_ddg(op.join(NOTEBOOK_NAME, 'ddg-master/input/csv/curatedprotherm.csv'))"
   ]
  },
  {
   "cell_type": "code",
   "execution_count": 17,
   "metadata": {
    "collapsed": false,
    "run_control": {
     "marked": false
    }
   },
   "outputs": [
    {
     "data": {
      "text/html": [
       "<div>\n",
       "<table border=\"1\" class=\"dataframe\">\n",
       "  <thead>\n",
       "    <tr style=\"text-align: right;\">\n",
       "      <th></th>\n",
       "      <th>RecordID</th>\n",
       "      <th>PDBFileID</th>\n",
       "      <th>Mutations</th>\n",
       "      <th>DDG</th>\n",
       "      <th>ResidueExposures</th>\n",
       "      <th>DSSPTypes</th>\n",
       "      <th>DSSPSimpleTypes</th>\n",
       "      <th>IndividualDDGs</th>\n",
       "      <th>pdb_id</th>\n",
       "      <th>pdb_chain</th>\n",
       "      <th>pdb_mutation</th>\n",
       "      <th>ddg_exp</th>\n",
       "      <th>uniprot_id</th>\n",
       "      <th>uniprot_mutation</th>\n",
       "      <th>pdb_chain_sifts</th>\n",
       "      <th>pdb_mutation_sifts</th>\n",
       "    </tr>\n",
       "  </thead>\n",
       "  <tbody>\n",
       "    <tr>\n",
       "      <th>0</th>\n",
       "      <td>158</td>\n",
       "      <td>1A2P</td>\n",
       "      <td>A T 100 G</td>\n",
       "      <td>2.800000</td>\n",
       "      <td>0.506849</td>\n",
       "      <td>S</td>\n",
       "      <td>O</td>\n",
       "      <td>2.8</td>\n",
       "      <td>1a2p</td>\n",
       "      <td>A</td>\n",
       "      <td>T100G</td>\n",
       "      <td>2.800000</td>\n",
       "      <td>P00648</td>\n",
       "      <td>T147G</td>\n",
       "      <td>A</td>\n",
       "      <td>T100G</td>\n",
       "    </tr>\n",
       "    <tr>\n",
       "      <th>1</th>\n",
       "      <td>152</td>\n",
       "      <td>1A2P</td>\n",
       "      <td>A H 102 A</td>\n",
       "      <td>0.240000</td>\n",
       "      <td>0.510309</td>\n",
       "      <td>T</td>\n",
       "      <td>O</td>\n",
       "      <td>0.24</td>\n",
       "      <td>1a2p</td>\n",
       "      <td>A</td>\n",
       "      <td>H102A</td>\n",
       "      <td>0.240000</td>\n",
       "      <td>P00648</td>\n",
       "      <td>H149A</td>\n",
       "      <td>A</td>\n",
       "      <td>H102A</td>\n",
       "    </tr>\n",
       "    <tr>\n",
       "      <th>2</th>\n",
       "      <td>201</td>\n",
       "      <td>1A2P</td>\n",
       "      <td>A Y 103 F</td>\n",
       "      <td>0.090000</td>\n",
       "      <td>0.222707</td>\n",
       "      <td>T</td>\n",
       "      <td>O</td>\n",
       "      <td>0.18_0.0</td>\n",
       "      <td>1a2p</td>\n",
       "      <td>A</td>\n",
       "      <td>Y103F</td>\n",
       "      <td>0.090000</td>\n",
       "      <td>P00648</td>\n",
       "      <td>Y150F</td>\n",
       "      <td>A</td>\n",
       "      <td>Y103F</td>\n",
       "    </tr>\n",
       "    <tr>\n",
       "      <th>3</th>\n",
       "      <td>162</td>\n",
       "      <td>1A2P</td>\n",
       "      <td>A Q 104 A</td>\n",
       "      <td>0.090000</td>\n",
       "      <td>0.671958</td>\n",
       "      <td>S</td>\n",
       "      <td>O</td>\n",
       "      <td>0.16_0.02</td>\n",
       "      <td>1a2p</td>\n",
       "      <td>A</td>\n",
       "      <td>Q104A</td>\n",
       "      <td>0.090000</td>\n",
       "      <td>P00648</td>\n",
       "      <td>Q151A</td>\n",
       "      <td>A</td>\n",
       "      <td>Q104A</td>\n",
       "    </tr>\n",
       "    <tr>\n",
       "      <th>4</th>\n",
       "      <td>218</td>\n",
       "      <td>1A2P</td>\n",
       "      <td>A T 105 V</td>\n",
       "      <td>2.213333</td>\n",
       "      <td>0.575342</td>\n",
       "      <td></td>\n",
       "      <td>O</td>\n",
       "      <td>2.14_2.25_2.25</td>\n",
       "      <td>1a2p</td>\n",
       "      <td>A</td>\n",
       "      <td>T105V</td>\n",
       "      <td>2.213333</td>\n",
       "      <td>P00648</td>\n",
       "      <td>T152V</td>\n",
       "      <td>A</td>\n",
       "      <td>T105V</td>\n",
       "    </tr>\n",
       "  </tbody>\n",
       "</table>\n",
       "</div>"
      ],
      "text/plain": [
       "   RecordID PDBFileID  Mutations       DDG  ResidueExposures DSSPTypes DSSPSimpleTypes  IndividualDDGs pdb_id pdb_chain pdb_mutation   ddg_exp uniprot_id uniprot_mutation pdb_chain_sifts pdb_mutation_sifts\n",
       "0       158      1A2P  A T 100 G  2.800000          0.506849         S               O             2.8   1a2p         A        T100G  2.800000     P00648            T147G               A              T100G\n",
       "1       152      1A2P  A H 102 A  0.240000          0.510309         T               O            0.24   1a2p         A        H102A  0.240000     P00648            H149A               A              H102A\n",
       "2       201      1A2P  A Y 103 F  0.090000          0.222707         T               O        0.18_0.0   1a2p         A        Y103F  0.090000     P00648            Y150F               A              Y103F\n",
       "3       162      1A2P  A Q 104 A  0.090000          0.671958         S               O       0.16_0.02   1a2p         A        Q104A  0.090000     P00648            Q151A               A              Q104A\n",
       "4       218      1A2P  A T 105 V  2.213333          0.575342                         O  2.14_2.25_2.25   1a2p         A        T105V  2.213333     P00648            T152V               A              T105V"
      ]
     },
     "metadata": {},
     "output_type": "display_data"
    },
    {
     "name": "stdout",
     "output_type": "stream",
     "text": [
      "(2971, 16)\n"
     ]
    }
   ],
   "source": [
    "display(curatedprotherm.head())\n",
    "print(curatedprotherm.shape)"
   ]
  },
  {
   "cell_type": "code",
   "execution_count": 18,
   "metadata": {
    "collapsed": false,
    "run_control": {
     "marked": false
    }
   },
   "outputs": [
    {
     "name": "stdout",
     "output_type": "stream",
     "text": [
      "curatedprotherm\n"
     ]
    },
    {
     "name": "stderr",
     "output_type": "stream",
     "text": [
      "File size before: 0.30 MB\n",
      "File size after: 0.14 MB\n",
      "File size savings: 0.14 MB (47.58 %)\n"
     ]
    }
   ],
   "source": [
    "df = curatedprotherm\n",
    "df_name = 'curatedprotherm'\n",
    "\n",
    "if not df['pdb_mutation'].str.contains('_').all():\n",
    "    df['pdb_mutation'] = df['pdb_chain'] + '_' + df['pdb_mutation']\n",
    "    \n",
    "assert df['pdb_mutation'].str.contains('_').all()\n",
    "\n",
    "t = db.import_df(df, df_name)\n",
    "\n",
    "print(t.name)\n",
    "\n",
    "t.create_indexes([\n",
    "        [('pdb_id', 'pdb_chain', 'pdb_mutation'), True],\n",
    "        [('uniprot_id', 'uniprot_mutation'), False],\n",
    "    ])\n",
    "\n",
    "t.add_idx_column()\n",
    "\n",
    "t.compress()"
   ]
  },
  {
   "cell_type": "markdown",
   "metadata": {
    "run_control": {
     "marked": false
    }
   },
   "source": [
    "## guerois"
   ]
  },
  {
   "cell_type": "code",
   "execution_count": 19,
   "metadata": {
    "collapsed": false,
    "run_control": {
     "marked": false
    }
   },
   "outputs": [
    {
     "name": "stdout",
     "output_type": "stream",
     "text": [
      "# \r\n",
      "# This dataset of mutations originates from the paper by Guerois et al. [1]. We have made some changes from the original\r\n",
      "# dataset. In particular, we have tried to match the DDG values to the original publications.\r\n",
      "# \r\n",
      "# The DSSPType column lists the DSSP secondary structure type assigned by mkdssp 2.2.1 [2, 3]. The DSSPSimpleSSType column\r\n",
      "# lists a simple elision of the DSSP types: G, H, and I become H(elix); E becomes S(heet); and T, B, S, and C become O(ther).\r\n",
      "#     \r\n",
      "# [1] PMID:12079393\r\n",
      "# [2] PMID:21071423\r\n",
      "# [3] PMID:6667333\r\n",
      "# This dataset was last updated on 2015-01-29.\r\n",
      "# The RecordID below refers to the record ID in the original dataset. When no ID was specified, we added an ID based on the published order of the records.\r\n",
      "# Mutations is an underscore-separated list of mutations. Each mutation takes the form \"Chain Wildtype ResidueID Mutant\".\r\n",
      "# DDG is the aggregated (mean) DDG value used for analysis.\r\n",
      "# IndividualDDGs lists the individual DDG values which can be used to filter out records with high variance.\r\n",
      "# ResidueExposures is an underscore-separated list of exposure values, each one corresponding to its respective mutated position. Each exposure value is based on the solvent accessibility reported by DSSP divided by a maximum solvent accessibility for that residue type and represents whether the residue is buried (0.0) or exposed (1.0).\r\n",
      "# DSSPTypes is an underscore-separated list of DSSP secondary structure assignments, each one corresponding to its respective mutated position.\r\n",
      "# DSSPSimpleTypes is an underscore-separated list of DSSPSimpleType secondary structure assignments, each one corresponding to its respective mutated position.\r\n",
      "# Note: The .json file accompanying this CSV file contains more information, including a list of publications from where the DDG values were taken.\r\n",
      "#RecordID,PDBFileID,Mutations,DDG,ResidueExposures,DSSPTypes,DSSPSimpleTypes,IndividualDDGs\r\n"
     ]
    }
   ],
   "source": [
    "!grep '^#' $NOTEBOOK_NAME/ddg-master/input/csv/guerois.csv"
   ]
  },
  {
   "cell_type": "code",
   "execution_count": 20,
   "metadata": {
    "collapsed": false,
    "run_control": {
     "marked": false
    }
   },
   "outputs": [
    {
     "name": "stdout",
     "output_type": "stream",
     "text": [
      "PDB AA and UniProt AA are not the same! (107l, A, G, 44, None, 0) (G != S (P00720))\n",
      "PDB AA and UniProt AA are not the same! (160l, A, A, 120, None, 0) (A != M (P00720))\n",
      "PDB AA and UniProt AA are not the same! (161l, A, A, 116, None, 0) (A != N (P00720))\n",
      "PDB AA and UniProt AA are not the same! (162l, A, A, 122, None, 0) (A != Q (P00720))\n",
      "PDB AA and UniProt AA are not the same! (163l, A, A, 123, None, 0) (A != Q (P00720))\n",
      "PDB AA and UniProt AA are not the same! (164l, A, A, 119, None, 0) (A != R (P00720))\n",
      "PDB AA and UniProt AA are not the same! (165l, A, A, 117, None, 0) (A != S (P00720))\n",
      "PDB AA and UniProt AA are not the same! (171l, A, A, 45, None, 0) (A != E (P00720))\n",
      "PDB AA and UniProt AA are not the same! (1bf4, A, I, 17, None, 0) (I != T (P13123))\n",
      "PDB AA and UniProt AA are not the same! (1bf4, A, I, 30, None, 0) (I != V (P13123))\n",
      "PDB AA and UniProt AA are not the same! (1bf4, A, Q, 57, None, 0) (Q != D (P13123))\n",
      "PDB AA and UniProt AA are not the same! (1dyb, A, G, 131, None, 0) (G != V (P00720))\n",
      "PDB AA and UniProt AA are not the same! (1l00, A, A, 105, None, 0) (A != Q (P00720))\n",
      "PDB AA and UniProt AA are not the same! (1l02, A, A, 157, None, 0) (A != T (P00720))\n",
      "PDB AA and UniProt AA are not the same! (1l08, A, G, 157, None, 0) (G != T (P00720))\n",
      "PDB AA and UniProt AA are not the same! (1l21, A, G, 55, None, 0) (G != N (P00720))\n",
      "PDB AA and UniProt AA are not the same! (1l22, A, G, 124, None, 0) (G != K (P00720))\n",
      "PDB AA and UniProt AA are not the same! (1l23, A, A, 77, None, 0) (A != G (P00720))\n",
      "PDB AA and UniProt AA are not the same! (1l33, A, A, 131, None, 0) (A != V (P00720))\n",
      "PDB AA and UniProt AA are not the same! (1l60, A, A, 113, None, 0) (A != G (P00720))\n",
      "PDB AA and UniProt AA are not the same! (1l65, A, A, 47, None, 0) (A != D (P00720))\n",
      "PDB AA and UniProt AA are not the same! (1l66, A, A, 43, None, 0) (A != K (P00720))\n",
      "PDB AA and UniProt AA are not the same! (1l67, A, A, 46, None, 0) (A != L (P00720))\n",
      "PDB AA and UniProt AA are not the same! (1l68, A, A, 44, None, 0) (A != S (P00720))\n",
      "PDB AA and UniProt AA are not the same! (1l69, A, A, 133, None, 0) (A != L (P00720))\n",
      "PDB AA and UniProt AA are not the same! (1l85, A, A, 153, None, 0) (A != F (P00720))\n",
      "PDB AA and UniProt AA are not the same! (1l90, A, A, 99, None, 0) (A != L (P00720))\n",
      "PDB AA and UniProt AA are not the same! (1l99, A, G, 105, None, 0) (G != Q (P00720))\n",
      "PDB AA and UniProt AA are not the same! (1lyh, A, G, 59, None, 0) (G != T (P00720))\n",
      "PDB AA and UniProt AA are not the same! (1lyj, A, A, 59, None, 0) (A != T (P00720))\n",
      "PDB AA and UniProt AA are not the same! (200l, A, A, 121, None, 0) (A != L (P00720))\n",
      "PDB AA and UniProt AA are not the same! (227l, A, A, 104, None, 0) (A != F (P00720))\n",
      "PDB AA and UniProt AA are not the same! (235l, A, A, 111, None, 0) (A != V (P00720))\n",
      "PDB AA and UniProt AA are not the same! (236l, A, A, 87, None, 0) (A != V (P00720))\n",
      "PDB AA and UniProt AA are not the same! (237l, A, A, 149, None, 0) (A != V (P00720))\n",
      "PDB AA and UniProt AA are not the same! (238l, A, A, 103, None, 0) (A != V (P00720))\n",
      "PDB AA and UniProt AA are not the same! (239l, A, A, 17, None, 0) (A != I (P00720))\n",
      "PDB AA and UniProt AA are not the same! (240l, A, A, 27, None, 0) (A != I (P00720))\n",
      "PDB AA and UniProt AA are not the same! (241l, A, A, 29, None, 0) (A != I (P00720))\n",
      "PDB AA and UniProt AA are not the same! (242l, A, A, 50, None, 0) (A != I (P00720))\n",
      "PDB AA and UniProt AA are not the same! (243l, A, A, 58, None, 0) (A != I (P00720))\n",
      "PDB AA and UniProt AA are not the same! (244l, A, A, 100, None, 0) (A != I (P00720))\n",
      "PDB AA and UniProt AA are not the same! (246l, A, A, 67, None, 0) (A != F (P00720))\n",
      "PDB AA and UniProt AA are not the same! (247l, A, A, 84, None, 0) (A != L (P00720))\n",
      "PDB AA and UniProt AA are not the same! (253l, A, A, 20, None, 0) (A != D (P00720))\n"
     ]
    }
   ],
   "source": [
    "guerois = load_rosetta_ddg(op.join(NOTEBOOK_NAME, 'ddg-master/input/csv/guerois.csv'))"
   ]
  },
  {
   "cell_type": "code",
   "execution_count": 21,
   "metadata": {
    "collapsed": false,
    "run_control": {
     "marked": false
    }
   },
   "outputs": [
    {
     "data": {
      "text/html": [
       "<div>\n",
       "<table border=\"1\" class=\"dataframe\">\n",
       "  <thead>\n",
       "    <tr style=\"text-align: right;\">\n",
       "      <th></th>\n",
       "      <th>RecordID</th>\n",
       "      <th>PDBFileID</th>\n",
       "      <th>Mutations</th>\n",
       "      <th>DDG</th>\n",
       "      <th>ResidueExposures</th>\n",
       "      <th>DSSPTypes</th>\n",
       "      <th>DSSPSimpleTypes</th>\n",
       "      <th>IndividualDDGs</th>\n",
       "      <th>pdb_id</th>\n",
       "      <th>pdb_chain</th>\n",
       "      <th>pdb_mutation</th>\n",
       "      <th>ddg_exp</th>\n",
       "      <th>uniprot_id</th>\n",
       "      <th>uniprot_mutation</th>\n",
       "      <th>pdb_chain_sifts</th>\n",
       "      <th>pdb_mutation_sifts</th>\n",
       "    </tr>\n",
       "  </thead>\n",
       "  <tbody>\n",
       "    <tr>\n",
       "      <th>0</th>\n",
       "      <td>965</td>\n",
       "      <td>107L</td>\n",
       "      <td>A G 44 S</td>\n",
       "      <td>-0.53</td>\n",
       "      <td>0.435294117647</td>\n",
       "      <td>H</td>\n",
       "      <td>H</td>\n",
       "      <td>0.53</td>\n",
       "      <td>107l</td>\n",
       "      <td>A</td>\n",
       "      <td>G44S</td>\n",
       "      <td>-0.53</td>\n",
       "      <td>NaN</td>\n",
       "      <td>NaN</td>\n",
       "      <td>A</td>\n",
       "      <td>G44S</td>\n",
       "    </tr>\n",
       "    <tr>\n",
       "      <th>1</th>\n",
       "      <td>966</td>\n",
       "      <td>160L</td>\n",
       "      <td>A A 120 M</td>\n",
       "      <td>-0.20</td>\n",
       "      <td>0.070796460177</td>\n",
       "      <td>H</td>\n",
       "      <td>H</td>\n",
       "      <td>0.20</td>\n",
       "      <td>160l</td>\n",
       "      <td>A</td>\n",
       "      <td>A120M</td>\n",
       "      <td>-0.20</td>\n",
       "      <td>NaN</td>\n",
       "      <td>NaN</td>\n",
       "      <td>A</td>\n",
       "      <td>A120M</td>\n",
       "    </tr>\n",
       "    <tr>\n",
       "      <th>2</th>\n",
       "      <td>967</td>\n",
       "      <td>161L</td>\n",
       "      <td>A A 116 N</td>\n",
       "      <td>0.17</td>\n",
       "      <td>0.212389380531</td>\n",
       "      <td>H</td>\n",
       "      <td>H</td>\n",
       "      <td>-0.17</td>\n",
       "      <td>161l</td>\n",
       "      <td>A</td>\n",
       "      <td>A116N</td>\n",
       "      <td>0.17</td>\n",
       "      <td>NaN</td>\n",
       "      <td>NaN</td>\n",
       "      <td>A</td>\n",
       "      <td>A116N</td>\n",
       "    </tr>\n",
       "    <tr>\n",
       "      <th>3</th>\n",
       "      <td>968</td>\n",
       "      <td>162L</td>\n",
       "      <td>A A 122 Q</td>\n",
       "      <td>-0.24</td>\n",
       "      <td>0.389380530973</td>\n",
       "      <td>H</td>\n",
       "      <td>H</td>\n",
       "      <td>0.24</td>\n",
       "      <td>162l</td>\n",
       "      <td>A</td>\n",
       "      <td>A122Q</td>\n",
       "      <td>-0.24</td>\n",
       "      <td>NaN</td>\n",
       "      <td>NaN</td>\n",
       "      <td>A</td>\n",
       "      <td>A122Q</td>\n",
       "    </tr>\n",
       "    <tr>\n",
       "      <th>4</th>\n",
       "      <td>969</td>\n",
       "      <td>163L</td>\n",
       "      <td>A A 123 Q</td>\n",
       "      <td>-0.22</td>\n",
       "      <td>0.46017699115</td>\n",
       "      <td>T</td>\n",
       "      <td>O</td>\n",
       "      <td>0.22</td>\n",
       "      <td>163l</td>\n",
       "      <td>A</td>\n",
       "      <td>A123Q</td>\n",
       "      <td>-0.22</td>\n",
       "      <td>NaN</td>\n",
       "      <td>NaN</td>\n",
       "      <td>A</td>\n",
       "      <td>A123Q</td>\n",
       "    </tr>\n",
       "  </tbody>\n",
       "</table>\n",
       "</div>"
      ],
      "text/plain": [
       "   RecordID PDBFileID  Mutations   DDG ResidueExposures DSSPTypes DSSPSimpleTypes  IndividualDDGs pdb_id pdb_chain pdb_mutation  ddg_exp uniprot_id uniprot_mutation pdb_chain_sifts pdb_mutation_sifts\n",
       "0       965      107L   A G 44 S -0.53   0.435294117647         H               H            0.53   107l         A         G44S    -0.53        NaN              NaN               A               G44S\n",
       "1       966      160L  A A 120 M -0.20   0.070796460177         H               H            0.20   160l         A        A120M    -0.20        NaN              NaN               A              A120M\n",
       "2       967      161L  A A 116 N  0.17   0.212389380531         H               H           -0.17   161l         A        A116N     0.17        NaN              NaN               A              A116N\n",
       "3       968      162L  A A 122 Q -0.24   0.389380530973         H               H            0.24   162l         A        A122Q    -0.24        NaN              NaN               A              A122Q\n",
       "4       969      163L  A A 123 Q -0.22    0.46017699115         T               O            0.22   163l         A        A123Q    -0.22        NaN              NaN               A              A123Q"
      ]
     },
     "metadata": {},
     "output_type": "display_data"
    },
    {
     "name": "stdout",
     "output_type": "stream",
     "text": [
      "(1005, 16)\n"
     ]
    }
   ],
   "source": [
    "display(guerois.head())\n",
    "print(guerois.shape)"
   ]
  },
  {
   "cell_type": "code",
   "execution_count": 22,
   "metadata": {
    "collapsed": false
   },
   "outputs": [
    {
     "name": "stdout",
     "output_type": "stream",
     "text": [
      "guerois\n"
     ]
    },
    {
     "name": "stderr",
     "output_type": "stream",
     "text": [
      "File size before: 0.10 MB\n",
      "File size after: 0.05 MB\n",
      "File size savings: 0.05 MB (47.81 %)\n"
     ]
    }
   ],
   "source": [
    "df = guerois\n",
    "df_name = 'guerois'\n",
    "\n",
    "if not df['pdb_mutation'].str.contains('_').all():\n",
    "    df['pdb_mutation'] = df['pdb_chain'] + '_' + df['pdb_mutation']\n",
    "    \n",
    "assert df['pdb_mutation'].str.contains('_').all()\n",
    "\n",
    "t = db.import_df(df, df_name)\n",
    "\n",
    "print(t.name)\n",
    "\n",
    "t.create_indexes([\n",
    "        [('pdb_id', 'pdb_chain', 'pdb_mutation'), True],\n",
    "        [('uniprot_id', 'uniprot_mutation'), False],\n",
    "    ])\n",
    "\n",
    "t.add_idx_column()\n",
    "\n",
    "t.compress()"
   ]
  },
  {
   "cell_type": "markdown",
   "metadata": {
    "run_control": {
     "marked": false
    }
   },
   "source": [
    "## kellogg"
   ]
  },
  {
   "cell_type": "code",
   "execution_count": 23,
   "metadata": {
    "collapsed": false,
    "run_control": {
     "marked": false
    }
   },
   "outputs": [
    {
     "name": "stdout",
     "output_type": "stream",
     "text": [
      "# \r\n",
      "# This dataset of mutations originates from the paper by Kellogg et al. [1]. We have made some changes from the original\r\n",
      "# dataset. In particular, we have tried to match the DDG values to the original publications.\r\n",
      "# \r\n",
      "# The DSSPType column lists the DSSP secondary structure type assigned by mkdssp 2.2.1 [2, 3]. The DSSPSimpleSSType column\r\n",
      "# lists a simple elision of the DSSP types: G, H, and I become H(elix); E becomes S(heet); and T, B, S, and C become O(ther).\r\n",
      "#     \r\n",
      "# [1] PMID:21287615\r\n",
      "# [2] PMID:21071423\r\n",
      "# [3] PMID:6667333\r\n",
      "# This dataset was last updated on 2015-01-29.\r\n",
      "# The RecordID below refers to the record ID in the original dataset. When no ID was specified, we added an ID based on the published order of the records.\r\n",
      "# Mutations is an underscore-separated list of mutations. Each mutation takes the form \"Chain Wildtype ResidueID Mutant\".\r\n",
      "# DDG is the aggregated (mean) DDG value used for analysis.\r\n",
      "# IndividualDDGs lists the individual DDG values which can be used to filter out records with high variance.\r\n",
      "# ResidueExposures is an underscore-separated list of exposure values, each one corresponding to its respective mutated position. Each exposure value is based on the solvent accessibility reported by DSSP divided by a maximum solvent accessibility for that residue type and represents whether the residue is buried (0.0) or exposed (1.0).\r\n",
      "# DSSPTypes is an underscore-separated list of DSSP secondary structure assignments, each one corresponding to its respective mutated position.\r\n",
      "# DSSPSimpleTypes is an underscore-separated list of DSSPSimpleType secondary structure assignments, each one corresponding to its respective mutated position.\r\n",
      "# Note: The .json file accompanying this CSV file contains more information, including a list of publications from where the DDG values were taken.\r\n",
      "#RecordID,PDBFileID,Mutations,DDG,ResidueExposures,DSSPTypes,DSSPSimpleTypes,IndividualDDGs\r\n"
     ]
    }
   ],
   "source": [
    "!grep '^#' $NOTEBOOK_NAME/ddg-master/input/csv/kellogg.csv"
   ]
  },
  {
   "cell_type": "code",
   "execution_count": 24,
   "metadata": {
    "collapsed": false,
    "run_control": {
     "marked": false
    }
   },
   "outputs": [
    {
     "name": "stdout",
     "output_type": "stream",
     "text": [
      "PDB AA and UniProt AA are not the same! (107l, A, G, 44, None, 0) (G != S (P00720))\n",
      "PDB AA and UniProt AA are not the same! (160l, A, A, 120, None, 0) (A != M (P00720))\n",
      "PDB AA and UniProt AA are not the same! (161l, A, A, 116, None, 0) (A != N (P00720))\n",
      "PDB AA and UniProt AA are not the same! (162l, A, A, 122, None, 0) (A != Q (P00720))\n",
      "PDB AA and UniProt AA are not the same! (163l, A, A, 123, None, 0) (A != Q (P00720))\n",
      "PDB AA and UniProt AA are not the same! (164l, A, A, 119, None, 0) (A != R (P00720))\n",
      "PDB AA and UniProt AA are not the same! (165l, A, A, 117, None, 0) (A != S (P00720))\n",
      "PDB AA and UniProt AA are not the same! (171l, A, A, 45, None, 0) (A != E (P00720))\n",
      "PDB AA and UniProt AA are not the same! (1bf4, A, I, 17, None, 0) (I != T (P13123))\n",
      "PDB AA and UniProt AA are not the same! (1bf4, A, I, 30, None, 0) (I != V (P13123))\n",
      "PDB AA and UniProt AA are not the same! (1bf4, A, Q, 57, None, 0) (Q != D (P13123))\n",
      "PDB AA and UniProt AA are not the same! (1dyb, A, G, 131, None, 0) (G != V (P00720))\n",
      "PDB AA and UniProt AA are not the same! (1l00, A, A, 105, None, 0) (A != Q (P00720))\n",
      "PDB AA and UniProt AA are not the same! (1l02, A, A, 157, None, 0) (A != T (P00720))\n",
      "PDB AA and UniProt AA are not the same! (1l08, A, G, 157, None, 0) (G != T (P00720))\n",
      "PDB AA and UniProt AA are not the same! (1l21, A, G, 55, None, 0) (G != N (P00720))\n",
      "PDB AA and UniProt AA are not the same! (1l22, A, G, 124, None, 0) (G != K (P00720))\n",
      "PDB AA and UniProt AA are not the same! (1l33, A, A, 131, None, 0) (A != V (P00720))\n",
      "PDB AA and UniProt AA are not the same! (1l60, A, A, 113, None, 0) (A != G (P00720))\n",
      "PDB AA and UniProt AA are not the same! (1l65, A, A, 47, None, 0) (A != D (P00720))\n",
      "PDB AA and UniProt AA are not the same! (1l66, A, A, 43, None, 0) (A != K (P00720))\n",
      "PDB AA and UniProt AA are not the same! (1l67, A, A, 46, None, 0) (A != L (P00720))\n",
      "PDB AA and UniProt AA are not the same! (1l68, A, A, 44, None, 0) (A != S (P00720))\n",
      "PDB AA and UniProt AA are not the same! (1l69, A, A, 133, None, 0) (A != L (P00720))\n",
      "PDB AA and UniProt AA are not the same! (1l85, A, A, 153, None, 0) (A != F (P00720))\n",
      "PDB AA and UniProt AA are not the same! (1l90, A, A, 99, None, 0) (A != L (P00720))\n",
      "PDB AA and UniProt AA are not the same! (1l99, A, G, 105, None, 0) (G != Q (P00720))\n",
      "PDB AA and UniProt AA are not the same! (1lyh, A, G, 59, None, 0) (G != T (P00720))\n",
      "PDB AA and UniProt AA are not the same! (1lyj, A, A, 59, None, 0) (A != T (P00720))\n",
      "PDB AA and UniProt AA are not the same! (200l, A, A, 121, None, 0) (A != L (P00720))\n",
      "PDB AA and UniProt AA are not the same! (227l, A, A, 104, None, 0) (A != F (P00720))\n",
      "PDB AA and UniProt AA are not the same! (235l, A, A, 111, None, 0) (A != V (P00720))\n",
      "PDB AA and UniProt AA are not the same! (236l, A, A, 87, None, 0) (A != V (P00720))\n",
      "PDB AA and UniProt AA are not the same! (237l, A, A, 149, None, 0) (A != V (P00720))\n",
      "PDB AA and UniProt AA are not the same! (238l, A, A, 103, None, 0) (A != V (P00720))\n",
      "PDB AA and UniProt AA are not the same! (239l, A, A, 17, None, 0) (A != I (P00720))\n",
      "PDB AA and UniProt AA are not the same! (240l, A, A, 27, None, 0) (A != I (P00720))\n",
      "PDB AA and UniProt AA are not the same! (241l, A, A, 29, None, 0) (A != I (P00720))\n",
      "PDB AA and UniProt AA are not the same! (242l, A, A, 50, None, 0) (A != I (P00720))\n",
      "PDB AA and UniProt AA are not the same! (243l, A, A, 58, None, 0) (A != I (P00720))\n",
      "PDB AA and UniProt AA are not the same! (244l, A, A, 100, None, 0) (A != I (P00720))\n",
      "PDB AA and UniProt AA are not the same! (246l, A, A, 67, None, 0) (A != F (P00720))\n",
      "PDB AA and UniProt AA are not the same! (247l, A, A, 84, None, 0) (A != L (P00720))\n",
      "PDB AA and UniProt AA are not the same! (253l, A, A, 20, None, 0) (A != D (P00720))\n"
     ]
    }
   ],
   "source": [
    "kellogg = load_rosetta_ddg(op.join(NOTEBOOK_NAME, 'ddg-master/input/csv/kellogg.csv'))"
   ]
  },
  {
   "cell_type": "code",
   "execution_count": 25,
   "metadata": {
    "collapsed": false,
    "run_control": {
     "marked": false
    }
   },
   "outputs": [
    {
     "data": {
      "text/html": [
       "<div>\n",
       "<table border=\"1\" class=\"dataframe\">\n",
       "  <thead>\n",
       "    <tr style=\"text-align: right;\">\n",
       "      <th></th>\n",
       "      <th>RecordID</th>\n",
       "      <th>PDBFileID</th>\n",
       "      <th>Mutations</th>\n",
       "      <th>DDG</th>\n",
       "      <th>ResidueExposures</th>\n",
       "      <th>DSSPTypes</th>\n",
       "      <th>DSSPSimpleTypes</th>\n",
       "      <th>IndividualDDGs</th>\n",
       "      <th>pdb_id</th>\n",
       "      <th>pdb_chain</th>\n",
       "      <th>pdb_mutation</th>\n",
       "      <th>ddg_exp</th>\n",
       "      <th>uniprot_id</th>\n",
       "      <th>uniprot_mutation</th>\n",
       "      <th>pdb_chain_sifts</th>\n",
       "      <th>pdb_mutation_sifts</th>\n",
       "    </tr>\n",
       "  </thead>\n",
       "  <tbody>\n",
       "    <tr>\n",
       "      <th>0</th>\n",
       "      <td>1</td>\n",
       "      <td>107L</td>\n",
       "      <td>A G 44 S</td>\n",
       "      <td>-0.53</td>\n",
       "      <td>0.435294117647</td>\n",
       "      <td>H</td>\n",
       "      <td>H</td>\n",
       "      <td>0.53</td>\n",
       "      <td>107l</td>\n",
       "      <td>A</td>\n",
       "      <td>G44S</td>\n",
       "      <td>-0.53</td>\n",
       "      <td>NaN</td>\n",
       "      <td>NaN</td>\n",
       "      <td>A</td>\n",
       "      <td>G44S</td>\n",
       "    </tr>\n",
       "    <tr>\n",
       "      <th>1</th>\n",
       "      <td>2</td>\n",
       "      <td>160L</td>\n",
       "      <td>A A 120 M</td>\n",
       "      <td>-0.20</td>\n",
       "      <td>0.070796460177</td>\n",
       "      <td>H</td>\n",
       "      <td>H</td>\n",
       "      <td>0.2</td>\n",
       "      <td>160l</td>\n",
       "      <td>A</td>\n",
       "      <td>A120M</td>\n",
       "      <td>-0.20</td>\n",
       "      <td>NaN</td>\n",
       "      <td>NaN</td>\n",
       "      <td>A</td>\n",
       "      <td>A120M</td>\n",
       "    </tr>\n",
       "    <tr>\n",
       "      <th>2</th>\n",
       "      <td>3</td>\n",
       "      <td>161L</td>\n",
       "      <td>A A 116 N</td>\n",
       "      <td>0.17</td>\n",
       "      <td>0.212389380531</td>\n",
       "      <td>H</td>\n",
       "      <td>H</td>\n",
       "      <td>-0.17</td>\n",
       "      <td>161l</td>\n",
       "      <td>A</td>\n",
       "      <td>A116N</td>\n",
       "      <td>0.17</td>\n",
       "      <td>NaN</td>\n",
       "      <td>NaN</td>\n",
       "      <td>A</td>\n",
       "      <td>A116N</td>\n",
       "    </tr>\n",
       "    <tr>\n",
       "      <th>3</th>\n",
       "      <td>4</td>\n",
       "      <td>162L</td>\n",
       "      <td>A A 122 Q</td>\n",
       "      <td>-0.24</td>\n",
       "      <td>0.389380530973</td>\n",
       "      <td>H</td>\n",
       "      <td>H</td>\n",
       "      <td>0.24</td>\n",
       "      <td>162l</td>\n",
       "      <td>A</td>\n",
       "      <td>A122Q</td>\n",
       "      <td>-0.24</td>\n",
       "      <td>NaN</td>\n",
       "      <td>NaN</td>\n",
       "      <td>A</td>\n",
       "      <td>A122Q</td>\n",
       "    </tr>\n",
       "    <tr>\n",
       "      <th>4</th>\n",
       "      <td>5</td>\n",
       "      <td>163L</td>\n",
       "      <td>A A 123 Q</td>\n",
       "      <td>-0.22</td>\n",
       "      <td>0.46017699115</td>\n",
       "      <td>T</td>\n",
       "      <td>O</td>\n",
       "      <td>0.22</td>\n",
       "      <td>163l</td>\n",
       "      <td>A</td>\n",
       "      <td>A123Q</td>\n",
       "      <td>-0.22</td>\n",
       "      <td>NaN</td>\n",
       "      <td>NaN</td>\n",
       "      <td>A</td>\n",
       "      <td>A123Q</td>\n",
       "    </tr>\n",
       "  </tbody>\n",
       "</table>\n",
       "</div>"
      ],
      "text/plain": [
       "   RecordID PDBFileID  Mutations   DDG ResidueExposures DSSPTypes DSSPSimpleTypes IndividualDDGs pdb_id pdb_chain pdb_mutation  ddg_exp uniprot_id uniprot_mutation pdb_chain_sifts pdb_mutation_sifts\n",
       "0         1      107L   A G 44 S -0.53   0.435294117647         H               H           0.53   107l         A         G44S    -0.53        NaN              NaN               A               G44S\n",
       "1         2      160L  A A 120 M -0.20   0.070796460177         H               H            0.2   160l         A        A120M    -0.20        NaN              NaN               A              A120M\n",
       "2         3      161L  A A 116 N  0.17   0.212389380531         H               H          -0.17   161l         A        A116N     0.17        NaN              NaN               A              A116N\n",
       "3         4      162L  A A 122 Q -0.24   0.389380530973         H               H           0.24   162l         A        A122Q    -0.24        NaN              NaN               A              A122Q\n",
       "4         5      163L  A A 123 Q -0.22    0.46017699115         T               O           0.22   163l         A        A123Q    -0.22        NaN              NaN               A              A123Q"
      ]
     },
     "metadata": {},
     "output_type": "display_data"
    },
    {
     "name": "stdout",
     "output_type": "stream",
     "text": [
      "(1210, 16)\n"
     ]
    }
   ],
   "source": [
    "display(kellogg.head())\n",
    "print(kellogg.shape)"
   ]
  },
  {
   "cell_type": "code",
   "execution_count": 26,
   "metadata": {
    "collapsed": false
   },
   "outputs": [
    {
     "name": "stderr",
     "output_type": "stream",
     "text": [
      "File size before: 0.12 MB\n"
     ]
    },
    {
     "name": "stdout",
     "output_type": "stream",
     "text": [
      "kellogg\n"
     ]
    },
    {
     "name": "stderr",
     "output_type": "stream",
     "text": [
      "File size after: 0.06 MB\n",
      "File size savings: 0.06 MB (46.00 %)\n"
     ]
    }
   ],
   "source": [
    "df = kellogg\n",
    "df_name = 'kellogg'\n",
    "\n",
    "if not df['pdb_mutation'].str.contains('_').all():\n",
    "    df['pdb_mutation'] = df['pdb_chain'] + '_' + df['pdb_mutation']\n",
    "    \n",
    "assert df['pdb_mutation'].str.contains('_').all()\n",
    "\n",
    "t = db.import_df(df, df_name)\n",
    "\n",
    "print(t.name)\n",
    "\n",
    "t.create_indexes([\n",
    "        [('pdb_id', 'pdb_chain', 'pdb_mutation'), True],\n",
    "        [('uniprot_id', 'uniprot_mutation'), False],\n",
    "    ])\n",
    "\n",
    "t.add_idx_column()\n",
    "\n",
    "t.compress()"
   ]
  },
  {
   "cell_type": "markdown",
   "metadata": {
    "code_folding": [],
    "run_control": {
     "marked": false
    }
   },
   "source": [
    "## potapov"
   ]
  },
  {
   "cell_type": "code",
   "execution_count": 27,
   "metadata": {
    "collapsed": false,
    "run_control": {
     "marked": false
    }
   },
   "outputs": [
    {
     "name": "stdout",
     "output_type": "stream",
     "text": [
      "# \r\n",
      "# This dataset of mutations originates from the paper by Potapov et al. [1]. We have made some changes from the original\r\n",
      "# dataset. In particular, we have tried to match the DDG values to the original publications.\r\n",
      "# \r\n",
      "# The DSSPType column lists the DSSP secondary structure type assigned by mkdssp 2.2.1 [2, 3]. The DSSPSimpleSSType column\r\n",
      "# lists a simple elision of the DSSP types: G, H, and I become H(elix); E becomes S(heet); and T, B, S, and C become O(ther).\r\n",
      "#     \r\n",
      "# [1] PMID:19561092\r\n",
      "# [2] PMID:21071423\r\n",
      "# [3] PMID:6667333\r\n",
      "# This dataset was last updated on 2015-01-29.\r\n",
      "# The RecordID below refers to the record ID in the original dataset. When no ID was specified, we added an ID based on the published order of the records.\r\n",
      "# Mutations is an underscore-separated list of mutations. Each mutation takes the form \"Chain Wildtype ResidueID Mutant\".\r\n",
      "# DDG is the aggregated (mean) DDG value used for analysis.\r\n",
      "# IndividualDDGs lists the individual DDG values which can be used to filter out records with high variance.\r\n",
      "# ResidueExposures is an underscore-separated list of exposure values, each one corresponding to its respective mutated position. Each exposure value is based on the solvent accessibility reported by DSSP divided by a maximum solvent accessibility for that residue type and represents whether the residue is buried (0.0) or exposed (1.0).\r\n",
      "# DSSPTypes is an underscore-separated list of DSSP secondary structure assignments, each one corresponding to its respective mutated position.\r\n",
      "# DSSPSimpleTypes is an underscore-separated list of DSSPSimpleType secondary structure assignments, each one corresponding to its respective mutated position.\r\n",
      "# Note: The .json file accompanying this CSV file contains more information, including a list of publications from where the DDG values were taken.\r\n",
      "#RecordID,PDBFileID,Mutations,DDG,ResidueExposures,DSSPTypes,DSSPSimpleTypes,IndividualDDGs\r\n"
     ]
    }
   ],
   "source": [
    "!grep '^#' $NOTEBOOK_NAME/ddg-master/input/csv/potapov.csv"
   ]
  },
  {
   "cell_type": "code",
   "execution_count": 28,
   "metadata": {
    "collapsed": false,
    "run_control": {
     "marked": false
    }
   },
   "outputs": [
    {
     "name": "stdout",
     "output_type": "stream",
     "text": [
      "PDB AA and UniProt AA are not the same! (1bf4, A, I, 17, None, 0) (I != T (P13123))\n",
      "PDB AA and UniProt AA are not the same! (1bf4, A, I, 30, None, 0) (I != V (P13123))\n",
      "PDB AA and UniProt AA are not the same! (1bf4, A, Q, 57, None, 0) (Q != D (P13123))\n"
     ]
    }
   ],
   "source": [
    "potapov = load_rosetta_ddg(op.join(NOTEBOOK_NAME, 'ddg-master/input/csv/potapov.csv'))"
   ]
  },
  {
   "cell_type": "code",
   "execution_count": 29,
   "metadata": {
    "collapsed": false,
    "run_control": {
     "marked": false
    }
   },
   "outputs": [
    {
     "data": {
      "text/html": [
       "<div>\n",
       "<table border=\"1\" class=\"dataframe\">\n",
       "  <thead>\n",
       "    <tr style=\"text-align: right;\">\n",
       "      <th></th>\n",
       "      <th>RecordID</th>\n",
       "      <th>PDBFileID</th>\n",
       "      <th>Mutations</th>\n",
       "      <th>DDG</th>\n",
       "      <th>ResidueExposures</th>\n",
       "      <th>DSSPTypes</th>\n",
       "      <th>DSSPSimpleTypes</th>\n",
       "      <th>IndividualDDGs</th>\n",
       "      <th>pdb_id</th>\n",
       "      <th>pdb_chain</th>\n",
       "      <th>pdb_mutation</th>\n",
       "      <th>ddg_exp</th>\n",
       "      <th>uniprot_id</th>\n",
       "      <th>uniprot_mutation</th>\n",
       "      <th>pdb_chain_sifts</th>\n",
       "      <th>pdb_mutation_sifts</th>\n",
       "    </tr>\n",
       "  </thead>\n",
       "  <tbody>\n",
       "    <tr>\n",
       "      <th>0</th>\n",
       "      <td>64</td>\n",
       "      <td>1A2P</td>\n",
       "      <td>A Y 103 F</td>\n",
       "      <td>0.00</td>\n",
       "      <td>0.222707423581</td>\n",
       "      <td>T</td>\n",
       "      <td>O</td>\n",
       "      <td>0.0</td>\n",
       "      <td>1a2p</td>\n",
       "      <td>A</td>\n",
       "      <td>Y103F</td>\n",
       "      <td>0.00</td>\n",
       "      <td>P00648</td>\n",
       "      <td>Y150F</td>\n",
       "      <td>A</td>\n",
       "      <td>Y103F</td>\n",
       "    </tr>\n",
       "    <tr>\n",
       "      <th>1</th>\n",
       "      <td>65</td>\n",
       "      <td>1A2P</td>\n",
       "      <td>A T 105 V</td>\n",
       "      <td>2.24</td>\n",
       "      <td>0.575342465753</td>\n",
       "      <td></td>\n",
       "      <td>O</td>\n",
       "      <td>2.24</td>\n",
       "      <td>1a2p</td>\n",
       "      <td>A</td>\n",
       "      <td>T105V</td>\n",
       "      <td>2.24</td>\n",
       "      <td>P00648</td>\n",
       "      <td>T152V</td>\n",
       "      <td>A</td>\n",
       "      <td>T105V</td>\n",
       "    </tr>\n",
       "    <tr>\n",
       "      <th>2</th>\n",
       "      <td>66</td>\n",
       "      <td>1A2P</td>\n",
       "      <td>A I 109 A</td>\n",
       "      <td>2.07</td>\n",
       "      <td>0.214285714286</td>\n",
       "      <td></td>\n",
       "      <td>O</td>\n",
       "      <td>2.07</td>\n",
       "      <td>1a2p</td>\n",
       "      <td>A</td>\n",
       "      <td>I109A</td>\n",
       "      <td>2.07</td>\n",
       "      <td>P00648</td>\n",
       "      <td>I156A</td>\n",
       "      <td>A</td>\n",
       "      <td>I109A</td>\n",
       "    </tr>\n",
       "    <tr>\n",
       "      <th>3</th>\n",
       "      <td>67</td>\n",
       "      <td>1A2P</td>\n",
       "      <td>A I 109 V</td>\n",
       "      <td>0.76</td>\n",
       "      <td>0.214285714286</td>\n",
       "      <td></td>\n",
       "      <td>O</td>\n",
       "      <td>0.76</td>\n",
       "      <td>1a2p</td>\n",
       "      <td>A</td>\n",
       "      <td>I109V</td>\n",
       "      <td>0.76</td>\n",
       "      <td>P00648</td>\n",
       "      <td>I156V</td>\n",
       "      <td>A</td>\n",
       "      <td>I109V</td>\n",
       "    </tr>\n",
       "    <tr>\n",
       "      <th>4</th>\n",
       "      <td>9</td>\n",
       "      <td>1A2P</td>\n",
       "      <td>A V 10 A</td>\n",
       "      <td>3.39</td>\n",
       "      <td>0.0</td>\n",
       "      <td>H</td>\n",
       "      <td>H</td>\n",
       "      <td>3.39</td>\n",
       "      <td>1a2p</td>\n",
       "      <td>A</td>\n",
       "      <td>V10A</td>\n",
       "      <td>3.39</td>\n",
       "      <td>P00648</td>\n",
       "      <td>V57A</td>\n",
       "      <td>A</td>\n",
       "      <td>V10A</td>\n",
       "    </tr>\n",
       "  </tbody>\n",
       "</table>\n",
       "</div>"
      ],
      "text/plain": [
       "   RecordID PDBFileID  Mutations   DDG ResidueExposures DSSPTypes DSSPSimpleTypes IndividualDDGs pdb_id pdb_chain pdb_mutation  ddg_exp uniprot_id uniprot_mutation pdb_chain_sifts pdb_mutation_sifts\n",
       "0        64      1A2P  A Y 103 F  0.00   0.222707423581         T               O            0.0   1a2p         A        Y103F     0.00     P00648            Y150F               A              Y103F\n",
       "1        65      1A2P  A T 105 V  2.24   0.575342465753                         O           2.24   1a2p         A        T105V     2.24     P00648            T152V               A              T105V\n",
       "2        66      1A2P  A I 109 A  2.07   0.214285714286                         O           2.07   1a2p         A        I109A     2.07     P00648            I156A               A              I109A\n",
       "3        67      1A2P  A I 109 V  0.76   0.214285714286                         O           0.76   1a2p         A        I109V     0.76     P00648            I156V               A              I109V\n",
       "4         9      1A2P   A V 10 A  3.39              0.0         H               H           3.39   1a2p         A         V10A     3.39     P00648             V57A               A               V10A"
      ]
     },
     "metadata": {},
     "output_type": "display_data"
    },
    {
     "name": "stdout",
     "output_type": "stream",
     "text": [
      "(2154, 16)\n"
     ]
    }
   ],
   "source": [
    "display(potapov.head())\n",
    "print(potapov.shape)"
   ]
  },
  {
   "cell_type": "code",
   "execution_count": 30,
   "metadata": {
    "collapsed": false
   },
   "outputs": [
    {
     "data": {
      "text/html": [
       "<div>\n",
       "<table border=\"1\" class=\"dataframe\">\n",
       "  <thead>\n",
       "    <tr style=\"text-align: right;\">\n",
       "      <th></th>\n",
       "      <th>RecordID</th>\n",
       "      <th>PDBFileID</th>\n",
       "      <th>Mutations</th>\n",
       "      <th>DDG</th>\n",
       "      <th>ResidueExposures</th>\n",
       "      <th>DSSPTypes</th>\n",
       "      <th>DSSPSimpleTypes</th>\n",
       "      <th>IndividualDDGs</th>\n",
       "      <th>pdb_id</th>\n",
       "      <th>pdb_chain</th>\n",
       "      <th>pdb_mutation</th>\n",
       "      <th>ddg_exp</th>\n",
       "      <th>uniprot_id</th>\n",
       "      <th>uniprot_mutation</th>\n",
       "      <th>pdb_chain_sifts</th>\n",
       "      <th>pdb_mutation_sifts</th>\n",
       "    </tr>\n",
       "  </thead>\n",
       "  <tbody>\n",
       "  </tbody>\n",
       "</table>\n",
       "</div>"
      ],
      "text/plain": [
       "Empty DataFrame\n",
       "Columns: [RecordID, PDBFileID, Mutations, DDG, ResidueExposures, DSSPTypes, DSSPSimpleTypes, IndividualDDGs, pdb_id, pdb_chain, pdb_mutation, ddg_exp, uniprot_id, uniprot_mutation, pdb_chain_sifts, pdb_mutation_sifts]\n",
       "Index: []"
      ]
     },
     "execution_count": 30,
     "metadata": {},
     "output_type": "execute_result"
    }
   ],
   "source": [
    "# An example of duplicates\n",
    "potapov[\n",
    "    (potapov['pdb_id'] == '1a2p') &\n",
    "    (potapov['pdb_chain'] == 'A') &\n",
    "    (potapov['pdb_mutation'] == 'A_Y103F')\n",
    "]"
   ]
  },
  {
   "cell_type": "code",
   "execution_count": 31,
   "metadata": {
    "collapsed": false
   },
   "outputs": [
    {
     "name": "stdout",
     "output_type": "stream",
     "text": [
      "2154\n",
      "2144\n"
     ]
    }
   ],
   "source": [
    "print(potapov.shape[0])\n",
    "print(potapov.drop_duplicates(subset=['pdb_id', 'pdb_chain', 'pdb_mutation']).shape[0])"
   ]
  },
  {
   "cell_type": "code",
   "execution_count": 32,
   "metadata": {
    "collapsed": true
   },
   "outputs": [],
   "source": [
    "potapov = potapov.drop_duplicates(subset=['pdb_id', 'pdb_chain', 'pdb_mutation'])"
   ]
  },
  {
   "cell_type": "code",
   "execution_count": 33,
   "metadata": {
    "collapsed": false
   },
   "outputs": [
    {
     "name": "stdout",
     "output_type": "stream",
     "text": [
      "potapov\n"
     ]
    },
    {
     "name": "stderr",
     "output_type": "stream",
     "text": [
      "File size before: 0.23 MB\n",
      "File size after: 0.10 MB\n",
      "File size savings: 0.10 MB (45.31 %)\n"
     ]
    }
   ],
   "source": [
    "df = potapov\n",
    "df_name = 'potapov'\n",
    "\n",
    "if not df['pdb_mutation'].str.contains('_').all():\n",
    "    df['pdb_mutation'] = df['pdb_chain'] + '_' + df['pdb_mutation']\n",
    "    \n",
    "assert df['pdb_mutation'].str.contains('_').all()\n",
    "\n",
    "t = db.import_df(df, df_name)\n",
    "\n",
    "print(t.name)\n",
    "\n",
    "t.create_indexes([\n",
    "        [('pdb_id', 'pdb_chain', 'pdb_mutation'), True],\n",
    "        [('uniprot_id', 'uniprot_mutation'), False],\n",
    "    ])\n",
    "\n",
    "t.add_idx_column()\n",
    "\n",
    "t.compress()"
   ]
  },
  {
   "cell_type": "markdown",
   "metadata": {
    "run_control": {
     "marked": false
    }
   },
   "source": [
    "# Load other info"
   ]
  },
  {
   "cell_type": "markdown",
   "metadata": {
    "run_control": {
     "marked": false
    }
   },
   "source": [
    "## kortemme_baker"
   ]
  },
  {
   "cell_type": "code",
   "execution_count": 34,
   "metadata": {
    "collapsed": false,
    "run_control": {
     "marked": false
    }
   },
   "outputs": [
    {
     "name": "stdout",
     "output_type": "stream",
     "text": [
      "PDB_ID,Mutated_partner,Chain_ID,PDB_res#,Amino_acid,DDG_calc,DDG_obs,\"Interface(O:no,1:yes)\",PDBPosID,PubMedID,Location,FixedPDB_ID,FixedPDBResidueID\r\n",
      "1A22,hGH,A,14,M,0,0.1,0,1A2214,7504735,Table_2,None,None\r\n",
      "1A22,hGH,A,18,H,1.84,-0.5,1,1A2218,7504735,Table_2,None,None\r\n",
      "1A22,hGH,A,21,H,0.78,0.2,1,1A2221,7504735,Table_2,None,None\r\n",
      "1A22,hGH,A,22,Q,0.07,-0.2,1,1A2222,7504735,Table_2,None,None\r\n",
      "1A22,hGH,A,25,F,1.3,-0.4,1,1A2225,7504735,Table_2,None,None\r\n",
      "1A22,hGH,A,26,D,-0.05,-0.2,0,1A2226,7504735,Table_2,None,None\r\n",
      "1A22,hGH,A,29,Q,0.01,-0.6,0,1A2229,7504735,Table_2,None,None\r\n",
      "1A22,hGH,A,42,Y,2,0.2,1,1A2242,7504735,Table_2,None,None\r\n",
      "1A22,hGH,A,45,L,1.15,1.2,1,1A2245,7504735,Table_2,None,None\r\n"
     ]
    }
   ],
   "source": [
    "!head $NOTEBOOK_NAME/ddg-master/input/csv/kortemme_baker.csv -n 10"
   ]
  },
  {
   "cell_type": "code",
   "execution_count": 35,
   "metadata": {
    "collapsed": false,
    "run_control": {
     "marked": false
    }
   },
   "outputs": [],
   "source": [
    "kortemme_baker = (\n",
    "    pd.read_csv(op.join(NOTEBOOK_NAME, 'ddg-master/input/csv/kortemme_baker.csv'), header=0)\n",
    "    .rename(columns={\n",
    "        'PDB_ID': 'pdb_id',\n",
    "        'Mutated_partner': 'mutated_partner',\n",
    "        'Chain_ID': 'pdb_chain',\n",
    "        'PDB_res#': 'pdb_resnum',\n",
    "        'Amino_acid': 'pdb_aa_wt',\n",
    "        'DDG_calc': 'ddg_calc',\n",
    "        'DDG_obs': 'ddg_exp',\n",
    "        'Interface(O:no,1:yes)': 'is_interface',\n",
    "        'PDBPosID': 'pdb_pos_id',\n",
    "        'PubMedID': 'pubmed_id',\n",
    "        'Location': 'location',\n",
    "        'FixedPDB_ID': 'fixed_pdb_id',\n",
    "        'FixedPDBResidueID': 'fixed_pdb_residue_id',\n",
    "    })\n",
    ")"
   ]
  },
  {
   "cell_type": "code",
   "execution_count": 36,
   "metadata": {
    "collapsed": false,
    "run_control": {
     "marked": false
    }
   },
   "outputs": [
    {
     "data": {
      "text/html": [
       "<div>\n",
       "<table border=\"1\" class=\"dataframe\">\n",
       "  <thead>\n",
       "    <tr style=\"text-align: right;\">\n",
       "      <th></th>\n",
       "      <th>pdb_id</th>\n",
       "      <th>mutated_partner</th>\n",
       "      <th>pdb_chain</th>\n",
       "      <th>pdb_resnum</th>\n",
       "      <th>pdb_aa_wt</th>\n",
       "      <th>ddg_calc</th>\n",
       "      <th>ddg_exp</th>\n",
       "      <th>is_interface</th>\n",
       "      <th>pdb_pos_id</th>\n",
       "      <th>pubmed_id</th>\n",
       "      <th>location</th>\n",
       "      <th>fixed_pdb_id</th>\n",
       "      <th>fixed_pdb_residue_id</th>\n",
       "    </tr>\n",
       "  </thead>\n",
       "  <tbody>\n",
       "    <tr>\n",
       "      <th>0</th>\n",
       "      <td>1A22</td>\n",
       "      <td>hGH</td>\n",
       "      <td>A</td>\n",
       "      <td>14</td>\n",
       "      <td>M</td>\n",
       "      <td>0.00</td>\n",
       "      <td>0.1</td>\n",
       "      <td>0</td>\n",
       "      <td>1A2214</td>\n",
       "      <td>7504735</td>\n",
       "      <td>Table_2</td>\n",
       "      <td>None</td>\n",
       "      <td>None</td>\n",
       "    </tr>\n",
       "    <tr>\n",
       "      <th>1</th>\n",
       "      <td>1A22</td>\n",
       "      <td>hGH</td>\n",
       "      <td>A</td>\n",
       "      <td>18</td>\n",
       "      <td>H</td>\n",
       "      <td>1.84</td>\n",
       "      <td>-0.5</td>\n",
       "      <td>1</td>\n",
       "      <td>1A2218</td>\n",
       "      <td>7504735</td>\n",
       "      <td>Table_2</td>\n",
       "      <td>None</td>\n",
       "      <td>None</td>\n",
       "    </tr>\n",
       "    <tr>\n",
       "      <th>2</th>\n",
       "      <td>1A22</td>\n",
       "      <td>hGH</td>\n",
       "      <td>A</td>\n",
       "      <td>21</td>\n",
       "      <td>H</td>\n",
       "      <td>0.78</td>\n",
       "      <td>0.2</td>\n",
       "      <td>1</td>\n",
       "      <td>1A2221</td>\n",
       "      <td>7504735</td>\n",
       "      <td>Table_2</td>\n",
       "      <td>None</td>\n",
       "      <td>None</td>\n",
       "    </tr>\n",
       "    <tr>\n",
       "      <th>3</th>\n",
       "      <td>1A22</td>\n",
       "      <td>hGH</td>\n",
       "      <td>A</td>\n",
       "      <td>22</td>\n",
       "      <td>Q</td>\n",
       "      <td>0.07</td>\n",
       "      <td>-0.2</td>\n",
       "      <td>1</td>\n",
       "      <td>1A2222</td>\n",
       "      <td>7504735</td>\n",
       "      <td>Table_2</td>\n",
       "      <td>None</td>\n",
       "      <td>None</td>\n",
       "    </tr>\n",
       "    <tr>\n",
       "      <th>4</th>\n",
       "      <td>1A22</td>\n",
       "      <td>hGH</td>\n",
       "      <td>A</td>\n",
       "      <td>25</td>\n",
       "      <td>F</td>\n",
       "      <td>1.30</td>\n",
       "      <td>-0.4</td>\n",
       "      <td>1</td>\n",
       "      <td>1A2225</td>\n",
       "      <td>7504735</td>\n",
       "      <td>Table_2</td>\n",
       "      <td>None</td>\n",
       "      <td>None</td>\n",
       "    </tr>\n",
       "  </tbody>\n",
       "</table>\n",
       "</div>"
      ],
      "text/plain": [
       "  pdb_id mutated_partner pdb_chain pdb_resnum pdb_aa_wt  ddg_calc ddg_exp  is_interface pdb_pos_id  pubmed_id location fixed_pdb_id fixed_pdb_residue_id\n",
       "0   1A22             hGH         A         14         M      0.00     0.1             0     1A2214    7504735  Table_2         None                 None\n",
       "1   1A22             hGH         A         18         H      1.84    -0.5             1     1A2218    7504735  Table_2         None                 None\n",
       "2   1A22             hGH         A         21         H      0.78     0.2             1     1A2221    7504735  Table_2         None                 None\n",
       "3   1A22             hGH         A         22         Q      0.07    -0.2             1     1A2222    7504735  Table_2         None                 None\n",
       "4   1A22             hGH         A         25         F      1.30    -0.4             1     1A2225    7504735  Table_2         None                 None"
      ]
     },
     "metadata": {},
     "output_type": "display_data"
    },
    {
     "name": "stdout",
     "output_type": "stream",
     "text": [
      "(380, 13)\n"
     ]
    }
   ],
   "source": [
    "display(kortemme_baker.head())\n",
    "print(kortemme_baker.shape)"
   ]
  },
  {
   "cell_type": "code",
   "execution_count": 37,
   "metadata": {
    "collapsed": false
   },
   "outputs": [
    {
     "name": "stdout",
     "output_type": "stream",
     "text": [
      "potapov\n"
     ]
    },
    {
     "name": "stderr",
     "output_type": "stream",
     "text": [
      "File size before: 0.23 MB\n",
      "File size after: 0.10 MB\n",
      "File size savings: 0.10 MB (45.31 %)\n"
     ]
    }
   ],
   "source": [
    "db.import_tadf = potapov\n",
    "df_name = 'potapov'\n",
    "\n",
    "if not df['pdb_mutation'].str.contains('_').all():\n",
    "    df['pdb_mutation'] = df['pdb_id'] + '_' + df['pdb_mutation']\n",
    "    \n",
    "assert df['pdb_mutation'].str.contains('_').all()\n",
    "\n",
    "t = db.import_df(df, df_name)\n",
    "\n",
    "print(t.name)\n",
    "\n",
    "t.create_indexes([\n",
    "        [('pdb_id', 'pdb_chain', 'pdb_mutation'), True],\n",
    "        [('uniprot_id', 'uniprot_mutation'), False],\n",
    "    ])\n",
    "\n",
    "t.add_idx_column()\n",
    "\n",
    "t.compress()"
   ]
  },
  {
   "cell_type": "markdown",
   "metadata": {
    "run_control": {
     "marked": false
    }
   },
   "source": [
    "## pdbs"
   ]
  },
  {
   "cell_type": "code",
   "execution_count": 38,
   "metadata": {
    "collapsed": false,
    "run_control": {
     "marked": false
    }
   },
   "outputs": [
    {
     "name": "stdout",
     "output_type": "stream",
     "text": [
      "#PDB ID,Resolution,Techniques\r\n",
      "107L,1.8,X-RAY DIFFRACTION\r\n",
      "160L,1.8,X-RAY DIFFRACTION\r\n",
      "161L,1.7,X-RAY DIFFRACTION\r\n",
      "162L,1.8,X-RAY DIFFRACTION\r\n",
      "163L,1.8,X-RAY DIFFRACTION\r\n",
      "164L,1.8,X-RAY DIFFRACTION\r\n",
      "165L,1.75,X-RAY DIFFRACTION\r\n",
      "171L,2.5,X-RAY DIFFRACTION\r\n",
      "1A2P,1.5,X-RAY DIFFRACTION\r\n"
     ]
    }
   ],
   "source": [
    "!head -n 10 $NOTEBOOK_NAME/ddg-master/input/csv/pdbs.csv"
   ]
  },
  {
   "cell_type": "code",
   "execution_count": 39,
   "metadata": {
    "collapsed": false,
    "run_control": {
     "marked": false
    }
   },
   "outputs": [],
   "source": [
    "pdbs = pd.read_csv(\n",
    "    op.join(NOTEBOOK_NAME, 'ddg-master/input/csv/pdbs.csv'),\n",
    "    names=['PDB ID', 'Resolution', 'Techniques'], \n",
    "    comment='#'\n",
    ").rename(columns=lambda x: x.replace(' ', '_').lower())"
   ]
  },
  {
   "cell_type": "code",
   "execution_count": 40,
   "metadata": {
    "collapsed": false,
    "run_control": {
     "marked": false
    }
   },
   "outputs": [
    {
     "data": {
      "text/html": [
       "<div>\n",
       "<table border=\"1\" class=\"dataframe\">\n",
       "  <thead>\n",
       "    <tr style=\"text-align: right;\">\n",
       "      <th></th>\n",
       "      <th>pdb_id</th>\n",
       "      <th>resolution</th>\n",
       "      <th>techniques</th>\n",
       "    </tr>\n",
       "  </thead>\n",
       "  <tbody>\n",
       "    <tr>\n",
       "      <th>0</th>\n",
       "      <td>107L</td>\n",
       "      <td>1.8</td>\n",
       "      <td>X-RAY DIFFRACTION</td>\n",
       "    </tr>\n",
       "    <tr>\n",
       "      <th>1</th>\n",
       "      <td>160L</td>\n",
       "      <td>1.8</td>\n",
       "      <td>X-RAY DIFFRACTION</td>\n",
       "    </tr>\n",
       "    <tr>\n",
       "      <th>2</th>\n",
       "      <td>161L</td>\n",
       "      <td>1.7</td>\n",
       "      <td>X-RAY DIFFRACTION</td>\n",
       "    </tr>\n",
       "    <tr>\n",
       "      <th>3</th>\n",
       "      <td>162L</td>\n",
       "      <td>1.8</td>\n",
       "      <td>X-RAY DIFFRACTION</td>\n",
       "    </tr>\n",
       "    <tr>\n",
       "      <th>4</th>\n",
       "      <td>163L</td>\n",
       "      <td>1.8</td>\n",
       "      <td>X-RAY DIFFRACTION</td>\n",
       "    </tr>\n",
       "  </tbody>\n",
       "</table>\n",
       "</div>"
      ],
      "text/plain": [
       "  pdb_id  resolution         techniques\n",
       "0   107L         1.8  X-RAY DIFFRACTION\n",
       "1   160L         1.8  X-RAY DIFFRACTION\n",
       "2   161L         1.7  X-RAY DIFFRACTION\n",
       "3   162L         1.8  X-RAY DIFFRACTION\n",
       "4   163L         1.8  X-RAY DIFFRACTION"
      ]
     },
     "metadata": {},
     "output_type": "display_data"
    },
    {
     "name": "stdout",
     "output_type": "stream",
     "text": [
      "(182, 3)\n"
     ]
    }
   ],
   "source": [
    "display(pdbs.head())\n",
    "print(pdbs.shape)"
   ]
  },
  {
   "cell_type": "code",
   "execution_count": 41,
   "metadata": {
    "collapsed": false,
    "run_control": {
     "marked": false
    }
   },
   "outputs": [
    {
     "data": {
      "text/plain": [
       "(182,)"
      ]
     },
     "execution_count": 41,
     "metadata": {},
     "output_type": "execute_result"
    }
   ],
   "source": [
    "pdbs['pdb_id'].str.lower().drop_duplicates().shape"
   ]
  },
  {
   "cell_type": "code",
   "execution_count": 42,
   "metadata": {
    "collapsed": false,
    "scrolled": true
   },
   "outputs": [
    {
     "name": "stderr",
     "output_type": "stream",
     "text": [
      "File size before: 0.01 MB\n",
      "File size after: 0.00 MB\n",
      "File size savings: 0.00 MB (45.86 %)\n"
     ]
    },
    {
     "name": "stdout",
     "output_type": "stream",
     "text": [
      "pdbs\n"
     ]
    }
   ],
   "source": [
    "df = pdbs\n",
    "df_name = 'pdbs'\n",
    "\n",
    "t = db.import_df(df, df_name)\n",
    "\n",
    "print(t.name)\n",
    "\n",
    "t.create_indexes([\n",
    "        [('pdb_id'), True],\n",
    "    ])\n",
    "\n",
    "t.add_idx_column()\n",
    "\n",
    "t.compress()"
   ]
  },
  {
   "cell_type": "markdown",
   "metadata": {
    "run_control": {
     "marked": false
    }
   },
   "source": [
    "## references"
   ]
  },
  {
   "cell_type": "code",
   "execution_count": 43,
   "metadata": {
    "collapsed": false,
    "run_control": {
     "marked": false
    }
   },
   "outputs": [
    {
     "name": "stdout",
     "output_type": "stream",
     "text": [
      "#ID,Authors,Title,Publication,Volume,Issue,Date,URL\r\n",
      "PMID:10051585,Kay_Ramos_Baldwin,Specificity of native-like interhelical hydrophobic contacts in the apomyoglobin intermediate,Proceedings of the National Academy of Sciences,96,,1999-03-02,http://www.pnas.org/content/96/5/2007.abstract\r\n",
      "PMID:10064710,Axe_Foster_Fersht,An irregular beta-bulge common to a group of bacterial RNases is an important determinant of stability and function in barnase,Journal of Molecular Biology,286,,1999-03-12,https://dx.doi.org/10.1006/jmbi.1999.2569\r\n",
      "PMID:10064718,Peterson_Nicholson_Thapar_Klevit_Scholtz,Increased helix and protein stability through the introduction of a new tertiary hydrogen bond,Journal of Molecular Biology,286,,1999-03-12,https://dx.doi.org/10.1006/jmbi.1999.2574\r\n",
      "PMID:10074361,Bishop_Ross_Kohanski,Autophosphorylation Dependent Destabilization of the Insulin Receptor Kinase Domain:? Tryptophan-1175 Reports Changes in the Catalytic Cleft†,Biochemistry,38,,1999-02-17,https://dx.doi.org/10.1021/bi982546s\r\n",
      "PMID:10091653,Raffen_Dieckman_Szpunar_Wunschl_Pokkuluri_Dave_Stevens_Cai_Schiffer_Stevens,Physicochemical consequences of amino acid variations that contribute to fibril formation by immunoglobulin light chains,Protein Science,8,,None,https://dx.doi.org/10.1110/ps.8.3.509\r\n",
      "PMID:10350481,Takano_Yamagata_Kubota_Funahashi_Fujii_Yutani,Contribution of Hydrogen Bonds to the Conformational Stability of Human Lysozyme:  Calorimetry and X-ray Analysis of Six Ser → Ala Mutants†,‡,Biochemistry,38,,1999-04-29,https://dx.doi.org/10.1021/bi9901228\r\n",
      "PMID:10366726,Lett_Rosu-Myles_Frey_Guillemette,Rational design of a more stable yeast iso-1-cytochrome c,Biochimica et Biophysica Acta (BBA) - Protein Structure and Molecular Enzymology,1432,,1999-06-15,https://dx.doi.org/10.1016/S0167-4838(99)00071-0\r\n",
      "PMID:10388575,Fernández-Recio_Romero_Sancho,Energetics of a hydrogen bond (charged and neutral) and of a cation-? interaction in apoflavodoxin,Journal of Molecular Biology,290,,1999-07-02,https://dx.doi.org/10.1006/jmbi.1999.2863\r\n",
      "PMID:10423259,Ramos_Kay_Baldwin,Putative Interhelix Ion Pairs Involved in the Stability of Myoglobin†,Biochemistry,38,,1999-07-01,https://dx.doi.org/10.1021/bi9828627\r\n"
     ]
    }
   ],
   "source": [
    "!head -n 10 $NOTEBOOK_NAME/ddg-master/input/csv/references.csv"
   ]
  },
  {
   "cell_type": "code",
   "execution_count": 44,
   "metadata": {
    "collapsed": false,
    "run_control": {
     "marked": false
    }
   },
   "outputs": [],
   "source": [
    "references = pd.read_csv(\n",
    "    op.join(NOTEBOOK_NAME, 'ddg-master', 'input', 'csv', 'references.csv'),\n",
    "    names=['ID', 'Authors', 'Title', 'Publication', 'Volume', 'Issue', 'Date', 'URL'], \n",
    "    comment='#'\n",
    ").rename(columns=lambda x: x.lower())"
   ]
  },
  {
   "cell_type": "code",
   "execution_count": 45,
   "metadata": {
    "collapsed": false,
    "run_control": {
     "marked": false
    }
   },
   "outputs": [
    {
     "data": {
      "text/html": [
       "<div>\n",
       "<table border=\"1\" class=\"dataframe\">\n",
       "  <thead>\n",
       "    <tr style=\"text-align: right;\">\n",
       "      <th></th>\n",
       "      <th>id</th>\n",
       "      <th>authors</th>\n",
       "      <th>title</th>\n",
       "      <th>publication</th>\n",
       "      <th>volume</th>\n",
       "      <th>issue</th>\n",
       "      <th>date</th>\n",
       "      <th>url</th>\n",
       "    </tr>\n",
       "  </thead>\n",
       "  <tbody>\n",
       "    <tr>\n",
       "      <th>0</th>\n",
       "      <td>PMID:10051585</td>\n",
       "      <td>Kay_Ramos_Baldwin</td>\n",
       "      <td>Specificity of native-like interhelical hydrop...</td>\n",
       "      <td>Proceedings of the National Academy of Sciences</td>\n",
       "      <td>96</td>\n",
       "      <td>NaN</td>\n",
       "      <td>1999-03-02</td>\n",
       "      <td>http://www.pnas.org/content/96/5/2007.abstract</td>\n",
       "    </tr>\n",
       "    <tr>\n",
       "      <th>1</th>\n",
       "      <td>PMID:10064710</td>\n",
       "      <td>Axe_Foster_Fersht</td>\n",
       "      <td>An irregular beta-bulge common to a group of b...</td>\n",
       "      <td>Journal of Molecular Biology</td>\n",
       "      <td>286</td>\n",
       "      <td>NaN</td>\n",
       "      <td>1999-03-12</td>\n",
       "      <td>https://dx.doi.org/10.1006/jmbi.1999.2569</td>\n",
       "    </tr>\n",
       "    <tr>\n",
       "      <th>2</th>\n",
       "      <td>PMID:10064718</td>\n",
       "      <td>Peterson_Nicholson_Thapar_Klevit_Scholtz</td>\n",
       "      <td>Increased helix and protein stability through ...</td>\n",
       "      <td>Journal of Molecular Biology</td>\n",
       "      <td>286</td>\n",
       "      <td>NaN</td>\n",
       "      <td>1999-03-12</td>\n",
       "      <td>https://dx.doi.org/10.1006/jmbi.1999.2574</td>\n",
       "    </tr>\n",
       "    <tr>\n",
       "      <th>3</th>\n",
       "      <td>PMID:10074361</td>\n",
       "      <td>Bishop_Ross_Kohanski</td>\n",
       "      <td>Autophosphorylation Dependent Destabilization ...</td>\n",
       "      <td>Biochemistry</td>\n",
       "      <td>38</td>\n",
       "      <td>NaN</td>\n",
       "      <td>1999-02-17</td>\n",
       "      <td>https://dx.doi.org/10.1021/bi982546s</td>\n",
       "    </tr>\n",
       "    <tr>\n",
       "      <th>4</th>\n",
       "      <td>PMID:10091653</td>\n",
       "      <td>Raffen_Dieckman_Szpunar_Wunschl_Pokkuluri_Dave...</td>\n",
       "      <td>Physicochemical consequences of amino acid var...</td>\n",
       "      <td>Protein Science</td>\n",
       "      <td>8</td>\n",
       "      <td>NaN</td>\n",
       "      <td>None</td>\n",
       "      <td>https://dx.doi.org/10.1110/ps.8.3.509</td>\n",
       "    </tr>\n",
       "  </tbody>\n",
       "</table>\n",
       "</div>"
      ],
      "text/plain": [
       "              id                                            authors                                              title                                      publication volume issue        date                                             url\n",
       "0  PMID:10051585                                  Kay_Ramos_Baldwin  Specificity of native-like interhelical hydrop...  Proceedings of the National Academy of Sciences     96   NaN  1999-03-02  http://www.pnas.org/content/96/5/2007.abstract\n",
       "1  PMID:10064710                                  Axe_Foster_Fersht  An irregular beta-bulge common to a group of b...                     Journal of Molecular Biology    286   NaN  1999-03-12       https://dx.doi.org/10.1006/jmbi.1999.2569\n",
       "2  PMID:10064718           Peterson_Nicholson_Thapar_Klevit_Scholtz  Increased helix and protein stability through ...                     Journal of Molecular Biology    286   NaN  1999-03-12       https://dx.doi.org/10.1006/jmbi.1999.2574\n",
       "3  PMID:10074361                               Bishop_Ross_Kohanski  Autophosphorylation Dependent Destabilization ...                                     Biochemistry     38   NaN  1999-02-17            https://dx.doi.org/10.1021/bi982546s\n",
       "4  PMID:10091653  Raffen_Dieckman_Szpunar_Wunschl_Pokkuluri_Dave...  Physicochemical consequences of amino acid var...                                  Protein Science      8   NaN        None           https://dx.doi.org/10.1110/ps.8.3.509"
      ]
     },
     "metadata": {},
     "output_type": "display_data"
    },
    {
     "name": "stdout",
     "output_type": "stream",
     "text": [
      "(454, 8)\n"
     ]
    }
   ],
   "source": [
    "display(references.head())\n",
    "print(references.shape)"
   ]
  },
  {
   "cell_type": "code",
   "execution_count": 46,
   "metadata": {
    "collapsed": false
   },
   "outputs": [
    {
     "name": "stdout",
     "output_type": "stream",
     "text": [
      "citations\n"
     ]
    },
    {
     "name": "stderr",
     "output_type": "stream",
     "text": [
      "File size before: 0.11 MB\n",
      "File size after: 0.06 MB\n",
      "File size savings: 0.06 MB (58.02 %)\n"
     ]
    }
   ],
   "source": [
    "df = references\n",
    "df_name = 'citations'\n",
    "\n",
    "t = db.import_df(df, df_name)\n",
    "\n",
    "print(t.name)\n",
    "\n",
    "t.create_indexes([\n",
    "        [('id'), True],\n",
    "    ])\n",
    "\n",
    "t.add_idx_column()\n",
    "\n",
    "t.compress()"
   ]
  },
  {
   "cell_type": "markdown",
   "metadata": {},
   "source": [
    "# Done"
   ]
  },
  {
   "cell_type": "code",
   "execution_count": 47,
   "metadata": {
    "collapsed": false
   },
   "outputs": [
    {
     "name": "stdout",
     "output_type": "stream",
     "text": [
      "2016-08-27 20:50:07.565238\n"
     ]
    }
   ],
   "source": [
    "print(datetime.datetime.now())"
   ]
  },
  {
   "cell_type": "code",
   "execution_count": null,
   "metadata": {
    "collapsed": true
   },
   "outputs": [],
   "source": []
  }
 ],
 "metadata": {
  "anaconda-cloud": {},
  "kernelspec": {
   "display_name": "Python [Root]",
   "language": "python",
   "name": "Python [Root]"
  },
  "language_info": {
   "codemirror_mode": {
    "name": "ipython",
    "version": 3
   },
   "file_extension": ".py",
   "mimetype": "text/x-python",
   "name": "python",
   "nbconvert_exporter": "python",
   "pygments_lexer": "ipython3",
   "version": "3.5.2"
  },
  "toc": {
   "navigate_menu": false,
   "number_sections": true,
   "sideBar": false,
   "threshold": 6,
   "toc_cell": false,
   "toc_section_display": "block",
   "toc_window_display": true
  },
  "toc_position": {
   "height": "344px",
   "left": "160.26px",
   "right": "20px",
   "top": "77.9861px",
   "width": "230px"
  }
 },
 "nbformat": 4,
 "nbformat_minor": 0
}
