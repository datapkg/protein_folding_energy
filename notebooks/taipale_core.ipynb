{
 "cells": [
  {
   "cell_type": "markdown",
   "metadata": {
    "run_control": {
     "marked": false
    }
   },
   "source": [
    "# Summary\n",
    "\n",
    "Link to paper: http://www.sciencedirect.com/science/article/pii/S0092867415004304\n",
    "\n",
    "----"
   ]
  },
  {
   "cell_type": "markdown",
   "metadata": {
    "run_control": {
     "marked": false
    }
   },
   "source": [
    "# Imports"
   ]
  },
  {
   "cell_type": "code",
   "execution_count": 1,
   "metadata": {
    "collapsed": true,
    "run_control": {
     "marked": false
    }
   },
   "outputs": [],
   "source": [
    "NOTEBOOK_NAME = 'taipale_core'"
   ]
  },
  {
   "cell_type": "code",
   "execution_count": 2,
   "metadata": {
    "code_folding": [
     0
    ],
    "collapsed": false,
    "run_control": {
     "marked": false
    }
   },
   "outputs": [
    {
     "name": "stdout",
     "output_type": "stream",
     "text": [
      "protein_folding_energy\n",
      "2016-05-09 15:46:16.307264\n"
     ]
    }
   ],
   "source": [
    "%run imports.ipynb"
   ]
  },
  {
   "cell_type": "markdown",
   "metadata": {
    "run_control": {
     "marked": false
    }
   },
   "source": [
    "# Load mutation data"
   ]
  },
  {
   "cell_type": "code",
   "execution_count": 3,
   "metadata": {
    "collapsed": true,
    "run_control": {
     "marked": false
    }
   },
   "outputs": [],
   "source": [
    "os.makedirs(NOTEBOOK_NAME, exist_ok=True)"
   ]
  },
  {
   "cell_type": "code",
   "execution_count": 4,
   "metadata": {
    "collapsed": false,
    "run_control": {
     "marked": false
    }
   },
   "outputs": [
    {
     "name": "stdout",
     "output_type": "stream",
     "text": [
      "1-s2.0-S0092867415004304-main.pdf  mmc2.xlsx  mmc4.xlsx  mmc6.xlsx  mmc8.pdf\r\n",
      "mmc1.xlsx                          mmc3.xlsx  mmc5.xlsx  mmc7.xlsx\r\n"
     ]
    }
   ],
   "source": [
    "ls ../downloads/taipale/"
   ]
  },
  {
   "cell_type": "code",
   "execution_count": 5,
   "metadata": {
    "collapsed": false,
    "run_control": {
     "marked": false
    }
   },
   "outputs": [],
   "source": [
    "mutation_df = pd.read_excel('../downloads/taipale/mmc1.xlsx')"
   ]
  },
  {
   "cell_type": "code",
   "execution_count": 6,
   "metadata": {
    "collapsed": false,
    "run_control": {
     "marked": false
    }
   },
   "outputs": [
    {
     "data": {
      "text/html": [
       "<div>\n",
       "<table border=\"1\" class=\"dataframe\">\n",
       "  <thead>\n",
       "    <tr style=\"text-align: right;\">\n",
       "      <th></th>\n",
       "      <th>Category</th>\n",
       "      <th>Symbol</th>\n",
       "      <th>Entrez_Gene_ID</th>\n",
       "      <th>Allele_ID</th>\n",
       "      <th>Mutation_RefSeq_NT</th>\n",
       "      <th>Mutation_RefSeq_AA</th>\n",
       "      <th>HGMD_accession</th>\n",
       "      <th>HGMD_variant_class</th>\n",
       "      <th>dbSNP_ID</th>\n",
       "      <th>Disease</th>\n",
       "    </tr>\n",
       "  </thead>\n",
       "  <tbody>\n",
       "    <tr>\n",
       "      <th>0</th>\n",
       "      <td>Disease mutation</td>\n",
       "      <td>A2M</td>\n",
       "      <td>2</td>\n",
       "      <td>2_18118</td>\n",
       "      <td>NM_000014:c.2915G&gt;A</td>\n",
       "      <td>NP_000005:p.C972Y</td>\n",
       "      <td>CM920001</td>\n",
       "      <td>DM</td>\n",
       "      <td>rs1800433</td>\n",
       "      <td>Chronic obstructive pulmonary disease</td>\n",
       "    </tr>\n",
       "    <tr>\n",
       "      <th>1</th>\n",
       "      <td>Disease mutation</td>\n",
       "      <td>A2M</td>\n",
       "      <td>2</td>\n",
       "      <td>2_18119</td>\n",
       "      <td>NM_000014:c.2998G&gt;A</td>\n",
       "      <td>NP_000005:p.V1000I</td>\n",
       "      <td>CM980001</td>\n",
       "      <td>DP</td>\n",
       "      <td>rs669</td>\n",
       "      <td>Alzheimer disease, association with</td>\n",
       "    </tr>\n",
       "  </tbody>\n",
       "</table>\n",
       "</div>"
      ],
      "text/plain": [
       "           Category Symbol  Entrez_Gene_ID Allele_ID   Mutation_RefSeq_NT  Mutation_RefSeq_AA HGMD_accession HGMD_variant_class   dbSNP_ID                                Disease\n",
       "0  Disease mutation    A2M               2   2_18118  NM_000014:c.2915G>A   NP_000005:p.C972Y       CM920001                 DM  rs1800433  Chronic obstructive pulmonary disease\n",
       "1  Disease mutation    A2M               2   2_18119  NM_000014:c.2998G>A  NP_000005:p.V1000I       CM980001                 DP      rs669    Alzheimer disease, association with"
      ]
     },
     "metadata": {},
     "output_type": "display_data"
    },
    {
     "name": "stdout",
     "output_type": "stream",
     "text": [
      "2960\n"
     ]
    }
   ],
   "source": [
    "display(mutation_df.head(2))\n",
    "print(mutation_df.shape[0])"
   ]
  },
  {
   "cell_type": "markdown",
   "metadata": {
    "run_control": {
     "marked": false
    }
   },
   "source": [
    "### mutation_df_1"
   ]
  },
  {
   "cell_type": "code",
   "execution_count": 7,
   "metadata": {
    "collapsed": false,
    "run_control": {
     "marked": false
    }
   },
   "outputs": [],
   "source": [
    "mutation_df['refseq_id'] = mutation_df['Mutation_RefSeq_AA'].apply(lambda x: x.split(':')[0])\n",
    "mutation_df['refseq_mutation'] = mutation_df['Mutation_RefSeq_AA'].apply(lambda x: x.split('.')[-1])"
   ]
  },
  {
   "cell_type": "code",
   "execution_count": 8,
   "metadata": {
    "collapsed": false,
    "run_control": {
     "marked": false
    },
    "scrolled": true
   },
   "outputs": [
    {
     "data": {
      "text/html": [
       "<div>\n",
       "<table border=\"1\" class=\"dataframe\">\n",
       "  <thead>\n",
       "    <tr style=\"text-align: right;\">\n",
       "      <th></th>\n",
       "      <th>Category</th>\n",
       "      <th>Symbol</th>\n",
       "      <th>Entrez_Gene_ID</th>\n",
       "      <th>Allele_ID</th>\n",
       "      <th>Mutation_RefSeq_NT</th>\n",
       "      <th>Mutation_RefSeq_AA</th>\n",
       "      <th>HGMD_accession</th>\n",
       "      <th>HGMD_variant_class</th>\n",
       "      <th>dbSNP_ID</th>\n",
       "      <th>Disease</th>\n",
       "      <th>refseq_id</th>\n",
       "      <th>refseq_mutation</th>\n",
       "    </tr>\n",
       "  </thead>\n",
       "  <tbody>\n",
       "    <tr>\n",
       "      <th>0</th>\n",
       "      <td>Disease mutation</td>\n",
       "      <td>A2M</td>\n",
       "      <td>2</td>\n",
       "      <td>2_18118</td>\n",
       "      <td>NM_000014:c.2915G&gt;A</td>\n",
       "      <td>NP_000005:p.C972Y</td>\n",
       "      <td>CM920001</td>\n",
       "      <td>DM</td>\n",
       "      <td>rs1800433</td>\n",
       "      <td>Chronic obstructive pulmonary disease</td>\n",
       "      <td>NP_000005</td>\n",
       "      <td>C972Y</td>\n",
       "    </tr>\n",
       "    <tr>\n",
       "      <th>1</th>\n",
       "      <td>Disease mutation</td>\n",
       "      <td>A2M</td>\n",
       "      <td>2</td>\n",
       "      <td>2_18119</td>\n",
       "      <td>NM_000014:c.2998G&gt;A</td>\n",
       "      <td>NP_000005:p.V1000I</td>\n",
       "      <td>CM980001</td>\n",
       "      <td>DP</td>\n",
       "      <td>rs669</td>\n",
       "      <td>Alzheimer disease, association with</td>\n",
       "      <td>NP_000005</td>\n",
       "      <td>V1000I</td>\n",
       "    </tr>\n",
       "  </tbody>\n",
       "</table>\n",
       "</div>"
      ],
      "text/plain": [
       "           Category Symbol  Entrez_Gene_ID Allele_ID   Mutation_RefSeq_NT  Mutation_RefSeq_AA HGMD_accession HGMD_variant_class   dbSNP_ID                                Disease  refseq_id refseq_mutation\n",
       "0  Disease mutation    A2M               2   2_18118  NM_000014:c.2915G>A   NP_000005:p.C972Y       CM920001                 DM  rs1800433  Chronic obstructive pulmonary disease  NP_000005           C972Y\n",
       "1  Disease mutation    A2M               2   2_18119  NM_000014:c.2998G>A  NP_000005:p.V1000I       CM980001                 DP      rs669    Alzheimer disease, association with  NP_000005          V1000I"
      ]
     },
     "metadata": {},
     "output_type": "display_data"
    },
    {
     "name": "stdout",
     "output_type": "stream",
     "text": [
      "Number of rows: 2960\n",
      "Number of unique RefSeq nucleotide mutations: 2960\n",
      "Number of unique RefSeq amino acid mutations: 2958\n"
     ]
    }
   ],
   "source": [
    "display(mutation_df.head(2))\n",
    "print(\"Number of rows:\", \n",
    "    mutation_df.shape[0])\n",
    "print(\"Number of unique RefSeq nucleotide mutations:\", \n",
    "    mutation_df.drop_duplicates(subset=['Mutation_RefSeq_NT']).shape[0])\n",
    "print(\"Number of unique RefSeq amino acid mutations:\", \n",
    "    mutation_df.drop_duplicates(subset=['Mutation_RefSeq_AA']).shape[0])"
   ]
  },
  {
   "cell_type": "code",
   "execution_count": 9,
   "metadata": {
    "collapsed": false,
    "run_control": {
     "marked": false
    }
   },
   "outputs": [
    {
     "name": "stdout",
     "output_type": "stream",
     "text": [
      "Duplicated RefSeq amino acid mutations:\n"
     ]
    },
    {
     "data": {
      "text/html": [
       "<div>\n",
       "<table border=\"1\" class=\"dataframe\">\n",
       "  <thead>\n",
       "    <tr style=\"text-align: right;\">\n",
       "      <th></th>\n",
       "      <th>Category</th>\n",
       "      <th>Symbol</th>\n",
       "      <th>Entrez_Gene_ID</th>\n",
       "      <th>Allele_ID</th>\n",
       "      <th>Mutation_RefSeq_NT</th>\n",
       "      <th>Mutation_RefSeq_AA</th>\n",
       "      <th>HGMD_accession</th>\n",
       "      <th>HGMD_variant_class</th>\n",
       "      <th>dbSNP_ID</th>\n",
       "      <th>Disease</th>\n",
       "      <th>refseq_id</th>\n",
       "      <th>refseq_mutation</th>\n",
       "    </tr>\n",
       "  </thead>\n",
       "  <tbody>\n",
       "    <tr>\n",
       "      <th>1404</th>\n",
       "      <td>Disease mutation</td>\n",
       "      <td>HSPB8</td>\n",
       "      <td>26353</td>\n",
       "      <td>26353_7864</td>\n",
       "      <td>NM_014365:c.423G&gt;C</td>\n",
       "      <td>NP_055180:p.K141N</td>\n",
       "      <td>CM041377</td>\n",
       "      <td>DM</td>\n",
       "      <td>rs104894345</td>\n",
       "      <td>Neuropathy, distal hereditary motor, type II</td>\n",
       "      <td>NP_055180</td>\n",
       "      <td>K141N</td>\n",
       "    </tr>\n",
       "    <tr>\n",
       "      <th>1405</th>\n",
       "      <td>Disease mutation</td>\n",
       "      <td>HSPB8</td>\n",
       "      <td>26353</td>\n",
       "      <td>26353_7865</td>\n",
       "      <td>NM_014365:c.423G&gt;T</td>\n",
       "      <td>NP_055180:p.K141N</td>\n",
       "      <td>CM050270</td>\n",
       "      <td>DM</td>\n",
       "      <td>rs104894345</td>\n",
       "      <td>Charcot-Marie-Tooth disease 2L</td>\n",
       "      <td>NP_055180</td>\n",
       "      <td>K141N</td>\n",
       "    </tr>\n",
       "    <tr>\n",
       "      <th>1875</th>\n",
       "      <td>Disease mutation</td>\n",
       "      <td>NIPA1</td>\n",
       "      <td>123606</td>\n",
       "      <td>123606_15185</td>\n",
       "      <td>NM_144599:c.316G&gt;A</td>\n",
       "      <td>NP_653200:p.G106R</td>\n",
       "      <td>CM050748</td>\n",
       "      <td>DM</td>\n",
       "      <td>rs104894490</td>\n",
       "      <td>Spastic paraplegia, autosomal dominant</td>\n",
       "      <td>NP_653200</td>\n",
       "      <td>G106R</td>\n",
       "    </tr>\n",
       "    <tr>\n",
       "      <th>1876</th>\n",
       "      <td>Disease mutation</td>\n",
       "      <td>NIPA1</td>\n",
       "      <td>123606</td>\n",
       "      <td>123606_15186</td>\n",
       "      <td>NM_144599:c.316G&gt;C</td>\n",
       "      <td>NP_653200:p.G106R</td>\n",
       "      <td>CM050749</td>\n",
       "      <td>DM</td>\n",
       "      <td>rs104894490</td>\n",
       "      <td>Spastic paraplegia, autosomal dominant</td>\n",
       "      <td>NP_653200</td>\n",
       "      <td>G106R</td>\n",
       "    </tr>\n",
       "  </tbody>\n",
       "</table>\n",
       "</div>"
      ],
      "text/plain": [
       "              Category Symbol  Entrez_Gene_ID     Allele_ID  Mutation_RefSeq_NT Mutation_RefSeq_AA HGMD_accession HGMD_variant_class     dbSNP_ID                                       Disease  refseq_id refseq_mutation\n",
       "1404  Disease mutation  HSPB8           26353    26353_7864  NM_014365:c.423G>C  NP_055180:p.K141N       CM041377                 DM  rs104894345  Neuropathy, distal hereditary motor, type II  NP_055180           K141N\n",
       "1405  Disease mutation  HSPB8           26353    26353_7865  NM_014365:c.423G>T  NP_055180:p.K141N       CM050270                 DM  rs104894345                Charcot-Marie-Tooth disease 2L  NP_055180           K141N\n",
       "1875  Disease mutation  NIPA1          123606  123606_15185  NM_144599:c.316G>A  NP_653200:p.G106R       CM050748                 DM  rs104894490        Spastic paraplegia, autosomal dominant  NP_653200           G106R\n",
       "1876  Disease mutation  NIPA1          123606  123606_15186  NM_144599:c.316G>C  NP_653200:p.G106R       CM050749                 DM  rs104894490        Spastic paraplegia, autosomal dominant  NP_653200           G106R"
      ]
     },
     "execution_count": 9,
     "metadata": {},
     "output_type": "execute_result"
    }
   ],
   "source": [
    "print(\"Duplicated RefSeq amino acid mutations:\")\n",
    "duplicates = mutation_df[mutation_df['Mutation_RefSeq_AA'].duplicated()]['Mutation_RefSeq_AA']\n",
    "mutation_df[mutation_df['Mutation_RefSeq_AA'].isin(duplicates)]"
   ]
  },
  {
   "cell_type": "code",
   "execution_count": 10,
   "metadata": {
    "collapsed": true,
    "run_control": {
     "marked": false
    }
   },
   "outputs": [],
   "source": [
    "mutation_df_1 = mutation_df.copy()"
   ]
  },
  {
   "cell_type": "markdown",
   "metadata": {
    "run_control": {
     "marked": false
    }
   },
   "source": [
    "## NCBI to UniProt\n",
    "\n",
    "Map NCBI to UniProt.\n",
    "\n",
    "### mutation_df_2"
   ]
  },
  {
   "cell_type": "markdown",
   "metadata": {
    "run_control": {
     "marked": false
    }
   },
   "source": [
    "Use the `uniprot_identifier` table to map Refseq to Uniprot\n"
   ]
  },
  {
   "cell_type": "code",
   "execution_count": 11,
   "metadata": {
    "collapsed": true,
    "run_control": {
     "marked": false
    }
   },
   "outputs": [],
   "source": [
    "mutation_df = mutation_df_1.copy()"
   ]
  },
  {
   "cell_type": "code",
   "execution_count": 12,
   "metadata": {
    "collapsed": false,
    "run_control": {
     "marked": false
    }
   },
   "outputs": [],
   "source": [
    "if os.path.isfile(op.join(NOTEBOOK_NAME, 'refseq_to_uniprot_2.pickle')):\n",
    "    refseq_to_uniprot = pd.read_pickle(op.join(NOTEBOOK_NAME, 'refseq_to_uniprot_2.pickle'))\n",
    "else:\n",
    "    engine = sa.create_engine('mysql://strokach:@192.168.6.19:3306/uniprot_kb')\n",
    "    sql_query = \"\"\"\\\n",
    "    select *\n",
    "    from uniprot_kb.uniprot_identifier\n",
    "    join uniprot_kb.uniprot_sequence using (uniprot_id)\n",
    "    where identifier_type = 'RefSeq'\n",
    "    and (identifier_id like '{}.%%');\n",
    "    \"\"\".format(\".%%' or identifier_id like '\".join(set(mutation_df['refseq_id'].values)))\n",
    "    refseq_to_uniprot = pd.read_sql_query(sql_query, engine)\n",
    "    \n",
    "    os.makedirs(NOTEBOOK_NAME, exist_ok=True)\n",
    "    refseq_to_uniprot.to_pickle(op.join(NOTEBOOK_NAME, 'refseq_to_uniprot_2.pickle'))"
   ]
  },
  {
   "cell_type": "code",
   "execution_count": 13,
   "metadata": {
    "collapsed": false,
    "run_control": {
     "marked": false
    }
   },
   "outputs": [],
   "source": [
    "refseq_to_uniprot['refseq_id'] = refseq_to_uniprot['identifier_id'].apply(lambda x: x.split('.')[0])"
   ]
  },
  {
   "cell_type": "code",
   "execution_count": 14,
   "metadata": {
    "collapsed": false,
    "run_control": {
     "marked": false
    }
   },
   "outputs": [
    {
     "name": "stdout",
     "output_type": "stream",
     "text": [
      "DF mapping Refseq to Uniprot:\n"
     ]
    },
    {
     "data": {
      "text/html": [
       "<div>\n",
       "<table border=\"1\" class=\"dataframe\">\n",
       "  <thead>\n",
       "    <tr style=\"text-align: right;\">\n",
       "      <th></th>\n",
       "      <th>uniprot_id</th>\n",
       "      <th>id</th>\n",
       "      <th>identifier_id</th>\n",
       "      <th>identifier_type</th>\n",
       "      <th>db</th>\n",
       "      <th>uniprot_name</th>\n",
       "      <th>protein_name</th>\n",
       "      <th>organism_name</th>\n",
       "      <th>gene_name</th>\n",
       "      <th>protein_existence</th>\n",
       "      <th>sequence_version</th>\n",
       "      <th>uniprot_sequence</th>\n",
       "      <th>refseq_id</th>\n",
       "    </tr>\n",
       "  </thead>\n",
       "  <tbody>\n",
       "    <tr>\n",
       "      <th>0</th>\n",
       "      <td>P01023</td>\n",
       "      <td>61589</td>\n",
       "      <td>NP_000005.2</td>\n",
       "      <td>RefSeq</td>\n",
       "      <td>sp</td>\n",
       "      <td>A2MG_HUMAN</td>\n",
       "      <td>Alpha-2-macroglobulin</td>\n",
       "      <td>Homo sapiens</td>\n",
       "      <td>A2M</td>\n",
       "      <td>1</td>\n",
       "      <td>3</td>\n",
       "      <td>MGKNKLLHPSLVLLLLVLLPTDASVSGKPQYMVLVPSLLHTETTEK...</td>\n",
       "      <td>NP_000005</td>\n",
       "    </tr>\n",
       "    <tr>\n",
       "      <th>1</th>\n",
       "      <td>A4Z6T7</td>\n",
       "      <td>58633781</td>\n",
       "      <td>NP_000006.2</td>\n",
       "      <td>RefSeq</td>\n",
       "      <td>tr</td>\n",
       "      <td>A4Z6T7_HUMAN</td>\n",
       "      <td>Arylamine N-acetyltransferase 2</td>\n",
       "      <td>Homo sapiens</td>\n",
       "      <td>NAT2</td>\n",
       "      <td>3</td>\n",
       "      <td>1</td>\n",
       "      <td>MDIEAYFERIGYKNSRNKLDLETLTDILEHQIRAVPFENLNMHCGQ...</td>\n",
       "      <td>NP_000006</td>\n",
       "    </tr>\n",
       "  </tbody>\n",
       "</table>\n",
       "</div>"
      ],
      "text/plain": [
       "  uniprot_id        id identifier_id identifier_type  db  uniprot_name                     protein_name organism_name gene_name  protein_existence  sequence_version                                   uniprot_sequence  refseq_id\n",
       "0     P01023     61589   NP_000005.2          RefSeq  sp    A2MG_HUMAN            Alpha-2-macroglobulin  Homo sapiens       A2M                  1                 3  MGKNKLLHPSLVLLLLVLLPTDASVSGKPQYMVLVPSLLHTETTEK...  NP_000005\n",
       "1     A4Z6T7  58633781   NP_000006.2          RefSeq  tr  A4Z6T7_HUMAN  Arylamine N-acetyltransferase 2  Homo sapiens      NAT2                  3                 1  MDIEAYFERIGYKNSRNKLDLETLTDILEHQIRAVPFENLNMHCGQ...  NP_000006"
      ]
     },
     "metadata": {},
     "output_type": "display_data"
    },
    {
     "name": "stdout",
     "output_type": "stream",
     "text": [
      "Number of rows: 1493\n"
     ]
    }
   ],
   "source": [
    "print(\"DF mapping Refseq to Uniprot:\")\n",
    "display(refseq_to_uniprot.head(2))\n",
    "print(\"Number of rows:\", refseq_to_uniprot.shape[0])"
   ]
  },
  {
   "cell_type": "code",
   "execution_count": 15,
   "metadata": {
    "collapsed": false,
    "run_control": {
     "marked": false
    }
   },
   "outputs": [],
   "source": [
    "mutation_df = (\n",
    "    mutation_df.merge(refseq_to_uniprot, on=['refseq_id'])\n",
    ")"
   ]
  },
  {
   "cell_type": "code",
   "execution_count": 16,
   "metadata": {
    "collapsed": false,
    "run_control": {
     "marked": false
    }
   },
   "outputs": [
    {
     "name": "stdout",
     "output_type": "stream",
     "text": [
      "Number of rows: 3902\n",
      "Number of unique RefSeq nucleotide mutations: 2948\n",
      "Number of unique RefSeq amino acid mutations: 2946 <--\n",
      "Number of unique RefSeq / Uniprot nucleotide mutations: 3902\n",
      "Number of unique RefSeq / Uniprot amino acid mutations: 3900\n"
     ]
    }
   ],
   "source": [
    "print(\"Number of rows:\", \n",
    "    mutation_df.shape[0])\n",
    "print(\"Number of unique RefSeq nucleotide mutations:\", \n",
    "    mutation_df.drop_duplicates(subset=['Mutation_RefSeq_NT']).shape[0])\n",
    "print(\"Number of unique RefSeq amino acid mutations:\", \n",
    "    mutation_df.drop_duplicates(subset=['Mutation_RefSeq_AA']).shape[0], \"<--\")\n",
    "print(\"Number of unique RefSeq / Uniprot nucleotide mutations:\", \n",
    "    mutation_df.drop_duplicates(subset=['Mutation_RefSeq_NT', 'uniprot_id']).shape[0])\n",
    "print(\"Number of unique RefSeq / Uniprot amino acid mutations:\", \n",
    "    mutation_df.drop_duplicates(subset=['Mutation_RefSeq_AA', 'uniprot_id']).shape[0])"
   ]
  },
  {
   "cell_type": "markdown",
   "metadata": {
    "run_control": {
     "marked": false
    }
   },
   "source": [
    "Lost **12** amino acid mutations because RefSeq does not have a corresponding Uniprot ID"
   ]
  },
  {
   "cell_type": "code",
   "execution_count": 17,
   "metadata": {
    "collapsed": true,
    "run_control": {
     "marked": false
    }
   },
   "outputs": [],
   "source": [
    "mutation_df_2 = mutation_df.copy()"
   ]
  },
  {
   "cell_type": "markdown",
   "metadata": {
    "run_control": {
     "marked": false
    }
   },
   "source": [
    "## Mutation matches sequence\n",
    "\n",
    "Make sure that the AA in UniProt sequence matches the AA in the RefSeq mutation.\n",
    "\n",
    "### mutation_df_3"
   ]
  },
  {
   "cell_type": "code",
   "execution_count": 18,
   "metadata": {
    "collapsed": true,
    "run_control": {
     "marked": false
    }
   },
   "outputs": [],
   "source": [
    "mutation_df = mutation_df_2.copy()"
   ]
  },
  {
   "cell_type": "code",
   "execution_count": 19,
   "metadata": {
    "collapsed": false,
    "run_control": {
     "marked": false
    }
   },
   "outputs": [],
   "source": [
    "mutation_df['mutation_matches_sequence'] = (\n",
    "    mutation_df[['refseq_mutation', 'uniprot_sequence']]\n",
    "    .apply(lambda x: ascommon.sequence_tools.mutation_matches_sequence(*x), axis=1)\n",
    ")\n",
    "mutation_df = mutation_df[mutation_df['mutation_matches_sequence']]"
   ]
  },
  {
   "cell_type": "code",
   "execution_count": 20,
   "metadata": {
    "collapsed": false,
    "run_control": {
     "marked": false
    }
   },
   "outputs": [
    {
     "name": "stdout",
     "output_type": "stream",
     "text": [
      "Number of rows: 3521\n",
      "Number of unique RefSeq nucleotide mutations: 2875\n",
      "Number of unique RefSeq amino acid mutations: 2873 <--\n",
      "Number of unique RefSeq / Uniprot nucleotide mutations: 3521\n",
      "Number of unique RefSeq / Uniprot amino acid mutations: 3519\n"
     ]
    }
   ],
   "source": [
    "print(\"Number of rows:\", \n",
    "    mutation_df.shape[0])\n",
    "print(\"Number of unique RefSeq nucleotide mutations:\", \n",
    "    mutation_df.drop_duplicates(subset=['Mutation_RefSeq_NT']).shape[0])\n",
    "print(\"Number of unique RefSeq amino acid mutations:\", \n",
    "    mutation_df.drop_duplicates(subset=['Mutation_RefSeq_AA']).shape[0], \"<--\")\n",
    "print(\"Number of unique RefSeq / Uniprot nucleotide mutations:\", \n",
    "    mutation_df.drop_duplicates(subset=['Mutation_RefSeq_NT', 'uniprot_id']).shape[0])\n",
    "print(\"Number of unique RefSeq / Uniprot amino acid mutations:\", \n",
    "    mutation_df.drop_duplicates(subset=['Mutation_RefSeq_AA', 'uniprot_id']).shape[0])"
   ]
  },
  {
   "cell_type": "markdown",
   "metadata": {
    "run_control": {
     "marked": false
    }
   },
   "source": [
    "Lost **~70** more amino acid mutations because the RefSeq mutation did not match the Uniprot sequence"
   ]
  },
  {
   "cell_type": "code",
   "execution_count": 21,
   "metadata": {
    "collapsed": true,
    "run_control": {
     "marked": false
    }
   },
   "outputs": [],
   "source": [
    "mutation_df_3 = mutation_df.copy()"
   ]
  },
  {
   "cell_type": "markdown",
   "metadata": {
    "run_control": {
     "marked": false
    }
   },
   "source": [
    "## Protein has domain(s)\n",
    "\n",
    "Select only those mutations that fall inside a protein domain.\n",
    "\n",
    "### mutation_df_4"
   ]
  },
  {
   "cell_type": "code",
   "execution_count": 22,
   "metadata": {
    "collapsed": false,
    "run_control": {
     "marked": false
    }
   },
   "outputs": [],
   "source": [
    "mutation_df = mutation_df_3.copy()"
   ]
  },
  {
   "cell_type": "code",
   "execution_count": 23,
   "metadata": {
    "collapsed": false,
    "run_control": {
     "marked": false
    }
   },
   "outputs": [],
   "source": [
    "engine = sa.create_engine('mysql://strokach:@192.168.6.19:3306/elaspic')\n",
    "sql_query = \"\"\"\\\n",
    "select uniprot_domain_id, uniprot_id, model_domain_def\n",
    "from elaspic.uniprot_domain\n",
    "join elaspic.uniprot_domain_model using (uniprot_domain_id)\n",
    "where uniprot_id in ('{}');\n",
    "\"\"\".format(\"', '\".join(set(mutation_df['uniprot_id'].values)))\n",
    "uniprot_domain_model = pd.read_sql_query(sql_query, engine)"
   ]
  },
  {
   "cell_type": "code",
   "execution_count": 24,
   "metadata": {
    "collapsed": false,
    "run_control": {
     "marked": false
    }
   },
   "outputs": [],
   "source": [
    "mutation_df = (\n",
    "    mutation_df\n",
    "    .merge(uniprot_domain_model, on=['uniprot_id'])\n",
    ")"
   ]
  },
  {
   "cell_type": "code",
   "execution_count": 25,
   "metadata": {
    "collapsed": false,
    "run_control": {
     "marked": false
    }
   },
   "outputs": [],
   "source": [
    "mutation_df['mutation_in_domain'] = (\n",
    "    mutation_df[['refseq_mutation', 'model_domain_def']]\n",
    "        .apply(lambda x: ascommon.sequence_tools.mutation_in_domain(*x), axis=1)\n",
    ")"
   ]
  },
  {
   "cell_type": "code",
   "execution_count": 26,
   "metadata": {
    "collapsed": false,
    "run_control": {
     "marked": false
    }
   },
   "outputs": [
    {
     "name": "stdout",
     "output_type": "stream",
     "text": [
      "Number of rows: 4865\n",
      "Number of unique RefSeq nucleotide mutations: 2517\n",
      "Number of unique RefSeq amino acid mutations: 2516 <--\n",
      "Number of unique RefSeq / Uniprot nucleotide mutations: 3096\n",
      "Number of unique RefSeq / Uniprot amino acid mutations: 3095\n"
     ]
    }
   ],
   "source": [
    "print(\"Number of rows:\", \n",
    "    mutation_df.shape[0])\n",
    "print(\"Number of unique RefSeq nucleotide mutations:\", \n",
    "    mutation_df.drop_duplicates(subset=['Mutation_RefSeq_NT']).shape[0])\n",
    "print(\"Number of unique RefSeq amino acid mutations:\", \n",
    "    mutation_df.drop_duplicates(subset=['Mutation_RefSeq_AA']).shape[0], \"<--\")\n",
    "print(\"Number of unique RefSeq / Uniprot nucleotide mutations:\", \n",
    "    mutation_df.drop_duplicates(subset=['Mutation_RefSeq_NT', 'uniprot_id']).shape[0])\n",
    "print(\"Number of unique RefSeq / Uniprot amino acid mutations:\", \n",
    "    mutation_df.drop_duplicates(subset=['Mutation_RefSeq_AA', 'uniprot_id']).shape[0])"
   ]
  },
  {
   "cell_type": "markdown",
   "metadata": {
    "run_control": {
     "marked": false
    }
   },
   "source": [
    "More than **~300** additional mutations don't fall inside a protein with *any* structural domains."
   ]
  },
  {
   "cell_type": "code",
   "execution_count": 27,
   "metadata": {
    "collapsed": true,
    "run_control": {
     "marked": false
    }
   },
   "outputs": [],
   "source": [
    "mutation_df_4 = mutation_df.copy()"
   ]
  },
  {
   "cell_type": "markdown",
   "metadata": {
    "run_control": {
     "marked": false
    }
   },
   "source": [
    "## Mutation in domain\n",
    "\n",
    "### mutation_df_5"
   ]
  },
  {
   "cell_type": "code",
   "execution_count": 29,
   "metadata": {
    "collapsed": true,
    "run_control": {
     "marked": false
    }
   },
   "outputs": [],
   "source": [
    "mutation_df = mutation_df_4.copy()"
   ]
  },
  {
   "cell_type": "code",
   "execution_count": 30,
   "metadata": {
    "collapsed": true,
    "run_control": {
     "marked": false
    }
   },
   "outputs": [],
   "source": [
    "mutation_df = mutation_df[mutation_df['mutation_in_domain']]"
   ]
  },
  {
   "cell_type": "code",
   "execution_count": 31,
   "metadata": {
    "collapsed": false,
    "run_control": {
     "marked": false
    }
   },
   "outputs": [
    {
     "name": "stdout",
     "output_type": "stream",
     "text": [
      "Number of rows: 2377\n",
      "Number of unique RefSeq nucleotide mutations: 1942\n",
      "Number of unique RefSeq amino acid mutations: 1941 <--\n",
      "Number of unique RefSeq / Uniprot nucleotide mutations: 2377\n",
      "Number of unique RefSeq / Uniprot amino acid mutations: 2376\n"
     ]
    }
   ],
   "source": [
    "print(\"Number of rows:\", \n",
    "    mutation_df.shape[0])\n",
    "print(\"Number of unique RefSeq nucleotide mutations:\", \n",
    "    mutation_df.drop_duplicates(subset=['Mutation_RefSeq_NT']).shape[0])\n",
    "print(\"Number of unique RefSeq amino acid mutations:\", \n",
    "    mutation_df.drop_duplicates(subset=['Mutation_RefSeq_AA']).shape[0], \"<--\")\n",
    "print(\"Number of unique RefSeq / Uniprot nucleotide mutations:\", \n",
    "    mutation_df.drop_duplicates(subset=['Mutation_RefSeq_NT', 'uniprot_id']).shape[0])\n",
    "print(\"Number of unique RefSeq / Uniprot amino acid mutations:\", \n",
    "    mutation_df.drop_duplicates(subset=['Mutation_RefSeq_AA', 'uniprot_id']).shape[0])"
   ]
  },
  {
   "cell_type": "markdown",
   "metadata": {
    "run_control": {
     "marked": false
    }
   },
   "source": [
    "Another **~550** mutations don't fall inside a domain for which we have a structural model (mostly because there is no structural domain in that region, but also because we didn't get around to making that homology model yet)."
   ]
  },
  {
   "cell_type": "code",
   "execution_count": 32,
   "metadata": {
    "collapsed": true,
    "run_control": {
     "marked": false
    }
   },
   "outputs": [],
   "source": [
    "mutation_df_5 =  mutation_df.copy()"
   ]
  },
  {
   "cell_type": "code",
   "execution_count": null,
   "metadata": {
    "collapsed": true,
    "run_control": {
     "marked": false
    }
   },
   "outputs": [],
   "source": []
  },
  {
   "cell_type": "code",
   "execution_count": null,
   "metadata": {
    "collapsed": true,
    "run_control": {
     "marked": false
    }
   },
   "outputs": [],
   "source": []
  },
  {
   "cell_type": "markdown",
   "metadata": {
    "run_control": {
     "marked": false
    }
   },
   "source": [
    "# Load histone interaction data\n",
    "\n",
    "### mmc2_s2a"
   ]
  },
  {
   "cell_type": "code",
   "execution_count": 33,
   "metadata": {
    "collapsed": true,
    "run_control": {
     "marked": false
    }
   },
   "outputs": [],
   "source": [
    "mmc2_s2a = pd.read_excel('../downloads/taipale/mmc2.xlsx', 'Table S2A')"
   ]
  },
  {
   "cell_type": "code",
   "execution_count": 34,
   "metadata": {
    "collapsed": false,
    "run_control": {
     "marked": false
    }
   },
   "outputs": [
    {
     "data": {
      "text/html": [
       "<div>\n",
       "<table border=\"1\" class=\"dataframe\">\n",
       "  <thead>\n",
       "    <tr style=\"text-align: right;\">\n",
       "      <th></th>\n",
       "      <th>Category</th>\n",
       "      <th>Symbol</th>\n",
       "      <th>Entrez_Gene_ID</th>\n",
       "      <th>Allele_ID</th>\n",
       "      <th>Mutation_RefSeq_NT</th>\n",
       "      <th>Mutation_RefSeq_AA</th>\n",
       "      <th>WT_ELISA_score</th>\n",
       "      <th>Mut_ELISA_score</th>\n",
       "      <th>Both_expressed</th>\n",
       "      <th>WT_interaction_score</th>\n",
       "      <th>Mut_interaction_score</th>\n",
       "      <th>Differential_Z_score</th>\n",
       "      <th>Interact</th>\n",
       "      <th>Quality_control_factor_common</th>\n",
       "      <th>Quality_control_factor_official</th>\n",
       "    </tr>\n",
       "  </thead>\n",
       "  <tbody>\n",
       "    <tr>\n",
       "      <th>0</th>\n",
       "      <td>Disease mutation</td>\n",
       "      <td>A4GALT</td>\n",
       "      <td>53947</td>\n",
       "      <td>53947_1850</td>\n",
       "      <td>NM_017436:c.287G&gt;A</td>\n",
       "      <td>NP_059132:p.C96Y</td>\n",
       "      <td>0.51</td>\n",
       "      <td>0.79</td>\n",
       "      <td>1</td>\n",
       "      <td>1.398952</td>\n",
       "      <td>4.766989</td>\n",
       "      <td>3.105452</td>\n",
       "      <td>yes</td>\n",
       "      <td>BAG2</td>\n",
       "      <td>BAG2</td>\n",
       "    </tr>\n",
       "    <tr>\n",
       "      <th>1</th>\n",
       "      <td>Disease mutation</td>\n",
       "      <td>A4GALT</td>\n",
       "      <td>53947</td>\n",
       "      <td>53947_1852</td>\n",
       "      <td>NM_017436:c.299C&gt;T</td>\n",
       "      <td>NP_059132:p.S100L</td>\n",
       "      <td>0.51</td>\n",
       "      <td>0.71</td>\n",
       "      <td>1</td>\n",
       "      <td>1.398952</td>\n",
       "      <td>5.029331</td>\n",
       "      <td>3.347341</td>\n",
       "      <td>yes</td>\n",
       "      <td>BAG2</td>\n",
       "      <td>BAG2</td>\n",
       "    </tr>\n",
       "  </tbody>\n",
       "</table>\n",
       "</div>"
      ],
      "text/plain": [
       "           Category  Symbol  Entrez_Gene_ID   Allele_ID  Mutation_RefSeq_NT Mutation_RefSeq_AA  WT_ELISA_score  Mut_ELISA_score  Both_expressed  WT_interaction_score  Mut_interaction_score  Differential_Z_score Interact Quality_control_factor_common Quality_control_factor_official\n",
       "0  Disease mutation  A4GALT           53947  53947_1850  NM_017436:c.287G>A   NP_059132:p.C96Y            0.51             0.79               1              1.398952               4.766989              3.105452      yes                          BAG2                            BAG2\n",
       "1  Disease mutation  A4GALT           53947  53947_1852  NM_017436:c.299C>T  NP_059132:p.S100L            0.51             0.71               1              1.398952               5.029331              3.347341      yes                          BAG2                            BAG2"
      ]
     },
     "metadata": {},
     "output_type": "display_data"
    },
    {
     "name": "stdout",
     "output_type": "stream",
     "text": [
      "16464\n",
      "2402\n"
     ]
    }
   ],
   "source": [
    "display(mmc2_s2a.head(2))\n",
    "print(mmc2_s2a.shape[0])\n",
    "print(mmc2_s2a.drop_duplicates(subset=['Mutation_RefSeq_NT']).shape[0])\n",
    "\n",
    "assert not set(mmc2_s2a['Mutation_RefSeq_NT']) - set(mutation_df_1['Mutation_RefSeq_NT'])"
   ]
  },
  {
   "cell_type": "code",
   "execution_count": 35,
   "metadata": {
    "collapsed": true,
    "run_control": {
     "marked": false
    }
   },
   "outputs": [],
   "source": [
    "mmc2_s2a.drop(pd.Index(['Category', 'Symbol', 'Entrez_Gene_ID', 'Allele_ID', 'Mutation_RefSeq_AA']), axis=1, inplace=True)"
   ]
  },
  {
   "cell_type": "markdown",
   "metadata": {
    "run_control": {
     "marked": false
    }
   },
   "source": [
    "# Load FoldX predictions\n",
    "\n",
    "### mmc2_s2b"
   ]
  },
  {
   "cell_type": "code",
   "execution_count": 36,
   "metadata": {
    "collapsed": true,
    "run_control": {
     "marked": false
    }
   },
   "outputs": [],
   "source": [
    "mmc2_s2b = pd.read_excel('../downloads/taipale/mmc2.xlsx', 'Table S2B')"
   ]
  },
  {
   "cell_type": "code",
   "execution_count": 37,
   "metadata": {
    "collapsed": false,
    "run_control": {
     "marked": false
    }
   },
   "outputs": [
    {
     "data": {
      "text/html": [
       "<div>\n",
       "<table border=\"1\" class=\"dataframe\">\n",
       "  <thead>\n",
       "    <tr style=\"text-align: right;\">\n",
       "      <th></th>\n",
       "      <th>Category</th>\n",
       "      <th>Symbol</th>\n",
       "      <th>Entrez_Gene_ID</th>\n",
       "      <th>Allele_ID</th>\n",
       "      <th>Mutation_RefSeq_NT</th>\n",
       "      <th>Mutation_RefSeq_AA</th>\n",
       "      <th>FoldX_value</th>\n",
       "    </tr>\n",
       "  </thead>\n",
       "  <tbody>\n",
       "    <tr>\n",
       "      <th>0</th>\n",
       "      <td>Disease mutation</td>\n",
       "      <td>ACAT1</td>\n",
       "      <td>38</td>\n",
       "      <td>38_16884</td>\n",
       "      <td>NM_000019:c.218A&gt;C</td>\n",
       "      <td>NP_000010:p.Q73P</td>\n",
       "      <td>7.841320</td>\n",
       "    </tr>\n",
       "    <tr>\n",
       "      <th>1</th>\n",
       "      <td>Disease mutation</td>\n",
       "      <td>ACAT1</td>\n",
       "      <td>38</td>\n",
       "      <td>38_16885</td>\n",
       "      <td>NM_000019:c.278A&gt;G</td>\n",
       "      <td>NP_000010:p.N93S</td>\n",
       "      <td>0.236651</td>\n",
       "    </tr>\n",
       "  </tbody>\n",
       "</table>\n",
       "</div>"
      ],
      "text/plain": [
       "           Category Symbol  Entrez_Gene_ID Allele_ID  Mutation_RefSeq_NT Mutation_RefSeq_AA  FoldX_value\n",
       "0  Disease mutation  ACAT1              38  38_16884  NM_000019:c.218A>C   NP_000010:p.Q73P     7.841320\n",
       "1  Disease mutation  ACAT1              38  38_16885  NM_000019:c.278A>G   NP_000010:p.N93S     0.236651"
      ]
     },
     "metadata": {},
     "output_type": "display_data"
    }
   ],
   "source": [
    "display(mmc2_s2b.head(2))\n",
    "\n",
    "assert not set(mmc2_s2b['Mutation_RefSeq_NT']) - set(mutation_df_1['Mutation_RefSeq_NT'])"
   ]
  },
  {
   "cell_type": "code",
   "execution_count": 38,
   "metadata": {
    "collapsed": true,
    "run_control": {
     "marked": false
    }
   },
   "outputs": [],
   "source": [
    "mmc2_s2b.drop(pd.Index(['Category', 'Symbol', 'Entrez_Gene_ID', 'Allele_ID', 'Mutation_RefSeq_AA']), axis=1, inplace=True)"
   ]
  },
  {
   "cell_type": "markdown",
   "metadata": {
    "run_control": {
     "marked": false
    }
   },
   "source": [
    "# Save"
   ]
  },
  {
   "cell_type": "code",
   "execution_count": 39,
   "metadata": {
    "collapsed": true,
    "run_control": {
     "marked": false
    }
   },
   "outputs": [],
   "source": [
    "db = datapkg.DataFrameToMySQL(CONNECTION_STR, NOTEBOOK_NAME, STG_SERVER_IP, echo=False)"
   ]
  },
  {
   "cell_type": "markdown",
   "metadata": {},
   "source": [
    "### mutation_df_5"
   ]
  },
  {
   "cell_type": "code",
   "execution_count": 40,
   "metadata": {
    "collapsed": true,
    "run_control": {
     "marked": false
    }
   },
   "outputs": [],
   "source": [
    "mutation_df = mutation_df_5.copy()"
   ]
  },
  {
   "cell_type": "code",
   "execution_count": 41,
   "metadata": {
    "collapsed": true,
    "run_control": {
     "marked": false
    }
   },
   "outputs": [],
   "source": [
    "assert mutation_df['mutation_matches_sequence'].all()\n",
    "assert mutation_df['mutation_in_domain'].all()"
   ]
  },
  {
   "cell_type": "code",
   "execution_count": 42,
   "metadata": {
    "collapsed": false,
    "run_control": {
     "marked": false
    }
   },
   "outputs": [
    {
     "data": {
      "text/html": [
       "<div>\n",
       "<table border=\"1\" class=\"dataframe\">\n",
       "  <thead>\n",
       "    <tr style=\"text-align: right;\">\n",
       "      <th></th>\n",
       "      <th>uniprot_id</th>\n",
       "      <th>refseq_mutation</th>\n",
       "    </tr>\n",
       "  </thead>\n",
       "  <tbody>\n",
       "    <tr>\n",
       "      <th>2</th>\n",
       "      <td>P01023</td>\n",
       "      <td>C972Y</td>\n",
       "    </tr>\n",
       "    <tr>\n",
       "      <th>6</th>\n",
       "      <td>Q9NRG9</td>\n",
       "      <td>S263P</td>\n",
       "    </tr>\n",
       "    <tr>\n",
       "      <th>7</th>\n",
       "      <td>Q9NRG9</td>\n",
       "      <td>L381R</td>\n",
       "    </tr>\n",
       "    <tr>\n",
       "      <th>8</th>\n",
       "      <td>Q9NRG9</td>\n",
       "      <td>L430F</td>\n",
       "    </tr>\n",
       "    <tr>\n",
       "      <th>9</th>\n",
       "      <td>F1T0I5</td>\n",
       "      <td>A129T</td>\n",
       "    </tr>\n",
       "  </tbody>\n",
       "</table>\n",
       "</div>"
      ],
      "text/plain": [
       "  uniprot_id refseq_mutation\n",
       "2     P01023           C972Y\n",
       "6     Q9NRG9           S263P\n",
       "7     Q9NRG9           L381R\n",
       "8     Q9NRG9           L430F\n",
       "9     F1T0I5           A129T"
      ]
     },
     "execution_count": 42,
     "metadata": {},
     "output_type": "execute_result"
    }
   ],
   "source": [
    "mutation_df[['uniprot_id', 'refseq_mutation']].head()"
   ]
  },
  {
   "cell_type": "code",
   "execution_count": 43,
   "metadata": {
    "collapsed": false,
    "run_control": {
     "marked": false
    }
   },
   "outputs": [],
   "source": [
    "mutation_df.columns = [datapkg.format_column(c) for c in mutation_df.columns]"
   ]
  },
  {
   "cell_type": "code",
   "execution_count": 44,
   "metadata": {
    "collapsed": false,
    "run_control": {
     "marked": false
    }
   },
   "outputs": [
    {
     "data": {
      "text/html": [
       "<div>\n",
       "<table border=\"1\" class=\"dataframe\">\n",
       "  <thead>\n",
       "    <tr style=\"text-align: right;\">\n",
       "      <th></th>\n",
       "      <th>category</th>\n",
       "      <th>symbol</th>\n",
       "      <th>entrez_gene_id</th>\n",
       "      <th>allele_id</th>\n",
       "      <th>mutation_refseq_nt</th>\n",
       "      <th>mutation_refseq_aa</th>\n",
       "      <th>hgmd_accession</th>\n",
       "      <th>hgmd_variant_class</th>\n",
       "      <th>dbsnp_id</th>\n",
       "      <th>disease</th>\n",
       "      <th>refseq_id</th>\n",
       "      <th>refseq_mutation</th>\n",
       "      <th>uniprot_id</th>\n",
       "      <th>id</th>\n",
       "      <th>identifier_id</th>\n",
       "      <th>identifier_type</th>\n",
       "      <th>db</th>\n",
       "      <th>uniprot_name</th>\n",
       "      <th>protein_name</th>\n",
       "      <th>organism_name</th>\n",
       "      <th>gene_name</th>\n",
       "      <th>protein_existence</th>\n",
       "      <th>sequence_version</th>\n",
       "      <th>uniprot_sequence</th>\n",
       "      <th>mutation_matches_sequence</th>\n",
       "      <th>uniprot_domain_id</th>\n",
       "      <th>model_domain_def</th>\n",
       "      <th>mutation_in_domain</th>\n",
       "    </tr>\n",
       "  </thead>\n",
       "  <tbody>\n",
       "    <tr>\n",
       "      <th>2</th>\n",
       "      <td>Disease mutation</td>\n",
       "      <td>A2M</td>\n",
       "      <td>2</td>\n",
       "      <td>2_18118</td>\n",
       "      <td>NM_000014:c.2915G&gt;A</td>\n",
       "      <td>NP_000005:p.C972Y</td>\n",
       "      <td>CM920001</td>\n",
       "      <td>DM</td>\n",
       "      <td>rs1800433</td>\n",
       "      <td>Chronic obstructive pulmonary disease</td>\n",
       "      <td>NP_000005</td>\n",
       "      <td>C972Y</td>\n",
       "      <td>P01023</td>\n",
       "      <td>61589</td>\n",
       "      <td>NP_000005.2</td>\n",
       "      <td>RefSeq</td>\n",
       "      <td>sp</td>\n",
       "      <td>A2MG_HUMAN</td>\n",
       "      <td>Alpha-2-macroglobulin</td>\n",
       "      <td>Homo sapiens</td>\n",
       "      <td>A2M</td>\n",
       "      <td>1</td>\n",
       "      <td>3</td>\n",
       "      <td>MGKNKLLHPSLVLLLLVLLPTDASVSGKPQYMVLVPSLLHTETTEK...</td>\n",
       "      <td>True</td>\n",
       "      <td>52474282</td>\n",
       "      <td>958:1270</td>\n",
       "      <td>True</td>\n",
       "    </tr>\n",
       "    <tr>\n",
       "      <th>6</th>\n",
       "      <td>Disease mutation</td>\n",
       "      <td>AAAS</td>\n",
       "      <td>8086</td>\n",
       "      <td>8086_5619</td>\n",
       "      <td>NM_015665:c.787T&gt;C</td>\n",
       "      <td>NP_056480:p.S263P</td>\n",
       "      <td>CM010150</td>\n",
       "      <td>DM</td>\n",
       "      <td>rs121918550</td>\n",
       "      <td>Triple-A syndrome</td>\n",
       "      <td>NP_056480</td>\n",
       "      <td>S263P</td>\n",
       "      <td>Q9NRG9</td>\n",
       "      <td>798718245</td>\n",
       "      <td>NP_056480.1</td>\n",
       "      <td>RefSeq</td>\n",
       "      <td>sp</td>\n",
       "      <td>AAAS_HUMAN</td>\n",
       "      <td>Aladin</td>\n",
       "      <td>Homo sapiens</td>\n",
       "      <td>AAAS</td>\n",
       "      <td>1</td>\n",
       "      <td>1</td>\n",
       "      <td>MCSLGLFPPPPPRGQVTLYEHNNELVTGSSYESPPPDFRGQWINLP...</td>\n",
       "      <td>True</td>\n",
       "      <td>108303701</td>\n",
       "      <td>130:487</td>\n",
       "      <td>True</td>\n",
       "    </tr>\n",
       "  </tbody>\n",
       "</table>\n",
       "</div>"
      ],
      "text/plain": [
       "           category symbol  entrez_gene_id  allele_id   mutation_refseq_nt mutation_refseq_aa hgmd_accession hgmd_variant_class     dbsnp_id                                disease  refseq_id refseq_mutation uniprot_id         id identifier_id identifier_type  db uniprot_name           protein_name organism_name gene_name  protein_existence  sequence_version                                   uniprot_sequence mutation_matches_sequence  uniprot_domain_id model_domain_def mutation_in_domain\n",
       "2  Disease mutation    A2M               2    2_18118  NM_000014:c.2915G>A  NP_000005:p.C972Y       CM920001                 DM    rs1800433  Chronic obstructive pulmonary disease  NP_000005           C972Y     P01023      61589   NP_000005.2          RefSeq  sp   A2MG_HUMAN  Alpha-2-macroglobulin  Homo sapiens       A2M                  1                 3  MGKNKLLHPSLVLLLLVLLPTDASVSGKPQYMVLVPSLLHTETTEK...                      True           52474282         958:1270               True\n",
       "6  Disease mutation   AAAS            8086  8086_5619   NM_015665:c.787T>C  NP_056480:p.S263P       CM010150                 DM  rs121918550                      Triple-A syndrome  NP_056480           S263P     Q9NRG9  798718245   NP_056480.1          RefSeq  sp   AAAS_HUMAN                 Aladin  Homo sapiens      AAAS                  1                 1  MCSLGLFPPPPPRGQVTLYEHNNELVTGSSYESPPPDFRGQWINLP...                      True          108303701          130:487               True"
      ]
     },
     "metadata": {},
     "output_type": "display_data"
    },
    {
     "name": "stdout",
     "output_type": "stream",
     "text": [
      "2377\n"
     ]
    }
   ],
   "source": [
    "display(mutation_df.head(2))\n",
    "print(mutation_df.shape[0])"
   ]
  },
  {
   "cell_type": "code",
   "execution_count": 45,
   "metadata": {
    "collapsed": true,
    "run_control": {
     "marked": false
    }
   },
   "outputs": [],
   "source": [
    "columns_to_keep = [\n",
    "    'category', 'symbol', 'entrez_gene_id', 'allele_id', \n",
    "    'mutation_refseq_nt', 'mutation_refseq_aa', 'hgmd_accession', 'hgmd_variant_class', 'dbsnp_id', 'disease', \n",
    "    # RefSeq info (processed)\n",
    "    'refseq_id', 'refseq_mutation', \n",
    "    # UniProt info\n",
    "    'uniprot_id', 'uniprot_domain_id', 'model_domain_def'\n",
    "]"
   ]
  },
  {
   "cell_type": "code",
   "execution_count": 46,
   "metadata": {
    "collapsed": false,
    "run_control": {
     "marked": false
    }
   },
   "outputs": [
    {
     "data": {
      "text/html": [
       "<div>\n",
       "<table border=\"1\" class=\"dataframe\">\n",
       "  <thead>\n",
       "    <tr style=\"text-align: right;\">\n",
       "      <th></th>\n",
       "      <th>category</th>\n",
       "      <th>symbol</th>\n",
       "      <th>entrez_gene_id</th>\n",
       "      <th>allele_id</th>\n",
       "      <th>mutation_refseq_nt</th>\n",
       "      <th>mutation_refseq_aa</th>\n",
       "      <th>hgmd_accession</th>\n",
       "      <th>hgmd_variant_class</th>\n",
       "      <th>dbsnp_id</th>\n",
       "      <th>disease</th>\n",
       "      <th>refseq_id</th>\n",
       "      <th>refseq_mutation</th>\n",
       "      <th>uniprot_id</th>\n",
       "      <th>uniprot_domain_id</th>\n",
       "      <th>model_domain_def</th>\n",
       "    </tr>\n",
       "  </thead>\n",
       "  <tbody>\n",
       "    <tr>\n",
       "      <th>2</th>\n",
       "      <td>Disease mutation</td>\n",
       "      <td>A2M</td>\n",
       "      <td>2</td>\n",
       "      <td>2_18118</td>\n",
       "      <td>NM_000014:c.2915G&gt;A</td>\n",
       "      <td>NP_000005:p.C972Y</td>\n",
       "      <td>CM920001</td>\n",
       "      <td>DM</td>\n",
       "      <td>rs1800433</td>\n",
       "      <td>Chronic obstructive pulmonary disease</td>\n",
       "      <td>NP_000005</td>\n",
       "      <td>C972Y</td>\n",
       "      <td>P01023</td>\n",
       "      <td>52474282</td>\n",
       "      <td>958:1270</td>\n",
       "    </tr>\n",
       "    <tr>\n",
       "      <th>6</th>\n",
       "      <td>Disease mutation</td>\n",
       "      <td>AAAS</td>\n",
       "      <td>8086</td>\n",
       "      <td>8086_5619</td>\n",
       "      <td>NM_015665:c.787T&gt;C</td>\n",
       "      <td>NP_056480:p.S263P</td>\n",
       "      <td>CM010150</td>\n",
       "      <td>DM</td>\n",
       "      <td>rs121918550</td>\n",
       "      <td>Triple-A syndrome</td>\n",
       "      <td>NP_056480</td>\n",
       "      <td>S263P</td>\n",
       "      <td>Q9NRG9</td>\n",
       "      <td>108303701</td>\n",
       "      <td>130:487</td>\n",
       "    </tr>\n",
       "  </tbody>\n",
       "</table>\n",
       "</div>"
      ],
      "text/plain": [
       "           category symbol  entrez_gene_id  allele_id   mutation_refseq_nt mutation_refseq_aa hgmd_accession hgmd_variant_class     dbsnp_id                                disease  refseq_id refseq_mutation uniprot_id  uniprot_domain_id model_domain_def\n",
       "2  Disease mutation    A2M               2    2_18118  NM_000014:c.2915G>A  NP_000005:p.C972Y       CM920001                 DM    rs1800433  Chronic obstructive pulmonary disease  NP_000005           C972Y     P01023           52474282         958:1270\n",
       "6  Disease mutation   AAAS            8086  8086_5619   NM_015665:c.787T>C  NP_056480:p.S263P       CM010150                 DM  rs121918550                      Triple-A syndrome  NP_056480           S263P     Q9NRG9          108303701          130:487"
      ]
     },
     "execution_count": 46,
     "metadata": {},
     "output_type": "execute_result"
    }
   ],
   "source": [
    "mutation_df[columns_to_keep].head(2)"
   ]
  },
  {
   "cell_type": "code",
   "execution_count": 47,
   "metadata": {
    "collapsed": false,
    "run_control": {
     "marked": false
    }
   },
   "outputs": [
    {
     "name": "stdout",
     "output_type": "stream",
     "text": [
      "2377\n",
      "1942\n",
      "RefSeq...\n",
      "1941\n",
      "1942\n",
      "Uniprot...\n",
      "2376\n",
      "2377\n"
     ]
    }
   ],
   "source": [
    "print(mutation_df.shape[0])\n",
    "print(mutation_df.drop_duplicates(subset=['mutation_refseq_nt']).shape[0])\n",
    "print('RefSeq...')\n",
    "print(mutation_df.drop_duplicates(subset=['refseq_id', 'refseq_mutation']).shape[0])\n",
    "print(mutation_df.drop_duplicates(subset=['refseq_id', 'mutation_refseq_nt']).shape[0])\n",
    "print('Uniprot...')\n",
    "print(mutation_df.drop_duplicates(subset=['uniprot_id', 'refseq_mutation']).shape[0])\n",
    "print(mutation_df.drop_duplicates(subset=['uniprot_id', 'mutation_refseq_nt']).shape[0])"
   ]
  },
  {
   "cell_type": "code",
   "execution_count": 48,
   "metadata": {
    "collapsed": false,
    "run_control": {
     "marked": false
    }
   },
   "outputs": [
    {
     "name": "stdout",
     "output_type": "stream",
     "text": [
      "FML\n",
      "FML\n",
      "FML\n",
      "FML\n"
     ]
    }
   ],
   "source": [
    "db.import_table(\n",
    "    mutation_df[columns_to_keep], \n",
    "    'taipale_core', [\n",
    "        [('refseq_id', 'refseq_mutation'), False],\n",
    "        [('uniprot_id', 'refseq_mutation'), False],\n",
    "        [('uniprot_id', 'mutation_refseq_nt'), True],\n",
    "        [('uniprot_domain_id', 'refseq_mutation'), False],\n",
    "    ],\n",
    ")"
   ]
  },
  {
   "cell_type": "markdown",
   "metadata": {
    "run_control": {
     "marked": false
    }
   },
   "source": [
    "### mmc2_s2a"
   ]
  },
  {
   "cell_type": "code",
   "execution_count": 49,
   "metadata": {
    "collapsed": true
   },
   "outputs": [],
   "source": [
    "df = mmc2_s2a.copy()"
   ]
  },
  {
   "cell_type": "code",
   "execution_count": 50,
   "metadata": {
    "collapsed": false,
    "run_control": {
     "marked": false
    }
   },
   "outputs": [],
   "source": [
    "df.columns = [datapkg.format_column(c) for c in df.columns]"
   ]
  },
  {
   "cell_type": "code",
   "execution_count": 51,
   "metadata": {
    "collapsed": false
   },
   "outputs": [
    {
     "data": {
      "text/html": [
       "<div>\n",
       "<table border=\"1\" class=\"dataframe\">\n",
       "  <thead>\n",
       "    <tr style=\"text-align: right;\">\n",
       "      <th></th>\n",
       "      <th>mutation_refseq_nt</th>\n",
       "      <th>wt_elisa_score</th>\n",
       "      <th>mut_elisa_score</th>\n",
       "      <th>both_expressed</th>\n",
       "      <th>wt_interaction_score</th>\n",
       "      <th>mut_interaction_score</th>\n",
       "      <th>differential_z_score</th>\n",
       "      <th>interact</th>\n",
       "      <th>quality_control_factor_common</th>\n",
       "      <th>quality_control_factor_official</th>\n",
       "    </tr>\n",
       "  </thead>\n",
       "  <tbody>\n",
       "    <tr>\n",
       "      <th>0</th>\n",
       "      <td>NM_017436:c.287G&gt;A</td>\n",
       "      <td>0.51</td>\n",
       "      <td>0.79</td>\n",
       "      <td>1</td>\n",
       "      <td>1.398952</td>\n",
       "      <td>4.766989</td>\n",
       "      <td>3.105452</td>\n",
       "      <td>yes</td>\n",
       "      <td>BAG2</td>\n",
       "      <td>BAG2</td>\n",
       "    </tr>\n",
       "    <tr>\n",
       "      <th>1</th>\n",
       "      <td>NM_017436:c.299C&gt;T</td>\n",
       "      <td>0.51</td>\n",
       "      <td>0.71</td>\n",
       "      <td>1</td>\n",
       "      <td>1.398952</td>\n",
       "      <td>5.029331</td>\n",
       "      <td>3.347341</td>\n",
       "      <td>yes</td>\n",
       "      <td>BAG2</td>\n",
       "      <td>BAG2</td>\n",
       "    </tr>\n",
       "    <tr>\n",
       "      <th>2</th>\n",
       "      <td>NM_017436:c.548T&gt;A</td>\n",
       "      <td>0.51</td>\n",
       "      <td>0.48</td>\n",
       "      <td>1</td>\n",
       "      <td>1.398952</td>\n",
       "      <td>1.595533</td>\n",
       "      <td>0.181255</td>\n",
       "      <td>NaN</td>\n",
       "      <td>BAG2</td>\n",
       "      <td>BAG2</td>\n",
       "    </tr>\n",
       "    <tr>\n",
       "      <th>3</th>\n",
       "      <td>NM_017436:c.656C&gt;T</td>\n",
       "      <td>0.51</td>\n",
       "      <td>0.75</td>\n",
       "      <td>1</td>\n",
       "      <td>1.398952</td>\n",
       "      <td>4.833744</td>\n",
       "      <td>3.167002</td>\n",
       "      <td>yes</td>\n",
       "      <td>BAG2</td>\n",
       "      <td>BAG2</td>\n",
       "    </tr>\n",
       "    <tr>\n",
       "      <th>4</th>\n",
       "      <td>NM_015665:c.43C&gt;A</td>\n",
       "      <td>0.20</td>\n",
       "      <td>0.35</td>\n",
       "      <td>0</td>\n",
       "      <td>6.765101</td>\n",
       "      <td>9.823864</td>\n",
       "      <td>2.820292</td>\n",
       "      <td>NaN</td>\n",
       "      <td>BAG2</td>\n",
       "      <td>BAG2</td>\n",
       "    </tr>\n",
       "  </tbody>\n",
       "</table>\n",
       "</div>"
      ],
      "text/plain": [
       "   mutation_refseq_nt  wt_elisa_score  mut_elisa_score  both_expressed  wt_interaction_score  mut_interaction_score  differential_z_score interact quality_control_factor_common quality_control_factor_official\n",
       "0  NM_017436:c.287G>A            0.51             0.79               1              1.398952               4.766989              3.105452      yes                          BAG2                            BAG2\n",
       "1  NM_017436:c.299C>T            0.51             0.71               1              1.398952               5.029331              3.347341      yes                          BAG2                            BAG2\n",
       "2  NM_017436:c.548T>A            0.51             0.48               1              1.398952               1.595533              0.181255      NaN                          BAG2                            BAG2\n",
       "3  NM_017436:c.656C>T            0.51             0.75               1              1.398952               4.833744              3.167002      yes                          BAG2                            BAG2\n",
       "4   NM_015665:c.43C>A            0.20             0.35               0              6.765101               9.823864              2.820292      NaN                          BAG2                            BAG2"
      ]
     },
     "execution_count": 51,
     "metadata": {},
     "output_type": "execute_result"
    }
   ],
   "source": [
    "df.head()"
   ]
  },
  {
   "cell_type": "code",
   "execution_count": 52,
   "metadata": {
    "collapsed": true
   },
   "outputs": [],
   "source": [
    "df['elisa_score_diff'] = df['mut_elisa_score'] - df['wt_elisa_score']\n",
    "df['interaction_score_diff'] = df['mut_interaction_score'] - df['wt_interaction_score']"
   ]
  },
  {
   "cell_type": "code",
   "execution_count": 53,
   "metadata": {
    "collapsed": false
   },
   "outputs": [
    {
     "data": {
      "text/html": [
       "<div>\n",
       "<table border=\"1\" class=\"dataframe\">\n",
       "  <thead>\n",
       "    <tr style=\"text-align: right;\">\n",
       "      <th></th>\n",
       "      <th>mutation_refseq_nt</th>\n",
       "      <th>wt_elisa_score</th>\n",
       "      <th>mut_elisa_score</th>\n",
       "      <th>both_expressed</th>\n",
       "      <th>wt_interaction_score</th>\n",
       "      <th>mut_interaction_score</th>\n",
       "      <th>differential_z_score</th>\n",
       "      <th>interact</th>\n",
       "      <th>quality_control_factor_common</th>\n",
       "      <th>quality_control_factor_official</th>\n",
       "      <th>elisa_score_diff</th>\n",
       "      <th>interaction_score_diff</th>\n",
       "    </tr>\n",
       "  </thead>\n",
       "  <tbody>\n",
       "    <tr>\n",
       "      <th>0</th>\n",
       "      <td>NM_017436:c.287G&gt;A</td>\n",
       "      <td>0.51</td>\n",
       "      <td>0.79</td>\n",
       "      <td>1</td>\n",
       "      <td>1.398952</td>\n",
       "      <td>4.766989</td>\n",
       "      <td>3.105452</td>\n",
       "      <td>yes</td>\n",
       "      <td>BAG2</td>\n",
       "      <td>BAG2</td>\n",
       "      <td>0.28</td>\n",
       "      <td>3.368036</td>\n",
       "    </tr>\n",
       "    <tr>\n",
       "      <th>1</th>\n",
       "      <td>NM_017436:c.299C&gt;T</td>\n",
       "      <td>0.51</td>\n",
       "      <td>0.71</td>\n",
       "      <td>1</td>\n",
       "      <td>1.398952</td>\n",
       "      <td>5.029331</td>\n",
       "      <td>3.347341</td>\n",
       "      <td>yes</td>\n",
       "      <td>BAG2</td>\n",
       "      <td>BAG2</td>\n",
       "      <td>0.20</td>\n",
       "      <td>3.630378</td>\n",
       "    </tr>\n",
       "    <tr>\n",
       "      <th>2</th>\n",
       "      <td>NM_017436:c.548T&gt;A</td>\n",
       "      <td>0.51</td>\n",
       "      <td>0.48</td>\n",
       "      <td>1</td>\n",
       "      <td>1.398952</td>\n",
       "      <td>1.595533</td>\n",
       "      <td>0.181255</td>\n",
       "      <td>NaN</td>\n",
       "      <td>BAG2</td>\n",
       "      <td>BAG2</td>\n",
       "      <td>-0.03</td>\n",
       "      <td>0.196581</td>\n",
       "    </tr>\n",
       "    <tr>\n",
       "      <th>3</th>\n",
       "      <td>NM_017436:c.656C&gt;T</td>\n",
       "      <td>0.51</td>\n",
       "      <td>0.75</td>\n",
       "      <td>1</td>\n",
       "      <td>1.398952</td>\n",
       "      <td>4.833744</td>\n",
       "      <td>3.167002</td>\n",
       "      <td>yes</td>\n",
       "      <td>BAG2</td>\n",
       "      <td>BAG2</td>\n",
       "      <td>0.24</td>\n",
       "      <td>3.434791</td>\n",
       "    </tr>\n",
       "    <tr>\n",
       "      <th>4</th>\n",
       "      <td>NM_015665:c.43C&gt;A</td>\n",
       "      <td>0.20</td>\n",
       "      <td>0.35</td>\n",
       "      <td>0</td>\n",
       "      <td>6.765101</td>\n",
       "      <td>9.823864</td>\n",
       "      <td>2.820292</td>\n",
       "      <td>NaN</td>\n",
       "      <td>BAG2</td>\n",
       "      <td>BAG2</td>\n",
       "      <td>0.15</td>\n",
       "      <td>3.058764</td>\n",
       "    </tr>\n",
       "  </tbody>\n",
       "</table>\n",
       "</div>"
      ],
      "text/plain": [
       "   mutation_refseq_nt  wt_elisa_score  mut_elisa_score  both_expressed  wt_interaction_score  mut_interaction_score  differential_z_score interact quality_control_factor_common quality_control_factor_official  elisa_score_diff  interaction_score_diff\n",
       "0  NM_017436:c.287G>A            0.51             0.79               1              1.398952               4.766989              3.105452      yes                          BAG2                            BAG2              0.28                3.368036\n",
       "1  NM_017436:c.299C>T            0.51             0.71               1              1.398952               5.029331              3.347341      yes                          BAG2                            BAG2              0.20                3.630378\n",
       "2  NM_017436:c.548T>A            0.51             0.48               1              1.398952               1.595533              0.181255      NaN                          BAG2                            BAG2             -0.03                0.196581\n",
       "3  NM_017436:c.656C>T            0.51             0.75               1              1.398952               4.833744              3.167002      yes                          BAG2                            BAG2              0.24                3.434791\n",
       "4   NM_015665:c.43C>A            0.20             0.35               0              6.765101               9.823864              2.820292      NaN                          BAG2                            BAG2              0.15                3.058764"
      ]
     },
     "execution_count": 53,
     "metadata": {},
     "output_type": "execute_result"
    }
   ],
   "source": [
    "df.head()"
   ]
  },
  {
   "cell_type": "code",
   "execution_count": 54,
   "metadata": {
    "collapsed": false,
    "run_control": {
     "marked": false
    }
   },
   "outputs": [],
   "source": [
    "db.import_table(\n",
    "    df, \n",
    "    'taipale_core_histone', [\n",
    "        [('mutation_refseq_nt', ), False],\n",
    "    ],\n",
    ")"
   ]
  },
  {
   "cell_type": "markdown",
   "metadata": {},
   "source": [
    "### mmc2_s2b"
   ]
  },
  {
   "cell_type": "code",
   "execution_count": 55,
   "metadata": {
    "collapsed": true
   },
   "outputs": [],
   "source": [
    "df = mmc2_s2b.copy()"
   ]
  },
  {
   "cell_type": "code",
   "execution_count": 56,
   "metadata": {
    "collapsed": true
   },
   "outputs": [],
   "source": [
    "df.columns = [datapkg.format_column(c) for c in df.columns]"
   ]
  },
  {
   "cell_type": "code",
   "execution_count": 57,
   "metadata": {
    "collapsed": false
   },
   "outputs": [
    {
     "data": {
      "text/html": [
       "<div>\n",
       "<table border=\"1\" class=\"dataframe\">\n",
       "  <thead>\n",
       "    <tr style=\"text-align: right;\">\n",
       "      <th></th>\n",
       "      <th>mutation_refseq_nt</th>\n",
       "      <th>foldx_value</th>\n",
       "    </tr>\n",
       "  </thead>\n",
       "  <tbody>\n",
       "    <tr>\n",
       "      <th>0</th>\n",
       "      <td>NM_000019:c.218A&gt;C</td>\n",
       "      <td>7.841320</td>\n",
       "    </tr>\n",
       "    <tr>\n",
       "      <th>1</th>\n",
       "      <td>NM_000019:c.278A&gt;G</td>\n",
       "      <td>0.236651</td>\n",
       "    </tr>\n",
       "    <tr>\n",
       "      <th>2</th>\n",
       "      <td>NM_000019:c.380C&gt;T</td>\n",
       "      <td>0.215789</td>\n",
       "    </tr>\n",
       "    <tr>\n",
       "      <th>3</th>\n",
       "      <td>NM_000019:c.395C&gt;G</td>\n",
       "      <td>1.050880</td>\n",
       "    </tr>\n",
       "    <tr>\n",
       "      <th>4</th>\n",
       "      <td>NM_005891:c.761T&gt;C</td>\n",
       "      <td>2.247490</td>\n",
       "    </tr>\n",
       "  </tbody>\n",
       "</table>\n",
       "</div>"
      ],
      "text/plain": [
       "   mutation_refseq_nt  foldx_value\n",
       "0  NM_000019:c.218A>C     7.841320\n",
       "1  NM_000019:c.278A>G     0.236651\n",
       "2  NM_000019:c.380C>T     0.215789\n",
       "3  NM_000019:c.395C>G     1.050880\n",
       "4  NM_005891:c.761T>C     2.247490"
      ]
     },
     "execution_count": 57,
     "metadata": {},
     "output_type": "execute_result"
    }
   ],
   "source": [
    "df.head()"
   ]
  },
  {
   "cell_type": "code",
   "execution_count": null,
   "metadata": {
    "collapsed": true
   },
   "outputs": [],
   "source": [
    "df.head()"
   ]
  },
  {
   "cell_type": "code",
   "execution_count": 58,
   "metadata": {
    "collapsed": true
   },
   "outputs": [],
   "source": [
    "db.import_table(\n",
    "    df, \n",
    "    'taipale_core_foldx', [\n",
    "        [('mutation_refseq_nt', ), False],\n",
    "    ],\n",
    ")"
   ]
  },
  {
   "cell_type": "code",
   "execution_count": null,
   "metadata": {
    "collapsed": true
   },
   "outputs": [],
   "source": []
  }
 ],
 "metadata": {
  "kernelspec": {
   "display_name": "Python 3",
   "language": "python",
   "name": "python3"
  },
  "language_info": {
   "codemirror_mode": {
    "name": "ipython",
    "version": 3
   },
   "file_extension": ".py",
   "mimetype": "text/x-python",
   "name": "python",
   "nbconvert_exporter": "python",
   "pygments_lexer": "ipython3",
   "version": "3.5.1"
  }
 },
 "nbformat": 4,
 "nbformat_minor": 0
}
