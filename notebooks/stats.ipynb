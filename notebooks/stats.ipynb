{
 "cells": [
  {
   "cell_type": "markdown",
   "metadata": {},
   "source": [
    "# Summary\n",
    "\n",
    "Compare core mutations from Protherm and from the Rosetta ddG benchmarks.\n",
    "\n",
    "-----"
   ]
  },
  {
   "cell_type": "markdown",
   "metadata": {},
   "source": [
    "# Imports"
   ]
  },
  {
   "cell_type": "code",
   "execution_count": 1,
   "metadata": {
    "collapsed": false
   },
   "outputs": [
    {
     "name": "stdout",
     "output_type": "stream",
     "text": [
      "2016-08-28 21:24:41.327557\n"
     ]
    }
   ],
   "source": [
    "%run imports.ipynb"
   ]
  },
  {
   "cell_type": "code",
   "execution_count": 2,
   "metadata": {
    "collapsed": false
   },
   "outputs": [
    {
     "name": "stderr",
     "output_type": "stream",
     "text": [
      "MySQL database already running...\n"
     ]
    },
    {
     "name": "stdout",
     "output_type": "stream",
     "text": [
      "The autoreload extension is already loaded. To reload it, use:\n",
      "  %reload_ext autoreload\n",
      "2016-08-28 21:24:41.475277\n"
     ]
    }
   ],
   "source": [
    "%run db.ipynb"
   ]
  },
  {
   "cell_type": "code",
   "execution_count": 3,
   "metadata": {
    "collapsed": true
   },
   "outputs": [],
   "source": [
    "NOTEBOOK_NAME = 'stats'\n",
    "# os.makedirs(NOTEBOOK_NAME, exist_ok=True)"
   ]
  },
  {
   "cell_type": "markdown",
   "metadata": {},
   "source": [
    "# Compare"
   ]
  },
  {
   "cell_type": "code",
   "execution_count": 45,
   "metadata": {
    "collapsed": true
   },
   "outputs": [],
   "source": [
    "protherm = pd.read_sql_table('protherm', db.engine)"
   ]
  },
  {
   "cell_type": "code",
   "execution_count": 62,
   "metadata": {
    "collapsed": false
   },
   "outputs": [],
   "source": [
    "protherm_star = pd.read_sql_table('protherm_star_unique', db.engine)"
   ]
  },
  {
   "cell_type": "code",
   "execution_count": 74,
   "metadata": {
    "collapsed": true
   },
   "outputs": [],
   "source": [
    "protherm_star = protherm_star.rename(columns={'AVG(ddg_exp)': 'ddg_exp'})"
   ]
  },
  {
   "cell_type": "code",
   "execution_count": 75,
   "metadata": {
    "collapsed": false
   },
   "outputs": [
    {
     "data": {
      "text/plain": [
       "(4553, 8)"
      ]
     },
     "execution_count": 75,
     "metadata": {},
     "output_type": "execute_result"
    }
   ],
   "source": [
    "protherm.shape"
   ]
  },
  {
   "cell_type": "code",
   "execution_count": 76,
   "metadata": {
    "collapsed": false
   },
   "outputs": [
    {
     "data": {
      "text/plain": [
       "(3636, 7)"
      ]
     },
     "execution_count": 76,
     "metadata": {},
     "output_type": "execute_result"
    }
   ],
   "source": [
    "protherm_star.shape"
   ]
  },
  {
   "cell_type": "code",
   "execution_count": 77,
   "metadata": {
    "collapsed": false
   },
   "outputs": [
    {
     "ename": "SyntaxError",
     "evalue": "invalid syntax (<ipython-input-77-266b1457f413>, line 1)",
     "output_type": "error",
     "traceback": [
      "\u001b[0;36m  File \u001b[0;32m\"<ipython-input-77-266b1457f413>\"\u001b[0;36m, line \u001b[0;32m1\u001b[0m\n\u001b[0;31m    db.engine.\u001b[0m\n\u001b[0m              ^\u001b[0m\n\u001b[0;31mSyntaxError\u001b[0m\u001b[0;31m:\u001b[0m invalid syntax\n"
     ]
    }
   ],
   "source": [
    "db.engine."
   ]
  },
  {
   "cell_type": "code",
   "execution_count": null,
   "metadata": {
    "collapsed": true
   },
   "outputs": [],
   "source": []
  },
  {
   "cell_type": "code",
   "execution_count": 78,
   "metadata": {
    "collapsed": true
   },
   "outputs": [],
   "source": [
    "def print_stats(df):\n",
    "    print2(\"pdb_id:\", \n",
    "           df[['pdb_id']].drop_duplicates().shape[0])\n",
    "    print2(\"pdb_id / pdb_chain:\", \n",
    "           df[['pdb_id', 'pdb_chain']].drop_duplicates().shape[0])\n",
    "    print2(\"pdb_id / pdb_chain / pdb_mutation:\", \n",
    "           df[['pdb_id', 'pdb_chain', 'pdb_mutation']].drop_duplicates().shape[0])\n",
    "    \n",
    "    print2(\"uniprot_id:\", \n",
    "           df[['uniprot_id']].drop_duplicates().shape[0])\n",
    "    print2(\"uniprot_id / uniprot_mutation:\", \n",
    "           df[['uniprot_id', 'uniprot_mutation']].drop_duplicates().shape[0])\n",
    "\n",
    "    print2(\"all unique:\", df.drop_duplicates().shape[0])\n",
    "    print2(\"all:\", df.shape[0])"
   ]
  },
  {
   "cell_type": "code",
   "execution_count": 79,
   "metadata": {
    "collapsed": false
   },
   "outputs": [
    {
     "name": "stdout",
     "output_type": "stream",
     "text": [
      "pdb_id:                                                     171\n",
      "pdb_id / pdb_chain:                                         198\n",
      "pdb_id / pdb_chain / pdb_mutation:                          4553\n",
      "uniprot_id:                                                 161\n",
      "uniprot_id / uniprot_mutation:                              4489\n",
      "all unique:                                                 4553\n",
      "all:                                                        4553\n"
     ]
    }
   ],
   "source": [
    "print_stats(protherm)"
   ]
  },
  {
   "cell_type": "code",
   "execution_count": 80,
   "metadata": {
    "collapsed": false
   },
   "outputs": [
    {
     "name": "stdout",
     "output_type": "stream",
     "text": [
      "pdb_id:                                                     182\n",
      "pdb_id / pdb_chain:                                         188\n",
      "pdb_id / pdb_chain / pdb_mutation:                          3636\n",
      "uniprot_id:                                                 124\n",
      "uniprot_id / uniprot_mutation:                              3267\n",
      "all unique:                                                 3636\n",
      "all:                                                        3636\n"
     ]
    }
   ],
   "source": [
    "print_stats(protherm_star)"
   ]
  },
  {
   "cell_type": "code",
   "execution_count": 81,
   "metadata": {
    "collapsed": false
   },
   "outputs": [
    {
     "data": {
      "text/plain": [
       "<sqlalchemy.engine.base.Connection at 0x7f8255ecea58>"
      ]
     },
     "execution_count": 81,
     "metadata": {},
     "output_type": "execute_result"
    }
   ],
   "source": [
    "db.engine.connect()"
   ]
  },
  {
   "cell_type": "code",
   "execution_count": 82,
   "metadata": {
    "collapsed": false
   },
   "outputs": [],
   "source": [
    "df = (\n",
    "    protherm\n",
    "    .merge(protherm_star, on=['pdb_id', 'pdb_chain', 'pdb_mutation'], suffixes=('_1', '_2'))\n",
    ")"
   ]
  },
  {
   "cell_type": "code",
   "execution_count": 83,
   "metadata": {
    "collapsed": false
   },
   "outputs": [
    {
     "data": {
      "text/html": [
       "<div>\n",
       "<table border=\"1\" class=\"dataframe\">\n",
       "  <thead>\n",
       "    <tr style=\"text-align: right;\">\n",
       "      <th></th>\n",
       "      <th>idx</th>\n",
       "      <th>pdb_id</th>\n",
       "      <th>pdb_chain</th>\n",
       "      <th>pdb_mutation</th>\n",
       "      <th>uniprot_id_1</th>\n",
       "      <th>uniprot_mutation_1</th>\n",
       "      <th>pfam_id_1</th>\n",
       "      <th>ddg_exp_1</th>\n",
       "      <th>uniprot_id_2</th>\n",
       "      <th>uniprot_mutation_2</th>\n",
       "      <th>pfam_id_2</th>\n",
       "      <th>ddg_exp_2</th>\n",
       "    </tr>\n",
       "  </thead>\n",
       "  <tbody>\n",
       "    <tr>\n",
       "      <th>0</th>\n",
       "      <td>16</td>\n",
       "      <td>1aar</td>\n",
       "      <td>A</td>\n",
       "      <td>A_F45W</td>\n",
       "      <td>P0CH28</td>\n",
       "      <td>F653W</td>\n",
       "      <td>PF00240</td>\n",
       "      <td>-0.600000</td>\n",
       "      <td>P0CH28</td>\n",
       "      <td>F653W</td>\n",
       "      <td>PF00240</td>\n",
       "      <td>-0.460000</td>\n",
       "    </tr>\n",
       "    <tr>\n",
       "      <th>1</th>\n",
       "      <td>17</td>\n",
       "      <td>1aar</td>\n",
       "      <td>A</td>\n",
       "      <td>A_H68E</td>\n",
       "      <td>P0CH28</td>\n",
       "      <td>H676E</td>\n",
       "      <td>PF00240</td>\n",
       "      <td>-0.764803</td>\n",
       "      <td>P0CH28</td>\n",
       "      <td>H676E</td>\n",
       "      <td>PF00240</td>\n",
       "      <td>-0.767409</td>\n",
       "    </tr>\n",
       "    <tr>\n",
       "      <th>2</th>\n",
       "      <td>18</td>\n",
       "      <td>1aar</td>\n",
       "      <td>A</td>\n",
       "      <td>A_H68Q</td>\n",
       "      <td>P0CH28</td>\n",
       "      <td>H676Q</td>\n",
       "      <td>PF00240</td>\n",
       "      <td>-0.549702</td>\n",
       "      <td>P0CH28</td>\n",
       "      <td>H676Q</td>\n",
       "      <td>PF00240</td>\n",
       "      <td>-0.549857</td>\n",
       "    </tr>\n",
       "    <tr>\n",
       "      <th>3</th>\n",
       "      <td>19</td>\n",
       "      <td>1aar</td>\n",
       "      <td>A</td>\n",
       "      <td>A_K27Q</td>\n",
       "      <td>P0CH28</td>\n",
       "      <td>K635Q</td>\n",
       "      <td>PF00240</td>\n",
       "      <td>1.912008</td>\n",
       "      <td>P0CH28</td>\n",
       "      <td>K635Q</td>\n",
       "      <td>PF00240</td>\n",
       "      <td>1.911023</td>\n",
       "    </tr>\n",
       "    <tr>\n",
       "      <th>4</th>\n",
       "      <td>20</td>\n",
       "      <td>1aar</td>\n",
       "      <td>A</td>\n",
       "      <td>A_K29N</td>\n",
       "      <td>P0CH28</td>\n",
       "      <td>K637N</td>\n",
       "      <td>PF00240</td>\n",
       "      <td>1.481806</td>\n",
       "      <td>P0CH28</td>\n",
       "      <td>K637N</td>\n",
       "      <td>PF00240</td>\n",
       "      <td>1.576520</td>\n",
       "    </tr>\n",
       "  </tbody>\n",
       "</table>\n",
       "</div>"
      ],
      "text/plain": [
       "   idx pdb_id pdb_chain pdb_mutation uniprot_id_1 uniprot_mutation_1 pfam_id_1  ddg_exp_1 uniprot_id_2 uniprot_mutation_2 pfam_id_2  ddg_exp_2\n",
       "0   16   1aar         A       A_F45W       P0CH28              F653W   PF00240  -0.600000       P0CH28              F653W   PF00240  -0.460000\n",
       "1   17   1aar         A       A_H68E       P0CH28              H676E   PF00240  -0.764803       P0CH28              H676E   PF00240  -0.767409\n",
       "2   18   1aar         A       A_H68Q       P0CH28              H676Q   PF00240  -0.549702       P0CH28              H676Q   PF00240  -0.549857\n",
       "3   19   1aar         A       A_K27Q       P0CH28              K635Q   PF00240   1.912008       P0CH28              K635Q   PF00240   1.911023\n",
       "4   20   1aar         A       A_K29N       P0CH28              K637N   PF00240   1.481806       P0CH28              K637N   PF00240   1.576520"
      ]
     },
     "execution_count": 83,
     "metadata": {},
     "output_type": "execute_result"
    }
   ],
   "source": [
    "df.head()"
   ]
  },
  {
   "cell_type": "code",
   "execution_count": 84,
   "metadata": {
    "collapsed": false
   },
   "outputs": [
    {
     "data": {
      "text/plain": [
       "(2584, 12)"
      ]
     },
     "execution_count": 84,
     "metadata": {},
     "output_type": "execute_result"
    }
   ],
   "source": [
    "df.shape"
   ]
  },
  {
   "cell_type": "code",
   "execution_count": 85,
   "metadata": {
    "collapsed": false
   },
   "outputs": [
    {
     "data": {
      "text/plain": [
       "<matplotlib.axes._subplots.AxesSubplot at 0x7f8255eed748>"
      ]
     },
     "execution_count": 85,
     "metadata": {},
     "output_type": "execute_result"
    },
    {
     "data": {
      "image/png": "[encoded data removed]",
      "text/plain": [
       "<matplotlib.figure.Figure at 0x7f8255eedf60>"
      ]
     },
     "metadata": {},
     "output_type": "display_data"
    }
   ],
   "source": [
    "sns.regplot('ddg_exp_1', 'ddg_exp_2', df)"
   ]
  },
  {
   "cell_type": "code",
   "execution_count": null,
   "metadata": {
    "collapsed": true
   },
   "outputs": [],
   "source": []
  },
  {
   "cell_type": "code",
   "execution_count": null,
   "metadata": {
    "collapsed": true
   },
   "outputs": [],
   "source": []
  }
 ],
 "metadata": {
  "anaconda-cloud": {},
  "kernelspec": {
   "display_name": "Python [Root]",
   "language": "python",
   "name": "Python [Root]"
  },
  "language_info": {
   "codemirror_mode": {
    "name": "ipython",
    "version": 3
   },
   "file_extension": ".py",
   "mimetype": "text/x-python",
   "name": "python",
   "nbconvert_exporter": "python",
   "pygments_lexer": "ipython3",
   "version": "3.5.2"
  },
  "toc": {
   "navigate_menu": false,
   "number_sections": true,
   "sideBar": false,
   "threshold": 6,
   "toc_cell": false,
   "toc_section_display": "block",
   "toc_window_display": true
  }
 },
 "nbformat": 4,
 "nbformat_minor": 0
}
