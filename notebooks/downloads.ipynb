{
 "cells": [
  {
   "cell_type": "markdown",
   "metadata": {
    "collapsed": true
   },
   "source": [
    "----\n",
    "\n",
    "# ProTherm\n",
    "\n",
    "Register at http://www.abren.net/protherm/protherm_download.php and download the `ProTherm.dat.gz` file."
   ]
  },
  {
   "cell_type": "markdown",
   "metadata": {},
   "source": [
    "----\n",
    "\n",
    "# Rosetta benchmark\n",
    "\n",
    "- [Manuscript](http://dx.doi.org/10.1371/journal.pone.0130433)\n",
    "- [Website](https://guybrush.ucsf.edu/benchmarks)\n",
    "- [GitHub](https://github.com/Kortemme-Lab/ddg)"
   ]
  },
  {
   "cell_type": "code",
   "execution_count": 52,
   "metadata": {
    "collapsed": false
   },
   "outputs": [
    {
     "name": "stdout",
     "output_type": "stream",
     "text": [
      "2016-04-28 15:42:39 URL:https://codeload.github.com/Kortemme-Lab/ddg/zip/master [14095905] -> \"../downloads/rosetta_ddg.zip\" [1]\r\n"
     ]
    }
   ],
   "source": [
    "!wget --no-verbose \"https://codeload.github.com/Kortemme-Lab/ddg/zip/master\" -O \"../downloads/rosetta_ddg.zip\""
   ]
  },
  {
   "cell_type": "markdown",
   "metadata": {},
   "source": [
    "----\n",
    "\n",
    "# Taipale 2015"
   ]
  },
  {
   "cell_type": "code",
   "execution_count": 1,
   "metadata": {
    "collapsed": false
   },
   "outputs": [
    {
     "name": "stdout",
     "output_type": "stream",
     "text": [
      "1-s2.0-S0092867415004304-main.pdf  mmc2.xlsx  mmc4.xlsx  mmc6.xlsx  mmc8.pdf\r\n",
      "mmc1.xlsx                          mmc3.xlsx  mmc5.xlsx  mmc7.xlsx\r\n"
     ]
    }
   ],
   "source": [
    "ls ../downloads/taipale/"
   ]
  },
  {
   "cell_type": "code",
   "execution_count": null,
   "metadata": {
    "collapsed": true
   },
   "outputs": [],
   "source": []
  },
  {
   "cell_type": "code",
   "execution_count": null,
   "metadata": {
    "collapsed": true
   },
   "outputs": [],
   "source": []
  },
  {
   "cell_type": "code",
   "execution_count": null,
   "metadata": {
    "collapsed": true
   },
   "outputs": [],
   "source": []
  },
  {
   "cell_type": "code",
   "execution_count": 53,
   "metadata": {
    "collapsed": false
   },
   "outputs": [
    {
     "name": "stdout",
     "output_type": "stream",
     "text": [
      "abdellah_2009.tsv.gz  kineticdb.html  ProTherm.dat.gz\r\n",
      "kineticdb2.html       pfd_all.html    rosetta_ddg.zip\r\n",
      "kineticdb_all.html    pfd.html        small_studies.ods\r\n"
     ]
    }
   ],
   "source": [
    "ls ../downloads/"
   ]
  },
  {
   "cell_type": "markdown",
   "metadata": {},
   "source": [
    "----\n",
    "\n",
    "# Allali-Hassani et al. 2009\n",
    "\n",
    "A survey of proteins encoded by non-synonymous single nucleotide polymorphisms reveals a significant fraction with altered stability and activity."
   ]
  },
  {
   "cell_type": "code",
   "execution_count": null,
   "metadata": {
    "collapsed": true
   },
   "outputs": [],
   "source": []
  },
  {
   "cell_type": "markdown",
   "metadata": {},
   "source": [
    "# Protein folding database"
   ]
  },
  {
   "cell_type": "code",
   "execution_count": null,
   "metadata": {
    "collapsed": true
   },
   "outputs": [],
   "source": [
    "!curl 'http://pfd.med.monash.edu/public_html/index.php?module=dsm&page=searchresults&title=Advanced%20Search%20Results' -o pfd.html"
   ]
  },
  {
   "cell_type": "code",
   "execution_count": null,
   "metadata": {
    "collapsed": true
   },
   "outputs": [],
   "source": []
  },
  {
   "cell_type": "code",
   "execution_count": null,
   "metadata": {
    "collapsed": true
   },
   "outputs": [],
   "source": []
  },
  {
   "cell_type": "code",
   "execution_count": null,
   "metadata": {
    "collapsed": true
   },
   "outputs": [],
   "source": []
  },
  {
   "cell_type": "code",
   "execution_count": null,
   "metadata": {
    "collapsed": true
   },
   "outputs": [],
   "source": [
    "# An experimentally determined protein folding energy landscape\n",
    "# http://www.pnas.org/content/101/39/14102.full\n",
    "# \n",
    "# dG values for the folding of a protein with a varying number of ankyrin repeats"
   ]
  },
  {
   "cell_type": "code",
   "execution_count": null,
   "metadata": {
    "collapsed": true
   },
   "outputs": [],
   "source": []
  },
  {
   "cell_type": "code",
   "execution_count": null,
   "metadata": {
    "collapsed": true
   },
   "outputs": [],
   "source": []
  }
 ],
 "metadata": {
  "kernelspec": {
   "display_name": "Python 3",
   "language": "python",
   "name": "python3"
  },
  "language_info": {
   "codemirror_mode": {
    "name": "ipython",
    "version": 3
   },
   "file_extension": ".py",
   "mimetype": "text/x-python",
   "name": "python",
   "nbconvert_exporter": "python",
   "pygments_lexer": "ipython3",
   "version": "3.5.1"
  }
 },
 "nbformat": 4,
 "nbformat_minor": 0
}
