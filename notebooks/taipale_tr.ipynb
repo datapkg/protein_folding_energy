{
 "cells": [
  {
   "cell_type": "markdown",
   "metadata": {
    "run_control": {
     "marked": false
    }
   },
   "source": [
    "# Summary\n",
    "\n",
    "Link to paper: http://www.sciencedirect.com/science/article/pii/S0092867415004304\n",
    "\n",
    "\n",
    "This notebook is the same as `taipale.ipynb`, but it uses an older method to map RefSeq mutations to UniProt.\n",
    "\n",
    "----"
   ]
  },
  {
   "cell_type": "markdown",
   "metadata": {
    "run_control": {
     "marked": false
    }
   },
   "source": [
    "# Imports"
   ]
  },
  {
   "cell_type": "code",
   "execution_count": 1,
   "metadata": {
    "code_folding": [
     0
    ],
    "collapsed": false,
    "run_control": {
     "marked": false
    }
   },
   "outputs": [
    {
     "name": "stdout",
     "output_type": "stream",
     "text": [
      "2016-07-27 01:19:57.217220\n"
     ]
    }
   ],
   "source": [
    "%run imports.ipynb"
   ]
  },
  {
   "cell_type": "code",
   "execution_count": 2,
   "metadata": {
    "collapsed": false,
    "run_control": {
     "marked": false
    }
   },
   "outputs": [],
   "source": [
    "NOTEBOOK_NAME = 'taipale_tr'\n",
    "os.makedirs(NOTEBOOK_NAME, exist_ok=True)\n",
    "\n",
    "os.environ['NOTEBOOK_NAME'] = NOTEBOOK_NAME\n",
    "os.environ['DB_PORT'] = '8307'"
   ]
  },
  {
   "cell_type": "code",
   "execution_count": 3,
   "metadata": {
    "collapsed": false,
    "run_control": {
     "marked": false
    }
   },
   "outputs": [
    {
     "name": "stdout",
     "output_type": "stream",
     "text": [
      "The autoreload extension is already loaded. To reload it, use:\n",
      "  %reload_ext autoreload\n",
      "2016-07-27 01:19:57.367509\n"
     ]
    }
   ],
   "source": [
    "%run mysqld.ipynb"
   ]
  },
  {
   "cell_type": "code",
   "execution_count": 4,
   "metadata": {
    "collapsed": false,
    "run_control": {
     "marked": false
    }
   },
   "outputs": [],
   "source": [
    "db_remote = datapkg.MySQL(\n",
    "    connection_string=os.environ['DATAPKG_CONNECTION_STRING'] + '/staging', \n",
    "    shared_folder=os.environ['NOTEBOOK_NAME'], \n",
    "    storage_host=None, \n",
    "    echo=False, \n",
    "    db_engine='InnoDB'\n",
    ")"
   ]
  },
  {
   "cell_type": "markdown",
   "metadata": {
    "run_control": {
     "marked": false
    }
   },
   "source": [
    "# Load mutation data"
   ]
  },
  {
   "cell_type": "code",
   "execution_count": 5,
   "metadata": {
    "collapsed": false,
    "run_control": {
     "marked": false
    }
   },
   "outputs": [
    {
     "name": "stdout",
     "output_type": "stream",
     "text": [
      "1-s2.0-S0092867415004304-main.pdf  mmc2.xlsx  mmc4.xlsx  mmc6.xlsx  mmc8.pdf\r\n",
      "mmc1.xlsx                          mmc3.xlsx  mmc5.xlsx  mmc7.xlsx\r\n"
     ]
    }
   ],
   "source": [
    "ls ../downloads/taipale/"
   ]
  },
  {
   "cell_type": "code",
   "execution_count": 6,
   "metadata": {
    "collapsed": false,
    "run_control": {
     "marked": false
    }
   },
   "outputs": [],
   "source": [
    "mutation_df = pd.read_excel('../downloads/taipale/mmc1.xlsx')"
   ]
  },
  {
   "cell_type": "code",
   "execution_count": 7,
   "metadata": {
    "collapsed": false,
    "run_control": {
     "marked": false
    }
   },
   "outputs": [
    {
     "data": {
      "text/html": [
       "<div>\n",
       "<table border=\"1\" class=\"dataframe\">\n",
       "  <thead>\n",
       "    <tr style=\"text-align: right;\">\n",
       "      <th></th>\n",
       "      <th>Category</th>\n",
       "      <th>Symbol</th>\n",
       "      <th>Entrez_Gene_ID</th>\n",
       "      <th>Allele_ID</th>\n",
       "      <th>Mutation_RefSeq_NT</th>\n",
       "      <th>Mutation_RefSeq_AA</th>\n",
       "      <th>HGMD_accession</th>\n",
       "      <th>HGMD_variant_class</th>\n",
       "      <th>dbSNP_ID</th>\n",
       "      <th>Disease</th>\n",
       "    </tr>\n",
       "  </thead>\n",
       "  <tbody>\n",
       "    <tr>\n",
       "      <th>0</th>\n",
       "      <td>Disease mutation</td>\n",
       "      <td>A2M</td>\n",
       "      <td>2</td>\n",
       "      <td>2_18118</td>\n",
       "      <td>NM_000014:c.2915G&gt;A</td>\n",
       "      <td>NP_000005:p.C972Y</td>\n",
       "      <td>CM920001</td>\n",
       "      <td>DM</td>\n",
       "      <td>rs1800433</td>\n",
       "      <td>Chronic obstructive pulmonary disease</td>\n",
       "    </tr>\n",
       "    <tr>\n",
       "      <th>1</th>\n",
       "      <td>Disease mutation</td>\n",
       "      <td>A2M</td>\n",
       "      <td>2</td>\n",
       "      <td>2_18119</td>\n",
       "      <td>NM_000014:c.2998G&gt;A</td>\n",
       "      <td>NP_000005:p.V1000I</td>\n",
       "      <td>CM980001</td>\n",
       "      <td>DP</td>\n",
       "      <td>rs669</td>\n",
       "      <td>Alzheimer disease, association with</td>\n",
       "    </tr>\n",
       "  </tbody>\n",
       "</table>\n",
       "</div>"
      ],
      "text/plain": [
       "           Category Symbol  Entrez_Gene_ID Allele_ID   Mutation_RefSeq_NT  Mutation_RefSeq_AA HGMD_accession HGMD_variant_class   dbSNP_ID                                Disease\n",
       "0  Disease mutation    A2M               2   2_18118  NM_000014:c.2915G>A   NP_000005:p.C972Y       CM920001                 DM  rs1800433  Chronic obstructive pulmonary disease\n",
       "1  Disease mutation    A2M               2   2_18119  NM_000014:c.2998G>A  NP_000005:p.V1000I       CM980001                 DP      rs669    Alzheimer disease, association with"
      ]
     },
     "metadata": {},
     "output_type": "display_data"
    },
    {
     "name": "stdout",
     "output_type": "stream",
     "text": [
      "2960\n"
     ]
    }
   ],
   "source": [
    "display(mutation_df.head(2))\n",
    "print(mutation_df.shape[0])"
   ]
  },
  {
   "cell_type": "markdown",
   "metadata": {
    "run_control": {
     "marked": false
    }
   },
   "source": [
    "### mutation_df_1"
   ]
  },
  {
   "cell_type": "code",
   "execution_count": 8,
   "metadata": {
    "collapsed": false,
    "run_control": {
     "marked": false
    }
   },
   "outputs": [],
   "source": [
    "mutation_df['refseq_id'] = mutation_df['Mutation_RefSeq_AA'].apply(lambda x: x.split(':')[0])\n",
    "mutation_df['refseq_mutation'] = mutation_df['Mutation_RefSeq_AA'].apply(lambda x: x.split('.')[-1])"
   ]
  },
  {
   "cell_type": "code",
   "execution_count": 9,
   "metadata": {
    "collapsed": false,
    "run_control": {
     "marked": false
    },
    "scrolled": true
   },
   "outputs": [
    {
     "data": {
      "text/html": [
       "<div>\n",
       "<table border=\"1\" class=\"dataframe\">\n",
       "  <thead>\n",
       "    <tr style=\"text-align: right;\">\n",
       "      <th></th>\n",
       "      <th>Category</th>\n",
       "      <th>Symbol</th>\n",
       "      <th>Entrez_Gene_ID</th>\n",
       "      <th>Allele_ID</th>\n",
       "      <th>Mutation_RefSeq_NT</th>\n",
       "      <th>Mutation_RefSeq_AA</th>\n",
       "      <th>HGMD_accession</th>\n",
       "      <th>HGMD_variant_class</th>\n",
       "      <th>dbSNP_ID</th>\n",
       "      <th>Disease</th>\n",
       "      <th>refseq_id</th>\n",
       "      <th>refseq_mutation</th>\n",
       "    </tr>\n",
       "  </thead>\n",
       "  <tbody>\n",
       "    <tr>\n",
       "      <th>0</th>\n",
       "      <td>Disease mutation</td>\n",
       "      <td>A2M</td>\n",
       "      <td>2</td>\n",
       "      <td>2_18118</td>\n",
       "      <td>NM_000014:c.2915G&gt;A</td>\n",
       "      <td>NP_000005:p.C972Y</td>\n",
       "      <td>CM920001</td>\n",
       "      <td>DM</td>\n",
       "      <td>rs1800433</td>\n",
       "      <td>Chronic obstructive pulmonary disease</td>\n",
       "      <td>NP_000005</td>\n",
       "      <td>C972Y</td>\n",
       "    </tr>\n",
       "    <tr>\n",
       "      <th>1</th>\n",
       "      <td>Disease mutation</td>\n",
       "      <td>A2M</td>\n",
       "      <td>2</td>\n",
       "      <td>2_18119</td>\n",
       "      <td>NM_000014:c.2998G&gt;A</td>\n",
       "      <td>NP_000005:p.V1000I</td>\n",
       "      <td>CM980001</td>\n",
       "      <td>DP</td>\n",
       "      <td>rs669</td>\n",
       "      <td>Alzheimer disease, association with</td>\n",
       "      <td>NP_000005</td>\n",
       "      <td>V1000I</td>\n",
       "    </tr>\n",
       "  </tbody>\n",
       "</table>\n",
       "</div>"
      ],
      "text/plain": [
       "           Category Symbol  Entrez_Gene_ID Allele_ID   Mutation_RefSeq_NT  Mutation_RefSeq_AA HGMD_accession HGMD_variant_class   dbSNP_ID                                Disease  refseq_id refseq_mutation\n",
       "0  Disease mutation    A2M               2   2_18118  NM_000014:c.2915G>A   NP_000005:p.C972Y       CM920001                 DM  rs1800433  Chronic obstructive pulmonary disease  NP_000005           C972Y\n",
       "1  Disease mutation    A2M               2   2_18119  NM_000014:c.2998G>A  NP_000005:p.V1000I       CM980001                 DP      rs669    Alzheimer disease, association with  NP_000005          V1000I"
      ]
     },
     "metadata": {},
     "output_type": "display_data"
    },
    {
     "name": "stdout",
     "output_type": "stream",
     "text": [
      "Number of rows: 2960\n",
      "Number of unique RefSeq nucleotide mutations: 2960\n",
      "Number of unique RefSeq amino acid mutations: 2958\n"
     ]
    }
   ],
   "source": [
    "display(mutation_df.head(2))\n",
    "print(\"Number of rows:\", \n",
    "    mutation_df.shape[0])\n",
    "print(\"Number of unique RefSeq nucleotide mutations:\", \n",
    "    mutation_df.drop_duplicates(subset=['Mutation_RefSeq_NT']).shape[0])\n",
    "print(\"Number of unique RefSeq amino acid mutations:\", \n",
    "    mutation_df.drop_duplicates(subset=['Mutation_RefSeq_AA']).shape[0])"
   ]
  },
  {
   "cell_type": "code",
   "execution_count": 10,
   "metadata": {
    "collapsed": false,
    "run_control": {
     "marked": false
    }
   },
   "outputs": [
    {
     "name": "stdout",
     "output_type": "stream",
     "text": [
      "Duplicated RefSeq amino acid mutations:\n"
     ]
    },
    {
     "data": {
      "text/html": [
       "<div>\n",
       "<table border=\"1\" class=\"dataframe\">\n",
       "  <thead>\n",
       "    <tr style=\"text-align: right;\">\n",
       "      <th></th>\n",
       "      <th>Category</th>\n",
       "      <th>Symbol</th>\n",
       "      <th>Entrez_Gene_ID</th>\n",
       "      <th>Allele_ID</th>\n",
       "      <th>Mutation_RefSeq_NT</th>\n",
       "      <th>Mutation_RefSeq_AA</th>\n",
       "      <th>HGMD_accession</th>\n",
       "      <th>HGMD_variant_class</th>\n",
       "      <th>dbSNP_ID</th>\n",
       "      <th>Disease</th>\n",
       "      <th>refseq_id</th>\n",
       "      <th>refseq_mutation</th>\n",
       "    </tr>\n",
       "  </thead>\n",
       "  <tbody>\n",
       "    <tr>\n",
       "      <th>1404</th>\n",
       "      <td>Disease mutation</td>\n",
       "      <td>HSPB8</td>\n",
       "      <td>26353</td>\n",
       "      <td>26353_7864</td>\n",
       "      <td>NM_014365:c.423G&gt;C</td>\n",
       "      <td>NP_055180:p.K141N</td>\n",
       "      <td>CM041377</td>\n",
       "      <td>DM</td>\n",
       "      <td>rs104894345</td>\n",
       "      <td>Neuropathy, distal hereditary motor, type II</td>\n",
       "      <td>NP_055180</td>\n",
       "      <td>K141N</td>\n",
       "    </tr>\n",
       "    <tr>\n",
       "      <th>1405</th>\n",
       "      <td>Disease mutation</td>\n",
       "      <td>HSPB8</td>\n",
       "      <td>26353</td>\n",
       "      <td>26353_7865</td>\n",
       "      <td>NM_014365:c.423G&gt;T</td>\n",
       "      <td>NP_055180:p.K141N</td>\n",
       "      <td>CM050270</td>\n",
       "      <td>DM</td>\n",
       "      <td>rs104894345</td>\n",
       "      <td>Charcot-Marie-Tooth disease 2L</td>\n",
       "      <td>NP_055180</td>\n",
       "      <td>K141N</td>\n",
       "    </tr>\n",
       "    <tr>\n",
       "      <th>1875</th>\n",
       "      <td>Disease mutation</td>\n",
       "      <td>NIPA1</td>\n",
       "      <td>123606</td>\n",
       "      <td>123606_15185</td>\n",
       "      <td>NM_144599:c.316G&gt;A</td>\n",
       "      <td>NP_653200:p.G106R</td>\n",
       "      <td>CM050748</td>\n",
       "      <td>DM</td>\n",
       "      <td>rs104894490</td>\n",
       "      <td>Spastic paraplegia, autosomal dominant</td>\n",
       "      <td>NP_653200</td>\n",
       "      <td>G106R</td>\n",
       "    </tr>\n",
       "    <tr>\n",
       "      <th>1876</th>\n",
       "      <td>Disease mutation</td>\n",
       "      <td>NIPA1</td>\n",
       "      <td>123606</td>\n",
       "      <td>123606_15186</td>\n",
       "      <td>NM_144599:c.316G&gt;C</td>\n",
       "      <td>NP_653200:p.G106R</td>\n",
       "      <td>CM050749</td>\n",
       "      <td>DM</td>\n",
       "      <td>rs104894490</td>\n",
       "      <td>Spastic paraplegia, autosomal dominant</td>\n",
       "      <td>NP_653200</td>\n",
       "      <td>G106R</td>\n",
       "    </tr>\n",
       "  </tbody>\n",
       "</table>\n",
       "</div>"
      ],
      "text/plain": [
       "              Category Symbol  Entrez_Gene_ID     Allele_ID  Mutation_RefSeq_NT Mutation_RefSeq_AA HGMD_accession HGMD_variant_class     dbSNP_ID                                       Disease  refseq_id refseq_mutation\n",
       "1404  Disease mutation  HSPB8           26353    26353_7864  NM_014365:c.423G>C  NP_055180:p.K141N       CM041377                 DM  rs104894345  Neuropathy, distal hereditary motor, type II  NP_055180           K141N\n",
       "1405  Disease mutation  HSPB8           26353    26353_7865  NM_014365:c.423G>T  NP_055180:p.K141N       CM050270                 DM  rs104894345                Charcot-Marie-Tooth disease 2L  NP_055180           K141N\n",
       "1875  Disease mutation  NIPA1          123606  123606_15185  NM_144599:c.316G>A  NP_653200:p.G106R       CM050748                 DM  rs104894490        Spastic paraplegia, autosomal dominant  NP_653200           G106R\n",
       "1876  Disease mutation  NIPA1          123606  123606_15186  NM_144599:c.316G>C  NP_653200:p.G106R       CM050749                 DM  rs104894490        Spastic paraplegia, autosomal dominant  NP_653200           G106R"
      ]
     },
     "execution_count": 10,
     "metadata": {},
     "output_type": "execute_result"
    }
   ],
   "source": [
    "print(\"Duplicated RefSeq amino acid mutations:\")\n",
    "duplicates = mutation_df[mutation_df['Mutation_RefSeq_AA'].duplicated()]['Mutation_RefSeq_AA']\n",
    "mutation_df[mutation_df['Mutation_RefSeq_AA'].isin(duplicates)]"
   ]
  },
  {
   "cell_type": "code",
   "execution_count": 11,
   "metadata": {
    "collapsed": true,
    "run_control": {
     "marked": false
    }
   },
   "outputs": [],
   "source": [
    "mutation_df_1 = mutation_df.copy()"
   ]
  },
  {
   "cell_type": "markdown",
   "metadata": {
    "run_control": {
     "marked": false
    }
   },
   "source": [
    "## NCBI to UniProt\n",
    "\n",
    "Map NCBI to UniProt."
   ]
  },
  {
   "cell_type": "markdown",
   "metadata": {
    "run_control": {
     "marked": false
    }
   },
   "source": [
    "### mutation_df_2 (old)\n",
    "\n",
    "Use the `uniprot_identifier` table to map Refseq to Uniprot."
   ]
  },
  {
   "cell_type": "code",
   "execution_count": 12,
   "metadata": {
    "collapsed": true,
    "run_control": {
     "marked": false
    }
   },
   "outputs": [],
   "source": [
    "mutation_df = mutation_df_1.copy()"
   ]
  },
  {
   "cell_type": "code",
   "execution_count": 13,
   "metadata": {
    "collapsed": false,
    "run_control": {
     "marked": false
    }
   },
   "outputs": [
    {
     "name": "stdout",
     "output_type": "stream",
     "text": [
      "Loading data from file...\n"
     ]
    }
   ],
   "source": [
    "if os.path.isfile(op.join(NOTEBOOK_NAME, 'refseq_to_uniprot.pickle')):\n",
    "    print(\"Loading data from file...\")\n",
    "    refseq_to_uniprot = pd.read_pickle(op.join(NOTEBOOK_NAME, 'refseq_to_uniprot.pickle'))\n",
    "else:\n",
    "    sql_query = \"\"\"\\\n",
    "    select *\n",
    "    from uniprot_kb.uniprot_identifier\n",
    "    join uniprot_kb.uniprot_sequence using (uniprot_id)\n",
    "    where identifier_type = 'RefSeq'\n",
    "    and (identifier_id like '{}.%%');\n",
    "    \"\"\".format(\".%%' or identifier_id like '\".join(set(mutation_df['refseq_id'].values)))\n",
    "    refseq_to_uniprot = pd.read_sql_query(sql_query, db_remote.engine)\n",
    "    \n",
    "    os.makedirs(NOTEBOOK_NAME, exist_ok=True)\n",
    "    refseq_to_uniprot.to_pickle(op.join(NOTEBOOK_NAME, 'refseq_to_uniprot_2.pickle'))"
   ]
  },
  {
   "cell_type": "code",
   "execution_count": 14,
   "metadata": {
    "collapsed": true,
    "run_control": {
     "marked": false
    }
   },
   "outputs": [],
   "source": [
    "refseq_to_uniprot['refseq_id'] = refseq_to_uniprot['identifier_id'].apply(lambda x: x.split('.')[0])"
   ]
  },
  {
   "cell_type": "code",
   "execution_count": 15,
   "metadata": {
    "collapsed": false,
    "run_control": {
     "marked": false
    }
   },
   "outputs": [
    {
     "name": "stdout",
     "output_type": "stream",
     "text": [
      "DF mapping Refseq to Uniprot:\n"
     ]
    },
    {
     "data": {
      "text/html": [
       "<div>\n",
       "<table border=\"1\" class=\"dataframe\">\n",
       "  <thead>\n",
       "    <tr style=\"text-align: right;\">\n",
       "      <th></th>\n",
       "      <th>uniprot_id</th>\n",
       "      <th>id</th>\n",
       "      <th>identifier_id</th>\n",
       "      <th>identifier_type</th>\n",
       "      <th>db</th>\n",
       "      <th>uniprot_name</th>\n",
       "      <th>protein_name</th>\n",
       "      <th>organism_name</th>\n",
       "      <th>gene_name</th>\n",
       "      <th>protein_existence</th>\n",
       "      <th>sequence_version</th>\n",
       "      <th>uniprot_sequence</th>\n",
       "      <th>refseq_id</th>\n",
       "    </tr>\n",
       "  </thead>\n",
       "  <tbody>\n",
       "    <tr>\n",
       "      <th>0</th>\n",
       "      <td>P01023</td>\n",
       "      <td>61589</td>\n",
       "      <td>NP_000005.2</td>\n",
       "      <td>RefSeq</td>\n",
       "      <td>sp</td>\n",
       "      <td>A2MG_HUMAN</td>\n",
       "      <td>Alpha-2-macroglobulin</td>\n",
       "      <td>Homo sapiens</td>\n",
       "      <td>A2M</td>\n",
       "      <td>1.0</td>\n",
       "      <td>3.0</td>\n",
       "      <td>MGKNKLLHPSLVLLLLVLLPTDASVSGKPQYMVLVPSLLHTETTEK...</td>\n",
       "      <td>NP_000005</td>\n",
       "    </tr>\n",
       "    <tr>\n",
       "      <th>1</th>\n",
       "      <td>A4Z6T7</td>\n",
       "      <td>58633781</td>\n",
       "      <td>NP_000006.2</td>\n",
       "      <td>RefSeq</td>\n",
       "      <td>tr</td>\n",
       "      <td>A4Z6T7_HUMAN</td>\n",
       "      <td>Arylamine N-acetyltransferase 2</td>\n",
       "      <td>Homo sapiens</td>\n",
       "      <td>NAT2</td>\n",
       "      <td>3.0</td>\n",
       "      <td>1.0</td>\n",
       "      <td>MDIEAYFERIGYKNSRNKLDLETLTDILEHQIRAVPFENLNMHCGQ...</td>\n",
       "      <td>NP_000006</td>\n",
       "    </tr>\n",
       "  </tbody>\n",
       "</table>\n",
       "</div>"
      ],
      "text/plain": [
       "  uniprot_id        id identifier_id identifier_type  db  uniprot_name                     protein_name organism_name gene_name  protein_existence  sequence_version                                   uniprot_sequence  refseq_id\n",
       "0     P01023     61589   NP_000005.2          RefSeq  sp    A2MG_HUMAN            Alpha-2-macroglobulin  Homo sapiens       A2M                1.0               3.0  MGKNKLLHPSLVLLLLVLLPTDASVSGKPQYMVLVPSLLHTETTEK...  NP_000005\n",
       "1     A4Z6T7  58633781   NP_000006.2          RefSeq  tr  A4Z6T7_HUMAN  Arylamine N-acetyltransferase 2  Homo sapiens      NAT2                3.0               1.0  MDIEAYFERIGYKNSRNKLDLETLTDILEHQIRAVPFENLNMHCGQ...  NP_000006"
      ]
     },
     "metadata": {},
     "output_type": "display_data"
    },
    {
     "name": "stdout",
     "output_type": "stream",
     "text": [
      "Number of rows: 1493\n"
     ]
    }
   ],
   "source": [
    "print(\"DF mapping Refseq to Uniprot:\")\n",
    "display(refseq_to_uniprot.head(2))\n",
    "print(\"Number of rows:\", refseq_to_uniprot.shape[0])"
   ]
  },
  {
   "cell_type": "code",
   "execution_count": 16,
   "metadata": {
    "collapsed": true,
    "run_control": {
     "marked": false
    }
   },
   "outputs": [],
   "source": [
    "mutation_df = (\n",
    "    mutation_df.merge(refseq_to_uniprot, on=['refseq_id'])\n",
    ")"
   ]
  },
  {
   "cell_type": "code",
   "execution_count": 17,
   "metadata": {
    "collapsed": false,
    "run_control": {
     "marked": false
    }
   },
   "outputs": [
    {
     "name": "stdout",
     "output_type": "stream",
     "text": [
      "Number of rows: 3902\n",
      "Number of unique RefSeq nucleotide mutations: 2948\n",
      "Number of unique RefSeq amino acid mutations: 2946 <--\n",
      "Number of unique RefSeq / Uniprot nucleotide mutations: 3902\n",
      "Number of unique RefSeq / Uniprot amino acid mutations: 3900\n"
     ]
    }
   ],
   "source": [
    "print(\"Number of rows:\", \n",
    "    mutation_df.shape[0])\n",
    "print(\"Number of unique RefSeq nucleotide mutations:\", \n",
    "    mutation_df.drop_duplicates(subset=['Mutation_RefSeq_NT']).shape[0])\n",
    "print(\"Number of unique RefSeq amino acid mutations:\", \n",
    "    mutation_df.drop_duplicates(subset=['Mutation_RefSeq_AA']).shape[0], \"<--\")\n",
    "print(\"Number of unique RefSeq / Uniprot nucleotide mutations:\", \n",
    "    mutation_df.drop_duplicates(subset=['Mutation_RefSeq_NT', 'uniprot_id']).shape[0])\n",
    "print(\"Number of unique RefSeq / Uniprot amino acid mutations:\", \n",
    "    mutation_df.drop_duplicates(subset=['Mutation_RefSeq_AA', 'uniprot_id']).shape[0])"
   ]
  },
  {
   "cell_type": "markdown",
   "metadata": {
    "run_control": {
     "marked": false
    }
   },
   "source": [
    "Lost **12** amino acid mutations because RefSeq does not have a corresponding Uniprot ID"
   ]
  },
  {
   "cell_type": "code",
   "execution_count": 18,
   "metadata": {
    "collapsed": true,
    "run_control": {
     "marked": false
    }
   },
   "outputs": [],
   "source": [
    "mutation_df_2 = mutation_df.copy()"
   ]
  },
  {
   "cell_type": "markdown",
   "metadata": {
    "code_folding": [],
    "run_control": {
     "marked": true
    }
   },
   "source": [
    "### mutation_df_failed"
   ]
  },
  {
   "cell_type": "code",
   "execution_count": 19,
   "metadata": {
    "collapsed": true,
    "run_control": {
     "marked": false
    }
   },
   "outputs": [],
   "source": [
    "mutation_df_failed = (\n",
    "    mutation_df_1\n",
    "    .merge(refseq_to_uniprot, on=['refseq_id'], how='left')\n",
    ")"
   ]
  },
  {
   "cell_type": "code",
   "execution_count": 20,
   "metadata": {
    "collapsed": true
   },
   "outputs": [],
   "source": [
    "mutation_df_failed = mutation_df_failed[['Mutation_RefSeq_AA', 'uniprot_id', 'refseq_mutation']]"
   ]
  },
  {
   "cell_type": "code",
   "execution_count": 21,
   "metadata": {
    "collapsed": false,
    "run_control": {
     "marked": false
    }
   },
   "outputs": [],
   "source": [
    "assert not set(mutation_df_failed['Mutation_RefSeq_AA']) ^ set(mutation_df_1['Mutation_RefSeq_AA'])"
   ]
  },
  {
   "cell_type": "code",
   "execution_count": 22,
   "metadata": {
    "collapsed": false
   },
   "outputs": [],
   "source": [
    "mutation_df_failed['unique_id'] = (\n",
    "    mutation_df_failed['uniprot_id'] + '.' + mutation_df_failed['refseq_mutation']\n",
    ")"
   ]
  },
  {
   "cell_type": "code",
   "execution_count": 23,
   "metadata": {
    "collapsed": false,
    "run_control": {
     "marked": false
    }
   },
   "outputs": [],
   "source": [
    "mutation_df_failed['errors'] = ''"
   ]
  },
  {
   "cell_type": "code",
   "execution_count": 24,
   "metadata": {
    "collapsed": true,
    "run_control": {
     "marked": false
    }
   },
   "outputs": [],
   "source": [
    "mutation_df_failed.loc[mutation_df_failed['uniprot_id'].isnull(), 'errors'] = (\n",
    "    \"Could not map UniParc to UniProt. \"\n",
    ")"
   ]
  },
  {
   "cell_type": "code",
   "execution_count": 25,
   "metadata": {
    "collapsed": false,
    "run_control": {
     "marked": false
    }
   },
   "outputs": [
    {
     "data": {
      "text/html": [
       "<div>\n",
       "<table border=\"1\" class=\"dataframe\">\n",
       "  <thead>\n",
       "    <tr style=\"text-align: right;\">\n",
       "      <th></th>\n",
       "      <th>Mutation_RefSeq_AA</th>\n",
       "      <th>uniprot_id</th>\n",
       "      <th>refseq_mutation</th>\n",
       "      <th>unique_id</th>\n",
       "      <th>errors</th>\n",
       "    </tr>\n",
       "  </thead>\n",
       "  <tbody>\n",
       "    <tr>\n",
       "      <th>1932</th>\n",
       "      <td>NP_009296:p.E268K</td>\n",
       "      <td>NaN</td>\n",
       "      <td>E268K</td>\n",
       "      <td>NaN</td>\n",
       "      <td>Could not map UniParc to UniProt.</td>\n",
       "    </tr>\n",
       "    <tr>\n",
       "      <th>2063</th>\n",
       "      <td>NP_057685:p.G236R</td>\n",
       "      <td>NaN</td>\n",
       "      <td>G236R</td>\n",
       "      <td>NaN</td>\n",
       "      <td>Could not map UniParc to UniProt.</td>\n",
       "    </tr>\n",
       "    <tr>\n",
       "      <th>3310</th>\n",
       "      <td>NP_003973:p.T5I</td>\n",
       "      <td>NaN</td>\n",
       "      <td>T5I</td>\n",
       "      <td>NaN</td>\n",
       "      <td>Could not map UniParc to UniProt.</td>\n",
       "    </tr>\n",
       "    <tr>\n",
       "      <th>3311</th>\n",
       "      <td>NP_003973:p.A140P</td>\n",
       "      <td>NaN</td>\n",
       "      <td>A140P</td>\n",
       "      <td>NaN</td>\n",
       "      <td>Could not map UniParc to UniProt.</td>\n",
       "    </tr>\n",
       "    <tr>\n",
       "      <th>3312</th>\n",
       "      <td>NP_003973:p.L334R</td>\n",
       "      <td>NaN</td>\n",
       "      <td>L334R</td>\n",
       "      <td>NaN</td>\n",
       "      <td>Could not map UniParc to UniProt.</td>\n",
       "    </tr>\n",
       "  </tbody>\n",
       "</table>\n",
       "</div>"
      ],
      "text/plain": [
       "     Mutation_RefSeq_AA uniprot_id refseq_mutation unique_id                              errors\n",
       "1932  NP_009296:p.E268K        NaN           E268K       NaN  Could not map UniParc to UniProt. \n",
       "2063  NP_057685:p.G236R        NaN           G236R       NaN  Could not map UniParc to UniProt. \n",
       "3310    NP_003973:p.T5I        NaN             T5I       NaN  Could not map UniParc to UniProt. \n",
       "3311  NP_003973:p.A140P        NaN           A140P       NaN  Could not map UniParc to UniProt. \n",
       "3312  NP_003973:p.L334R        NaN           L334R       NaN  Could not map UniParc to UniProt. "
      ]
     },
     "execution_count": 25,
     "metadata": {},
     "output_type": "execute_result"
    }
   ],
   "source": [
    "mutation_df_failed[mutation_df_failed['errors'] != ''].tail()"
   ]
  },
  {
   "cell_type": "code",
   "execution_count": 26,
   "metadata": {
    "collapsed": false
   },
   "outputs": [
    {
     "data": {
      "text/plain": [
       "(3914, 5)"
      ]
     },
     "execution_count": 26,
     "metadata": {},
     "output_type": "execute_result"
    }
   ],
   "source": [
    "mutation_df_failed.shape"
   ]
  },
  {
   "cell_type": "markdown",
   "metadata": {
    "run_control": {
     "marked": false
    }
   },
   "source": [
    "## Mutation matches sequence\n",
    "\n",
    "Make sure that the AA in UniProt sequence matches the AA in the RefSeq mutation."
   ]
  },
  {
   "cell_type": "markdown",
   "metadata": {
    "run_control": {
     "marked": false
    }
   },
   "source": [
    "### mutation_df_3"
   ]
  },
  {
   "cell_type": "code",
   "execution_count": 27,
   "metadata": {
    "collapsed": true,
    "run_control": {
     "marked": false
    }
   },
   "outputs": [],
   "source": [
    "mutation_df = mutation_df_2.copy()"
   ]
  },
  {
   "cell_type": "code",
   "execution_count": 28,
   "metadata": {
    "collapsed": true,
    "run_control": {
     "marked": false
    }
   },
   "outputs": [],
   "source": [
    "mutation_df['mutation_matches_sequence'] = (\n",
    "    mutation_df[['refseq_mutation', 'uniprot_sequence']]\n",
    "    .apply(lambda x: ascommon.sequence_tools.mutation_matches_sequence(*x), axis=1)\n",
    ")\n",
    "mutation_df = mutation_df[mutation_df['mutation_matches_sequence']]"
   ]
  },
  {
   "cell_type": "code",
   "execution_count": 29,
   "metadata": {
    "collapsed": false,
    "run_control": {
     "marked": false
    }
   },
   "outputs": [
    {
     "name": "stdout",
     "output_type": "stream",
     "text": [
      "Number of rows: 3521\n",
      "Number of unique RefSeq nucleotide mutations: 2875\n",
      "Number of unique RefSeq amino acid mutations: 2873 <--\n",
      "Number of unique RefSeq / Uniprot nucleotide mutations: 3521\n",
      "Number of unique RefSeq / Uniprot amino acid mutations: 3519\n"
     ]
    }
   ],
   "source": [
    "print(\"Number of rows:\", \n",
    "    mutation_df.shape[0])\n",
    "print(\"Number of unique RefSeq nucleotide mutations:\", \n",
    "    mutation_df.drop_duplicates(subset=['Mutation_RefSeq_NT']).shape[0])\n",
    "print(\"Number of unique RefSeq amino acid mutations:\", \n",
    "    mutation_df.drop_duplicates(subset=['Mutation_RefSeq_AA']).shape[0], \"<--\")\n",
    "print(\"Number of unique RefSeq / Uniprot nucleotide mutations:\", \n",
    "    mutation_df.drop_duplicates(subset=['Mutation_RefSeq_NT', 'uniprot_id']).shape[0])\n",
    "print(\"Number of unique RefSeq / Uniprot amino acid mutations:\", \n",
    "    mutation_df.drop_duplicates(subset=['Mutation_RefSeq_AA', 'uniprot_id']).shape[0])"
   ]
  },
  {
   "cell_type": "markdown",
   "metadata": {
    "run_control": {
     "marked": false
    }
   },
   "source": [
    "Lost **~70** more amino acid mutations because the RefSeq mutation did not match the Uniprot sequence"
   ]
  },
  {
   "cell_type": "code",
   "execution_count": 30,
   "metadata": {
    "collapsed": true,
    "run_control": {
     "marked": false
    }
   },
   "outputs": [],
   "source": [
    "mutation_df_3 = mutation_df.copy()"
   ]
  },
  {
   "cell_type": "code",
   "execution_count": 31,
   "metadata": {
    "collapsed": true,
    "run_control": {
     "marked": false
    }
   },
   "outputs": [],
   "source": [
    "failed_3 = (\n",
    "    set(mutation_df_2['uniprot_id'] + '.' + mutation_df_2['refseq_mutation']) - \n",
    "    set(mutation_df_3['uniprot_id'] + '.' + mutation_df_3['refseq_mutation'])\n",
    ")\n",
    "\n",
    "mutation_df_failed.loc[mutation_df_failed['unique_id'].isin(failed_3), 'errors'] = (\n",
    "    mutation_df_failed.loc[mutation_df_failed['unique_id'].isin(failed_3), 'errors'] + \n",
    "    \"RefSeq protein and UniProt protein do not have the same sequence. \"\n",
    ")"
   ]
  },
  {
   "cell_type": "markdown",
   "metadata": {
    "run_control": {
     "marked": false
    }
   },
   "source": [
    "## Protein has domain(s)\n",
    "\n",
    "Select only those mutations that fall inside a protein domain.\n",
    "\n",
    "### mutation_df_4"
   ]
  },
  {
   "cell_type": "code",
   "execution_count": 32,
   "metadata": {
    "collapsed": false,
    "run_control": {
     "marked": false
    }
   },
   "outputs": [],
   "source": [
    "mutation_df = mutation_df_3.copy()"
   ]
  },
  {
   "cell_type": "code",
   "execution_count": 33,
   "metadata": {
    "collapsed": false,
    "run_control": {
     "marked": false
    }
   },
   "outputs": [],
   "source": [
    "sql_query = \"\"\"\\\n",
    "select uniprot_domain_id, uniprot_id, domain_def, model_domain_def\n",
    "from elaspic.uniprot_domain\n",
    "join elaspic.uniprot_domain_template using (uniprot_domain_id)\n",
    "left join elaspic.uniprot_domain_model using (uniprot_domain_id)\n",
    "where uniprot_id in ('{}');\n",
    "\"\"\".format(\"', '\".join(set(mutation_df['uniprot_id'].values)))\n",
    "uniprot_domain_model = pd.read_sql_query(sql_query, db_remote.engine)"
   ]
  },
  {
   "cell_type": "code",
   "execution_count": 34,
   "metadata": {
    "collapsed": false,
    "run_control": {
     "marked": false
    }
   },
   "outputs": [],
   "source": [
    "mutation_df = (\n",
    "    mutation_df\n",
    "    .merge(uniprot_domain_model, on=['uniprot_id'])\n",
    ")"
   ]
  },
  {
   "cell_type": "code",
   "execution_count": 35,
   "metadata": {
    "collapsed": false,
    "run_control": {
     "marked": false
    }
   },
   "outputs": [],
   "source": [
    "mutation_df['mutation_in_domain'] = (\n",
    "    mutation_df[['refseq_mutation', 'model_domain_def']]\n",
    "        .apply(lambda x: ascommon.sequence_tools.mutation_in_domain(*x), axis=1)\n",
    ")"
   ]
  },
  {
   "cell_type": "code",
   "execution_count": 36,
   "metadata": {
    "collapsed": true,
    "run_control": {
     "marked": false
    }
   },
   "outputs": [],
   "source": [
    "mutation_df.loc[mutation_df['mutation_in_domain'].isnull(), 'mutation_in_domain'] = (\n",
    "    mutation_df.loc[mutation_df['mutation_in_domain'].isnull(), ['refseq_mutation', 'domain_def']]\n",
    "        .apply(lambda x: ascommon.sequence_tools.mutation_in_domain(*x), axis=1)\n",
    ")"
   ]
  },
  {
   "cell_type": "raw",
   "metadata": {
    "collapsed": false,
    "run_control": {
     "marked": false
    }
   },
   "source": [
    "mutation_df['mutation_in_domain'] = (\n",
    "    mutation_df[['refseq_mutation', 'model_domain_def']]\n",
    "        .apply(lambda x: ascommon.sequence_tools.mutation_in_domain(*x), axis=1)\n",
    ")"
   ]
  },
  {
   "cell_type": "code",
   "execution_count": 37,
   "metadata": {
    "collapsed": false,
    "run_control": {
     "marked": false
    }
   },
   "outputs": [
    {
     "name": "stdout",
     "output_type": "stream",
     "text": [
      "Number of rows: 4872\n",
      "Number of unique RefSeq nucleotide mutations: 2524\n",
      "Number of unique RefSeq amino acid mutations: 2523 <--\n",
      "Number of unique RefSeq / Uniprot nucleotide mutations: 3103\n",
      "Number of unique RefSeq / Uniprot amino acid mutations: 3102\n"
     ]
    }
   ],
   "source": [
    "print(\"Number of rows:\", \n",
    "    mutation_df.shape[0])\n",
    "print(\"Number of unique RefSeq nucleotide mutations:\", \n",
    "    mutation_df.drop_duplicates(subset=['Mutation_RefSeq_NT']).shape[0])\n",
    "print(\"Number of unique RefSeq amino acid mutations:\", \n",
    "    mutation_df.drop_duplicates(subset=['Mutation_RefSeq_AA']).shape[0], \"<--\")\n",
    "print(\"Number of unique RefSeq / Uniprot nucleotide mutations:\", \n",
    "    mutation_df.drop_duplicates(subset=['Mutation_RefSeq_NT', 'uniprot_id']).shape[0])\n",
    "print(\"Number of unique RefSeq / Uniprot amino acid mutations:\", \n",
    "    mutation_df.drop_duplicates(subset=['Mutation_RefSeq_AA', 'uniprot_id']).shape[0])"
   ]
  },
  {
   "cell_type": "markdown",
   "metadata": {
    "run_control": {
     "marked": false
    }
   },
   "source": [
    "More than **~300** additional mutations don't fall inside a protein with *any* structural domains."
   ]
  },
  {
   "cell_type": "code",
   "execution_count": 38,
   "metadata": {
    "collapsed": true,
    "run_control": {
     "marked": false
    }
   },
   "outputs": [],
   "source": [
    "mutation_df_4 = mutation_df.copy()"
   ]
  },
  {
   "cell_type": "code",
   "execution_count": 39,
   "metadata": {
    "collapsed": false,
    "run_control": {
     "marked": false
    }
   },
   "outputs": [],
   "source": [
    "failed_4 = (\n",
    "    set(mutation_df_3['uniprot_id'] + '.' + mutation_df_3['refseq_mutation']) - \n",
    "    set(mutation_df_4['uniprot_id'] + '.' + mutation_df_4['refseq_mutation'])\n",
    ")\n",
    "\n",
    "mutation_df_failed.loc[mutation_df_failed['unique_id'].isin(failed_4), 'errors'] = (\n",
    "    mutation_df_failed.loc[mutation_df_failed['unique_id'].isin(failed_4), 'errors'] + \n",
    "    \"Protein has no structural domains. \"\n",
    ")"
   ]
  },
  {
   "cell_type": "markdown",
   "metadata": {
    "run_control": {
     "marked": false
    }
   },
   "source": [
    "## Mutation in domain\n",
    "\n",
    "### mutation_df_5"
   ]
  },
  {
   "cell_type": "code",
   "execution_count": 40,
   "metadata": {
    "collapsed": true,
    "run_control": {
     "marked": false
    }
   },
   "outputs": [],
   "source": [
    "mutation_df = mutation_df_4.copy()"
   ]
  },
  {
   "cell_type": "code",
   "execution_count": 41,
   "metadata": {
    "collapsed": true,
    "run_control": {
     "marked": false
    }
   },
   "outputs": [],
   "source": [
    "mutation_df = mutation_df[mutation_df['mutation_in_domain']]"
   ]
  },
  {
   "cell_type": "code",
   "execution_count": 42,
   "metadata": {
    "collapsed": false,
    "run_control": {
     "marked": false
    }
   },
   "outputs": [
    {
     "name": "stdout",
     "output_type": "stream",
     "text": [
      "Number of rows: 2407\n",
      "Number of unique RefSeq nucleotide mutations: 1965\n",
      "Number of unique RefSeq amino acid mutations: 1964 <--\n",
      "Number of unique RefSeq / Uniprot nucleotide mutations: 2407\n",
      "Number of unique RefSeq / Uniprot amino acid mutations: 2406\n"
     ]
    }
   ],
   "source": [
    "print(\"Number of rows:\", \n",
    "    mutation_df.shape[0])\n",
    "print(\"Number of unique RefSeq nucleotide mutations:\", \n",
    "    mutation_df.drop_duplicates(subset=['Mutation_RefSeq_NT']).shape[0])\n",
    "print(\"Number of unique RefSeq amino acid mutations:\", \n",
    "    mutation_df.drop_duplicates(subset=['Mutation_RefSeq_AA']).shape[0], \"<--\")\n",
    "print(\"Number of unique RefSeq / Uniprot nucleotide mutations:\", \n",
    "    mutation_df.drop_duplicates(subset=['Mutation_RefSeq_NT', 'uniprot_id']).shape[0])\n",
    "print(\"Number of unique RefSeq / Uniprot amino acid mutations:\", \n",
    "    mutation_df.drop_duplicates(subset=['Mutation_RefSeq_AA', 'uniprot_id']).shape[0])"
   ]
  },
  {
   "cell_type": "markdown",
   "metadata": {
    "run_control": {
     "marked": false
    }
   },
   "source": [
    "Another **~550** mutations don't fall inside a domain for which we have a structural model (mostly because there is no structural domain in that region, but also because we didn't get around to making that homology model yet)."
   ]
  },
  {
   "cell_type": "code",
   "execution_count": 43,
   "metadata": {
    "collapsed": true,
    "run_control": {
     "marked": false
    }
   },
   "outputs": [],
   "source": [
    "mutation_df_5 =  mutation_df.copy()"
   ]
  },
  {
   "cell_type": "code",
   "execution_count": 44,
   "metadata": {
    "collapsed": false,
    "run_control": {
     "marked": false
    }
   },
   "outputs": [],
   "source": [
    "failed_5 = (\n",
    "    set(mutation_df_4['uniprot_id'] + '.' + mutation_df_4['refseq_mutation']) - \n",
    "    set(mutation_df_5['uniprot_id'] + '.' + mutation_df_5['refseq_mutation'])\n",
    ")\n",
    "\n",
    "mutation_df_failed.loc[mutation_df_failed['unique_id'].isin(failed_5), 'errors'] = (\n",
    "    mutation_df_failed.loc[mutation_df_failed['unique_id'].isin(failed_5), 'errors'] + \n",
    "    \"Mutation falls outside of all structural domains. \"\n",
    ")"
   ]
  },
  {
   "cell_type": "markdown",
   "metadata": {
    "run_control": {
     "marked": false
    }
   },
   "source": [
    "## ELASPIC\n",
    "\n",
    "This is just to create a spreadsheet for Taipale."
   ]
  },
  {
   "cell_type": "markdown",
   "metadata": {
    "run_control": {
     "marked": false
    }
   },
   "source": [
    "### Load ELASPIC mutations"
   ]
  },
  {
   "cell_type": "code",
   "execution_count": 45,
   "metadata": {
    "collapsed": false,
    "run_control": {
     "marked": false
    }
   },
   "outputs": [],
   "source": [
    "sql_query = \"\"\"\n",
    "select *\n",
    "from elaspic.uniprot_domain_mutation\n",
    "where (uniprot_id, mutation) in ({})\n",
    "\"\"\".format(\n",
    "    ', '.join(mutation_df_5[['uniprot_id', 'refseq_mutation']]\n",
    "        .apply(\n",
    "            lambda x: \"('{}', '{}')\".format(*x), \n",
    "            axis=1)))\n",
    "\n",
    "uniprot_domain_mutation = pd.read_sql_query(sql_query, db_remote.engine)"
   ]
  },
  {
   "cell_type": "code",
   "execution_count": 46,
   "metadata": {
    "collapsed": false,
    "run_control": {
     "marked": false
    }
   },
   "outputs": [
    {
     "data": {
      "text/html": [
       "<div>\n",
       "<table border=\"1\" class=\"dataframe\">\n",
       "  <thead>\n",
       "    <tr style=\"text-align: right;\">\n",
       "      <th></th>\n",
       "      <th>uniprot_id</th>\n",
       "      <th>uniprot_domain_id</th>\n",
       "      <th>mutation</th>\n",
       "      <th>mutation_errors</th>\n",
       "      <th>model_filename_wt</th>\n",
       "      <th>model_filename_mut</th>\n",
       "      <th>chain_modeller</th>\n",
       "      <th>mutation_modeller</th>\n",
       "      <th>stability_energy_wt</th>\n",
       "      <th>stability_energy_mut</th>\n",
       "      <th>physchem_wt</th>\n",
       "      <th>physchem_wt_ownchain</th>\n",
       "      <th>physchem_mut</th>\n",
       "      <th>physchem_mut_ownchain</th>\n",
       "      <th>matrix_score</th>\n",
       "      <th>secondary_structure_wt</th>\n",
       "      <th>solvent_accessibility_wt</th>\n",
       "      <th>secondary_structure_mut</th>\n",
       "      <th>solvent_accessibility_mut</th>\n",
       "      <th>provean_score</th>\n",
       "      <th>ddg</th>\n",
       "      <th>mut_date_modified</th>\n",
       "    </tr>\n",
       "  </thead>\n",
       "  <tbody>\n",
       "    <tr>\n",
       "      <th>0</th>\n",
       "      <td>A0JLS0</td>\n",
       "      <td>125584718</td>\n",
       "      <td>R288Q</td>\n",
       "      <td>None</td>\n",
       "      <td>A0JLS0_R288Q/WT_RepairPDB_A0JLS0_4k0vB_1.pdb</td>\n",
       "      <td>A0JLS0_R288Q/MUT_RepairPDB_A0JLS0_4k0vB_1.pdb</td>\n",
       "      <td>A</td>\n",
       "      <td>R56Q</td>\n",
       "      <td>231.344,-50.5828,-53.2911,-175.13,-4.2952,251....</td>\n",
       "      <td>230.334,-50.1268,-54.5928,-174.587,-3.65515,25...</td>\n",
       "      <td>0,0,0,0</td>\n",
       "      <td>0,0,4,38</td>\n",
       "      <td>0,0,0,0</td>\n",
       "      <td>0,0,4,38</td>\n",
       "      <td>1.0</td>\n",
       "      <td>T</td>\n",
       "      <td>20.88420</td>\n",
       "      <td>T</td>\n",
       "      <td>25.3845</td>\n",
       "      <td>-3.732</td>\n",
       "      <td>0.721349</td>\n",
       "      <td>2015-07-02 03:25:51</td>\n",
       "    </tr>\n",
       "    <tr>\n",
       "      <th>1</th>\n",
       "      <td>A0N0X8</td>\n",
       "      <td>95976016</td>\n",
       "      <td>I462V</td>\n",
       "      <td>None</td>\n",
       "      <td>A0N0X8_I462V/WT_RepairPDB_A0N0X8_4i8vD_1.pdb</td>\n",
       "      <td>A0N0X8_I462V/MUT_RepairPDB_A0N0X8_4i8vD_1.pdb</td>\n",
       "      <td>A</td>\n",
       "      <td>I426V</td>\n",
       "      <td>55.4693,-325.792,-133.796,-596.836,-19.6376,78...</td>\n",
       "      <td>56.5188,-325.792,-133.796,-596.207,-19.6371,78...</td>\n",
       "      <td>0,0,0,0</td>\n",
       "      <td>0,0,0,49</td>\n",
       "      <td>0,0,0,0</td>\n",
       "      <td>0,0,0,49</td>\n",
       "      <td>3.0</td>\n",
       "      <td>H</td>\n",
       "      <td>2.67125</td>\n",
       "      <td>H</td>\n",
       "      <td>2.8616</td>\n",
       "      <td>-0.754</td>\n",
       "      <td>0.462089</td>\n",
       "      <td>2015-07-02 03:33:52</td>\n",
       "    </tr>\n",
       "    <tr>\n",
       "      <th>2</th>\n",
       "      <td>A0N0X8</td>\n",
       "      <td>95976016</td>\n",
       "      <td>T461N</td>\n",
       "      <td>None</td>\n",
       "      <td>A0N0X8_T461N/WT_RepairPDB_A0N0X8_4i8vD_1.pdb</td>\n",
       "      <td>A0N0X8_T461N/MUT_RepairPDB_A0N0X8_4i8vD_1.pdb</td>\n",
       "      <td>A</td>\n",
       "      <td>T425N</td>\n",
       "      <td>55.4693,-325.792,-133.796,-596.836,-19.6376,78...</td>\n",
       "      <td>55.7297,-325.802,-133.796,-596.833,-19.6581,78...</td>\n",
       "      <td>0,0,0,0</td>\n",
       "      <td>0,0,0,25</td>\n",
       "      <td>0,0,0,0</td>\n",
       "      <td>0,0,0,25</td>\n",
       "      <td>0.0</td>\n",
       "      <td>H</td>\n",
       "      <td>50.81100</td>\n",
       "      <td>H</td>\n",
       "      <td>59.0385</td>\n",
       "      <td>-1.859</td>\n",
       "      <td>1.409460</td>\n",
       "      <td>2015-07-02 03:23:36</td>\n",
       "    </tr>\n",
       "    <tr>\n",
       "      <th>3</th>\n",
       "      <td>A2TDB8</td>\n",
       "      <td>33429238</td>\n",
       "      <td>L44P</td>\n",
       "      <td>None</td>\n",
       "      <td>A2TDB8_L44P/WT_RepairPDB_A2TDB8_2o10A_1.pdb</td>\n",
       "      <td>A2TDB8_L44P/MUT_RepairPDB_A2TDB8_2o10A_1.pdb</td>\n",
       "      <td>A</td>\n",
       "      <td>L38P</td>\n",
       "      <td>23.4546,-25.0971,-16.5617,-57.5494,-1.19177,10...</td>\n",
       "      <td>27.3987,-25.0494,-16.5403,-56.2206,-1.19573,10...</td>\n",
       "      <td>0,0,0,0</td>\n",
       "      <td>0,0,0,43</td>\n",
       "      <td>0,0,0,0</td>\n",
       "      <td>0,0,0,43</td>\n",
       "      <td>-3.0</td>\n",
       "      <td>C</td>\n",
       "      <td>8.36953</td>\n",
       "      <td>C</td>\n",
       "      <td>11.7955</td>\n",
       "      <td>-6.883</td>\n",
       "      <td>2.629110</td>\n",
       "      <td>2015-07-02 03:17:54</td>\n",
       "    </tr>\n",
       "    <tr>\n",
       "      <th>4</th>\n",
       "      <td>A2TDC0</td>\n",
       "      <td>82143361</td>\n",
       "      <td>R18Q</td>\n",
       "      <td>None</td>\n",
       "      <td>A2TDC0_R18Q/WT_RepairPDB_A2TDC0_1ya5T_1.pdb</td>\n",
       "      <td>A2TDC0_R18Q/MUT_RepairPDB_A2TDC0_1ya5T_1.pdb</td>\n",
       "      <td>A</td>\n",
       "      <td>R18Q</td>\n",
       "      <td>36.7197,-48.5438,-22.5117,-70.1828,-1.3093,96....</td>\n",
       "      <td>37.1465,-48.2814,-22.2494,-70.076,-1.21892,96....</td>\n",
       "      <td>0,0,0,0</td>\n",
       "      <td>0,0,1,12</td>\n",
       "      <td>0,0,0,0</td>\n",
       "      <td>0,0,1,12</td>\n",
       "      <td>1.0</td>\n",
       "      <td>T</td>\n",
       "      <td>93.70320</td>\n",
       "      <td>T</td>\n",
       "      <td>91.2993</td>\n",
       "      <td>-2.227</td>\n",
       "      <td>-0.203863</td>\n",
       "      <td>2015-07-02 03:17:45</td>\n",
       "    </tr>\n",
       "  </tbody>\n",
       "</table>\n",
       "</div>"
      ],
      "text/plain": [
       "  uniprot_id  uniprot_domain_id mutation mutation_errors                             model_filename_wt                             model_filename_mut chain_modeller mutation_modeller                                stability_energy_wt                               stability_energy_mut physchem_wt physchem_wt_ownchain physchem_mut physchem_mut_ownchain  matrix_score secondary_structure_wt  solvent_accessibility_wt secondary_structure_mut  solvent_accessibility_mut  provean_score       ddg   mut_date_modified\n",
       "0     A0JLS0          125584718    R288Q            None  A0JLS0_R288Q/WT_RepairPDB_A0JLS0_4k0vB_1.pdb  A0JLS0_R288Q/MUT_RepairPDB_A0JLS0_4k0vB_1.pdb              A              R56Q  231.344,-50.5828,-53.2911,-175.13,-4.2952,251....  230.334,-50.1268,-54.5928,-174.587,-3.65515,25...     0,0,0,0             0,0,4,38      0,0,0,0              0,0,4,38           1.0                      T                  20.88420                       T                    25.3845         -3.732  0.721349 2015-07-02 03:25:51\n",
       "1     A0N0X8           95976016    I462V            None  A0N0X8_I462V/WT_RepairPDB_A0N0X8_4i8vD_1.pdb  A0N0X8_I462V/MUT_RepairPDB_A0N0X8_4i8vD_1.pdb              A             I426V  55.4693,-325.792,-133.796,-596.836,-19.6376,78...  56.5188,-325.792,-133.796,-596.207,-19.6371,78...     0,0,0,0             0,0,0,49      0,0,0,0              0,0,0,49           3.0                      H                   2.67125                       H                     2.8616         -0.754  0.462089 2015-07-02 03:33:52\n",
       "2     A0N0X8           95976016    T461N            None  A0N0X8_T461N/WT_RepairPDB_A0N0X8_4i8vD_1.pdb  A0N0X8_T461N/MUT_RepairPDB_A0N0X8_4i8vD_1.pdb              A             T425N  55.4693,-325.792,-133.796,-596.836,-19.6376,78...  55.7297,-325.802,-133.796,-596.833,-19.6581,78...     0,0,0,0             0,0,0,25      0,0,0,0              0,0,0,25           0.0                      H                  50.81100                       H                    59.0385         -1.859  1.409460 2015-07-02 03:23:36\n",
       "3     A2TDB8           33429238     L44P            None   A2TDB8_L44P/WT_RepairPDB_A2TDB8_2o10A_1.pdb   A2TDB8_L44P/MUT_RepairPDB_A2TDB8_2o10A_1.pdb              A              L38P  23.4546,-25.0971,-16.5617,-57.5494,-1.19177,10...  27.3987,-25.0494,-16.5403,-56.2206,-1.19573,10...     0,0,0,0             0,0,0,43      0,0,0,0              0,0,0,43          -3.0                      C                   8.36953                       C                    11.7955         -6.883  2.629110 2015-07-02 03:17:54\n",
       "4     A2TDC0           82143361     R18Q            None   A2TDC0_R18Q/WT_RepairPDB_A2TDC0_1ya5T_1.pdb   A2TDC0_R18Q/MUT_RepairPDB_A2TDC0_1ya5T_1.pdb              A              R18Q  36.7197,-48.5438,-22.5117,-70.1828,-1.3093,96....  37.1465,-48.2814,-22.2494,-70.076,-1.21892,96....     0,0,0,0             0,0,1,12      0,0,0,0              0,0,1,12           1.0                      T                  93.70320                       T                    91.2993         -2.227 -0.203863 2015-07-02 03:17:45"
      ]
     },
     "metadata": {},
     "output_type": "display_data"
    },
    {
     "data": {
      "text/plain": [
       "(2401, 22)"
      ]
     },
     "execution_count": 46,
     "metadata": {},
     "output_type": "execute_result"
    }
   ],
   "source": [
    "display(uniprot_domain_mutation.head())\n",
    "uniprot_domain_mutation.shape"
   ]
  },
  {
   "cell_type": "code",
   "execution_count": 47,
   "metadata": {
    "collapsed": false
   },
   "outputs": [
    {
     "data": {
      "text/html": [
       "<div>\n",
       "<table border=\"1\" class=\"dataframe\">\n",
       "  <thead>\n",
       "    <tr style=\"text-align: right;\">\n",
       "      <th></th>\n",
       "      <th>Mutation_RefSeq_AA</th>\n",
       "      <th>uniprot_id</th>\n",
       "      <th>refseq_mutation</th>\n",
       "      <th>unique_id</th>\n",
       "      <th>errors</th>\n",
       "    </tr>\n",
       "  </thead>\n",
       "  <tbody>\n",
       "    <tr>\n",
       "      <th>0</th>\n",
       "      <td>NP_000005:p.C972Y</td>\n",
       "      <td>P01023</td>\n",
       "      <td>C972Y</td>\n",
       "      <td>P01023.C972Y</td>\n",
       "      <td></td>\n",
       "    </tr>\n",
       "    <tr>\n",
       "      <th>1</th>\n",
       "      <td>NP_000005:p.V1000I</td>\n",
       "      <td>P01023</td>\n",
       "      <td>V1000I</td>\n",
       "      <td>P01023.V1000I</td>\n",
       "      <td>RefSeq protein and UniProt protein do not have...</td>\n",
       "    </tr>\n",
       "    <tr>\n",
       "      <th>2</th>\n",
       "      <td>NP_059132:p.C96Y</td>\n",
       "      <td>Q9NPC4</td>\n",
       "      <td>C96Y</td>\n",
       "      <td>Q9NPC4.C96Y</td>\n",
       "      <td>Protein has no structural domains.</td>\n",
       "    </tr>\n",
       "    <tr>\n",
       "      <th>3</th>\n",
       "      <td>NP_059132:p.S100L</td>\n",
       "      <td>Q9NPC4</td>\n",
       "      <td>S100L</td>\n",
       "      <td>Q9NPC4.S100L</td>\n",
       "      <td>Protein has no structural domains.</td>\n",
       "    </tr>\n",
       "    <tr>\n",
       "      <th>4</th>\n",
       "      <td>NP_059132:p.M183K</td>\n",
       "      <td>Q9NPC4</td>\n",
       "      <td>M183K</td>\n",
       "      <td>Q9NPC4.M183K</td>\n",
       "      <td>Protein has no structural domains.</td>\n",
       "    </tr>\n",
       "  </tbody>\n",
       "</table>\n",
       "</div>"
      ],
      "text/plain": [
       "   Mutation_RefSeq_AA uniprot_id refseq_mutation      unique_id                                             errors\n",
       "0   NP_000005:p.C972Y     P01023           C972Y   P01023.C972Y                                                   \n",
       "1  NP_000005:p.V1000I     P01023          V1000I  P01023.V1000I  RefSeq protein and UniProt protein do not have...\n",
       "2    NP_059132:p.C96Y     Q9NPC4            C96Y    Q9NPC4.C96Y                Protein has no structural domains. \n",
       "3   NP_059132:p.S100L     Q9NPC4           S100L   Q9NPC4.S100L                Protein has no structural domains. \n",
       "4   NP_059132:p.M183K     Q9NPC4           M183K   Q9NPC4.M183K                Protein has no structural domains. "
      ]
     },
     "execution_count": 47,
     "metadata": {},
     "output_type": "execute_result"
    }
   ],
   "source": [
    "mutation_df_failed.head()"
   ]
  },
  {
   "cell_type": "code",
   "execution_count": 48,
   "metadata": {
    "collapsed": false,
    "run_control": {
     "marked": false
    }
   },
   "outputs": [],
   "source": [
    "nonfailed = set(\n",
    "    mutation_df_failed[mutation_df_failed['errors'] == '']['uniprot_id'] + '.' +\n",
    "    mutation_df_failed[mutation_df_failed['errors'] == '']['refseq_mutation']\n",
    ")\n",
    "elaspic_mutations = set(uniprot_domain_mutation['uniprot_id'] + '.' + uniprot_domain_mutation['mutation'])"
   ]
  },
  {
   "cell_type": "code",
   "execution_count": 49,
   "metadata": {
    "collapsed": false,
    "run_control": {
     "marked": false
    }
   },
   "outputs": [],
   "source": [
    "failed_6 = set(mutation_df_5['uniprot_id'] + '.' + mutation_df_5['refseq_mutation'])\n",
    "failed_6 = set(x for x in failed_6 if x not in elaspic_mutations and x in nonfailed)"
   ]
  },
  {
   "cell_type": "code",
   "execution_count": 50,
   "metadata": {
    "collapsed": false,
    "run_control": {
     "marked": false
    }
   },
   "outputs": [
    {
     "name": "stdout",
     "output_type": "stream",
     "text": [
      "Unexplaind failures:                                        5\n"
     ]
    }
   ],
   "source": [
    "print2(\"Unexplaind failures:\", len(failed_6))\n",
    "# 37"
   ]
  },
  {
   "cell_type": "markdown",
   "metadata": {
    "run_control": {
     "marked": false
    }
   },
   "source": [
    "### Calculate missing"
   ]
  },
  {
   "cell_type": "raw",
   "metadata": {
    "run_control": {
     "marked": false
    }
   },
   "source": [
    "# Unset model errors\n",
    "sql_query = \"\"\"\n",
    "select *\n",
    "from elaspic.uniprot_domain_model\n",
    "where uniprot_domain_id not in (select uniprot_domain_id from elaspic.uniprot_domain_mutation)\n",
    "and uniprot_domain_id in (select uniprot_domain_id from elaspic.uniprot_domain where uniprot_id in ('{}'));\n",
    "\"\"\".format(\"', '\".join(set(x.split('.')[0] for x in failed_6.values())))\n",
    "print(sql_query)"
   ]
  },
  {
   "cell_type": "raw",
   "metadata": {
    "code_folding": [],
    "run_control": {
     "marked": false
    }
   },
   "source": [
    "# Prepare system commands for missing mutations\n",
    "# CONFIG_FILE = '/home/kimlab1/strokach/working/elaspic/config/config_file_mysql.ini'\n",
    "PDB_DIR = '/home/kimlab1/database_data/pdb/data/data/structures/divided/pdb'\n",
    "BLAST_DB_DIR = '/home/kimlab1/database_data/blast/db'\n",
    "ARCHIVE_DIR = '/home/kimlab1/database_data/elaspic_v2'\n",
    "\n",
    "system_command_template = \"\"\"\\\n",
    "elaspic run \\\n",
    "    --connection_string='{connection_string}' \\\n",
    "    --pdb_dir='{pdb_dir}' \\\n",
    "    --blast_db_dir='{blast_db_dir}' \\\n",
    "    --archive_dir='{archive_dir}' \\\n",
    "    -u '{uniprot_id}' -m '{mutation}' -vvv \\\n",
    "\"\"\"\n",
    "\n",
    "system_commands = []\n",
    "for i, uniprot_id_mutation in enumerate(failed_6.values()):\n",
    "    uniprot_id, mutation = uniprot_id_mutation.split('.')\n",
    "    system_command = (\n",
    "        system_command_template.format(\n",
    "            connection_string=db_remote.connection_string + '/elaspic',\n",
    "            pdb_dir=PDB_DIR,\n",
    "            blast_db_dir=BLAST_DB_DIR,\n",
    "            archive_dir=ARCHIVE_DIR,\n",
    "            uniprot_id=uniprot_id,\n",
    "            mutation=mutation,\n",
    "        )\n",
    "    )\n",
    "    system_commands.append((i, system_command))"
   ]
  },
  {
   "cell_type": "raw",
   "metadata": {
    "run_control": {
     "marked": false
    }
   },
   "source": [
    "!{system_commands[0][1]}"
   ]
  },
  {
   "cell_type": "raw",
   "metadata": {
    "code_folding": [],
    "run_control": {
     "marked": false
    }
   },
   "source": [
    "# Prepare jobsubmitter\n",
    "PATH = (\n",
    "    '/home/kimlab1/strokach/anaconda/bin:/usr/local/bin:/bin:/usr/bin:/usr/local/sbin:/usr/sbin:/sbin'\n",
    ")\n",
    "\n",
    "js_banting = ascommon.cluster_tools.JobSubmitter(\n",
    "    'taipale_to_calculate', 'pbs://:@192.168.233.150', op.abspath(NOTEBOOK_NAME),\n",
    "    email='ostrokach@gmail.com', force_new_folder=False,\n",
    "    nproc=1, queue='medium', walltime='2:00:00', mem='2G',\n",
    "    env={'PATH': PATH}\n",
    ")"
   ]
  },
  {
   "cell_type": "raw",
   "metadata": {
    "run_control": {
     "marked": false
    }
   },
   "source": [
    "with js_banting.connect():\n",
    "    js_banting.submit(system_commands)"
   ]
  },
  {
   "cell_type": "raw",
   "metadata": {
    "run_control": {
     "marked": false
    }
   },
   "source": [
    "with js_banting.connect():\n",
    "    results_df = js_banting.job_status(system_commands)"
   ]
  },
  {
   "cell_type": "markdown",
   "metadata": {
    "run_control": {
     "marked": false
    }
   },
   "source": [
    "### Iterate on the above\n",
    "\n",
    "\n",
    "    ..."
   ]
  },
  {
   "cell_type": "markdown",
   "metadata": {
    "run_control": {
     "marked": false
    }
   },
   "source": [
    "### mutation_df_failed"
   ]
  },
  {
   "cell_type": "code",
   "execution_count": 51,
   "metadata": {
    "collapsed": true,
    "run_control": {
     "marked": false
    }
   },
   "outputs": [],
   "source": [
    "mutation_df_failed.loc[\n",
    "    (mutation_df_failed['uniprot_id'] + '.' + mutation_df_failed['refseq_mutation']).isin(failed_6), \n",
    "    'errors'\n",
    "] = (\n",
    "    \"Error making homology model (probably low sequence identity). \"\n",
    ")"
   ]
  },
  {
   "cell_type": "code",
   "execution_count": 52,
   "metadata": {
    "collapsed": true,
    "run_control": {
     "marked": false
    }
   },
   "outputs": [],
   "source": [
    "assert not set(mutation_df_failed['Mutation_RefSeq_AA']) ^ set(mutation_df_1['Mutation_RefSeq_AA'])"
   ]
  },
  {
   "cell_type": "markdown",
   "metadata": {
    "run_control": {
     "marked": false
    }
   },
   "source": [
    "# Load histone interaction data\n",
    "\n",
    "### mmc2_s2a"
   ]
  },
  {
   "cell_type": "code",
   "execution_count": 53,
   "metadata": {
    "collapsed": true,
    "run_control": {
     "marked": false
    }
   },
   "outputs": [],
   "source": [
    "mmc2_s2a = pd.read_excel('../downloads/taipale/mmc2.xlsx', 'Table S2A')"
   ]
  },
  {
   "cell_type": "code",
   "execution_count": 54,
   "metadata": {
    "collapsed": false,
    "run_control": {
     "marked": false
    }
   },
   "outputs": [
    {
     "data": {
      "text/html": [
       "<div>\n",
       "<table border=\"1\" class=\"dataframe\">\n",
       "  <thead>\n",
       "    <tr style=\"text-align: right;\">\n",
       "      <th></th>\n",
       "      <th>Category</th>\n",
       "      <th>Symbol</th>\n",
       "      <th>Entrez_Gene_ID</th>\n",
       "      <th>Allele_ID</th>\n",
       "      <th>Mutation_RefSeq_NT</th>\n",
       "      <th>Mutation_RefSeq_AA</th>\n",
       "      <th>WT_ELISA_score</th>\n",
       "      <th>Mut_ELISA_score</th>\n",
       "      <th>Both_expressed</th>\n",
       "      <th>WT_interaction_score</th>\n",
       "      <th>Mut_interaction_score</th>\n",
       "      <th>Differential_Z_score</th>\n",
       "      <th>Interact</th>\n",
       "      <th>Quality_control_factor_common</th>\n",
       "      <th>Quality_control_factor_official</th>\n",
       "    </tr>\n",
       "  </thead>\n",
       "  <tbody>\n",
       "    <tr>\n",
       "      <th>0</th>\n",
       "      <td>Disease mutation</td>\n",
       "      <td>A4GALT</td>\n",
       "      <td>53947</td>\n",
       "      <td>53947_1850</td>\n",
       "      <td>NM_017436:c.287G&gt;A</td>\n",
       "      <td>NP_059132:p.C96Y</td>\n",
       "      <td>0.51</td>\n",
       "      <td>0.79</td>\n",
       "      <td>1</td>\n",
       "      <td>1.398952</td>\n",
       "      <td>4.766989</td>\n",
       "      <td>3.105452</td>\n",
       "      <td>yes</td>\n",
       "      <td>BAG2</td>\n",
       "      <td>BAG2</td>\n",
       "    </tr>\n",
       "    <tr>\n",
       "      <th>1</th>\n",
       "      <td>Disease mutation</td>\n",
       "      <td>A4GALT</td>\n",
       "      <td>53947</td>\n",
       "      <td>53947_1852</td>\n",
       "      <td>NM_017436:c.299C&gt;T</td>\n",
       "      <td>NP_059132:p.S100L</td>\n",
       "      <td>0.51</td>\n",
       "      <td>0.71</td>\n",
       "      <td>1</td>\n",
       "      <td>1.398952</td>\n",
       "      <td>5.029331</td>\n",
       "      <td>3.347341</td>\n",
       "      <td>yes</td>\n",
       "      <td>BAG2</td>\n",
       "      <td>BAG2</td>\n",
       "    </tr>\n",
       "  </tbody>\n",
       "</table>\n",
       "</div>"
      ],
      "text/plain": [
       "           Category  Symbol  Entrez_Gene_ID   Allele_ID  Mutation_RefSeq_NT Mutation_RefSeq_AA  WT_ELISA_score  Mut_ELISA_score  Both_expressed  WT_interaction_score  Mut_interaction_score  Differential_Z_score Interact Quality_control_factor_common Quality_control_factor_official\n",
       "0  Disease mutation  A4GALT           53947  53947_1850  NM_017436:c.287G>A   NP_059132:p.C96Y            0.51             0.79               1              1.398952               4.766989              3.105452      yes                          BAG2                            BAG2\n",
       "1  Disease mutation  A4GALT           53947  53947_1852  NM_017436:c.299C>T  NP_059132:p.S100L            0.51             0.71               1              1.398952               5.029331              3.347341      yes                          BAG2                            BAG2"
      ]
     },
     "metadata": {},
     "output_type": "display_data"
    },
    {
     "name": "stdout",
     "output_type": "stream",
     "text": [
      "16464\n",
      "2402\n"
     ]
    }
   ],
   "source": [
    "display(mmc2_s2a.head(2))\n",
    "print(mmc2_s2a.shape[0])\n",
    "print(mmc2_s2a.drop_duplicates(subset=['Mutation_RefSeq_NT']).shape[0])\n",
    "\n",
    "assert not set(mmc2_s2a['Mutation_RefSeq_NT']) - set(mutation_df_1['Mutation_RefSeq_NT'])"
   ]
  },
  {
   "cell_type": "code",
   "execution_count": 55,
   "metadata": {
    "collapsed": true,
    "run_control": {
     "marked": false
    }
   },
   "outputs": [],
   "source": [
    "mmc2_s2a.drop(pd.Index(['Category', 'Symbol', 'Entrez_Gene_ID', 'Allele_ID', 'Mutation_RefSeq_AA']), axis=1, inplace=True)"
   ]
  },
  {
   "cell_type": "markdown",
   "metadata": {
    "run_control": {
     "marked": false
    }
   },
   "source": [
    "# Load FoldX predictions\n",
    "\n",
    "### mmc2_s2b"
   ]
  },
  {
   "cell_type": "code",
   "execution_count": 56,
   "metadata": {
    "collapsed": true,
    "run_control": {
     "marked": false
    }
   },
   "outputs": [],
   "source": [
    "mmc2_s2b = pd.read_excel('../downloads/taipale/mmc2.xlsx', 'Table S2B')"
   ]
  },
  {
   "cell_type": "code",
   "execution_count": 57,
   "metadata": {
    "collapsed": false,
    "run_control": {
     "marked": false
    }
   },
   "outputs": [
    {
     "data": {
      "text/html": [
       "<div>\n",
       "<table border=\"1\" class=\"dataframe\">\n",
       "  <thead>\n",
       "    <tr style=\"text-align: right;\">\n",
       "      <th></th>\n",
       "      <th>Category</th>\n",
       "      <th>Symbol</th>\n",
       "      <th>Entrez_Gene_ID</th>\n",
       "      <th>Allele_ID</th>\n",
       "      <th>Mutation_RefSeq_NT</th>\n",
       "      <th>Mutation_RefSeq_AA</th>\n",
       "      <th>FoldX_value</th>\n",
       "    </tr>\n",
       "  </thead>\n",
       "  <tbody>\n",
       "    <tr>\n",
       "      <th>0</th>\n",
       "      <td>Disease mutation</td>\n",
       "      <td>ACAT1</td>\n",
       "      <td>38</td>\n",
       "      <td>38_16884</td>\n",
       "      <td>NM_000019:c.218A&gt;C</td>\n",
       "      <td>NP_000010:p.Q73P</td>\n",
       "      <td>7.841320</td>\n",
       "    </tr>\n",
       "    <tr>\n",
       "      <th>1</th>\n",
       "      <td>Disease mutation</td>\n",
       "      <td>ACAT1</td>\n",
       "      <td>38</td>\n",
       "      <td>38_16885</td>\n",
       "      <td>NM_000019:c.278A&gt;G</td>\n",
       "      <td>NP_000010:p.N93S</td>\n",
       "      <td>0.236651</td>\n",
       "    </tr>\n",
       "  </tbody>\n",
       "</table>\n",
       "</div>"
      ],
      "text/plain": [
       "           Category Symbol  Entrez_Gene_ID Allele_ID  Mutation_RefSeq_NT Mutation_RefSeq_AA  FoldX_value\n",
       "0  Disease mutation  ACAT1              38  38_16884  NM_000019:c.218A>C   NP_000010:p.Q73P     7.841320\n",
       "1  Disease mutation  ACAT1              38  38_16885  NM_000019:c.278A>G   NP_000010:p.N93S     0.236651"
      ]
     },
     "metadata": {},
     "output_type": "display_data"
    }
   ],
   "source": [
    "display(mmc2_s2b.head(2))\n",
    "\n",
    "assert not set(mmc2_s2b['Mutation_RefSeq_NT']) - set(mutation_df_1['Mutation_RefSeq_NT'])"
   ]
  },
  {
   "cell_type": "code",
   "execution_count": 58,
   "metadata": {
    "collapsed": true,
    "run_control": {
     "marked": false
    }
   },
   "outputs": [],
   "source": [
    "mmc2_s2b.drop(pd.Index(['Category', 'Symbol', 'Entrez_Gene_ID', 'Allele_ID', 'Mutation_RefSeq_AA']), axis=1, inplace=True)"
   ]
  },
  {
   "cell_type": "markdown",
   "metadata": {
    "run_control": {
     "marked": false
    }
   },
   "source": [
    "# Save"
   ]
  },
  {
   "cell_type": "markdown",
   "metadata": {
    "run_control": {
     "marked": false
    }
   },
   "source": [
    "### mutation_df_5"
   ]
  },
  {
   "cell_type": "code",
   "execution_count": 59,
   "metadata": {
    "collapsed": true,
    "run_control": {
     "marked": false
    }
   },
   "outputs": [],
   "source": [
    "mutation_df = mutation_df_5.copy()"
   ]
  },
  {
   "cell_type": "code",
   "execution_count": 60,
   "metadata": {
    "collapsed": true,
    "run_control": {
     "marked": false
    }
   },
   "outputs": [],
   "source": [
    "assert mutation_df['mutation_matches_sequence'].all()\n",
    "assert mutation_df['mutation_in_domain'].all()"
   ]
  },
  {
   "cell_type": "code",
   "execution_count": 61,
   "metadata": {
    "collapsed": false,
    "run_control": {
     "marked": false
    }
   },
   "outputs": [
    {
     "data": {
      "text/html": [
       "<div>\n",
       "<table border=\"1\" class=\"dataframe\">\n",
       "  <thead>\n",
       "    <tr style=\"text-align: right;\">\n",
       "      <th></th>\n",
       "      <th>uniprot_id</th>\n",
       "      <th>refseq_mutation</th>\n",
       "    </tr>\n",
       "  </thead>\n",
       "  <tbody>\n",
       "    <tr>\n",
       "      <th>2</th>\n",
       "      <td>P01023</td>\n",
       "      <td>C972Y</td>\n",
       "    </tr>\n",
       "    <tr>\n",
       "      <th>6</th>\n",
       "      <td>Q9NRG9</td>\n",
       "      <td>S263P</td>\n",
       "    </tr>\n",
       "    <tr>\n",
       "      <th>7</th>\n",
       "      <td>Q9NRG9</td>\n",
       "      <td>L381R</td>\n",
       "    </tr>\n",
       "    <tr>\n",
       "      <th>8</th>\n",
       "      <td>Q9NRG9</td>\n",
       "      <td>L430F</td>\n",
       "    </tr>\n",
       "    <tr>\n",
       "      <th>9</th>\n",
       "      <td>F1T0I5</td>\n",
       "      <td>A129T</td>\n",
       "    </tr>\n",
       "  </tbody>\n",
       "</table>\n",
       "</div>"
      ],
      "text/plain": [
       "  uniprot_id refseq_mutation\n",
       "2     P01023           C972Y\n",
       "6     Q9NRG9           S263P\n",
       "7     Q9NRG9           L381R\n",
       "8     Q9NRG9           L430F\n",
       "9     F1T0I5           A129T"
      ]
     },
     "execution_count": 61,
     "metadata": {},
     "output_type": "execute_result"
    }
   ],
   "source": [
    "mutation_df[['uniprot_id', 'refseq_mutation']].head()"
   ]
  },
  {
   "cell_type": "code",
   "execution_count": 62,
   "metadata": {
    "collapsed": false,
    "run_control": {
     "marked": false
    }
   },
   "outputs": [],
   "source": [
    "mutation_df.columns = datapkg.format_columns(mutation_df.columns)"
   ]
  },
  {
   "cell_type": "code",
   "execution_count": 63,
   "metadata": {
    "collapsed": false,
    "run_control": {
     "marked": false
    }
   },
   "outputs": [
    {
     "data": {
      "text/html": [
       "<div>\n",
       "<table border=\"1\" class=\"dataframe\">\n",
       "  <thead>\n",
       "    <tr style=\"text-align: right;\">\n",
       "      <th></th>\n",
       "      <th>category</th>\n",
       "      <th>symbol</th>\n",
       "      <th>entrez_gene_id</th>\n",
       "      <th>allele_id</th>\n",
       "      <th>mutation_refseq_nt</th>\n",
       "      <th>mutation_refseq_aa</th>\n",
       "      <th>hgmd_accession</th>\n",
       "      <th>hgmd_variant_class</th>\n",
       "      <th>db_snp_id</th>\n",
       "      <th>disease</th>\n",
       "      <th>refseq_id</th>\n",
       "      <th>refseq_mutation</th>\n",
       "      <th>uniprot_id</th>\n",
       "      <th>id</th>\n",
       "      <th>identifier_id</th>\n",
       "      <th>identifier_type</th>\n",
       "      <th>db</th>\n",
       "      <th>uniprot_name</th>\n",
       "      <th>protein_name</th>\n",
       "      <th>organism_name</th>\n",
       "      <th>gene_name</th>\n",
       "      <th>protein_existence</th>\n",
       "      <th>sequence_version</th>\n",
       "      <th>uniprot_sequence</th>\n",
       "      <th>mutation_matches_sequence</th>\n",
       "      <th>uniprot_domain_id</th>\n",
       "      <th>domain_def</th>\n",
       "      <th>model_domain_def</th>\n",
       "      <th>mutation_in_domain</th>\n",
       "    </tr>\n",
       "  </thead>\n",
       "  <tbody>\n",
       "    <tr>\n",
       "      <th>2</th>\n",
       "      <td>Disease mutation</td>\n",
       "      <td>A2M</td>\n",
       "      <td>2</td>\n",
       "      <td>2_18118</td>\n",
       "      <td>NM_000014:c.2915G&gt;A</td>\n",
       "      <td>NP_000005:p.C972Y</td>\n",
       "      <td>CM920001</td>\n",
       "      <td>DM</td>\n",
       "      <td>rs1800433</td>\n",
       "      <td>Chronic obstructive pulmonary disease</td>\n",
       "      <td>NP_000005</td>\n",
       "      <td>C972Y</td>\n",
       "      <td>P01023</td>\n",
       "      <td>61589</td>\n",
       "      <td>NP_000005.2</td>\n",
       "      <td>RefSeq</td>\n",
       "      <td>sp</td>\n",
       "      <td>A2MG_HUMAN</td>\n",
       "      <td>Alpha-2-macroglobulin</td>\n",
       "      <td>Homo sapiens</td>\n",
       "      <td>A2M</td>\n",
       "      <td>1.0</td>\n",
       "      <td>3.0</td>\n",
       "      <td>MGKNKLLHPSLVLLLLVLLPTDASVSGKPQYMVLVPSLLHTETTEK...</td>\n",
       "      <td>True</td>\n",
       "      <td>52474282</td>\n",
       "      <td>958:1270</td>\n",
       "      <td>958:1270</td>\n",
       "      <td>True</td>\n",
       "    </tr>\n",
       "    <tr>\n",
       "      <th>6</th>\n",
       "      <td>Disease mutation</td>\n",
       "      <td>AAAS</td>\n",
       "      <td>8086</td>\n",
       "      <td>8086_5619</td>\n",
       "      <td>NM_015665:c.787T&gt;C</td>\n",
       "      <td>NP_056480:p.S263P</td>\n",
       "      <td>CM010150</td>\n",
       "      <td>DM</td>\n",
       "      <td>rs121918550</td>\n",
       "      <td>Triple-A syndrome</td>\n",
       "      <td>NP_056480</td>\n",
       "      <td>S263P</td>\n",
       "      <td>Q9NRG9</td>\n",
       "      <td>798718245</td>\n",
       "      <td>NP_056480.1</td>\n",
       "      <td>RefSeq</td>\n",
       "      <td>sp</td>\n",
       "      <td>AAAS_HUMAN</td>\n",
       "      <td>Aladin</td>\n",
       "      <td>Homo sapiens</td>\n",
       "      <td>AAAS</td>\n",
       "      <td>1.0</td>\n",
       "      <td>1.0</td>\n",
       "      <td>MCSLGLFPPPPPRGQVTLYEHNNELVTGSSYESPPPDFRGQWINLP...</td>\n",
       "      <td>True</td>\n",
       "      <td>108303701</td>\n",
       "      <td>122:487</td>\n",
       "      <td>130:487</td>\n",
       "      <td>True</td>\n",
       "    </tr>\n",
       "  </tbody>\n",
       "</table>\n",
       "</div>"
      ],
      "text/plain": [
       "           category symbol  entrez_gene_id  allele_id   mutation_refseq_nt mutation_refseq_aa hgmd_accession hgmd_variant_class    db_snp_id                                disease  refseq_id refseq_mutation uniprot_id         id identifier_id identifier_type  db uniprot_name           protein_name organism_name gene_name  protein_existence  sequence_version                                   uniprot_sequence mutation_matches_sequence  uniprot_domain_id domain_def model_domain_def mutation_in_domain\n",
       "2  Disease mutation    A2M               2    2_18118  NM_000014:c.2915G>A  NP_000005:p.C972Y       CM920001                 DM    rs1800433  Chronic obstructive pulmonary disease  NP_000005           C972Y     P01023      61589   NP_000005.2          RefSeq  sp   A2MG_HUMAN  Alpha-2-macroglobulin  Homo sapiens       A2M                1.0               3.0  MGKNKLLHPSLVLLLLVLLPTDASVSGKPQYMVLVPSLLHTETTEK...                      True           52474282   958:1270         958:1270               True\n",
       "6  Disease mutation   AAAS            8086  8086_5619   NM_015665:c.787T>C  NP_056480:p.S263P       CM010150                 DM  rs121918550                      Triple-A syndrome  NP_056480           S263P     Q9NRG9  798718245   NP_056480.1          RefSeq  sp   AAAS_HUMAN                 Aladin  Homo sapiens      AAAS                1.0               1.0  MCSLGLFPPPPPRGQVTLYEHNNELVTGSSYESPPPDFRGQWINLP...                      True          108303701    122:487          130:487               True"
      ]
     },
     "metadata": {},
     "output_type": "display_data"
    },
    {
     "name": "stdout",
     "output_type": "stream",
     "text": [
      "2407\n"
     ]
    }
   ],
   "source": [
    "display(mutation_df.head(2))\n",
    "print(mutation_df.shape[0])"
   ]
  },
  {
   "cell_type": "code",
   "execution_count": 64,
   "metadata": {
    "collapsed": true,
    "run_control": {
     "marked": false
    }
   },
   "outputs": [],
   "source": [
    "columns_to_keep = [\n",
    "    'category', 'symbol', 'entrez_gene_id', 'allele_id', \n",
    "    'mutation_refseq_nt', 'mutation_refseq_aa', 'hgmd_accession', 'hgmd_variant_class', 'db_snp_id', 'disease', \n",
    "    # RefSeq info (processed)\n",
    "    'refseq_id', 'refseq_mutation', \n",
    "    # UniProt info\n",
    "    'uniprot_id', 'uniprot_domain_id', 'model_domain_def'\n",
    "]"
   ]
  },
  {
   "cell_type": "code",
   "execution_count": 65,
   "metadata": {
    "collapsed": false,
    "run_control": {
     "marked": false
    }
   },
   "outputs": [
    {
     "data": {
      "text/html": [
       "<div>\n",
       "<table border=\"1\" class=\"dataframe\">\n",
       "  <thead>\n",
       "    <tr style=\"text-align: right;\">\n",
       "      <th></th>\n",
       "      <th>category</th>\n",
       "      <th>symbol</th>\n",
       "      <th>entrez_gene_id</th>\n",
       "      <th>allele_id</th>\n",
       "      <th>mutation_refseq_nt</th>\n",
       "      <th>mutation_refseq_aa</th>\n",
       "      <th>hgmd_accession</th>\n",
       "      <th>hgmd_variant_class</th>\n",
       "      <th>db_snp_id</th>\n",
       "      <th>disease</th>\n",
       "      <th>refseq_id</th>\n",
       "      <th>refseq_mutation</th>\n",
       "      <th>uniprot_id</th>\n",
       "      <th>uniprot_domain_id</th>\n",
       "      <th>model_domain_def</th>\n",
       "    </tr>\n",
       "  </thead>\n",
       "  <tbody>\n",
       "    <tr>\n",
       "      <th>2</th>\n",
       "      <td>Disease mutation</td>\n",
       "      <td>A2M</td>\n",
       "      <td>2</td>\n",
       "      <td>2_18118</td>\n",
       "      <td>NM_000014:c.2915G&gt;A</td>\n",
       "      <td>NP_000005:p.C972Y</td>\n",
       "      <td>CM920001</td>\n",
       "      <td>DM</td>\n",
       "      <td>rs1800433</td>\n",
       "      <td>Chronic obstructive pulmonary disease</td>\n",
       "      <td>NP_000005</td>\n",
       "      <td>C972Y</td>\n",
       "      <td>P01023</td>\n",
       "      <td>52474282</td>\n",
       "      <td>958:1270</td>\n",
       "    </tr>\n",
       "    <tr>\n",
       "      <th>6</th>\n",
       "      <td>Disease mutation</td>\n",
       "      <td>AAAS</td>\n",
       "      <td>8086</td>\n",
       "      <td>8086_5619</td>\n",
       "      <td>NM_015665:c.787T&gt;C</td>\n",
       "      <td>NP_056480:p.S263P</td>\n",
       "      <td>CM010150</td>\n",
       "      <td>DM</td>\n",
       "      <td>rs121918550</td>\n",
       "      <td>Triple-A syndrome</td>\n",
       "      <td>NP_056480</td>\n",
       "      <td>S263P</td>\n",
       "      <td>Q9NRG9</td>\n",
       "      <td>108303701</td>\n",
       "      <td>130:487</td>\n",
       "    </tr>\n",
       "  </tbody>\n",
       "</table>\n",
       "</div>"
      ],
      "text/plain": [
       "           category symbol  entrez_gene_id  allele_id   mutation_refseq_nt mutation_refseq_aa hgmd_accession hgmd_variant_class    db_snp_id                                disease  refseq_id refseq_mutation uniprot_id  uniprot_domain_id model_domain_def\n",
       "2  Disease mutation    A2M               2    2_18118  NM_000014:c.2915G>A  NP_000005:p.C972Y       CM920001                 DM    rs1800433  Chronic obstructive pulmonary disease  NP_000005           C972Y     P01023           52474282         958:1270\n",
       "6  Disease mutation   AAAS            8086  8086_5619   NM_015665:c.787T>C  NP_056480:p.S263P       CM010150                 DM  rs121918550                      Triple-A syndrome  NP_056480           S263P     Q9NRG9          108303701          130:487"
      ]
     },
     "execution_count": 65,
     "metadata": {},
     "output_type": "execute_result"
    }
   ],
   "source": [
    "mutation_df[columns_to_keep].head(2)"
   ]
  },
  {
   "cell_type": "code",
   "execution_count": 66,
   "metadata": {
    "collapsed": false,
    "run_control": {
     "marked": false
    }
   },
   "outputs": [
    {
     "name": "stdout",
     "output_type": "stream",
     "text": [
      "2407\n",
      "1965\n",
      "RefSeq...\n",
      "1964\n",
      "1965\n",
      "Uniprot...\n",
      "2406\n",
      "2407\n"
     ]
    }
   ],
   "source": [
    "print(mutation_df.shape[0])\n",
    "print(mutation_df.drop_duplicates(subset=['mutation_refseq_nt']).shape[0])\n",
    "print('RefSeq...')\n",
    "print(mutation_df.drop_duplicates(subset=['refseq_id', 'refseq_mutation']).shape[0])\n",
    "print(mutation_df.drop_duplicates(subset=['refseq_id', 'mutation_refseq_nt']).shape[0])\n",
    "print('Uniprot...')\n",
    "print(mutation_df.drop_duplicates(subset=['uniprot_id', 'refseq_mutation']).shape[0])\n",
    "print(mutation_df.drop_duplicates(subset=['uniprot_id', 'mutation_refseq_nt']).shape[0])"
   ]
  },
  {
   "cell_type": "code",
   "execution_count": 67,
   "metadata": {
    "collapsed": false,
    "run_control": {
     "marked": false
    }
   },
   "outputs": [],
   "source": [
    "t = db.import_df(\n",
    "    mutation_df[columns_to_keep], \n",
    "    'taipale_tr',\n",
    ")"
   ]
  },
  {
   "cell_type": "code",
   "execution_count": 68,
   "metadata": {
    "collapsed": false
   },
   "outputs": [
    {
     "data": {
      "text/plain": [
       "2407"
      ]
     },
     "execution_count": 68,
     "metadata": {},
     "output_type": "execute_result"
    }
   ],
   "source": [
    "db.add_idx_column(t.name)"
   ]
  },
  {
   "cell_type": "code",
   "execution_count": 69,
   "metadata": {
    "collapsed": false
   },
   "outputs": [],
   "source": [
    "db.create_indexes(\n",
    "    t.name, \n",
    "    [\n",
    "        [('refseq_id', 'refseq_mutation'), False],\n",
    "        [('uniprot_id', 'refseq_mutation'), False],\n",
    "        [('uniprot_id', 'mutation_refseq_nt'), True],\n",
    "        [('uniprot_domain_id', 'refseq_mutation'), False],\n",
    "        (['mutation_refseq_nt'], False),\n",
    "        (['mutation_refseq_aa'], False),\n",
    "    ]\n",
    ")"
   ]
  },
  {
   "cell_type": "markdown",
   "metadata": {
    "run_control": {
     "marked": false
    }
   },
   "source": [
    "### mmc2_s2a"
   ]
  },
  {
   "cell_type": "code",
   "execution_count": 70,
   "metadata": {
    "collapsed": true,
    "run_control": {
     "marked": false
    }
   },
   "outputs": [],
   "source": [
    "df = mmc2_s2a.copy()"
   ]
  },
  {
   "cell_type": "code",
   "execution_count": 71,
   "metadata": {
    "collapsed": false,
    "run_control": {
     "marked": false
    }
   },
   "outputs": [],
   "source": [
    "df.columns = datapkg.format_columns(df.columns)"
   ]
  },
  {
   "cell_type": "code",
   "execution_count": 72,
   "metadata": {
    "collapsed": false,
    "run_control": {
     "marked": false
    }
   },
   "outputs": [
    {
     "data": {
      "text/html": [
       "<div>\n",
       "<table border=\"1\" class=\"dataframe\">\n",
       "  <thead>\n",
       "    <tr style=\"text-align: right;\">\n",
       "      <th></th>\n",
       "      <th>mutation_refseq_nt</th>\n",
       "      <th>wt_elisa_score</th>\n",
       "      <th>mut_elisa_score</th>\n",
       "      <th>both_expressed</th>\n",
       "      <th>wt_interaction_score</th>\n",
       "      <th>mut_interaction_score</th>\n",
       "      <th>differential_z_score</th>\n",
       "      <th>interact</th>\n",
       "      <th>quality_control_factor_common</th>\n",
       "      <th>quality_control_factor_official</th>\n",
       "    </tr>\n",
       "  </thead>\n",
       "  <tbody>\n",
       "    <tr>\n",
       "      <th>0</th>\n",
       "      <td>NM_017436:c.287G&gt;A</td>\n",
       "      <td>0.51</td>\n",
       "      <td>0.79</td>\n",
       "      <td>1</td>\n",
       "      <td>1.398952</td>\n",
       "      <td>4.766989</td>\n",
       "      <td>3.105452</td>\n",
       "      <td>yes</td>\n",
       "      <td>BAG2</td>\n",
       "      <td>BAG2</td>\n",
       "    </tr>\n",
       "    <tr>\n",
       "      <th>1</th>\n",
       "      <td>NM_017436:c.299C&gt;T</td>\n",
       "      <td>0.51</td>\n",
       "      <td>0.71</td>\n",
       "      <td>1</td>\n",
       "      <td>1.398952</td>\n",
       "      <td>5.029331</td>\n",
       "      <td>3.347341</td>\n",
       "      <td>yes</td>\n",
       "      <td>BAG2</td>\n",
       "      <td>BAG2</td>\n",
       "    </tr>\n",
       "    <tr>\n",
       "      <th>2</th>\n",
       "      <td>NM_017436:c.548T&gt;A</td>\n",
       "      <td>0.51</td>\n",
       "      <td>0.48</td>\n",
       "      <td>1</td>\n",
       "      <td>1.398952</td>\n",
       "      <td>1.595533</td>\n",
       "      <td>0.181255</td>\n",
       "      <td>NaN</td>\n",
       "      <td>BAG2</td>\n",
       "      <td>BAG2</td>\n",
       "    </tr>\n",
       "    <tr>\n",
       "      <th>3</th>\n",
       "      <td>NM_017436:c.656C&gt;T</td>\n",
       "      <td>0.51</td>\n",
       "      <td>0.75</td>\n",
       "      <td>1</td>\n",
       "      <td>1.398952</td>\n",
       "      <td>4.833744</td>\n",
       "      <td>3.167002</td>\n",
       "      <td>yes</td>\n",
       "      <td>BAG2</td>\n",
       "      <td>BAG2</td>\n",
       "    </tr>\n",
       "    <tr>\n",
       "      <th>4</th>\n",
       "      <td>NM_015665:c.43C&gt;A</td>\n",
       "      <td>0.20</td>\n",
       "      <td>0.35</td>\n",
       "      <td>0</td>\n",
       "      <td>6.765101</td>\n",
       "      <td>9.823864</td>\n",
       "      <td>2.820292</td>\n",
       "      <td>NaN</td>\n",
       "      <td>BAG2</td>\n",
       "      <td>BAG2</td>\n",
       "    </tr>\n",
       "  </tbody>\n",
       "</table>\n",
       "</div>"
      ],
      "text/plain": [
       "   mutation_refseq_nt  wt_elisa_score  mut_elisa_score  both_expressed  wt_interaction_score  mut_interaction_score  differential_z_score interact quality_control_factor_common quality_control_factor_official\n",
       "0  NM_017436:c.287G>A            0.51             0.79               1              1.398952               4.766989              3.105452      yes                          BAG2                            BAG2\n",
       "1  NM_017436:c.299C>T            0.51             0.71               1              1.398952               5.029331              3.347341      yes                          BAG2                            BAG2\n",
       "2  NM_017436:c.548T>A            0.51             0.48               1              1.398952               1.595533              0.181255      NaN                          BAG2                            BAG2\n",
       "3  NM_017436:c.656C>T            0.51             0.75               1              1.398952               4.833744              3.167002      yes                          BAG2                            BAG2\n",
       "4   NM_015665:c.43C>A            0.20             0.35               0              6.765101               9.823864              2.820292      NaN                          BAG2                            BAG2"
      ]
     },
     "execution_count": 72,
     "metadata": {},
     "output_type": "execute_result"
    }
   ],
   "source": [
    "df.head()"
   ]
  },
  {
   "cell_type": "code",
   "execution_count": 73,
   "metadata": {
    "collapsed": true,
    "run_control": {
     "marked": false
    }
   },
   "outputs": [],
   "source": [
    "df['elisa_score_diff'] = df['mut_elisa_score'] - df['wt_elisa_score']\n",
    "df['interaction_score_diff'] = df['mut_interaction_score'] - df['wt_interaction_score']"
   ]
  },
  {
   "cell_type": "code",
   "execution_count": 74,
   "metadata": {
    "collapsed": false,
    "run_control": {
     "marked": false
    }
   },
   "outputs": [
    {
     "data": {
      "text/html": [
       "<div>\n",
       "<table border=\"1\" class=\"dataframe\">\n",
       "  <thead>\n",
       "    <tr style=\"text-align: right;\">\n",
       "      <th></th>\n",
       "      <th>mutation_refseq_nt</th>\n",
       "      <th>wt_elisa_score</th>\n",
       "      <th>mut_elisa_score</th>\n",
       "      <th>both_expressed</th>\n",
       "      <th>wt_interaction_score</th>\n",
       "      <th>mut_interaction_score</th>\n",
       "      <th>differential_z_score</th>\n",
       "      <th>interact</th>\n",
       "      <th>quality_control_factor_common</th>\n",
       "      <th>quality_control_factor_official</th>\n",
       "      <th>elisa_score_diff</th>\n",
       "      <th>interaction_score_diff</th>\n",
       "    </tr>\n",
       "  </thead>\n",
       "  <tbody>\n",
       "    <tr>\n",
       "      <th>0</th>\n",
       "      <td>NM_017436:c.287G&gt;A</td>\n",
       "      <td>0.51</td>\n",
       "      <td>0.79</td>\n",
       "      <td>1</td>\n",
       "      <td>1.398952</td>\n",
       "      <td>4.766989</td>\n",
       "      <td>3.105452</td>\n",
       "      <td>yes</td>\n",
       "      <td>BAG2</td>\n",
       "      <td>BAG2</td>\n",
       "      <td>0.28</td>\n",
       "      <td>3.368036</td>\n",
       "    </tr>\n",
       "    <tr>\n",
       "      <th>1</th>\n",
       "      <td>NM_017436:c.299C&gt;T</td>\n",
       "      <td>0.51</td>\n",
       "      <td>0.71</td>\n",
       "      <td>1</td>\n",
       "      <td>1.398952</td>\n",
       "      <td>5.029331</td>\n",
       "      <td>3.347341</td>\n",
       "      <td>yes</td>\n",
       "      <td>BAG2</td>\n",
       "      <td>BAG2</td>\n",
       "      <td>0.20</td>\n",
       "      <td>3.630378</td>\n",
       "    </tr>\n",
       "    <tr>\n",
       "      <th>2</th>\n",
       "      <td>NM_017436:c.548T&gt;A</td>\n",
       "      <td>0.51</td>\n",
       "      <td>0.48</td>\n",
       "      <td>1</td>\n",
       "      <td>1.398952</td>\n",
       "      <td>1.595533</td>\n",
       "      <td>0.181255</td>\n",
       "      <td>NaN</td>\n",
       "      <td>BAG2</td>\n",
       "      <td>BAG2</td>\n",
       "      <td>-0.03</td>\n",
       "      <td>0.196581</td>\n",
       "    </tr>\n",
       "    <tr>\n",
       "      <th>3</th>\n",
       "      <td>NM_017436:c.656C&gt;T</td>\n",
       "      <td>0.51</td>\n",
       "      <td>0.75</td>\n",
       "      <td>1</td>\n",
       "      <td>1.398952</td>\n",
       "      <td>4.833744</td>\n",
       "      <td>3.167002</td>\n",
       "      <td>yes</td>\n",
       "      <td>BAG2</td>\n",
       "      <td>BAG2</td>\n",
       "      <td>0.24</td>\n",
       "      <td>3.434791</td>\n",
       "    </tr>\n",
       "    <tr>\n",
       "      <th>4</th>\n",
       "      <td>NM_015665:c.43C&gt;A</td>\n",
       "      <td>0.20</td>\n",
       "      <td>0.35</td>\n",
       "      <td>0</td>\n",
       "      <td>6.765101</td>\n",
       "      <td>9.823864</td>\n",
       "      <td>2.820292</td>\n",
       "      <td>NaN</td>\n",
       "      <td>BAG2</td>\n",
       "      <td>BAG2</td>\n",
       "      <td>0.15</td>\n",
       "      <td>3.058764</td>\n",
       "    </tr>\n",
       "  </tbody>\n",
       "</table>\n",
       "</div>"
      ],
      "text/plain": [
       "   mutation_refseq_nt  wt_elisa_score  mut_elisa_score  both_expressed  wt_interaction_score  mut_interaction_score  differential_z_score interact quality_control_factor_common quality_control_factor_official  elisa_score_diff  interaction_score_diff\n",
       "0  NM_017436:c.287G>A            0.51             0.79               1              1.398952               4.766989              3.105452      yes                          BAG2                            BAG2              0.28                3.368036\n",
       "1  NM_017436:c.299C>T            0.51             0.71               1              1.398952               5.029331              3.347341      yes                          BAG2                            BAG2              0.20                3.630378\n",
       "2  NM_017436:c.548T>A            0.51             0.48               1              1.398952               1.595533              0.181255      NaN                          BAG2                            BAG2             -0.03                0.196581\n",
       "3  NM_017436:c.656C>T            0.51             0.75               1              1.398952               4.833744              3.167002      yes                          BAG2                            BAG2              0.24                3.434791\n",
       "4   NM_015665:c.43C>A            0.20             0.35               0              6.765101               9.823864              2.820292      NaN                          BAG2                            BAG2              0.15                3.058764"
      ]
     },
     "execution_count": 74,
     "metadata": {},
     "output_type": "execute_result"
    }
   ],
   "source": [
    "df.head()"
   ]
  },
  {
   "cell_type": "code",
   "execution_count": 75,
   "metadata": {
    "code_folding": [],
    "collapsed": false,
    "run_control": {
     "marked": false
    }
   },
   "outputs": [],
   "source": [
    "t = db.import_df(\n",
    "    df,\n",
    "    'taipale_tr_chaperone',\n",
    ")"
   ]
  },
  {
   "cell_type": "code",
   "execution_count": 76,
   "metadata": {
    "collapsed": false
   },
   "outputs": [
    {
     "data": {
      "text/plain": [
       "16464"
      ]
     },
     "execution_count": 76,
     "metadata": {},
     "output_type": "execute_result"
    }
   ],
   "source": [
    "db.add_idx_column(t.name)"
   ]
  },
  {
   "cell_type": "code",
   "execution_count": 77,
   "metadata": {
    "collapsed": true
   },
   "outputs": [],
   "source": [
    "db.create_indexes(\n",
    "    t.name, \n",
    "    [\n",
    "        (['mutation_refseq_nt'], False),\n",
    "    ]\n",
    ")"
   ]
  },
  {
   "cell_type": "markdown",
   "metadata": {
    "run_control": {
     "marked": false
    }
   },
   "source": [
    "### mmc2_s2b"
   ]
  },
  {
   "cell_type": "code",
   "execution_count": 78,
   "metadata": {
    "collapsed": true,
    "run_control": {
     "marked": false
    }
   },
   "outputs": [],
   "source": [
    "df = mmc2_s2b.copy()"
   ]
  },
  {
   "cell_type": "code",
   "execution_count": 79,
   "metadata": {
    "collapsed": true,
    "run_control": {
     "marked": false
    }
   },
   "outputs": [],
   "source": [
    "df.columns = datapkg.format_columns(df.columns)"
   ]
  },
  {
   "cell_type": "code",
   "execution_count": 80,
   "metadata": {
    "collapsed": false,
    "run_control": {
     "marked": false
    }
   },
   "outputs": [
    {
     "data": {
      "text/html": [
       "<div>\n",
       "<table border=\"1\" class=\"dataframe\">\n",
       "  <thead>\n",
       "    <tr style=\"text-align: right;\">\n",
       "      <th></th>\n",
       "      <th>mutation_refseq_nt</th>\n",
       "      <th>fold_x_value</th>\n",
       "    </tr>\n",
       "  </thead>\n",
       "  <tbody>\n",
       "    <tr>\n",
       "      <th>0</th>\n",
       "      <td>NM_000019:c.218A&gt;C</td>\n",
       "      <td>7.841320</td>\n",
       "    </tr>\n",
       "    <tr>\n",
       "      <th>1</th>\n",
       "      <td>NM_000019:c.278A&gt;G</td>\n",
       "      <td>0.236651</td>\n",
       "    </tr>\n",
       "    <tr>\n",
       "      <th>2</th>\n",
       "      <td>NM_000019:c.380C&gt;T</td>\n",
       "      <td>0.215789</td>\n",
       "    </tr>\n",
       "    <tr>\n",
       "      <th>3</th>\n",
       "      <td>NM_000019:c.395C&gt;G</td>\n",
       "      <td>1.050880</td>\n",
       "    </tr>\n",
       "    <tr>\n",
       "      <th>4</th>\n",
       "      <td>NM_005891:c.761T&gt;C</td>\n",
       "      <td>2.247490</td>\n",
       "    </tr>\n",
       "  </tbody>\n",
       "</table>\n",
       "</div>"
      ],
      "text/plain": [
       "   mutation_refseq_nt  fold_x_value\n",
       "0  NM_000019:c.218A>C      7.841320\n",
       "1  NM_000019:c.278A>G      0.236651\n",
       "2  NM_000019:c.380C>T      0.215789\n",
       "3  NM_000019:c.395C>G      1.050880\n",
       "4  NM_005891:c.761T>C      2.247490"
      ]
     },
     "execution_count": 80,
     "metadata": {},
     "output_type": "execute_result"
    }
   ],
   "source": [
    "df.head()"
   ]
  },
  {
   "cell_type": "code",
   "execution_count": 81,
   "metadata": {
    "collapsed": false,
    "run_control": {
     "marked": false
    }
   },
   "outputs": [
    {
     "data": {
      "text/html": [
       "<div>\n",
       "<table border=\"1\" class=\"dataframe\">\n",
       "  <thead>\n",
       "    <tr style=\"text-align: right;\">\n",
       "      <th></th>\n",
       "      <th>mutation_refseq_nt</th>\n",
       "      <th>fold_x_value</th>\n",
       "    </tr>\n",
       "  </thead>\n",
       "  <tbody>\n",
       "    <tr>\n",
       "      <th>0</th>\n",
       "      <td>NM_000019:c.218A&gt;C</td>\n",
       "      <td>7.841320</td>\n",
       "    </tr>\n",
       "    <tr>\n",
       "      <th>1</th>\n",
       "      <td>NM_000019:c.278A&gt;G</td>\n",
       "      <td>0.236651</td>\n",
       "    </tr>\n",
       "    <tr>\n",
       "      <th>2</th>\n",
       "      <td>NM_000019:c.380C&gt;T</td>\n",
       "      <td>0.215789</td>\n",
       "    </tr>\n",
       "    <tr>\n",
       "      <th>3</th>\n",
       "      <td>NM_000019:c.395C&gt;G</td>\n",
       "      <td>1.050880</td>\n",
       "    </tr>\n",
       "    <tr>\n",
       "      <th>4</th>\n",
       "      <td>NM_005891:c.761T&gt;C</td>\n",
       "      <td>2.247490</td>\n",
       "    </tr>\n",
       "  </tbody>\n",
       "</table>\n",
       "</div>"
      ],
      "text/plain": [
       "   mutation_refseq_nt  fold_x_value\n",
       "0  NM_000019:c.218A>C      7.841320\n",
       "1  NM_000019:c.278A>G      0.236651\n",
       "2  NM_000019:c.380C>T      0.215789\n",
       "3  NM_000019:c.395C>G      1.050880\n",
       "4  NM_005891:c.761T>C      2.247490"
      ]
     },
     "execution_count": 81,
     "metadata": {},
     "output_type": "execute_result"
    }
   ],
   "source": [
    "df.head()"
   ]
  },
  {
   "cell_type": "code",
   "execution_count": 82,
   "metadata": {
    "collapsed": false,
    "run_control": {
     "marked": false
    }
   },
   "outputs": [],
   "source": [
    "t = db.import_df(\n",
    "    df, \n",
    "    'taipale_tr_foldx',\n",
    ")"
   ]
  },
  {
   "cell_type": "code",
   "execution_count": 83,
   "metadata": {
    "collapsed": false
   },
   "outputs": [
    {
     "data": {
      "text/plain": [
       "333"
      ]
     },
     "execution_count": 83,
     "metadata": {},
     "output_type": "execute_result"
    }
   ],
   "source": [
    "db.add_idx_column(t.name)"
   ]
  },
  {
   "cell_type": "code",
   "execution_count": 84,
   "metadata": {
    "collapsed": true
   },
   "outputs": [],
   "source": [
    "db.create_indexes(\n",
    "    t.name, \n",
    "    [\n",
    "        (['mutation_refseq_nt'], False),\n",
    "    ]\n",
    ")"
   ]
  },
  {
   "cell_type": "markdown",
   "metadata": {
    "run_control": {
     "marked": false
    }
   },
   "source": [
    "## mutation_df_failed"
   ]
  },
  {
   "cell_type": "code",
   "execution_count": 85,
   "metadata": {
    "collapsed": true,
    "run_control": {
     "marked": false
    }
   },
   "outputs": [],
   "source": [
    "df = mutation_df_failed.copy()"
   ]
  },
  {
   "cell_type": "code",
   "execution_count": 86,
   "metadata": {
    "collapsed": false,
    "run_control": {
     "marked": false
    }
   },
   "outputs": [],
   "source": [
    "df.columns = datapkg.format_columns(df.columns)"
   ]
  },
  {
   "cell_type": "code",
   "execution_count": 87,
   "metadata": {
    "collapsed": false,
    "run_control": {
     "marked": false
    }
   },
   "outputs": [
    {
     "data": {
      "text/html": [
       "<div>\n",
       "<table border=\"1\" class=\"dataframe\">\n",
       "  <thead>\n",
       "    <tr style=\"text-align: right;\">\n",
       "      <th></th>\n",
       "      <th>mutation_refseq_aa</th>\n",
       "      <th>uniprot_id</th>\n",
       "      <th>refseq_mutation</th>\n",
       "      <th>unique_id</th>\n",
       "      <th>errors</th>\n",
       "    </tr>\n",
       "  </thead>\n",
       "  <tbody>\n",
       "    <tr>\n",
       "      <th>0</th>\n",
       "      <td>NP_000005:p.C972Y</td>\n",
       "      <td>P01023</td>\n",
       "      <td>C972Y</td>\n",
       "      <td>P01023.C972Y</td>\n",
       "      <td></td>\n",
       "    </tr>\n",
       "    <tr>\n",
       "      <th>1</th>\n",
       "      <td>NP_000005:p.V1000I</td>\n",
       "      <td>P01023</td>\n",
       "      <td>V1000I</td>\n",
       "      <td>P01023.V1000I</td>\n",
       "      <td>RefSeq protein and UniProt protein do not have...</td>\n",
       "    </tr>\n",
       "    <tr>\n",
       "      <th>2</th>\n",
       "      <td>NP_059132:p.C96Y</td>\n",
       "      <td>Q9NPC4</td>\n",
       "      <td>C96Y</td>\n",
       "      <td>Q9NPC4.C96Y</td>\n",
       "      <td>Protein has no structural domains.</td>\n",
       "    </tr>\n",
       "    <tr>\n",
       "      <th>3</th>\n",
       "      <td>NP_059132:p.S100L</td>\n",
       "      <td>Q9NPC4</td>\n",
       "      <td>S100L</td>\n",
       "      <td>Q9NPC4.S100L</td>\n",
       "      <td>Protein has no structural domains.</td>\n",
       "    </tr>\n",
       "    <tr>\n",
       "      <th>4</th>\n",
       "      <td>NP_059132:p.M183K</td>\n",
       "      <td>Q9NPC4</td>\n",
       "      <td>M183K</td>\n",
       "      <td>Q9NPC4.M183K</td>\n",
       "      <td>Protein has no structural domains.</td>\n",
       "    </tr>\n",
       "  </tbody>\n",
       "</table>\n",
       "</div>"
      ],
      "text/plain": [
       "   mutation_refseq_aa uniprot_id refseq_mutation      unique_id                                             errors\n",
       "0   NP_000005:p.C972Y     P01023           C972Y   P01023.C972Y                                                   \n",
       "1  NP_000005:p.V1000I     P01023          V1000I  P01023.V1000I  RefSeq protein and UniProt protein do not have...\n",
       "2    NP_059132:p.C96Y     Q9NPC4            C96Y    Q9NPC4.C96Y                Protein has no structural domains. \n",
       "3   NP_059132:p.S100L     Q9NPC4           S100L   Q9NPC4.S100L                Protein has no structural domains. \n",
       "4   NP_059132:p.M183K     Q9NPC4           M183K   Q9NPC4.M183K                Protein has no structural domains. "
      ]
     },
     "execution_count": 87,
     "metadata": {},
     "output_type": "execute_result"
    }
   ],
   "source": [
    "df.head()"
   ]
  },
  {
   "cell_type": "code",
   "execution_count": 88,
   "metadata": {
    "collapsed": false,
    "run_control": {
     "marked": false
    }
   },
   "outputs": [],
   "source": [
    "t = db.import_df(\n",
    "    df, \n",
    "    'taipale_tr_failed', \n",
    ")"
   ]
  },
  {
   "cell_type": "code",
   "execution_count": 89,
   "metadata": {
    "collapsed": false
   },
   "outputs": [
    {
     "data": {
      "text/plain": [
       "3914"
      ]
     },
     "execution_count": 89,
     "metadata": {},
     "output_type": "execute_result"
    }
   ],
   "source": [
    "db.add_idx_column(t.name)"
   ]
  },
  {
   "cell_type": "code",
   "execution_count": 90,
   "metadata": {
    "collapsed": true,
    "run_control": {
     "marked": false
    }
   },
   "outputs": [],
   "source": [
    "db.create_indexes(\n",
    "    t.name, \n",
    "    [\n",
    "        (['mutation_refseq_aa'], False),\n",
    "    ]\n",
    ")"
   ]
  }
 ],
 "metadata": {
  "anaconda-cloud": {},
  "kernelspec": {
   "display_name": "Python [Root]",
   "language": "python",
   "name": "Python [Root]"
  },
  "language_info": {
   "codemirror_mode": {
    "name": "ipython",
    "version": 3
   },
   "file_extension": ".py",
   "mimetype": "text/x-python",
   "name": "python",
   "nbconvert_exporter": "python",
   "pygments_lexer": "ipython3",
   "version": "3.5.2"
  },
  "nav_menu": {},
  "toc": {
   "navigate_menu": false,
   "number_sections": true,
   "sideBar": false,
   "threshold": 6,
   "toc_cell": false,
   "toc_section_display": "block",
   "toc_window_display": true
  },
  "toc_position": {
   "height": "703px",
   "left": "51.9965px",
   "right": "20px",
   "top": "75.9896px",
   "width": "230px"
  }
 },
 "nbformat": 4,
 "nbformat_minor": 0
}
