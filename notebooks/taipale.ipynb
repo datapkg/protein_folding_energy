{
 "cells": [
  {
   "cell_type": "markdown",
   "metadata": {
    "run_control": {
     "marked": false
    }
   },
   "source": [
    "# Summary\n",
    "\n",
    "Link to paper: http://www.sciencedirect.com/science/article/pii/S0092867415004304\n",
    "\n",
    "----"
   ]
  },
  {
   "cell_type": "markdown",
   "metadata": {
    "run_control": {
     "marked": false
    }
   },
   "source": [
    "# Imports"
   ]
  },
  {
   "cell_type": "code",
   "execution_count": 1,
   "metadata": {
    "code_folding": [
     0
    ],
    "collapsed": false,
    "run_control": {
     "marked": false
    }
   },
   "outputs": [
    {
     "name": "stdout",
     "output_type": "stream",
     "text": [
      "2016-07-27 03:47:13.924315\n"
     ]
    }
   ],
   "source": [
    "%run imports.ipynb"
   ]
  },
  {
   "cell_type": "code",
   "execution_count": 2,
   "metadata": {
    "collapsed": false,
    "run_control": {
     "marked": false
    }
   },
   "outputs": [],
   "source": [
    "NOTEBOOK_NAME = 'taipale'\n",
    "os.makedirs(NOTEBOOK_NAME, exist_ok=True)\n",
    "\n",
    "os.environ['NOTEBOOK_NAME'] = NOTEBOOK_NAME\n",
    "os.environ['DB_PORT'] = '8307'"
   ]
  },
  {
   "cell_type": "code",
   "execution_count": 3,
   "metadata": {
    "collapsed": false,
    "run_control": {
     "marked": false
    }
   },
   "outputs": [
    {
     "name": "stdout",
     "output_type": "stream",
     "text": [
      "The autoreload extension is already loaded. To reload it, use:\n",
      "  %reload_ext autoreload\n",
      "2016-07-27 03:47:14.039881\n"
     ]
    }
   ],
   "source": [
    "%run mysqld.ipynb"
   ]
  },
  {
   "cell_type": "code",
   "execution_count": 4,
   "metadata": {
    "collapsed": false,
    "run_control": {
     "marked": false
    }
   },
   "outputs": [],
   "source": [
    "db_remote = datapkg.MySQL(\n",
    "    connection_string=os.environ['DATAPKG_CONNECTION_STRING'] + '/staging', \n",
    "    shared_folder=os.environ['NOTEBOOK_NAME'], \n",
    "    storage_host=None, \n",
    "    echo=False, \n",
    "    db_engine='InnoDB'\n",
    ")"
   ]
  },
  {
   "cell_type": "markdown",
   "metadata": {
    "run_control": {
     "marked": false
    }
   },
   "source": [
    "# Load mutation data"
   ]
  },
  {
   "cell_type": "code",
   "execution_count": 5,
   "metadata": {
    "collapsed": false,
    "run_control": {
     "marked": false
    }
   },
   "outputs": [
    {
     "name": "stdout",
     "output_type": "stream",
     "text": [
      "1-s2.0-S0092867415004304-main.pdf  mmc2.xlsx  mmc4.xlsx  mmc6.xlsx  mmc8.pdf\r\n",
      "mmc1.xlsx                          mmc3.xlsx  mmc5.xlsx  mmc7.xlsx\r\n"
     ]
    }
   ],
   "source": [
    "ls ../downloads/taipale/"
   ]
  },
  {
   "cell_type": "code",
   "execution_count": 6,
   "metadata": {
    "collapsed": false,
    "run_control": {
     "marked": false
    }
   },
   "outputs": [],
   "source": [
    "mutation_df = pd.read_excel('../downloads/taipale/mmc1.xlsx')"
   ]
  },
  {
   "cell_type": "code",
   "execution_count": 7,
   "metadata": {
    "collapsed": false,
    "run_control": {
     "marked": false
    }
   },
   "outputs": [
    {
     "data": {
      "text/html": [
       "<div>\n",
       "<table border=\"1\" class=\"dataframe\">\n",
       "  <thead>\n",
       "    <tr style=\"text-align: right;\">\n",
       "      <th></th>\n",
       "      <th>Category</th>\n",
       "      <th>Symbol</th>\n",
       "      <th>Entrez_Gene_ID</th>\n",
       "      <th>Allele_ID</th>\n",
       "      <th>Mutation_RefSeq_NT</th>\n",
       "      <th>Mutation_RefSeq_AA</th>\n",
       "      <th>HGMD_accession</th>\n",
       "      <th>HGMD_variant_class</th>\n",
       "      <th>dbSNP_ID</th>\n",
       "      <th>Disease</th>\n",
       "    </tr>\n",
       "  </thead>\n",
       "  <tbody>\n",
       "    <tr>\n",
       "      <th>0</th>\n",
       "      <td>Disease mutation</td>\n",
       "      <td>A2M</td>\n",
       "      <td>2</td>\n",
       "      <td>2_18118</td>\n",
       "      <td>NM_000014:c.2915G&gt;A</td>\n",
       "      <td>NP_000005:p.C972Y</td>\n",
       "      <td>CM920001</td>\n",
       "      <td>DM</td>\n",
       "      <td>rs1800433</td>\n",
       "      <td>Chronic obstructive pulmonary disease</td>\n",
       "    </tr>\n",
       "    <tr>\n",
       "      <th>1</th>\n",
       "      <td>Disease mutation</td>\n",
       "      <td>A2M</td>\n",
       "      <td>2</td>\n",
       "      <td>2_18119</td>\n",
       "      <td>NM_000014:c.2998G&gt;A</td>\n",
       "      <td>NP_000005:p.V1000I</td>\n",
       "      <td>CM980001</td>\n",
       "      <td>DP</td>\n",
       "      <td>rs669</td>\n",
       "      <td>Alzheimer disease, association with</td>\n",
       "    </tr>\n",
       "  </tbody>\n",
       "</table>\n",
       "</div>"
      ],
      "text/plain": [
       "           Category Symbol  Entrez_Gene_ID Allele_ID   Mutation_RefSeq_NT  Mutation_RefSeq_AA HGMD_accession HGMD_variant_class   dbSNP_ID                                Disease\n",
       "0  Disease mutation    A2M               2   2_18118  NM_000014:c.2915G>A   NP_000005:p.C972Y       CM920001                 DM  rs1800433  Chronic obstructive pulmonary disease\n",
       "1  Disease mutation    A2M               2   2_18119  NM_000014:c.2998G>A  NP_000005:p.V1000I       CM980001                 DP      rs669    Alzheimer disease, association with"
      ]
     },
     "metadata": {},
     "output_type": "display_data"
    },
    {
     "name": "stdout",
     "output_type": "stream",
     "text": [
      "2960\n"
     ]
    }
   ],
   "source": [
    "display(mutation_df.head(2))\n",
    "print(mutation_df.shape[0])"
   ]
  },
  {
   "cell_type": "markdown",
   "metadata": {
    "run_control": {
     "marked": false
    }
   },
   "source": [
    "### mutation_df_1"
   ]
  },
  {
   "cell_type": "code",
   "execution_count": 8,
   "metadata": {
    "collapsed": false,
    "run_control": {
     "marked": false
    }
   },
   "outputs": [],
   "source": [
    "mutation_df['refseq_id'] = mutation_df['Mutation_RefSeq_AA'].apply(lambda x: x.split(':')[0])\n",
    "mutation_df['refseq_mutation'] = mutation_df['Mutation_RefSeq_AA'].apply(lambda x: x.split('.')[-1])"
   ]
  },
  {
   "cell_type": "code",
   "execution_count": 9,
   "metadata": {
    "collapsed": false,
    "run_control": {
     "marked": false
    },
    "scrolled": true
   },
   "outputs": [
    {
     "data": {
      "text/html": [
       "<div>\n",
       "<table border=\"1\" class=\"dataframe\">\n",
       "  <thead>\n",
       "    <tr style=\"text-align: right;\">\n",
       "      <th></th>\n",
       "      <th>Category</th>\n",
       "      <th>Symbol</th>\n",
       "      <th>Entrez_Gene_ID</th>\n",
       "      <th>Allele_ID</th>\n",
       "      <th>Mutation_RefSeq_NT</th>\n",
       "      <th>Mutation_RefSeq_AA</th>\n",
       "      <th>HGMD_accession</th>\n",
       "      <th>HGMD_variant_class</th>\n",
       "      <th>dbSNP_ID</th>\n",
       "      <th>Disease</th>\n",
       "      <th>refseq_id</th>\n",
       "      <th>refseq_mutation</th>\n",
       "    </tr>\n",
       "  </thead>\n",
       "  <tbody>\n",
       "    <tr>\n",
       "      <th>0</th>\n",
       "      <td>Disease mutation</td>\n",
       "      <td>A2M</td>\n",
       "      <td>2</td>\n",
       "      <td>2_18118</td>\n",
       "      <td>NM_000014:c.2915G&gt;A</td>\n",
       "      <td>NP_000005:p.C972Y</td>\n",
       "      <td>CM920001</td>\n",
       "      <td>DM</td>\n",
       "      <td>rs1800433</td>\n",
       "      <td>Chronic obstructive pulmonary disease</td>\n",
       "      <td>NP_000005</td>\n",
       "      <td>C972Y</td>\n",
       "    </tr>\n",
       "    <tr>\n",
       "      <th>1</th>\n",
       "      <td>Disease mutation</td>\n",
       "      <td>A2M</td>\n",
       "      <td>2</td>\n",
       "      <td>2_18119</td>\n",
       "      <td>NM_000014:c.2998G&gt;A</td>\n",
       "      <td>NP_000005:p.V1000I</td>\n",
       "      <td>CM980001</td>\n",
       "      <td>DP</td>\n",
       "      <td>rs669</td>\n",
       "      <td>Alzheimer disease, association with</td>\n",
       "      <td>NP_000005</td>\n",
       "      <td>V1000I</td>\n",
       "    </tr>\n",
       "  </tbody>\n",
       "</table>\n",
       "</div>"
      ],
      "text/plain": [
       "           Category Symbol  Entrez_Gene_ID Allele_ID   Mutation_RefSeq_NT  Mutation_RefSeq_AA HGMD_accession HGMD_variant_class   dbSNP_ID                                Disease  refseq_id refseq_mutation\n",
       "0  Disease mutation    A2M               2   2_18118  NM_000014:c.2915G>A   NP_000005:p.C972Y       CM920001                 DM  rs1800433  Chronic obstructive pulmonary disease  NP_000005           C972Y\n",
       "1  Disease mutation    A2M               2   2_18119  NM_000014:c.2998G>A  NP_000005:p.V1000I       CM980001                 DP      rs669    Alzheimer disease, association with  NP_000005          V1000I"
      ]
     },
     "metadata": {},
     "output_type": "display_data"
    },
    {
     "name": "stdout",
     "output_type": "stream",
     "text": [
      "Number of rows: 2960\n",
      "Number of unique RefSeq nucleotide mutations: 2960\n",
      "Number of unique RefSeq amino acid mutations: 2958\n"
     ]
    }
   ],
   "source": [
    "display(mutation_df.head(2))\n",
    "print(\"Number of rows:\", \n",
    "    mutation_df.shape[0])\n",
    "print(\"Number of unique RefSeq nucleotide mutations:\", \n",
    "    mutation_df.drop_duplicates(subset=['Mutation_RefSeq_NT']).shape[0])\n",
    "print(\"Number of unique RefSeq amino acid mutations:\", \n",
    "    mutation_df.drop_duplicates(subset=['Mutation_RefSeq_AA']).shape[0])"
   ]
  },
  {
   "cell_type": "code",
   "execution_count": 10,
   "metadata": {
    "collapsed": false,
    "run_control": {
     "marked": false
    }
   },
   "outputs": [
    {
     "name": "stdout",
     "output_type": "stream",
     "text": [
      "Duplicated RefSeq amino acid mutations:\n"
     ]
    },
    {
     "data": {
      "text/html": [
       "<div>\n",
       "<table border=\"1\" class=\"dataframe\">\n",
       "  <thead>\n",
       "    <tr style=\"text-align: right;\">\n",
       "      <th></th>\n",
       "      <th>Category</th>\n",
       "      <th>Symbol</th>\n",
       "      <th>Entrez_Gene_ID</th>\n",
       "      <th>Allele_ID</th>\n",
       "      <th>Mutation_RefSeq_NT</th>\n",
       "      <th>Mutation_RefSeq_AA</th>\n",
       "      <th>HGMD_accession</th>\n",
       "      <th>HGMD_variant_class</th>\n",
       "      <th>dbSNP_ID</th>\n",
       "      <th>Disease</th>\n",
       "      <th>refseq_id</th>\n",
       "      <th>refseq_mutation</th>\n",
       "    </tr>\n",
       "  </thead>\n",
       "  <tbody>\n",
       "    <tr>\n",
       "      <th>1404</th>\n",
       "      <td>Disease mutation</td>\n",
       "      <td>HSPB8</td>\n",
       "      <td>26353</td>\n",
       "      <td>26353_7864</td>\n",
       "      <td>NM_014365:c.423G&gt;C</td>\n",
       "      <td>NP_055180:p.K141N</td>\n",
       "      <td>CM041377</td>\n",
       "      <td>DM</td>\n",
       "      <td>rs104894345</td>\n",
       "      <td>Neuropathy, distal hereditary motor, type II</td>\n",
       "      <td>NP_055180</td>\n",
       "      <td>K141N</td>\n",
       "    </tr>\n",
       "    <tr>\n",
       "      <th>1405</th>\n",
       "      <td>Disease mutation</td>\n",
       "      <td>HSPB8</td>\n",
       "      <td>26353</td>\n",
       "      <td>26353_7865</td>\n",
       "      <td>NM_014365:c.423G&gt;T</td>\n",
       "      <td>NP_055180:p.K141N</td>\n",
       "      <td>CM050270</td>\n",
       "      <td>DM</td>\n",
       "      <td>rs104894345</td>\n",
       "      <td>Charcot-Marie-Tooth disease 2L</td>\n",
       "      <td>NP_055180</td>\n",
       "      <td>K141N</td>\n",
       "    </tr>\n",
       "    <tr>\n",
       "      <th>1875</th>\n",
       "      <td>Disease mutation</td>\n",
       "      <td>NIPA1</td>\n",
       "      <td>123606</td>\n",
       "      <td>123606_15185</td>\n",
       "      <td>NM_144599:c.316G&gt;A</td>\n",
       "      <td>NP_653200:p.G106R</td>\n",
       "      <td>CM050748</td>\n",
       "      <td>DM</td>\n",
       "      <td>rs104894490</td>\n",
       "      <td>Spastic paraplegia, autosomal dominant</td>\n",
       "      <td>NP_653200</td>\n",
       "      <td>G106R</td>\n",
       "    </tr>\n",
       "    <tr>\n",
       "      <th>1876</th>\n",
       "      <td>Disease mutation</td>\n",
       "      <td>NIPA1</td>\n",
       "      <td>123606</td>\n",
       "      <td>123606_15186</td>\n",
       "      <td>NM_144599:c.316G&gt;C</td>\n",
       "      <td>NP_653200:p.G106R</td>\n",
       "      <td>CM050749</td>\n",
       "      <td>DM</td>\n",
       "      <td>rs104894490</td>\n",
       "      <td>Spastic paraplegia, autosomal dominant</td>\n",
       "      <td>NP_653200</td>\n",
       "      <td>G106R</td>\n",
       "    </tr>\n",
       "  </tbody>\n",
       "</table>\n",
       "</div>"
      ],
      "text/plain": [
       "              Category Symbol  Entrez_Gene_ID     Allele_ID  Mutation_RefSeq_NT Mutation_RefSeq_AA HGMD_accession HGMD_variant_class     dbSNP_ID                                       Disease  refseq_id refseq_mutation\n",
       "1404  Disease mutation  HSPB8           26353    26353_7864  NM_014365:c.423G>C  NP_055180:p.K141N       CM041377                 DM  rs104894345  Neuropathy, distal hereditary motor, type II  NP_055180           K141N\n",
       "1405  Disease mutation  HSPB8           26353    26353_7865  NM_014365:c.423G>T  NP_055180:p.K141N       CM050270                 DM  rs104894345                Charcot-Marie-Tooth disease 2L  NP_055180           K141N\n",
       "1875  Disease mutation  NIPA1          123606  123606_15185  NM_144599:c.316G>A  NP_653200:p.G106R       CM050748                 DM  rs104894490        Spastic paraplegia, autosomal dominant  NP_653200           G106R\n",
       "1876  Disease mutation  NIPA1          123606  123606_15186  NM_144599:c.316G>C  NP_653200:p.G106R       CM050749                 DM  rs104894490        Spastic paraplegia, autosomal dominant  NP_653200           G106R"
      ]
     },
     "execution_count": 10,
     "metadata": {},
     "output_type": "execute_result"
    }
   ],
   "source": [
    "print(\"Duplicated RefSeq amino acid mutations:\")\n",
    "duplicates = mutation_df[mutation_df['Mutation_RefSeq_AA'].duplicated()]['Mutation_RefSeq_AA']\n",
    "mutation_df[mutation_df['Mutation_RefSeq_AA'].isin(duplicates)]"
   ]
  },
  {
   "cell_type": "code",
   "execution_count": 11,
   "metadata": {
    "collapsed": true,
    "run_control": {
     "marked": false
    }
   },
   "outputs": [],
   "source": [
    "mutation_df_1 = mutation_df.copy()"
   ]
  },
  {
   "cell_type": "markdown",
   "metadata": {
    "run_control": {
     "marked": false
    }
   },
   "source": [
    "## NCBI to UniProt\n",
    "\n",
    "Map NCBI to UniProt."
   ]
  },
  {
   "cell_type": "markdown",
   "metadata": {
    "run_control": {
     "marked": false
    }
   },
   "source": [
    "### mutation_df_2\n",
    "\n",
    "Use `uniparc2uniparc_canonical_mapping` table to map Refseq to Uniprot."
   ]
  },
  {
   "cell_type": "code",
   "execution_count": 12,
   "metadata": {
    "collapsed": true,
    "run_control": {
     "marked": false
    }
   },
   "outputs": [],
   "source": [
    "mutation_df = mutation_df_1.copy()"
   ]
  },
  {
   "cell_type": "code",
   "execution_count": 13,
   "metadata": {
    "collapsed": false,
    "run_control": {
     "marked": false
    }
   },
   "outputs": [],
   "source": [
    "sql_query = \"\"\"\\\n",
    "select \n",
    "x.id refseq_id, \n",
    "uniparc_id\n",
    "from uniparc_human.uniparc_xref x \n",
    "where x.type = 'refseq' and x.id in ('{}')\n",
    "\"\"\".format(\"', '\".join(r for r in mutation_df['refseq_id'].drop_duplicates()))"
   ]
  },
  {
   "cell_type": "code",
   "execution_count": 14,
   "metadata": {
    "collapsed": false,
    "run_control": {
     "marked": false
    }
   },
   "outputs": [],
   "source": [
    "refseq2uniparc = pd.read_sql_query(sql_query, db_remote.engine).drop_duplicates()"
   ]
  },
  {
   "cell_type": "code",
   "execution_count": 15,
   "metadata": {
    "collapsed": true,
    "run_control": {
     "marked": false
    }
   },
   "outputs": [],
   "source": [
    "mutation_df = (\n",
    "    mutation_df\n",
    "    .merge(refseq2uniparc, on=['refseq_id'], how='left')\n",
    ")"
   ]
  },
  {
   "cell_type": "code",
   "execution_count": 16,
   "metadata": {
    "collapsed": true,
    "run_control": {
     "marked": false
    }
   },
   "outputs": [],
   "source": [
    "mutation_df['refseq_mutation_pos'] = mutation_df['refseq_mutation'].str[1:-1].astype(int)"
   ]
  },
  {
   "cell_type": "code",
   "execution_count": 17,
   "metadata": {
    "collapsed": false,
    "run_control": {
     "marked": false
    }
   },
   "outputs": [],
   "source": [
    "t = db_remote.import_df(\n",
    "    mutation_df[['refseq_id', 'uniparc_id', 'refseq_mutation_pos']].dropna().drop_duplicates(),\n",
    "    'taipale'\n",
    ")\n",
    "\n",
    "db_remote.create_indexes(\n",
    "    t.name,\n",
    "    [\n",
    "        (['refseq_id', 'uniparc_id'], False),\n",
    "        (['uniparc_id', 'refseq_id'], False),\n",
    "    ],\n",
    ")"
   ]
  },
  {
   "cell_type": "code",
   "execution_count": 18,
   "metadata": {
    "collapsed": false,
    "run_control": {
     "marked": false
    }
   },
   "outputs": [
    {
     "name": "stdout",
     "output_type": "stream",
     "text": [
      "SELECT\n",
      "t.uniparc_id,\n",
      "t.refseq_id,\n",
      "t.refseq_mutation_pos,\n",
      "us.uniprot_id,\n",
      "us.uniprot_sequence,\n",
      "FIND_IN_SET(refseq_mutation_pos, a2b) uniprot_mutation_pos\n",
      "FROM staging.taipale t\n",
      "JOIN uniparc_human.uniparc2uniparc_canonical_mapping m USING (uniparc_id)\n",
      "JOIN uniparc_human.uniparc_xref x2 ON (\n",
      "    x2.type = 'UniProtKB/Swiss-Prot' AND x2.uniparc_id = m.uniparc_canonical_id)\n",
      "JOIN uniprot_kb.uniprot_sequence us ON (us.db = 'sp' and us.uniprot_id = x2.id);\n"
     ]
    }
   ],
   "source": [
    "sql_query = \"\"\"\\\n",
    "SELECT\n",
    "t.uniparc_id,\n",
    "t.refseq_id,\n",
    "t.refseq_mutation_pos,\n",
    "us.uniprot_id,\n",
    "us.uniprot_sequence,\n",
    "FIND_IN_SET(refseq_mutation_pos, a2b) uniprot_mutation_pos\n",
    "FROM staging.taipale t\n",
    "JOIN uniparc_human.uniparc2uniparc_canonical_mapping m USING (uniparc_id)\n",
    "JOIN uniparc_human.uniparc_xref x2 ON (\n",
    "    x2.type = 'UniProtKB/Swiss-Prot' AND x2.uniparc_id = m.uniparc_canonical_id)\n",
    "JOIN uniprot_kb.uniprot_sequence us ON (us.db = 'sp' and us.uniprot_id = x2.id);\\\n",
    "\"\"\"\n",
    "print(sql_query)"
   ]
  },
  {
   "cell_type": "code",
   "execution_count": 19,
   "metadata": {
    "collapsed": false,
    "run_control": {
     "marked": false
    }
   },
   "outputs": [],
   "source": [
    "refseq2uniprot = pd.read_sql_query(sql_query, db_remote.engine).drop_duplicates()"
   ]
  },
  {
   "cell_type": "code",
   "execution_count": 20,
   "metadata": {
    "collapsed": false,
    "run_control": {
     "marked": false
    }
   },
   "outputs": [
    {
     "data": {
      "text/html": [
       "<div>\n",
       "<table border=\"1\" class=\"dataframe\">\n",
       "  <thead>\n",
       "    <tr style=\"text-align: right;\">\n",
       "      <th></th>\n",
       "      <th>uniparc_id</th>\n",
       "      <th>refseq_id</th>\n",
       "      <th>refseq_mutation_pos</th>\n",
       "      <th>uniprot_id</th>\n",
       "      <th>uniprot_sequence</th>\n",
       "      <th>uniprot_mutation_pos</th>\n",
       "    </tr>\n",
       "  </thead>\n",
       "  <tbody>\n",
       "    <tr>\n",
       "      <th>0</th>\n",
       "      <td>UPI000006E60E</td>\n",
       "      <td>NP_005661</td>\n",
       "      <td>279</td>\n",
       "      <td>B3EWF7</td>\n",
       "      <td>MHPKEGAEQHVFSPVPGAPTPPPNRCGRLVLGPRLPAAGTPGPGIR...</td>\n",
       "      <td>0</td>\n",
       "    </tr>\n",
       "    <tr>\n",
       "      <th>1</th>\n",
       "      <td>UPI000006E60E</td>\n",
       "      <td>NP_005661</td>\n",
       "      <td>294</td>\n",
       "      <td>B3EWF7</td>\n",
       "      <td>MHPKEGAEQHVFSPVPGAPTPPPNRCGRLVLGPRLPAAGTPGPGIR...</td>\n",
       "      <td>0</td>\n",
       "    </tr>\n",
       "  </tbody>\n",
       "</table>\n",
       "</div>"
      ],
      "text/plain": [
       "      uniparc_id  refseq_id  refseq_mutation_pos uniprot_id                                   uniprot_sequence  uniprot_mutation_pos\n",
       "0  UPI000006E60E  NP_005661                  279     B3EWF7  MHPKEGAEQHVFSPVPGAPTPPPNRCGRLVLGPRLPAAGTPGPGIR...                     0\n",
       "1  UPI000006E60E  NP_005661                  294     B3EWF7  MHPKEGAEQHVFSPVPGAPTPPPNRCGRLVLGPRLPAAGTPGPGIR...                     0"
      ]
     },
     "execution_count": 20,
     "metadata": {},
     "output_type": "execute_result"
    }
   ],
   "source": [
    "refseq2uniprot.head(2)"
   ]
  },
  {
   "cell_type": "code",
   "execution_count": 21,
   "metadata": {
    "collapsed": false,
    "run_control": {
     "marked": false
    }
   },
   "outputs": [],
   "source": [
    "mutation_df = (\n",
    "    mutation_df.merge(refseq2uniprot, on=['uniparc_id', 'refseq_id', 'refseq_mutation_pos'], how='left')\n",
    ")"
   ]
  },
  {
   "cell_type": "code",
   "execution_count": 22,
   "metadata": {
    "collapsed": false,
    "run_control": {
     "marked": false
    }
   },
   "outputs": [],
   "source": [
    "mutation_df['uniprot_mutation'] = (\n",
    "    mutation_df['refseq_mutation'].str[0] + \n",
    "    mutation_df['uniprot_mutation_pos'].apply(lambda x: str(int(x)) if pd.notnull(x) else np.nan) + \n",
    "    mutation_df['refseq_mutation'].str[-1]\n",
    ")"
   ]
  },
  {
   "cell_type": "code",
   "execution_count": 23,
   "metadata": {
    "collapsed": false,
    "run_control": {
     "marked": false
    }
   },
   "outputs": [
    {
     "name": "stdout",
     "output_type": "stream",
     "text": [
      "Number of rows: 3853\n",
      "Number of unique RefSeq nucleotide mutations: 2960\n",
      "Number of unique RefSeq amino acid mutations: 2958 <--\n",
      "Number of unique RefSeq / Uniprot nucleotide mutations: 3662\n",
      "Number of unique RefSeq / Uniprot amino acid mutations: 3660\n"
     ]
    }
   ],
   "source": [
    "print(\"Number of rows:\", \n",
    "    mutation_df.shape[0])\n",
    "print(\"Number of unique RefSeq nucleotide mutations:\", \n",
    "    mutation_df.drop_duplicates(subset=['Mutation_RefSeq_NT']).shape[0])\n",
    "print(\"Number of unique RefSeq amino acid mutations:\", \n",
    "    mutation_df.drop_duplicates(subset=['Mutation_RefSeq_AA']).shape[0], \"<--\")\n",
    "print(\"Number of unique RefSeq / Uniprot nucleotide mutations:\", \n",
    "    mutation_df.drop_duplicates(subset=['Mutation_RefSeq_NT', 'uniprot_id']).shape[0])\n",
    "print(\"Number of unique RefSeq / Uniprot amino acid mutations:\", \n",
    "    mutation_df.drop_duplicates(subset=['Mutation_RefSeq_AA', 'uniprot_id']).shape[0])"
   ]
  },
  {
   "cell_type": "code",
   "execution_count": 24,
   "metadata": {
    "collapsed": true,
    "run_control": {
     "marked": false
    }
   },
   "outputs": [],
   "source": [
    "mutation_df_2 = mutation_df.copy()"
   ]
  },
  {
   "cell_type": "markdown",
   "metadata": {
    "code_folding": [],
    "run_control": {
     "marked": true
    }
   },
   "source": [
    "### mutation_df_failed"
   ]
  },
  {
   "cell_type": "code",
   "execution_count": 25,
   "metadata": {
    "collapsed": false
   },
   "outputs": [],
   "source": [
    "assert mutation_df['Mutation_RefSeq_AA'].drop_duplicates().shape[0] == 2958"
   ]
  },
  {
   "cell_type": "code",
   "execution_count": 26,
   "metadata": {
    "collapsed": true
   },
   "outputs": [],
   "source": [
    "mutation_df_failed = (\n",
    "    mutation_df[['Mutation_RefSeq_AA', 'uniparc_id', 'uniprot_id', 'uniprot_mutation']].copy()\n",
    ")"
   ]
  },
  {
   "cell_type": "code",
   "execution_count": 27,
   "metadata": {
    "collapsed": false,
    "run_control": {
     "marked": false
    }
   },
   "outputs": [],
   "source": [
    "assert not set(mutation_df_failed['Mutation_RefSeq_AA']) ^ set(mutation_df_1['Mutation_RefSeq_AA'])"
   ]
  },
  {
   "cell_type": "code",
   "execution_count": 28,
   "metadata": {
    "collapsed": false
   },
   "outputs": [],
   "source": [
    "mutation_df_failed['unique_id'] = (\n",
    "    mutation_df_failed['Mutation_RefSeq_AA'] + '.' + mutation_df_failed['uniparc_id'] + '.' + \n",
    "    mutation_df_failed['uniprot_id']\n",
    ")"
   ]
  },
  {
   "cell_type": "code",
   "execution_count": 29,
   "metadata": {
    "collapsed": false,
    "run_control": {
     "marked": false
    }
   },
   "outputs": [],
   "source": [
    "mutation_df_failed['errors'] = ''"
   ]
  },
  {
   "cell_type": "code",
   "execution_count": 30,
   "metadata": {
    "collapsed": true,
    "run_control": {
     "marked": false
    }
   },
   "outputs": [],
   "source": [
    "mutation_df_failed.loc[mutation_df_failed['uniprot_id'].isnull(), 'errors'] = (\n",
    "    \"Could not map UniParc to UniProt. \"\n",
    ")\n",
    "mutation_df_failed.loc[mutation_df_failed['uniparc_id'].isnull(), 'errors'] = (\n",
    "    \"Could not map RefSeq to UniParc. \"\n",
    ")\n",
    "mutation_df_failed.loc[\n",
    "    mutation_df_failed['Mutation_RefSeq_AA']\n",
    "        .apply(lambda x: x.split(':')[-1].split('.')[-1][0] == x.split(':')[-1].split('.')[-1][-1]),\n",
    "    'errors'] = (\n",
    "    \"Missense mutation. \"\n",
    ")"
   ]
  },
  {
   "cell_type": "code",
   "execution_count": 31,
   "metadata": {
    "collapsed": false,
    "run_control": {
     "marked": false
    }
   },
   "outputs": [
    {
     "data": {
      "text/html": [
       "<div>\n",
       "<table border=\"1\" class=\"dataframe\">\n",
       "  <thead>\n",
       "    <tr style=\"text-align: right;\">\n",
       "      <th></th>\n",
       "      <th>Mutation_RefSeq_AA</th>\n",
       "      <th>uniparc_id</th>\n",
       "      <th>uniprot_id</th>\n",
       "      <th>uniprot_mutation</th>\n",
       "      <th>unique_id</th>\n",
       "      <th>errors</th>\n",
       "    </tr>\n",
       "  </thead>\n",
       "  <tbody>\n",
       "    <tr>\n",
       "      <th>3841</th>\n",
       "      <td>NP_008896:p.S220N</td>\n",
       "      <td>UPI0000161F67</td>\n",
       "      <td>NaN</td>\n",
       "      <td>NaN</td>\n",
       "      <td>NaN</td>\n",
       "      <td>Could not map UniParc to UniProt.</td>\n",
       "    </tr>\n",
       "    <tr>\n",
       "      <th>3842</th>\n",
       "      <td>NP_067645:p.S472P</td>\n",
       "      <td>UPI000006F57B</td>\n",
       "      <td>NaN</td>\n",
       "      <td>NaN</td>\n",
       "      <td>NaN</td>\n",
       "      <td>Could not map UniParc to UniProt.</td>\n",
       "    </tr>\n",
       "    <tr>\n",
       "      <th>3844</th>\n",
       "      <td>NP_067645:p.R501S</td>\n",
       "      <td>UPI000006F57B</td>\n",
       "      <td>NaN</td>\n",
       "      <td>NaN</td>\n",
       "      <td>NaN</td>\n",
       "      <td>Could not map UniParc to UniProt.</td>\n",
       "    </tr>\n",
       "    <tr>\n",
       "      <th>3846</th>\n",
       "      <td>NP_067645:p.V524I</td>\n",
       "      <td>UPI000006F57B</td>\n",
       "      <td>NaN</td>\n",
       "      <td>NaN</td>\n",
       "      <td>NaN</td>\n",
       "      <td>Could not map UniParc to UniProt.</td>\n",
       "    </tr>\n",
       "    <tr>\n",
       "      <th>3851</th>\n",
       "      <td>NP_065838:p.K135N</td>\n",
       "      <td>UPI000035E7B3</td>\n",
       "      <td>NaN</td>\n",
       "      <td>NaN</td>\n",
       "      <td>NaN</td>\n",
       "      <td>Could not map UniParc to UniProt.</td>\n",
       "    </tr>\n",
       "  </tbody>\n",
       "</table>\n",
       "</div>"
      ],
      "text/plain": [
       "     Mutation_RefSeq_AA     uniparc_id uniprot_id uniprot_mutation unique_id                              errors\n",
       "3841  NP_008896:p.S220N  UPI0000161F67        NaN              NaN       NaN  Could not map UniParc to UniProt. \n",
       "3842  NP_067645:p.S472P  UPI000006F57B        NaN              NaN       NaN  Could not map UniParc to UniProt. \n",
       "3844  NP_067645:p.R501S  UPI000006F57B        NaN              NaN       NaN  Could not map UniParc to UniProt. \n",
       "3846  NP_067645:p.V524I  UPI000006F57B        NaN              NaN       NaN  Could not map UniParc to UniProt. \n",
       "3851  NP_065838:p.K135N  UPI000035E7B3        NaN              NaN       NaN  Could not map UniParc to UniProt. "
      ]
     },
     "execution_count": 31,
     "metadata": {},
     "output_type": "execute_result"
    }
   ],
   "source": [
    "mutation_df_failed[mutation_df_failed['errors'] != ''].tail()"
   ]
  },
  {
   "cell_type": "code",
   "execution_count": 32,
   "metadata": {
    "collapsed": false
   },
   "outputs": [
    {
     "data": {
      "text/plain": [
       "(3853, 6)"
      ]
     },
     "execution_count": 32,
     "metadata": {},
     "output_type": "execute_result"
    }
   ],
   "source": [
    "mutation_df_failed.shape"
   ]
  },
  {
   "cell_type": "markdown",
   "metadata": {
    "run_control": {
     "marked": false
    }
   },
   "source": [
    "## Mutation matches sequence\n",
    "\n",
    "Make sure that the AA in UniProt sequence matches the AA in the RefSeq mutation."
   ]
  },
  {
   "cell_type": "markdown",
   "metadata": {},
   "source": [
    "### mutation_df_3"
   ]
  },
  {
   "cell_type": "code",
   "execution_count": 33,
   "metadata": {
    "collapsed": true
   },
   "outputs": [],
   "source": [
    "mutation_df = mutation_df_2.copy()"
   ]
  },
  {
   "cell_type": "code",
   "execution_count": 34,
   "metadata": {
    "collapsed": false
   },
   "outputs": [
    {
     "data": {
      "text/plain": [
       "48"
      ]
     },
     "execution_count": 34,
     "metadata": {},
     "output_type": "execute_result"
    }
   ],
   "source": [
    "(mutation_df['refseq_mutation'].str[0] == mutation_df['refseq_mutation'].str[-1]).sum()"
   ]
  },
  {
   "cell_type": "code",
   "execution_count": 35,
   "metadata": {
    "collapsed": true
   },
   "outputs": [],
   "source": [
    "mutation_df = (\n",
    "    mutation_df[\n",
    "        (mutation_df['refseq_mutation'].str[0] != mutation_df['refseq_mutation'].str[-1])\n",
    "    ]\n",
    ")"
   ]
  },
  {
   "cell_type": "code",
   "execution_count": 36,
   "metadata": {
    "collapsed": true,
    "run_control": {
     "marked": false
    }
   },
   "outputs": [],
   "source": [
    "mutation_df['mutation_matches_sequence'] = (\n",
    "    mutation_df[['uniprot_mutation', 'uniprot_sequence']]\n",
    "    .apply(lambda x: kmtools.sequence_tools.mutation_matches_sequence(*x), axis=1)\n",
    ")"
   ]
  },
  {
   "cell_type": "code",
   "execution_count": 37,
   "metadata": {
    "collapsed": false,
    "run_control": {
     "marked": false
    }
   },
   "outputs": [
    {
     "data": {
      "text/plain": [
       "837"
      ]
     },
     "execution_count": 37,
     "metadata": {},
     "output_type": "execute_result"
    }
   ],
   "source": [
    "(mutation_df['mutation_matches_sequence'] != True).sum()"
   ]
  },
  {
   "cell_type": "code",
   "execution_count": 38,
   "metadata": {
    "collapsed": false,
    "run_control": {
     "marked": false
    }
   },
   "outputs": [],
   "source": [
    "mutation_df = mutation_df[mutation_df['mutation_matches_sequence'] == True]"
   ]
  },
  {
   "cell_type": "code",
   "execution_count": 39,
   "metadata": {
    "collapsed": false,
    "run_control": {
     "marked": false
    }
   },
   "outputs": [
    {
     "name": "stdout",
     "output_type": "stream",
     "text": [
      "Number of rows: 2968\n",
      "Number of unique RefSeq nucleotide mutations: 2853\n",
      "Number of unique RefSeq amino acid mutations: 2851 <--\n",
      "Number of unique RefSeq / Uniprot nucleotide mutations: 2867\n",
      "Number of unique RefSeq / Uniprot amino acid mutations: 2865\n"
     ]
    }
   ],
   "source": [
    "print(\"Number of rows:\", \n",
    "    mutation_df.shape[0])\n",
    "print(\"Number of unique RefSeq nucleotide mutations:\", \n",
    "    mutation_df.drop_duplicates(subset=['Mutation_RefSeq_NT']).shape[0])\n",
    "print(\"Number of unique RefSeq amino acid mutations:\", \n",
    "    mutation_df.drop_duplicates(subset=['Mutation_RefSeq_AA']).shape[0], \"<--\")\n",
    "print(\"Number of unique RefSeq / Uniprot nucleotide mutations:\", \n",
    "    mutation_df.drop_duplicates(subset=['Mutation_RefSeq_NT', 'uniprot_id']).shape[0])\n",
    "print(\"Number of unique RefSeq / Uniprot amino acid mutations:\", \n",
    "    mutation_df.drop_duplicates(subset=['Mutation_RefSeq_AA', 'uniprot_id']).shape[0])"
   ]
  },
  {
   "cell_type": "code",
   "execution_count": 40,
   "metadata": {
    "collapsed": true,
    "run_control": {
     "marked": false
    }
   },
   "outputs": [],
   "source": [
    "mutation_df_3 = mutation_df.copy()"
   ]
  },
  {
   "cell_type": "code",
   "execution_count": 41,
   "metadata": {
    "collapsed": true
   },
   "outputs": [],
   "source": [
    "failed_3 = (\n",
    "    set(mutation_df_2['Mutation_RefSeq_AA'] + '.' + mutation_df_2['uniparc_id'] + '.' + \n",
    "        mutation_df_2['uniprot_id']) - \n",
    "    set(mutation_df_3['Mutation_RefSeq_AA'] + '.' + mutation_df_3['uniparc_id'] + '.' + \n",
    "        mutation_df_3['uniprot_id'])\n",
    ")\n",
    "\n",
    "mutation_df_failed.loc[mutation_df_failed['unique_id'].isin(failed_3), 'errors'] = (\n",
    "    mutation_df_failed.loc[mutation_df_failed['unique_id'].isin(failed_3), 'errors'] + \n",
    "    \"RefSeq protein and UniProt protein do not have the same sequence. \"\n",
    ")"
   ]
  },
  {
   "cell_type": "markdown",
   "metadata": {
    "run_control": {
     "marked": false
    }
   },
   "source": [
    "## Protein has domain(s)\n",
    "\n",
    "Select only those mutations that fall inside a protein domain.\n",
    "\n",
    "### mutation_df_4"
   ]
  },
  {
   "cell_type": "code",
   "execution_count": 42,
   "metadata": {
    "collapsed": false,
    "run_control": {
     "marked": false
    }
   },
   "outputs": [],
   "source": [
    "mutation_df = mutation_df_3.copy()"
   ]
  },
  {
   "cell_type": "code",
   "execution_count": 43,
   "metadata": {
    "collapsed": false,
    "run_control": {
     "marked": false
    }
   },
   "outputs": [],
   "source": [
    "sql_query = \"\"\"\\\n",
    "select uniprot_domain_id, uniprot_id, domain_def, model_domain_def\n",
    "from elaspic.uniprot_domain\n",
    "join elaspic.uniprot_domain_template using (uniprot_domain_id)\n",
    "left join elaspic.uniprot_domain_model using (uniprot_domain_id)\n",
    "where uniprot_id in ('{}');\n",
    "\"\"\".format(\"', '\".join(set(mutation_df['uniprot_id'].values)))\n",
    "uniprot_domain_model = pd.read_sql_query(sql_query, db_remote.engine)"
   ]
  },
  {
   "cell_type": "code",
   "execution_count": 44,
   "metadata": {
    "collapsed": false,
    "run_control": {
     "marked": false
    }
   },
   "outputs": [],
   "source": [
    "mutation_df = (\n",
    "    mutation_df\n",
    "    .merge(uniprot_domain_model, on=['uniprot_id'])\n",
    ")"
   ]
  },
  {
   "cell_type": "code",
   "execution_count": 45,
   "metadata": {
    "collapsed": false,
    "run_control": {
     "marked": false
    }
   },
   "outputs": [],
   "source": [
    "mutation_df['mutation_in_domain'] = (\n",
    "    mutation_df[['uniprot_mutation', 'model_domain_def']]\n",
    "        .apply(lambda x: ascommon.sequence_tools.mutation_in_domain(*x), axis=1)\n",
    ")"
   ]
  },
  {
   "cell_type": "code",
   "execution_count": 46,
   "metadata": {
    "collapsed": true,
    "run_control": {
     "marked": false
    }
   },
   "outputs": [],
   "source": [
    "mutation_df.loc[mutation_df['mutation_in_domain'].isnull(), 'mutation_in_domain'] = (\n",
    "    mutation_df.loc[mutation_df['mutation_in_domain'].isnull(), ['uniprot_mutation', 'domain_def']]\n",
    "        .apply(lambda x: ascommon.sequence_tools.mutation_in_domain(*x), axis=1)\n",
    ")"
   ]
  },
  {
   "cell_type": "code",
   "execution_count": 47,
   "metadata": {
    "collapsed": false,
    "run_control": {
     "marked": false
    }
   },
   "outputs": [
    {
     "name": "stdout",
     "output_type": "stream",
     "text": [
      "Number of rows: 4134\n",
      "Number of unique RefSeq nucleotide mutations: 2502\n",
      "Number of unique RefSeq amino acid mutations: 2501 <--\n",
      "Number of unique RefSeq / Uniprot nucleotide mutations: 2512\n",
      "Number of unique RefSeq / Uniprot amino acid mutations: 2511\n"
     ]
    }
   ],
   "source": [
    "print(\"Number of rows:\", \n",
    "    mutation_df.shape[0])\n",
    "print(\"Number of unique RefSeq nucleotide mutations:\", \n",
    "    mutation_df.drop_duplicates(subset=['Mutation_RefSeq_NT']).shape[0])\n",
    "print(\"Number of unique RefSeq amino acid mutations:\", \n",
    "    mutation_df.drop_duplicates(subset=['Mutation_RefSeq_AA']).shape[0], \"<--\")\n",
    "print(\"Number of unique RefSeq / Uniprot nucleotide mutations:\", \n",
    "    mutation_df.drop_duplicates(subset=['Mutation_RefSeq_NT', 'uniprot_id']).shape[0])\n",
    "print(\"Number of unique RefSeq / Uniprot amino acid mutations:\", \n",
    "    mutation_df.drop_duplicates(subset=['Mutation_RefSeq_AA', 'uniprot_id']).shape[0])"
   ]
  },
  {
   "cell_type": "markdown",
   "metadata": {
    "run_control": {
     "marked": false
    }
   },
   "source": [
    "More than **~300** additional mutations don't fall inside a protein with *any* structural domains."
   ]
  },
  {
   "cell_type": "code",
   "execution_count": 48,
   "metadata": {
    "collapsed": true,
    "run_control": {
     "marked": false
    }
   },
   "outputs": [],
   "source": [
    "mutation_df_4 = mutation_df.copy()"
   ]
  },
  {
   "cell_type": "code",
   "execution_count": 49,
   "metadata": {
    "collapsed": false,
    "run_control": {
     "marked": false
    }
   },
   "outputs": [],
   "source": [
    "failed_4 = (\n",
    "    set(mutation_df_3['Mutation_RefSeq_AA'] + '.' + mutation_df_3['uniparc_id'] + '.' + \n",
    "        mutation_df_3['uniprot_id']) - \n",
    "    set(mutation_df_4['Mutation_RefSeq_AA'] + '.' + mutation_df_4['uniparc_id'] + '.' + \n",
    "        mutation_df_4['uniprot_id'])\n",
    ")\n",
    "\n",
    "mutation_df_failed.loc[mutation_df_failed['unique_id'].isin(failed_4), 'errors'] = (\n",
    "    mutation_df_failed.loc[mutation_df_failed['unique_id'].isin(failed_4), 'errors'] + \n",
    "    \"Protein has no structural domains. \"\n",
    ")"
   ]
  },
  {
   "cell_type": "markdown",
   "metadata": {
    "run_control": {
     "marked": false
    }
   },
   "source": [
    "## Mutation in domain\n",
    "\n",
    "### mutation_df_5"
   ]
  },
  {
   "cell_type": "code",
   "execution_count": 50,
   "metadata": {
    "collapsed": true,
    "run_control": {
     "marked": false
    }
   },
   "outputs": [],
   "source": [
    "mutation_df = mutation_df_4.copy()"
   ]
  },
  {
   "cell_type": "code",
   "execution_count": 51,
   "metadata": {
    "collapsed": true,
    "run_control": {
     "marked": false
    }
   },
   "outputs": [],
   "source": [
    "mutation_df = mutation_df[mutation_df['mutation_in_domain']]"
   ]
  },
  {
   "cell_type": "code",
   "execution_count": 52,
   "metadata": {
    "collapsed": false,
    "run_control": {
     "marked": false
    }
   },
   "outputs": [
    {
     "name": "stdout",
     "output_type": "stream",
     "text": [
      "Number of rows: 2016\n",
      "Number of unique RefSeq nucleotide mutations: 1944\n",
      "Number of unique RefSeq amino acid mutations: 1943 <--\n",
      "Number of unique RefSeq / Uniprot nucleotide mutations: 1952\n",
      "Number of unique RefSeq / Uniprot amino acid mutations: 1951\n"
     ]
    }
   ],
   "source": [
    "print(\"Number of rows:\", \n",
    "    mutation_df.shape[0])\n",
    "print(\"Number of unique RefSeq nucleotide mutations:\", \n",
    "    mutation_df.drop_duplicates(subset=['Mutation_RefSeq_NT']).shape[0])\n",
    "print(\"Number of unique RefSeq amino acid mutations:\", \n",
    "    mutation_df.drop_duplicates(subset=['Mutation_RefSeq_AA']).shape[0], \"<--\")\n",
    "print(\"Number of unique RefSeq / Uniprot nucleotide mutations:\", \n",
    "    mutation_df.drop_duplicates(subset=['Mutation_RefSeq_NT', 'uniprot_id']).shape[0])\n",
    "print(\"Number of unique RefSeq / Uniprot amino acid mutations:\", \n",
    "    mutation_df.drop_duplicates(subset=['Mutation_RefSeq_AA', 'uniprot_id']).shape[0])"
   ]
  },
  {
   "cell_type": "markdown",
   "metadata": {
    "run_control": {
     "marked": false
    }
   },
   "source": [
    "Another **~550** mutations don't fall inside a domain for which we have a structural model (mostly because there is no structural domain in that region, but also because we didn't get around to making that homology model yet)."
   ]
  },
  {
   "cell_type": "code",
   "execution_count": 53,
   "metadata": {
    "collapsed": true,
    "run_control": {
     "marked": false
    }
   },
   "outputs": [],
   "source": [
    "mutation_df_5 =  mutation_df.copy()"
   ]
  },
  {
   "cell_type": "code",
   "execution_count": 54,
   "metadata": {
    "collapsed": true,
    "run_control": {
     "marked": false
    }
   },
   "outputs": [],
   "source": [
    "failed_5 = (\n",
    "    set(mutation_df_4['Mutation_RefSeq_AA'] + '.' + mutation_df_4['uniparc_id'] + '.' + \n",
    "        mutation_df_4['uniprot_id']) - \n",
    "    set(mutation_df_5['Mutation_RefSeq_AA'] + '.' + mutation_df_5['uniparc_id'] + '.' + \n",
    "        mutation_df_5['uniprot_id'])\n",
    ")\n",
    "\n",
    "mutation_df_failed.loc[mutation_df_failed['unique_id'].isin(failed_5), 'errors'] = (\n",
    "    mutation_df_failed.loc[mutation_df_failed['unique_id'].isin(failed_5), 'errors'] + \n",
    "    \"Mutation falls outside of all structural domains. \"\n",
    ")"
   ]
  },
  {
   "cell_type": "code",
   "execution_count": 55,
   "metadata": {
    "collapsed": false
   },
   "outputs": [
    {
     "data": {
      "text/plain": [
       "(2016, 23)"
      ]
     },
     "execution_count": 55,
     "metadata": {},
     "output_type": "execute_result"
    }
   ],
   "source": [
    "mutation_df.shape"
   ]
  },
  {
   "cell_type": "markdown",
   "metadata": {
    "run_control": {
     "marked": false
    }
   },
   "source": [
    "## ELASPIC\n",
    "\n",
    "This is just to create a spreadsheet for Taipale."
   ]
  },
  {
   "cell_type": "markdown",
   "metadata": {
    "run_control": {
     "marked": false
    }
   },
   "source": [
    "### Load ELASPIC mutations"
   ]
  },
  {
   "cell_type": "code",
   "execution_count": 56,
   "metadata": {
    "collapsed": false,
    "run_control": {
     "marked": false
    }
   },
   "outputs": [],
   "source": [
    "sql_query = \"\"\"\n",
    "select *\n",
    "from elaspic.uniprot_domain_mutation\n",
    "where (uniprot_id, mutation) in ({})\n",
    "\"\"\".format(\n",
    "    ', '.join(mutation_df_5[['uniprot_id', 'uniprot_mutation']]\n",
    "        .apply(\n",
    "            lambda x: \"('{}', '{}')\".format(*x), \n",
    "            axis=1)))\n",
    "\n",
    "uniprot_domain_mutation = pd.read_sql_query(sql_query, db_remote.engine)"
   ]
  },
  {
   "cell_type": "code",
   "execution_count": 57,
   "metadata": {
    "collapsed": false,
    "run_control": {
     "marked": false
    }
   },
   "outputs": [
    {
     "data": {
      "text/html": [
       "<div>\n",
       "<table border=\"1\" class=\"dataframe\">\n",
       "  <thead>\n",
       "    <tr style=\"text-align: right;\">\n",
       "      <th></th>\n",
       "      <th>uniprot_id</th>\n",
       "      <th>uniprot_domain_id</th>\n",
       "      <th>mutation</th>\n",
       "      <th>mutation_errors</th>\n",
       "      <th>model_filename_wt</th>\n",
       "      <th>model_filename_mut</th>\n",
       "      <th>chain_modeller</th>\n",
       "      <th>mutation_modeller</th>\n",
       "      <th>stability_energy_wt</th>\n",
       "      <th>stability_energy_mut</th>\n",
       "      <th>physchem_wt</th>\n",
       "      <th>physchem_wt_ownchain</th>\n",
       "      <th>physchem_mut</th>\n",
       "      <th>physchem_mut_ownchain</th>\n",
       "      <th>matrix_score</th>\n",
       "      <th>secondary_structure_wt</th>\n",
       "      <th>solvent_accessibility_wt</th>\n",
       "      <th>secondary_structure_mut</th>\n",
       "      <th>solvent_accessibility_mut</th>\n",
       "      <th>provean_score</th>\n",
       "      <th>ddg</th>\n",
       "      <th>mut_date_modified</th>\n",
       "    </tr>\n",
       "  </thead>\n",
       "  <tbody>\n",
       "    <tr>\n",
       "      <th>0</th>\n",
       "      <td>O00142</td>\n",
       "      <td>60063967</td>\n",
       "      <td>H121N</td>\n",
       "      <td>None</td>\n",
       "      <td>O00142_H121N/WT_RepairPDB_O00142_1j90A_1.pdb</td>\n",
       "      <td>O00142_H121N/MUT_RepairPDB_O00142_1j90A_1.pdb</td>\n",
       "      <td>A</td>\n",
       "      <td>H74N</td>\n",
       "      <td>94.3439,-128.609,-56.6024,-235.416,-6.26075,32...</td>\n",
       "      <td>95.8511,-128.56,-55.735,-234.802,-6.26087,324....</td>\n",
       "      <td>0,0,0,0</td>\n",
       "      <td>0,0,4,51</td>\n",
       "      <td>0,0,0,0</td>\n",
       "      <td>0,0,4,51</td>\n",
       "      <td>0.0</td>\n",
       "      <td>H</td>\n",
       "      <td>2.69926</td>\n",
       "      <td>H</td>\n",
       "      <td>3.42948</td>\n",
       "      <td>-6.265</td>\n",
       "      <td>0.680524</td>\n",
       "      <td>2015-01-28 21:20:09</td>\n",
       "    </tr>\n",
       "    <tr>\n",
       "      <th>1</th>\n",
       "      <td>O00142</td>\n",
       "      <td>60063967</td>\n",
       "      <td>L215P</td>\n",
       "      <td>None</td>\n",
       "      <td>O00142_L215P/WT_RepairPDB_O00142_1j90A_1.pdb</td>\n",
       "      <td>O00142_L215P/MUT_RepairPDB_O00142_1j90A_1.pdb</td>\n",
       "      <td>A</td>\n",
       "      <td>L168P</td>\n",
       "      <td>94.6253,-128.711,-56.6448,-235.487,-6.22968,32...</td>\n",
       "      <td>98.9871,-126.901,-55.9311,-234.63,-6.16603,322...</td>\n",
       "      <td>0,0,0,0</td>\n",
       "      <td>0,0,0,42</td>\n",
       "      <td>0,0,0,0</td>\n",
       "      <td>0,0,0,42</td>\n",
       "      <td>-3.0</td>\n",
       "      <td>H</td>\n",
       "      <td>8.54224</td>\n",
       "      <td>H</td>\n",
       "      <td>17.97680</td>\n",
       "      <td>-6.515</td>\n",
       "      <td>4.399000</td>\n",
       "      <td>2015-05-31 21:44:02</td>\n",
       "    </tr>\n",
       "  </tbody>\n",
       "</table>\n",
       "</div>"
      ],
      "text/plain": [
       "  uniprot_id  uniprot_domain_id mutation mutation_errors                             model_filename_wt                             model_filename_mut chain_modeller mutation_modeller                                stability_energy_wt                               stability_energy_mut physchem_wt physchem_wt_ownchain physchem_mut physchem_mut_ownchain  matrix_score secondary_structure_wt  solvent_accessibility_wt secondary_structure_mut  solvent_accessibility_mut  provean_score       ddg   mut_date_modified\n",
       "0     O00142           60063967    H121N            None  O00142_H121N/WT_RepairPDB_O00142_1j90A_1.pdb  O00142_H121N/MUT_RepairPDB_O00142_1j90A_1.pdb              A              H74N  94.3439,-128.609,-56.6024,-235.416,-6.26075,32...  95.8511,-128.56,-55.735,-234.802,-6.26087,324....     0,0,0,0             0,0,4,51      0,0,0,0              0,0,4,51           0.0                      H                   2.69926                       H                    3.42948         -6.265  0.680524 2015-01-28 21:20:09\n",
       "1     O00142           60063967    L215P            None  O00142_L215P/WT_RepairPDB_O00142_1j90A_1.pdb  O00142_L215P/MUT_RepairPDB_O00142_1j90A_1.pdb              A             L168P  94.6253,-128.711,-56.6448,-235.487,-6.22968,32...  98.9871,-126.901,-55.9311,-234.63,-6.16603,322...     0,0,0,0             0,0,0,42      0,0,0,0              0,0,0,42          -3.0                      H                   8.54224                       H                   17.97680         -6.515  4.399000 2015-05-31 21:44:02"
      ]
     },
     "metadata": {},
     "output_type": "display_data"
    },
    {
     "data": {
      "text/plain": [
       "(1951, 22)"
      ]
     },
     "execution_count": 57,
     "metadata": {},
     "output_type": "execute_result"
    }
   ],
   "source": [
    "display(uniprot_domain_mutation.head(2))\n",
    "uniprot_domain_mutation.shape"
   ]
  },
  {
   "cell_type": "code",
   "execution_count": 58,
   "metadata": {
    "collapsed": false
   },
   "outputs": [
    {
     "data": {
      "text/html": [
       "<div>\n",
       "<table border=\"1\" class=\"dataframe\">\n",
       "  <thead>\n",
       "    <tr style=\"text-align: right;\">\n",
       "      <th></th>\n",
       "      <th>Mutation_RefSeq_AA</th>\n",
       "      <th>uniparc_id</th>\n",
       "      <th>uniprot_id</th>\n",
       "      <th>uniprot_mutation</th>\n",
       "      <th>unique_id</th>\n",
       "      <th>errors</th>\n",
       "    </tr>\n",
       "  </thead>\n",
       "  <tbody>\n",
       "    <tr>\n",
       "      <th>0</th>\n",
       "      <td>NP_000005:p.C972Y</td>\n",
       "      <td>UPI0000001C94</td>\n",
       "      <td>NaN</td>\n",
       "      <td>NaN</td>\n",
       "      <td>NaN</td>\n",
       "      <td>Could not map UniParc to UniProt. RefSeq prote...</td>\n",
       "    </tr>\n",
       "    <tr>\n",
       "      <th>1</th>\n",
       "      <td>NP_000005:p.C972Y</td>\n",
       "      <td>UPI0000155718</td>\n",
       "      <td>P01023</td>\n",
       "      <td>C972Y</td>\n",
       "      <td>NP_000005:p.C972Y.UPI0000155718.P01023</td>\n",
       "      <td></td>\n",
       "    </tr>\n",
       "  </tbody>\n",
       "</table>\n",
       "</div>"
      ],
      "text/plain": [
       "  Mutation_RefSeq_AA     uniparc_id uniprot_id uniprot_mutation                               unique_id                                             errors\n",
       "0  NP_000005:p.C972Y  UPI0000001C94        NaN              NaN                                     NaN  Could not map UniParc to UniProt. RefSeq prote...\n",
       "1  NP_000005:p.C972Y  UPI0000155718     P01023            C972Y  NP_000005:p.C972Y.UPI0000155718.P01023                                                   "
      ]
     },
     "execution_count": 58,
     "metadata": {},
     "output_type": "execute_result"
    }
   ],
   "source": [
    "mutation_df_failed.head(2)"
   ]
  },
  {
   "cell_type": "code",
   "execution_count": 59,
   "metadata": {
    "collapsed": false,
    "run_control": {
     "marked": false
    }
   },
   "outputs": [],
   "source": [
    "nonfailed = set(\n",
    "    mutation_df_failed[mutation_df_failed['errors'] == '']['uniprot_id'] + '.' +\n",
    "    mutation_df_failed[mutation_df_failed['errors'] == '']['uniprot_mutation']\n",
    ")\n",
    "elaspic_mutations = set(uniprot_domain_mutation['uniprot_id'] + '.' + uniprot_domain_mutation['mutation'])"
   ]
  },
  {
   "cell_type": "code",
   "execution_count": 60,
   "metadata": {
    "collapsed": false,
    "run_control": {
     "marked": false
    }
   },
   "outputs": [],
   "source": [
    "failed_6 = set(mutation_df_5['uniprot_id'] + '.' + mutation_df_5['uniprot_mutation'])\n",
    "failed_6 = set(x for x in failed_6 if x not in elaspic_mutations and x in nonfailed)"
   ]
  },
  {
   "cell_type": "code",
   "execution_count": 61,
   "metadata": {
    "collapsed": false,
    "run_control": {
     "marked": false
    }
   },
   "outputs": [
    {
     "name": "stdout",
     "output_type": "stream",
     "text": [
      "Unexplaind failures:                                        2\n"
     ]
    }
   ],
   "source": [
    "print2(\"Unexplaind failures:\", len(failed_6))\n",
    "# 37"
   ]
  },
  {
   "cell_type": "code",
   "execution_count": 62,
   "metadata": {
    "collapsed": false
   },
   "outputs": [
    {
     "data": {
      "text/plain": [
       "{'P02746.G42D', 'P35247.T180A'}"
      ]
     },
     "execution_count": 62,
     "metadata": {},
     "output_type": "execute_result"
    }
   ],
   "source": [
    "failed_6"
   ]
  },
  {
   "cell_type": "markdown",
   "metadata": {
    "run_control": {
     "marked": false
    }
   },
   "source": [
    "### Calculate missing"
   ]
  },
  {
   "cell_type": "raw",
   "metadata": {
    "run_control": {
     "marked": false
    }
   },
   "source": [
    "# Unset model errors\n",
    "sql_query = \"\"\"\\\n",
    "update elaspic.uniprot_domain_model\n",
    "set model_errors = null \n",
    "where uniprot_domain_id not in (select uniprot_domain_id from elaspic.uniprot_domain_mutation)\n",
    "and uniprot_domain_id in (select uniprot_domain_id from elaspic.uniprot_domain where uniprot_id in ('{}'));\\\n",
    "\"\"\".format(\"', '\".join(set(x.split('.')[0] for x in failed_6)))\n",
    "print(sql_query)"
   ]
  },
  {
   "cell_type": "raw",
   "metadata": {},
   "source": [
    "db_remote.engine.execute(sql_query)"
   ]
  },
  {
   "cell_type": "raw",
   "metadata": {
    "code_folding": [],
    "run_control": {
     "marked": false
    }
   },
   "source": [
    "# Prepare system commands for missing mutations\n",
    "# CONFIG_FILE = '/home/kimlab1/strokach/working/elaspic/config/config_file_mysql.ini'\n",
    "PDB_DIR = '/home/kimlab1/database_data/pdb/data/data/structures/divided/pdb'\n",
    "BLAST_DB_DIR = '/home/kimlab1/database_data/blast/db'\n",
    "ARCHIVE_DIR = '/home/kimlab1/database_data/elaspic_v2'\n",
    "\n",
    "system_command_template = \"\"\"\\\n",
    "elaspic run \\\n",
    "    --connection_string='{connection_string}' \\\n",
    "    --pdb_dir='{pdb_dir}' \\\n",
    "    --blast_db_dir='{blast_db_dir}' \\\n",
    "    --archive_dir='{archive_dir}' \\\n",
    "    -u '{uniprot_id}' -m '{mutation}' -vv \\\n",
    "\"\"\"\n",
    "\n",
    "system_commands = []\n",
    "for i, uniprot_id_mutation in enumerate(failed_6):\n",
    "    uniprot_id, mutation = uniprot_id_mutation.split('.')\n",
    "    system_command = (\n",
    "        system_command_template.format(\n",
    "            connection_string=op.dirname(db_remote.connection_string) + '/elaspic',\n",
    "            pdb_dir=PDB_DIR,\n",
    "            blast_db_dir=BLAST_DB_DIR,\n",
    "            archive_dir=ARCHIVE_DIR,\n",
    "            uniprot_id=uniprot_id,\n",
    "            mutation=mutation,\n",
    "        )\n",
    "    )\n",
    "    system_commands.append((i, system_command))"
   ]
  },
  {
   "cell_type": "raw",
   "metadata": {
    "run_control": {
     "marked": false
    }
   },
   "source": [
    "!{system_commands[0][1]}"
   ]
  },
  {
   "cell_type": "raw",
   "metadata": {
    "code_folding": [],
    "run_control": {
     "marked": false
    }
   },
   "source": [
    "# Prepare jobsubmitter\n",
    "PATH = (\n",
    "    '/home/kimlab1/strokach/anaconda/bin:/usr/local/bin:/bin:/usr/bin:/usr/local/sbin:/usr/sbin:/sbin'\n",
    ")\n",
    "\n",
    "js_banting = ascommon.cluster_tools.JobSubmitter(\n",
    "    'taipale_to_calculate_3', 'pbs://:@192.168.233.150', op.abspath(NOTEBOOK_NAME),\n",
    "    email='ostrokach@gmail.com', force_new_folder=False,\n",
    "    nproc=1, queue='medium', walltime='2:00:00', mem='2G',\n",
    "    env={'PATH': PATH}\n",
    ")"
   ]
  },
  {
   "cell_type": "raw",
   "metadata": {
    "run_control": {
     "marked": false
    }
   },
   "source": [
    "with js_banting.connect():\n",
    "    js_banting.submit(system_commands)"
   ]
  },
  {
   "cell_type": "raw",
   "metadata": {
    "run_control": {
     "marked": false
    }
   },
   "source": [
    "with js_banting.connect():\n",
    "    results_df = js_banting.job_status(system_commands)\n",
    "display(results_df)"
   ]
  },
  {
   "cell_type": "markdown",
   "metadata": {
    "run_control": {
     "marked": false
    }
   },
   "source": [
    "### Iterate on the above\n",
    "\n",
    "\n",
    "    ..."
   ]
  },
  {
   "cell_type": "markdown",
   "metadata": {
    "run_control": {
     "marked": false
    }
   },
   "source": [
    "### mutation_df_failed"
   ]
  },
  {
   "cell_type": "code",
   "execution_count": null,
   "metadata": {
    "collapsed": false,
    "run_control": {
     "marked": false
    }
   },
   "outputs": [],
   "source": [
    "mutation_df_failed.loc[\n",
    "    (mutation_df_failed['uniprot_id'] + '.' + mutation_df_failed['uniprot_mutation']).isin(failed_6), \n",
    "    'errors'\n",
    "] = (\n",
    "    \"Error making homology model (probably low sequence identity). \"\n",
    ")"
   ]
  },
  {
   "cell_type": "code",
   "execution_count": null,
   "metadata": {
    "collapsed": true,
    "run_control": {
     "marked": false
    }
   },
   "outputs": [],
   "source": [
    "assert not set(mutation_df_failed['Mutation_RefSeq_AA']) ^ set(mutation_df_1['Mutation_RefSeq_AA'])"
   ]
  },
  {
   "cell_type": "markdown",
   "metadata": {
    "run_control": {
     "marked": false
    }
   },
   "source": [
    "# Load histone interaction data\n",
    "\n",
    "### mmc2_s2a"
   ]
  },
  {
   "cell_type": "code",
   "execution_count": null,
   "metadata": {
    "collapsed": true,
    "run_control": {
     "marked": false
    }
   },
   "outputs": [],
   "source": [
    "mmc2_s2a = pd.read_excel('../downloads/taipale/mmc2.xlsx', 'Table S2A')"
   ]
  },
  {
   "cell_type": "code",
   "execution_count": null,
   "metadata": {
    "collapsed": false,
    "run_control": {
     "marked": false
    }
   },
   "outputs": [],
   "source": [
    "display(mmc2_s2a.head(2))\n",
    "print(mmc2_s2a.shape[0])\n",
    "print(mmc2_s2a.drop_duplicates(subset=['Mutation_RefSeq_NT']).shape[0])\n",
    "\n",
    "assert not set(mmc2_s2a['Mutation_RefSeq_NT']) - set(mutation_df_1['Mutation_RefSeq_NT'])"
   ]
  },
  {
   "cell_type": "code",
   "execution_count": null,
   "metadata": {
    "collapsed": true,
    "run_control": {
     "marked": false
    }
   },
   "outputs": [],
   "source": [
    "mmc2_s2a.drop(pd.Index(['Category', 'Symbol', 'Entrez_Gene_ID', 'Allele_ID', 'Mutation_RefSeq_AA']), axis=1, inplace=True)"
   ]
  },
  {
   "cell_type": "markdown",
   "metadata": {
    "run_control": {
     "marked": false
    }
   },
   "source": [
    "# Load FoldX predictions\n",
    "\n",
    "### mmc2_s2b"
   ]
  },
  {
   "cell_type": "code",
   "execution_count": null,
   "metadata": {
    "collapsed": true,
    "run_control": {
     "marked": false
    }
   },
   "outputs": [],
   "source": [
    "mmc2_s2b = pd.read_excel('../downloads/taipale/mmc2.xlsx', 'Table S2B')"
   ]
  },
  {
   "cell_type": "code",
   "execution_count": null,
   "metadata": {
    "collapsed": false,
    "run_control": {
     "marked": false
    }
   },
   "outputs": [],
   "source": [
    "display(mmc2_s2b.head(2))\n",
    "\n",
    "assert not set(mmc2_s2b['Mutation_RefSeq_NT']) - set(mutation_df_1['Mutation_RefSeq_NT'])"
   ]
  },
  {
   "cell_type": "code",
   "execution_count": null,
   "metadata": {
    "collapsed": true,
    "run_control": {
     "marked": false
    }
   },
   "outputs": [],
   "source": [
    "mmc2_s2b.drop(pd.Index(['Category', 'Symbol', 'Entrez_Gene_ID', 'Allele_ID', 'Mutation_RefSeq_AA']), axis=1, inplace=True)"
   ]
  },
  {
   "cell_type": "markdown",
   "metadata": {
    "run_control": {
     "marked": false
    }
   },
   "source": [
    "# Save"
   ]
  },
  {
   "cell_type": "markdown",
   "metadata": {
    "run_control": {
     "marked": false
    }
   },
   "source": [
    "### mutation_df_5"
   ]
  },
  {
   "cell_type": "code",
   "execution_count": null,
   "metadata": {
    "collapsed": true,
    "run_control": {
     "marked": false
    }
   },
   "outputs": [],
   "source": [
    "mutation_df = mutation_df_5.copy()"
   ]
  },
  {
   "cell_type": "code",
   "execution_count": null,
   "metadata": {
    "collapsed": true,
    "run_control": {
     "marked": false
    }
   },
   "outputs": [],
   "source": [
    "assert mutation_df['mutation_matches_sequence'].all()\n",
    "assert mutation_df['mutation_in_domain'].all()"
   ]
  },
  {
   "cell_type": "code",
   "execution_count": null,
   "metadata": {
    "collapsed": false,
    "run_control": {
     "marked": false
    }
   },
   "outputs": [],
   "source": [
    "mutation_df[['uniprot_id', 'uniprot_mutation']].head()"
   ]
  },
  {
   "cell_type": "code",
   "execution_count": null,
   "metadata": {
    "collapsed": false,
    "run_control": {
     "marked": false
    }
   },
   "outputs": [],
   "source": [
    "mutation_df.columns = datapkg.format_columns(mutation_df.columns)"
   ]
  },
  {
   "cell_type": "code",
   "execution_count": null,
   "metadata": {
    "collapsed": false,
    "run_control": {
     "marked": false
    }
   },
   "outputs": [],
   "source": [
    "display(mutation_df.head(2))\n",
    "print(mutation_df.shape[0])"
   ]
  },
  {
   "cell_type": "code",
   "execution_count": null,
   "metadata": {
    "collapsed": true,
    "run_control": {
     "marked": false
    }
   },
   "outputs": [],
   "source": [
    "columns_to_keep = [\n",
    "    'category', 'symbol', 'entrez_gene_id', 'allele_id', \n",
    "    'mutation_refseq_nt', 'mutation_refseq_aa', 'hgmd_accession', 'hgmd_variant_class', 'db_snp_id', 'disease', \n",
    "    # RefSeq info (processed)\n",
    "    'refseq_id', 'refseq_mutation',\n",
    "    # UniProt info\n",
    "    'uniparc_id', 'uniprot_id', 'uniprot_mutation', 'uniprot_domain_id', 'model_domain_def'\n",
    "]"
   ]
  },
  {
   "cell_type": "code",
   "execution_count": null,
   "metadata": {
    "collapsed": false,
    "run_control": {
     "marked": false
    }
   },
   "outputs": [],
   "source": [
    "mutation_df[columns_to_keep].head(2)"
   ]
  },
  {
   "cell_type": "code",
   "execution_count": null,
   "metadata": {
    "collapsed": false,
    "run_control": {
     "marked": false
    }
   },
   "outputs": [],
   "source": [
    "print(mutation_df.shape[0])\n",
    "print(mutation_df.drop_duplicates(subset=['mutation_refseq_nt']).shape[0])\n",
    "print('RefSeq...')\n",
    "print(mutation_df.drop_duplicates(subset=['refseq_id', 'refseq_mutation']).shape[0])\n",
    "print(mutation_df.drop_duplicates(subset=['refseq_id', 'mutation_refseq_nt']).shape[0])\n",
    "print('Uniprot...')\n",
    "print(mutation_df.drop_duplicates(subset=['uniprot_id', 'refseq_mutation']).shape[0])\n",
    "print(mutation_df.drop_duplicates(subset=['uniprot_id', 'mutation_refseq_nt']).shape[0])"
   ]
  },
  {
   "cell_type": "code",
   "execution_count": null,
   "metadata": {
    "collapsed": false,
    "run_control": {
     "marked": false
    }
   },
   "outputs": [],
   "source": [
    "t = db.import_df(\n",
    "    mutation_df[columns_to_keep], \n",
    "    'taipale',\n",
    ")"
   ]
  },
  {
   "cell_type": "code",
   "execution_count": null,
   "metadata": {
    "collapsed": false
   },
   "outputs": [],
   "source": [
    "db.add_idx_column(t.name)"
   ]
  },
  {
   "cell_type": "code",
   "execution_count": null,
   "metadata": {
    "collapsed": false
   },
   "outputs": [],
   "source": [
    "db.create_indexes(\n",
    "    t.name, \n",
    "    [\n",
    "        [('refseq_id', 'refseq_mutation'), False],\n",
    "        [('uniprot_id', 'uniprot_mutation'), False],\n",
    "        [('uniprot_id', 'mutation_refseq_nt'), False],\n",
    "        [('uniprot_domain_id', 'uniprot_mutation'), False],\n",
    "        (['mutation_refseq_nt', 'uniparc_id', 'uniprot_id'], True),\n",
    "        (['mutation_refseq_aa'], False),\n",
    "    ]\n",
    ")"
   ]
  },
  {
   "cell_type": "markdown",
   "metadata": {
    "run_control": {
     "marked": false
    }
   },
   "source": [
    "### mmc2_s2a"
   ]
  },
  {
   "cell_type": "code",
   "execution_count": null,
   "metadata": {
    "collapsed": true,
    "run_control": {
     "marked": false
    }
   },
   "outputs": [],
   "source": [
    "df = mmc2_s2a.copy()"
   ]
  },
  {
   "cell_type": "code",
   "execution_count": null,
   "metadata": {
    "collapsed": false,
    "run_control": {
     "marked": false
    }
   },
   "outputs": [],
   "source": [
    "df.columns = datapkg.format_columns(df.columns)"
   ]
  },
  {
   "cell_type": "code",
   "execution_count": null,
   "metadata": {
    "collapsed": false,
    "run_control": {
     "marked": false
    }
   },
   "outputs": [],
   "source": [
    "df.head()"
   ]
  },
  {
   "cell_type": "code",
   "execution_count": null,
   "metadata": {
    "collapsed": true,
    "run_control": {
     "marked": false
    }
   },
   "outputs": [],
   "source": [
    "df['elisa_score_diff'] = df['mut_elisa_score'] - df['wt_elisa_score']\n",
    "df['interaction_score_diff'] = df['mut_interaction_score'] - df['wt_interaction_score']"
   ]
  },
  {
   "cell_type": "code",
   "execution_count": null,
   "metadata": {
    "collapsed": false,
    "run_control": {
     "marked": false
    }
   },
   "outputs": [],
   "source": [
    "df.head()"
   ]
  },
  {
   "cell_type": "code",
   "execution_count": null,
   "metadata": {
    "collapsed": false,
    "run_control": {
     "marked": false
    }
   },
   "outputs": [],
   "source": [
    "t = db.import_df(\n",
    "    df,\n",
    "    'taipale_chaperone',\n",
    ")"
   ]
  },
  {
   "cell_type": "code",
   "execution_count": null,
   "metadata": {
    "collapsed": false
   },
   "outputs": [],
   "source": [
    "db.add_idx_column(t.name)"
   ]
  },
  {
   "cell_type": "code",
   "execution_count": null,
   "metadata": {
    "collapsed": true
   },
   "outputs": [],
   "source": [
    "db.create_indexes(\n",
    "    t.name, \n",
    "    [\n",
    "        (['mutation_refseq_nt'], False),\n",
    "    ]\n",
    ")"
   ]
  },
  {
   "cell_type": "markdown",
   "metadata": {
    "run_control": {
     "marked": false
    }
   },
   "source": [
    "### mmc2_s2b"
   ]
  },
  {
   "cell_type": "code",
   "execution_count": null,
   "metadata": {
    "collapsed": true,
    "run_control": {
     "marked": false
    }
   },
   "outputs": [],
   "source": [
    "df = mmc2_s2b.copy()"
   ]
  },
  {
   "cell_type": "code",
   "execution_count": null,
   "metadata": {
    "collapsed": true,
    "run_control": {
     "marked": false
    }
   },
   "outputs": [],
   "source": [
    "df.columns = datapkg.format_columns(df.columns)"
   ]
  },
  {
   "cell_type": "code",
   "execution_count": null,
   "metadata": {
    "collapsed": false,
    "run_control": {
     "marked": false
    }
   },
   "outputs": [],
   "source": [
    "df.head()"
   ]
  },
  {
   "cell_type": "code",
   "execution_count": null,
   "metadata": {
    "collapsed": false,
    "run_control": {
     "marked": false
    }
   },
   "outputs": [],
   "source": [
    "df.head()"
   ]
  },
  {
   "cell_type": "code",
   "execution_count": null,
   "metadata": {
    "collapsed": false,
    "run_control": {
     "marked": false
    }
   },
   "outputs": [],
   "source": [
    "t = db.import_df(\n",
    "    df, \n",
    "    'taipale_foldx',\n",
    ")"
   ]
  },
  {
   "cell_type": "code",
   "execution_count": null,
   "metadata": {
    "collapsed": false
   },
   "outputs": [],
   "source": [
    "db.add_idx_column(t.name)"
   ]
  },
  {
   "cell_type": "code",
   "execution_count": null,
   "metadata": {
    "collapsed": true
   },
   "outputs": [],
   "source": [
    "db.create_indexes(\n",
    "    t.name, \n",
    "    [\n",
    "        (['mutation_refseq_nt'], False),\n",
    "    ]\n",
    ")"
   ]
  },
  {
   "cell_type": "markdown",
   "metadata": {
    "run_control": {
     "marked": false
    }
   },
   "source": [
    "## mutation_df_failed"
   ]
  },
  {
   "cell_type": "code",
   "execution_count": null,
   "metadata": {
    "collapsed": false
   },
   "outputs": [],
   "source": [
    "Counter(mutation_df_failed['errors'])"
   ]
  },
  {
   "cell_type": "code",
   "execution_count": null,
   "metadata": {
    "collapsed": true,
    "run_control": {
     "marked": false
    }
   },
   "outputs": [],
   "source": [
    "df = mutation_df_failed[mutation_df_failed['errors'] != ''].copy()"
   ]
  },
  {
   "cell_type": "code",
   "execution_count": null,
   "metadata": {
    "collapsed": false,
    "run_control": {
     "marked": false
    }
   },
   "outputs": [],
   "source": [
    "df.columns = datapkg.format_columns(df.columns)"
   ]
  },
  {
   "cell_type": "code",
   "execution_count": null,
   "metadata": {
    "collapsed": false,
    "run_control": {
     "marked": false
    }
   },
   "outputs": [],
   "source": [
    "df.head()"
   ]
  },
  {
   "cell_type": "code",
   "execution_count": null,
   "metadata": {
    "collapsed": false,
    "run_control": {
     "marked": false
    }
   },
   "outputs": [],
   "source": [
    "t = db.import_df(\n",
    "    df, \n",
    "    'taipale_failed', \n",
    ")"
   ]
  },
  {
   "cell_type": "code",
   "execution_count": null,
   "metadata": {
    "collapsed": false,
    "run_control": {
     "marked": false
    }
   },
   "outputs": [],
   "source": [
    "db.add_idx_column(t.name)"
   ]
  },
  {
   "cell_type": "code",
   "execution_count": null,
   "metadata": {
    "collapsed": true
   },
   "outputs": [],
   "source": [
    "db.create_indexes(\n",
    "    t.name, \n",
    "    [\n",
    "        (['mutation_refseq_aa'], False),\n",
    "    ]\n",
    ")"
   ]
  },
  {
   "cell_type": "code",
   "execution_count": null,
   "metadata": {
    "collapsed": true
   },
   "outputs": [],
   "source": []
  }
 ],
 "metadata": {
  "anaconda-cloud": {},
  "kernelspec": {
   "display_name": "Python [Root]",
   "language": "python",
   "name": "Python [Root]"
  },
  "language_info": {
   "codemirror_mode": {
    "name": "ipython",
    "version": 3
   },
   "file_extension": ".py",
   "mimetype": "text/x-python",
   "name": "python",
   "nbconvert_exporter": "python",
   "pygments_lexer": "ipython3",
   "version": "3.5.2"
  },
  "nav_menu": {},
  "toc": {
   "navigate_menu": false,
   "number_sections": true,
   "sideBar": false,
   "threshold": 6,
   "toc_cell": false,
   "toc_section_display": "block",
   "toc_window_display": true
  },
  "toc_position": {
   "height": "703px",
   "left": "51.9965px",
   "right": "20px",
   "top": "76.9896px",
   "width": "230px"
  }
 },
 "nbformat": 4,
 "nbformat_minor": 0
}
