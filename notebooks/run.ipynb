{
 "cells": [
  {
   "cell_type": "markdown",
   "metadata": {},
   "source": [
    "This script is used to run the entire datapackage pipeline, starting from the assets in the `./downloads` folder and generating the output in the `./output` folder."
   ]
  },
  {
   "cell_type": "code",
   "execution_count": 7,
   "metadata": {
    "collapsed": false
   },
   "outputs": [
    {
     "name": "stdout",
     "output_type": "stream",
     "text": [
      "[NbConvertApp] Converting notebook notebooks/protherm.ipynb to notebook\n",
      "[NbConvertApp] Executing notebook with kernel: python3\n",
      "[NbConvertApp] Writing 177028 bytes to protherm.ipynb\n"
     ]
    }
   ],
   "source": [
    "!jupyter nbconvert --execute --inplace notebooks/protherm.ipynb"
   ]
  },
  {
   "cell_type": "code",
   "execution_count": null,
   "metadata": {
    "collapsed": true
   },
   "outputs": [],
   "source": []
  },
  {
   "cell_type": "markdown",
   "metadata": {},
   "source": [
    "# Download"
   ]
  },
  {
   "cell_type": "code",
   "execution_count": null,
   "metadata": {
    "collapsed": true
   },
   "outputs": [],
   "source": []
  },
  {
   "cell_type": "code",
   "execution_count": null,
   "metadata": {
    "collapsed": true
   },
   "outputs": [],
   "source": []
  },
  {
   "cell_type": "markdown",
   "metadata": {},
   "source": [
    "# Run"
   ]
  },
  {
   "cell_type": "code",
   "execution_count": null,
   "metadata": {
    "collapsed": true
   },
   "outputs": [],
   "source": []
  },
  {
   "cell_type": "code",
   "execution_count": null,
   "metadata": {
    "collapsed": true
   },
   "outputs": [],
   "source": []
  },
  {
   "cell_type": "code",
   "execution_count": null,
   "metadata": {
    "collapsed": true
   },
   "outputs": [],
   "source": []
  },
  {
   "cell_type": "markdown",
   "metadata": {},
   "source": [
    "# Output"
   ]
  },
  {
   "cell_type": "code",
   "execution_count": 4,
   "metadata": {
    "collapsed": false
   },
   "outputs": [
    {
     "name": "stdout",
     "output_type": "stream",
     "text": [
      "sending incremental file list\n",
      "protein_folding_energy/\n",
      "protein_folding_energy/taipale.MYD\n",
      "protein_folding_energy/taipale.MYI\n",
      "protein_folding_energy/taipale.frm\n",
      "protein_folding_energy/taipale_chaperone.MYD\n",
      "protein_folding_energy/taipale_chaperone.MYI\n",
      "protein_folding_energy/taipale_chaperone.frm\n",
      "protein_folding_energy/taipale_failed.MYD\n",
      "protein_folding_energy/taipale_failed.MYI\n",
      "protein_folding_energy/taipale_failed.frm\n",
      "protein_folding_energy/taipale_foldx.MYD\n",
      "protein_folding_energy/taipale_foldx.MYI\n",
      "protein_folding_energy/taipale_foldx.frm\n",
      "protein_folding_energy/taipale_tr.MYD\n",
      "protein_folding_energy/taipale_tr.MYI\n",
      "protein_folding_energy/taipale_tr_chaperone.MYD\n",
      "protein_folding_energy/taipale_tr_chaperone.MYI\n",
      "protein_folding_energy/taipale_tr_failed.MYD\n",
      "protein_folding_energy/taipale_tr_failed.MYI\n",
      "protein_folding_energy/taipale_tr_foldx.MYD\n",
      "protein_folding_energy/taipale_tr_foldx.MYI\n",
      "\n",
      "sent 6,448,637 bytes  received 400 bytes  12,898,074.00 bytes/sec\n",
      "total size is 6,456,111  speedup is 1.00\n"
     ]
    }
   ],
   "source": [
    "%%bash\n",
    "mkdir -p ../output_mysql\n",
    "rsync -av mysqld/protein_folding_energy ../output_mysql/"
   ]
  },
  {
   "cell_type": "code",
   "execution_count": 5,
   "metadata": {
    "collapsed": false
   },
   "outputs": [
    {
     "name": "stdout",
     "output_type": "stream",
     "text": [
      "Remember to run myisamchk -rq on compressed tables\n"
     ]
    }
   ],
   "source": [
    "%%bash\n",
    "cd ../output_mysql/protein_folding_energy/\n",
    "myisampack *.MYI"
   ]
  },
  {
   "cell_type": "code",
   "execution_count": 6,
   "metadata": {
    "collapsed": false,
    "scrolled": true
   },
   "outputs": [
    {
     "name": "stdout",
     "output_type": "stream",
     "text": [
      "- check record delete-chain\n",
      "- recovering (with sort) MyISAM-table 'taipale_chaperone.MYI'\n",
      "Data records: 16464\n",
      "- Fixing index 1\n",
      "- Fixing index 2\n",
      "\n",
      "---------\n",
      "\n",
      "- check record delete-chain\n",
      "- recovering (with sort) MyISAM-table 'taipale_failed.MYI'\n",
      "Data records: 1839\n",
      "- Fixing index 1\n",
      "- Fixing index 2\n",
      "\n",
      "---------\n",
      "\n",
      "- check record delete-chain\n",
      "- recovering (with sort) MyISAM-table 'taipale_foldx.MYI'\n",
      "Data records: 333\n",
      "- Fixing index 1\n",
      "- Fixing index 2\n",
      "\n",
      "---------\n",
      "\n",
      "- check record delete-chain\n",
      "- recovering (with sort) MyISAM-table 'taipale.MYI'\n",
      "Data records: 2016\n",
      "- Fixing index 1\n",
      "- Fixing index 2\n",
      "- Fixing index 3\n",
      "- Fixing index 4\n",
      "- Fixing index 5\n",
      "- Fixing index 6\n",
      "- Fixing index 7\n",
      "\n",
      "---------\n",
      "\n",
      "- check record delete-chain\n",
      "- recovering (with sort) MyISAM-table 'taipale_tr_chaperone.MYI'\n",
      "Data records: 16464\n",
      "- Fixing index 1\n",
      "- Fixing index 2\n",
      "\n",
      "---------\n",
      "\n",
      "- check record delete-chain\n",
      "- recovering (with sort) MyISAM-table 'taipale_tr_failed.MYI'\n",
      "Data records: 3914\n",
      "- Fixing index 1\n",
      "- Fixing index 2\n",
      "\n",
      "---------\n",
      "\n",
      "- check record delete-chain\n",
      "- recovering (with sort) MyISAM-table 'taipale_tr_foldx.MYI'\n",
      "Data records: 333\n",
      "- Fixing index 1\n",
      "- Fixing index 2\n",
      "\n",
      "---------\n",
      "\n",
      "- check record delete-chain\n",
      "- recovering (with sort) MyISAM-table 'taipale_tr.MYI'\n",
      "Data records: 2407\n",
      "- Fixing index 1\n",
      "- Fixing index 2\n",
      "- Fixing index 3\n",
      "- Fixing index 4\n",
      "- Fixing index 5\n",
      "- Fixing index 6\n",
      "- Fixing index 7\n"
     ]
    }
   ],
   "source": [
    "%%bash\n",
    "cd ../output_mysql/protein_folding_energy/\n",
    "myisamchk -rq *.MYI"
   ]
  },
  {
   "cell_type": "raw",
   "metadata": {},
   "source": [
    "ssh root@kimdb \"rm -rf /var/lib/mysql/protein_folding_energy\"\n",
    "rsync -av output_mysql/protein_folding_energy root@kimdb:/var/lib/mysql/\n",
    "ssh root@kimdb \"chown mysql:mysql /var/lib/mysql/protein_folding_energy -R\""
   ]
  }
 ],
 "metadata": {
  "anaconda-cloud": {},
  "kernelspec": {
   "display_name": "Python [Root]",
   "language": "python",
   "name": "Python [Root]"
  },
  "language_info": {
   "codemirror_mode": {
    "name": "ipython",
    "version": 3
   },
   "file_extension": ".py",
   "mimetype": "text/x-python",
   "name": "python",
   "nbconvert_exporter": "python",
   "pygments_lexer": "ipython3",
   "version": "3.5.2"
  },
  "nav_menu": {},
  "toc": {
   "navigate_menu": false,
   "number_sections": true,
   "sideBar": false,
   "threshold": 6,
   "toc_cell": false,
   "toc_section_display": "block",
   "toc_window_display": true
  },
  "toc_position": {
   "height": "412px",
   "left": "161.993px",
   "right": "20px",
   "top": "131.997px",
   "width": "230px"
  }
 },
 "nbformat": 4,
 "nbformat_minor": 0
}
